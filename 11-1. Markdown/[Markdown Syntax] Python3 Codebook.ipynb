{
  "nbformat": 4,
  "nbformat_minor": 0,
  "metadata": {
    "colab": {
      "name": "(원본) [Markdown Syntax] Python3 Codebook.ipynb",
      "provenance": [],
      "collapsed_sections": [
        "RYFuejL5sXMt",
        "phri-oGs1aUH",
        "aFbtD4uKrv3W",
        "V69-1J5N2qBA",
        "bldmR4vjV5_a",
        "hemXqDZgjzv0",
        "D536HNdO25X0",
        "e3m-zoF-sqUF",
        "7BM89fH0kbvX",
        "HkaFJ30BBiVB",
        "T0gGXAopfvIr",
        "snzb3iaDBNYp",
        "w6RjRvNZ67wr",
        "egNNzqa_z5QZ",
        "md6irTYbKKkn",
        "IhyVsf8kRrj1",
        "UMfahRKvue0v",
        "aj1mZmjqJ5-m",
        "D9fEbmbL6uZY",
        "lKa5DQshssY9",
        "gV-oazCcsuKm",
        "tIz4MdpwchYj",
        "AiZ7SqvISBGV",
        "AcLm2wcgjdDj",
        "2QlWZKfZH_tC",
        "NiTV-4lIRxul",
        "4gQ51AiF4uX7",
        "K_EVTfGh75RR",
        "fNzdiskfrgCt",
        "OQowggEu-oN7",
        "PehtDsyaVTgK",
        "hkE4iAqeXTiy",
        "0mIpWKr2alub",
        "b9rf2OOnbPZd",
        "pqXmHVLSO5zy",
        "vPmMl0PFahTU",
        "R5wWQPYA2vXY",
        "mM3LUwvDFT8g",
        "iG8z8Uw9CsrA",
        "-ramKo2XkFfp",
        "8J5D05j_IBff",
        "wwRciIpoIBqk",
        "i2FUiAQEIBql",
        "wWvk__m7RsJ-",
        "4z-uLp3KRxUj",
        "oHVL77_TRz8y",
        "f_5q7omBRy7W",
        "h85REdloR12g",
        "JPHCl8OfR3A2",
        "9C1drpVDR6ZL",
        "gjwsxPVkiYM_",
        "BNoAzCyZidVu",
        "aIJ_Zt0quaZE",
        "iWdRKWi_vozA",
        "sUC0VJ1L6OiN",
        "TTwEcev6bUwV",
        "9GQbv421timi",
        "oG4dSkIdzvS9",
        "pCKBUXT51_Yr",
        "BNhsCMENQVL8",
        "so1HreXSQY8H",
        "N0ZXeQ6Mo0U4",
        "oMRmJUHZ5a-I"
      ],
      "toc_visible": true
    },
    "kernelspec": {
      "name": "python3",
      "display_name": "Python 3"
    },
    "accelerator": "GPU"
  },
  "cells": [
    {
      "cell_type": "markdown",
      "metadata": {
        "id": "RYFuejL5sXMt"
      },
      "source": [
        "---\n",
        "# 📁 Hyun's Code collection (Markdown) \n",
        "---\n",
        "\n",
        "### <h3 align=\"right\">🥇 Authored by <strong>Hyun</strong></h3>"
      ]
    },
    {
      "cell_type": "markdown",
      "metadata": {
        "id": "84spob-OGD_V"
      },
      "source": [
        "# ✏️  What is **Markdown**?"
      ]
    },
    {
      "cell_type": "markdown",
      "metadata": {
        "id": "FMAfXjztGE5_"
      },
      "source": [
        "- Markdown은 웹상에서 글을 쓰는 모든 사람들을 위한 글쓰기 도구(서식, 포맷, 양식)다. \n",
        "- Markdown은 HTML을 몰라도 약간의 노력으로 글자를 HTML형식으로 변환시켜 줍니다. 또한 간단한 HTML 태그를 활용해서 꾸밀 수도 있다.\n",
        "- Jupyter notebook이 markdown 형식이라 코드를 설명하거나 부연설명할 때 이쁘게 꾸미기 좋다."
      ]
    },
    {
      "cell_type": "markdown",
      "metadata": {
        "id": "pud_npiIG9Na"
      },
      "source": [
        "# ✏️  Markdown Examples"
      ]
    },
    {
      "cell_type": "code",
      "metadata": {
        "id": "56a1m2czj2X4"
      },
      "source": [
        "*기울게 하기*\n",
        "**진하게 하기**\n",
        "`글자에` `색` `칠하기`\n",
        "--- # 수평선\n",
        "\n",
        "# 이미지 입력하기\n",
        "![대괄호](소괄호)\n",
        "대괄호에는 이미지 설명\n",
        "소괄호에는 주소 입력\n",
        "\n",
        "# 링크 입력하기\n",
        "[대괄호](소괄호)\n",
        "대괄호에는 링그 설명\n",
        "소괄호에는 링크 이름\n",
        "\n",
        "# 코드 넣기\n",
        "``` python\n",
        "print('앙 기모띠')\n",
        "```\n",
        "\n",
        "# 인용문\n",
        "꺽새(>) 사용\n",
        "줄 띄우려면 스페이스바 2번\n",
        "\n",
        "# 표 넣기\n",
        "이름|성별|귀여움정도\n",
        "|---|---|---|\n",
        "밥|미니언즈|최상\n",
        "케빈|미니언즈|중상\n",
        "스튜어트|미니언즈|상\n",
        "\n",
        "# 함수 넣기\n",
        "$$ 함수식 $$"
      ],
      "execution_count": null,
      "outputs": []
    },
    {
      "cell_type": "markdown",
      "metadata": {
        "id": "AQt0_bxpHDQt"
      },
      "source": [
        "### 📔 Examples"
      ]
    },
    {
      "cell_type": "markdown",
      "metadata": {
        "id": "4pJIo3YBlt-H"
      },
      "source": [
        "<font color='red'>┗(•̀へ •́ )ﾉ 빨간색 글짜 쓰기~</font>"
      ]
    },
    {
      "cell_type": "markdown",
      "metadata": {
        "id": "cfps40B1ki42"
      },
      "source": [
        "*기울게 하기*  \n",
        "**진하게 하기**  \n",
        "`글자에` `색` `칠하기`\n",
        "\n",
        "---\n",
        "\n",
        "<h2>🎈 이미지 입력하기 </h2>\n",
        "\n",
        "![미니언즈!](https://t1.daumcdn.net/thumb/R720x0/?fname=http://t1.daumcdn.net/brunch/service/user/1isF/image/FQeql1ClTckyqyCEb2-uPhYpcZI.jpg)\n",
        "\n",
        "<h2>🎈 링크 입력하기 </h2>\n",
        "\n",
        "[자네 미니언 좋아하는가?](https://t1.daumcdn.net/thumb/R720x0/?fname=http://t1.daumcdn.net/brunch/service/user/1isF/image/FQeql1ClTckyqyCEb2-uPhYpcZI.jpg)\n",
        "\n",
        "<h2>🎈 코드 넣기 </h2>\n",
        "\n",
        "``` python\n",
        "print('Hello World')\n",
        "```\n",
        "\n",
        "<h2>🎈 인용문 </h2>\n",
        "\n",
        "> 미니언즈는  \n",
        "> 졸귀탱  \n",
        "> 인정???\n",
        "\n",
        "<h2>🎈 표 만들기 </h2>\n",
        "\n",
        "|이름|종족|귀여움정도|\n",
        "|---|---|---|\n",
        "|밥|미니언즈|최상|\n",
        "|케빈|미니언즈|중상|\n",
        "|스튜어트|미니언즈|상|"
      ]
    }
  ]
}