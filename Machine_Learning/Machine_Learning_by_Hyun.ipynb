{
  "nbformat": 4,
  "nbformat_minor": 0,
  "metadata": {
    "colab": {
      "name": "혀누를 위한 Maching Learning",
      "provenance": [],
      "collapsed_sections": [
        "OaQUVbaC2kDQ",
        "t88oG-qc-16q",
        "qO3dY4c56Gfw",
        "YLx__wuPieBe",
        "0AvQgkfqSKEC",
        "TeHCabICQgtA",
        "konh6so3QisB",
        "fMGaKcfzRH7M",
        "RHJVdAb03sh_",
        "r_S9Z4by3seb",
        "bxyf2bX3aaep",
        "vEw5OQDyXvzl",
        "P2Hj6aBncgJk",
        "N8Gae7f3VB5Y",
        "OEBuuhlkwIMu",
        "ygOPUNxI2uaa",
        "ZjjuHB0rwULR",
        "6PdHdvEww3aD",
        "XiDidYG-jsQy",
        "NXUWwMTJw9dq",
        "qvOxz3SYw9h8",
        "6zK5cpuckTJ3",
        "Y1XBnMuCw9l6",
        "Kyosm9OZw9qZ",
        "AFcp77hOw9uI",
        "G5PI_pRfw91l",
        "sNDH8gavw941",
        "iqB656qNygjH",
        "-EK-RY0opSNX",
        "tjMcvT33ymnI",
        "NY5w7x_6yqab",
        "OXWSQuGTyqlO",
        "CrvIqWElqhzM",
        "5Kt66CjqyzCz",
        "g-wMf9vgmP5B"
      ]
    },
    "kernelspec": {
      "name": "python3",
      "display_name": "Python 3"
    }
  },
  "cells": [
    {
      "cell_type": "markdown",
      "metadata": {
        "id": "OaQUVbaC2kDQ",
        "colab_type": "text"
      },
      "source": [
        "# 디자인 예상 커리큘럼"
      ]
    },
    {
      "cell_type": "markdown",
      "metadata": {
        "id": "yjTND2zh2mjA",
        "colab_type": "text"
      },
      "source": [
        "## Supervised Learning\n",
        "> Step.1\n",
        " - pandas, matplotlib, seaborn\n",
        " - EDA, FE\n",
        "\n",
        "> Step.2\n",
        " - 각종 모델들 (Regression, Classification, Decision Tree, Random Forest, Ensemble(Boosting, Bagging)\n",
        " - 성능 높이기 위해 사용되는 기법들 (Sampling, Scaling, GridSearchCV, PCA)\n",
        "\n",
        "> Step.3\n",
        " - Evaluation Methods\n",
        "\n",
        "\n",
        "## Unsupervised Learning\n",
        " > Clustering"
      ]
    },
    {
      "cell_type": "markdown",
      "metadata": {
        "id": "ENYso35hnbpA",
        "colab_type": "text"
      },
      "source": [
        "---\n",
        "# ┗(•̀へ •́ )ﾉ Hyun's Machine Learning\n",
        "---\n",
        "자 Machine Learning을 공부해봅시다 (´∇｀)  \n",
        "## Authored by. Hyun\n",
        "![미니언즈!](https://post-phinf.pstatic.net/MjAxNzA3MTBfMjIg/MDAxNDk5NjcxOTY1NDQw.Kz07JXiZg6AT6Y4PAZY7ubUNAr7rbDinLwFGuS0OOxcg.WVhpo8yfybUh0qImMGNAo1ucSUPuNOvQyzlO_vKlAlkg.JPEG/%EC%98%81%EC%A7%84%EC%9C%845.jpg?type=w1200)"
      ]
    },
    {
      "cell_type": "markdown",
      "metadata": {
        "id": "t88oG-qc-16q",
        "colab_type": "text"
      },
      "source": [
        "# 목차"
      ]
    },
    {
      "cell_type": "markdown",
      "metadata": {
        "id": "PhANASX2-28p",
        "colab_type": "text"
      },
      "source": [
        "Machine learning 설명\n",
        "기본 알고리즘 (model 설정 -> hyperparameter 설정 -> fit -> train -> validation -> test)\n",
        "\n",
        "용어설명 \n",
        "\n",
        "\n",
        "1. Supervised learning \n",
        " > Regression\n",
        "  - linear regression\n",
        "  - Gradient Descent\n",
        "  - Stochastic gradient descent\n",
        "  - Polynomial regression \n",
        "  - Regularized linear models: Ridge, Lasso\n",
        "  - Logistic Regression\n",
        "  - Softmax function\n",
        " > Support Vector machines\n",
        " > Classification\n",
        " > Decision tree\n",
        " > Ensemble\n",
        "   - bagging\n",
        "   - boosting: AdaBoost, Catboost, Xgboost, lightGBM, \n",
        "   - random forest\n",
        "\n",
        "2. Unsupervised learning\n",
        " > Dimensionality Reduction\n",
        " > Clustering\n",
        "  - K-means clustering\n",
        "  - Hierarchical clustering\n",
        "  - DBSCAN\n",
        "  - Gaussian Muxture model (GMM)\n",
        "  - KNN clustering\n",
        "3. 기타 machine learning을 위한 기법들\n",
        " > Sampling\n",
        " > Scaling\n",
        " > GridsearchCV"
      ]
    },
    {
      "cell_type": "markdown",
      "metadata": {
        "id": "qO3dY4c56Gfw",
        "colab_type": "text"
      },
      "source": [
        "# 1. Machine learning은 무엇일까???"
      ]
    },
    {
      "cell_type": "markdown",
      "metadata": {
        "id": "NpmsSftm2QQq",
        "colab_type": "text"
      },
      "source": [
        "![](https://lh3.googleusercontent.com/HK5QOxzeXCF0CMWSTae2OkxXmxETt0lNlyTYrYhVTiNrGxFr33lLgCnjfGiSSQgVVmJhjlkx4gM8eo71BBV6HW_IAo1b-kzqJL4ZLcqeiUhXIYin0vjeTjxrJOQWRmNSve6TX-er2RQ)"
      ]
    },
    {
      "cell_type": "markdown",
      "metadata": {
        "id": "IknJz98B6eFD",
        "colab_type": "text"
      },
      "source": [
        "![123123](https://wordstream-files-prod.s3.amazonaws.com/s3fs-public/styles/simple_image/public/images/machine-learning1.png?SnePeroHk5B9yZaLY7peFkULrfW8Gtaf&itok=yjEJbEKD)\n",
        "\n",
        "![](http://www.cellstrat.com/wp-content/uploads/2018/09/Machine-Learning-process.png)"
      ]
    },
    {
      "cell_type": "markdown",
      "metadata": {
        "id": "lzG-GVzy0fW7",
        "colab_type": "text"
      },
      "source": [
        "![](https://discourse-cloud-file-uploads.s3.dualstack.us-west-2.amazonaws.com/business6/uploads/analyticsvidhya/original/2X/c/c39da76cd192822a2c3f8d29ec1bbbd4114cebae.jpg)"
      ]
    },
    {
      "cell_type": "markdown",
      "metadata": {
        "id": "E2wWk6km_CWp",
        "colab_type": "text"
      },
      "source": [
        "- 머신러닝, 머신러닝, 머신러닝, 딥러닝, 강화학습, 비지도학습 등등등\n",
        "요즘 정말~~~ 많이 듣는 말 중에 하나다.\n",
        "\n",
        "필자(Mr.Hyun)는 너도 나도 머신러닝, 딥러닝을 말하는 시대에 좀 발이라도 담궈볼 겸 Ybigta 학회를 들어갔다.\n",
        "\n",
        "그리고 찾아온 멘붕\n",
        "\n",
        "선형대수, 미적분도 안 되어있는 나에게 (경영학도) scalar, vector부터 시작해서 회귀분석, 부스팅 등 듣도보도 못한 개념들이 쏟아졌다.\n",
        "\n",
        "그래서 방학기간동안 학회 정말 가기 싫었다.\n",
        "\n",
        "아무것도 모르는데 애들은 척척 잘 해내고 나만 뒤쳐지는 느낌\n",
        "\n",
        "머신러닝에 대해서 1도 모르는데 xgboost로 train하고 test하고 다른 팀원들은 신나서 하는데 나만 가만히 있는 느낌\n",
        "\n",
        "방학 때 치욕을 겪고 난 뒤에 휴학하고서 맨땅에 헤딩하면서 신나게 공부했음\n",
        "\n",
        "공부하면서 느낀 점.\n",
        "\n",
        "머신러닝 전반에 대한 틀을 잡아주고서 세부적으로 들어가는 자료는 거의 없었다는 것\n",
        "\n",
        "그래서 제가 만들어보았습니다.\n",
        "\n",
        "## 그럼 도대체 머신러닝이 무엇이냐?\n",
        "\n",
        "머신러닝은 간단하게 말해서 기계가 기존의 데이터를 학습해서 사람보다 더 높은 정확도로 새로운 데이터를 분류해주거나(classification) 구체적인 답을 내놓는(Regression) 것을 말함!!\n",
        "\n",
        "> 간단하게\n",
        "- 기존 데이터로 기계가 학습 \n",
        "- 새로운 데이터를 바탕으로 예측!\n",
        "\n",
        "간단하게 생각하면 이렇게 됨\n",
        "\n",
        "각각 Step을 뜯어봅시다.\n",
        "\n",
        "> Step.1 데이터 전처리\n",
        " 1. EDA\n",
        " 2. FE\n",
        "\n",
        "> Step.2 Modeling\n",
        " 1. 데이터 나누기 (Train, Valid)\n",
        " 2. 모델 학습시키기 (Train data)\n",
        " 3. 학습된 모델에 성능 평가하기 (Validation data)\n",
        " 4. 성능을 높이기 위해 위 과정 반복\n",
        "\n",
        " - 우리는 머신러닝/딥러닝의 모델을 학습시키기 위해서는 전체 데이터를 train dataset과 test dataset으로 나누고, train dataset으로 학습한 뒤, test dataset을 통해 이 모델이 제대로 동작하는지 검증하는 과정을 거친다고 배웠습니다.<br>\n",
        " \n",
        "> Step.3 Evaluation\n",
        " 1. 학습된 모델에 Test data 넣기\n",
        " 2. 결과 확인하기\n",
        "\n",
        "> Step.1\n",
        "1. EDA\n",
        " - EDA는 exploratory data analysis로 데이터를 전반적으로 훑어보면서 데이터의 특성을 파악하는 과정!\n",
        "\n",
        "2. FE\n",
        " - FE는 feature engineering으로 기계가 학습할 수 있게 데이터를 다듬어 특징(feature)를 생성해주는 과정이다.\n",
        " - FE는 모델 성능에 미치는 영향이 크기에 매우 중요하며 전문성과 시간, 비용이 많이 든다.\n",
        " - Pandas를 정말 많이 사용함 ㅋㅋ\n",
        "\n",
        "> Step.2 Modeling\n",
        "1. 데이터 나누기\n",
        " - 가지고 있는 데이터를 크게 Train, Valid, Test 데이터로 나눈다. \n",
        " - 자세한 설명은 뒤에 ```빈용 개념정리``` 부분 확인!\n",
        "\n",
        "2. 모델 학습시키기\n",
        " - Train data를 활용해서 모델을 학습시킨다.\n",
        " - 독립변수 X와 종속변수 Y의 상관관계를 기계가 학습하도록 하는 것!\n",
        "\n",
        "3. 성능 평가하기\n",
        " - Train data로 학습된 모델의 성능을 validation data (혹은 test data)로 평가해보기!\n",
        " - Evaluation 방법은 ```빈용 개념정리``` 부분 확인!\n",
        " - Train, Test, Validation data에 대한 자세한 설명은 뒤에 ```빈용 개념정리``` 부분 확인!\n",
        "\n",
        "4. 성능을 높이기 위해 위 과정 반복\n",
        " - 모델의 성능을 높이기 위해서 FE를 다시 해주거나, hyperparameter를 조정해주거나, grid search를 하거나, 여러 model로 돌려보는 등을 반복!\n",
        "\n",
        "> Step.3 Evaluation\n",
        " 1. 학습된 모델에 Test data 넣기\n",
        "  - 어느 정도 모델의 성능이 높아졌다고 생각하면 test data로 성능을 평가하기!\n",
        "  - 성능이 아직 낮으면 다시 Step.2로 돌아가기~^^\n",
        " 2. 결과 확인하기\n",
        "  - 성능이 괜찮게 나오면 자기 자신을 토닥여주며 만족하면 됨!\n"
      ]
    },
    {
      "cell_type": "markdown",
      "metadata": {
        "id": "bJWmUSDlAyOK",
        "colab_type": "text"
      },
      "source": [
        "# 2. Machine Learning 관련 용어, 메소드 모음"
      ]
    },
    {
      "cell_type": "markdown",
      "metadata": {
        "id": "YLx__wuPieBe",
        "colab_type": "text"
      },
      "source": [
        "## Machine learning 빈용 개념정리\n",
        "---\n",
        "\n",
        "### **순서**\n",
        "\n",
        "> Bagging vs Boosting\n",
        "\n",
        "> Bias와 Variance\n",
        "\n",
        "> Cost function, Loss function, Objecetive function\n",
        "\n",
        "> Cross Validation vs Hold-out Validation\n",
        "\n",
        "> Data 나누기 (Train data, Test data, Split data)\n",
        "\n",
        "> Evaluation (F1 score, accuracy, precision, ROC, AUC. MAE, MSE, MAPE)\n",
        "\n",
        "> Overfitting, Underfitting"
      ]
    },
    {
      "cell_type": "markdown",
      "metadata": {
        "id": "0AvQgkfqSKEC",
        "colab_type": "text"
      },
      "source": [
        "### Bagging vs Boosting\n"
      ]
    },
    {
      "cell_type": "markdown",
      "metadata": {
        "id": "orswR1yswPMb",
        "colab_type": "text"
      },
      "source": [
        "> Boosting이란?  \n",
        "![123123](https://quantdare.com/wp-content/uploads/2016/04/bb3.png)\n",
        "- Bagging은 샘플을 여러 번 뽑아 각 모델을 학습시켜 결과를 집계(Aggregating) 하는 방법이다.\n",
        "- Boosting은 Bagging과 다르게 이전 모델의 오차를 고려하여 학습을 하는 Ensemble 모델이다!\n",
        "\n",
        "> Bagging과 Boosting의 차이점  \n",
        "![123123](https://user-images.githubusercontent.com/31475037/59011343-5a586280-886f-11e9-86ab-3143ad265195.png)\n",
        "\n",
        "> Boosting 종류  \n",
        "![123123](https://image.slidesharecdn.com/mlstudyboostingv0-171128021615/95/boosting-bagging-vs-boosting-14-638.jpg?cb=1511939004)\n",
        "- 크게 Adaboost, GBM, Xgboost, Light GBM등이 있다.\n",
        "\n",
        "\n",
        "\n",
        "\n",
        "\n",
        "\n",
        "\n",
        "\n",
        "\n"
      ]
    },
    {
      "cell_type": "markdown",
      "metadata": {
        "id": "TeHCabICQgtA",
        "colab_type": "text"
      },
      "source": [
        "### Bias와 Variance"
      ]
    },
    {
      "cell_type": "markdown",
      "metadata": {
        "id": "Pp5L3Mh63so4",
        "colab_type": "text"
      },
      "source": [
        "\n",
        "\n",
        "![bias](https://img1.daumcdn.net/thumb/R1280x0/?scode=mtistory2&fname=http%3A%2F%2Fcfile9.uf.tistory.com%2Fimage%2F99CDCC33599AC28F075E3C)\n",
        "\n",
        "> Bias란?\n",
        " - Bias는 실제 값에서 멀어진 척도 \n",
        "\n",
        "> Variance란?\n",
        " - Variance는 예측된 값들이 서로 얼마나 멀리 떨어져 있는지에 대한 척도\n",
        "\n",
        "> Modeling의 목표\n",
        " - 왼쪽 위의 그림처럼 Bias도 낮고, Variance도 낮게, 즉 모두 정확하게 예측하는 것!\n",
        "\n",
        "> Bias, Variance and fitting\n",
        "- Overfitting 모델은 High Variace 모델이라고도 하는데(오른쪽 위), Train Data의 지엽적인 특성까지 반영되어 학습된 것은 잘 예측하지만, 학습되지 않은 데이터에 대해서는 예측력이 떨어지게 됨\n",
        "- Underfitting 모델은 High Bias 모델이라고 하는데(왼쪽 아래), 너무 적은 특성만을 반영하여, 예측의 범위가 좁고 정확도가 떨어지게 됨\n",
        "- 다시 말하면, Bias 에러가 높아지는 것은 많은 데이터를 고려하지 않아(=모델이 너무 단순해) 정확한 예측을 하지 못하는 경우를 말하고, Variance(분산) 에러는 노이즈까지 전부 학습해(=모델이 너무 복잡해) 약간의 input에도 예측 Y 값이 크게 흔들리는 것을 말함. \n",
        "- 이 두가지 에러가 **Trade-off** 관계에 있어서 이 둘을 모두 잡는 것은 불가능 한 딜레마가 생김\n",
        " ![graph](https://img1.daumcdn.net/thumb/R1280x0/?scode=mtistory2&fname=http%3A%2F%2Fcfile9.uf.tistory.com%2Fimage%2F996DB433599AC34225B9BD)\n",
        "- Total Error가 최소인 지점을 찾기 위한 가장 효과적인 방법은 **Validation Set을 만드는 것**이다."
      ]
    },
    {
      "cell_type": "markdown",
      "metadata": {
        "id": "konh6so3QisB",
        "colab_type": "text"
      },
      "source": [
        "### Cost function, Loss function, Objective function\n"
      ]
    },
    {
      "cell_type": "markdown",
      "metadata": {
        "id": "_My2nQow3slr",
        "colab_type": "text"
      },
      "source": [
        "> Cost function\n",
        "- Cost function은 loss function의 합이다. \n",
        "- 즉 entire data set에서 loss funciton을 계산한 합이다.\n",
        "- 순간순간의 loss를 판단할 땐 loss function, 학습이 완료된 후에는 cost function!\n",
        "- A loss function is a part of a cost function which is a type of an objective function!!!\n",
        "\n",
        "> Loss function\n",
        "- Loss function은 data point에서의 오차. Single data set에서의 오차를 구하는 것\n",
        "순간순간의 loss를 판단할 땐 loss function, 학습이 완료된 후에는 cost function!\n",
        "- A loss function is a part of a cost function which is a type of an objective function!!!\n",
        "\n",
        "> Objective function\n",
        "- The most general term for any function that you optimize during training.\n",
        "- For example, a probability of generating training set in maximum likelihood approach is a well defined objective function, but it is not a loss function nor cost function (however you could define an equivalent cost function). For example:"
      ]
    },
    {
      "cell_type": "markdown",
      "metadata": {
        "id": "fMGaKcfzRH7M",
        "colab_type": "text"
      },
      "source": [
        "### Cross Validation vs Hold-out Validation"
      ]
    },
    {
      "cell_type": "markdown",
      "metadata": {
        "id": "BR1u65ZTRbAC",
        "colab_type": "text"
      },
      "source": [
        "- Validation Set을 만드는 대표적인 두 유형에는 Cross Validation과 에 대해 알아보겠습니다.\n",
        "\n",
        "> Cross Validation\n",
        "- Cross validation은 validation set을 뗄 만큼 data가 크지 않을 때 사용\n",
        "- Training Set을 여러 Subset으로 나누고 각 모델을 이 Subset의 조합으로 훈련시키고 나머지 부분으로 검증하는 방법이다.  \n",
        "![validation](https://t1.daumcdn.net/cfile/tistory/990DD2465B72F1491E)\n",
        "\n",
        "#### 메소드 모음\n",
        "- **KFold ( n_splits = , shuffle = True)**: KFold\n",
        "  - n_splits: 데이터를 몇 번 나눌꺼냐\n",
        "  - shuffle: 데이터를 나누기 전에 섞을건지\n"
      ]
    },
    {
      "cell_type": "code",
      "metadata": {
        "id": "R_Hu6BgUi8aY",
        "colab_type": "code",
        "colab": {}
      },
      "source": [
        "# Cross validation code\n",
        "from sklearn.model_selection import KFold\n",
        "from sklearn import metrics\n",
        "X = np.arange(16).reshape((8,-1)) ## 8개의 row, 2개의 column\n",
        "y = np.arange(8).reshape((-1,1))\n",
        "kf = KFold(n_splits=4) # 8개의 row를 각각 2줄짜리 4개의 set으로 분리합니다\n",
        "for train_index, test_index in kf.split(X):\n",
        "    print(\"TRAIN:\", train_index, \"TEST:\", test_index)\n",
        "    X_train, X_test = X[train_index], X[test_index] \n",
        "    y_train, y_test = y[train_index], y[test_index]\n",
        "\n",
        "# 각각의 iteration을 print합니다. 첫 줄의 의미는 2~7번째 row를 학습하고 0,1번째 row를 validation set으로 하여 검증한다는 것입니다."
      ],
      "execution_count": 0,
      "outputs": []
    },
    {
      "cell_type": "code",
      "metadata": {
        "id": "U8v7_Cxxi80h",
        "colab_type": "code",
        "colab": {}
      },
      "source": [
        "# Kfold 예시1\n",
        "from sklearn.linear_model import Lasso, Ridge\n",
        "from sklearn.metrics import mean_squared_error\n",
        "from sklearn.model_selection import KFold\n",
        "kf = KFold(n_splits=10)\n",
        "lasso_regressor = Lasso()\n",
        "ridge_regressor = Ridge()\n",
        "\n",
        "lasso_mse = []\n",
        "ridge_mse = []\n",
        "\n",
        "for train_index, test_index in kf.split(X):\n",
        "    lasso_regressor.fit(X[train_index], y[train_index])\n",
        "    ridge_regressor.fit(X[train_index], y[train_index])\n",
        "    \n",
        "    lasso_mse.append(mean_squared_error(y[test_index], lasso_regressor.predict(X[test_index])))\n",
        "    ridge_mse.append(mean_squared_error(y[test_index], ridge_regressor.predict(X[test_index])))\n",
        "    \n",
        "sum(lasso_mse) / 10, sum(ridge_mse) / 10\n",
        "\n",
        "################################################################################################################\n",
        "\n",
        "# Kfold 예시2\n",
        "from sklearn.model_selection import cross_val_score\n",
        "import numpy as np \n",
        "\n",
        "lasso_regressor = Lasso(warm_start=False)\n",
        "ridge_regressor = Ridge()\n",
        "\n",
        "lasso_scores = cross_val_score(lasso_regressor, X, y, cv=10, \n",
        "                               scoring='neg_mean_squared_error')\n",
        "ridge_scores= cross_val_score(ridge_regressor, X, y, cv=10, \n",
        "                              scoring='neg_mean_squared_error')\n",
        "# cv: 몇 번 돌릴 것이냐. cross-validation, scoring: 점수를 측정하는 기준\n",
        "np.mean(lasso_scores), np.mean(ridge_scores)"
      ],
      "execution_count": 0,
      "outputs": []
    },
    {
      "cell_type": "markdown",
      "metadata": {
        "id": "mUu4aBOgRoI8",
        "colab_type": "text"
      },
      "source": [
        "> Hold-out Validation\n",
        "- 데이터를 무작위로 train set과 validation set, test set으로 구분한 뒤, train set과 validation set을 이용해 분석 모형을 구축하고, test set을 이용하여 분석 모형의 성능을 평가하는 방법  \n",
        "- step.1\n",
        " - Original Set을 무작위로 train set과 validation set, test set으로 구분!\n",
        "- step.2\n",
        "  - hyperparameter를 다르게 해 여러가지 세팅을 만들어본 뒤, 학습 알고리즘을 사용해 Train set에 모델을 학습시키뮤\n",
        "- step.3\n",
        "  - Validation Set로 모델의 성능을 평가해 가장 좋은 성능의 hyperparameter 세팅을 선택함\n",
        "- step.4\n",
        "  - Train Set은 보통 클수록 좋음. 그러므로 모델 선택 후에 Train Set와 Validation Set을 합쳐 더 큰 데이터셋으로 step.3에서 선택한 최선의 hyperparameter 세팅을 사용한 모델을 학습하기!\n",
        "- step.5 \n",
        "  - 이제 Test Set을 사용해 모델의 성능을 평가~\n",
        "- Cross Validation과의 차이점: Hold-out Validation에서 Test Set의 경우 모형에는 영향을 주지 않고, 모델의 성능 측정 만을 위해 사용된다는 점!\n",
        "    "
      ]
    },
    {
      "cell_type": "markdown",
      "metadata": {
        "id": "RHJVdAb03sh_",
        "colab_type": "text"
      },
      "source": [
        "### Data 나누기 \n",
        "(Train data, Test data, Validation data)\n"
      ]
    },
    {
      "cell_type": "markdown",
      "metadata": {
        "id": "Jtk3dxfIQpvk",
        "colab_type": "text"
      },
      "source": [
        "![datasets](https://t1.daumcdn.net/cfile/tistory/9951E5445AAE1BE025)\n",
        "> Validation Set이 왜 필요할까?\n",
        " - Validation Set을 통해 우리는 모델의 성능을 대략적으로 파악할 수 있음\n",
        " - Train Set의 일부를 떼어낸 후, 남은 부분을 학습한 뒤, 모델을 통해 떼어낸 부분에 대한 예측 진행!\n",
        " - 우리는 떼어낸 부분의 실제 값을 알고 있기 때문에 예측치와 비교하여 성능을 평가하는 여러 측정 공식을 통해 모델의 성능을 측정함\n",
        " -  그러니 Validation Set은 모의고사 문제인 셈이쥬.\n",
        "\n",
        "\n"
      ]
    },
    {
      "cell_type": "markdown",
      "metadata": {
        "id": "r_S9Z4by3seb",
        "colab_type": "text"
      },
      "source": [
        "### Model Evaluation (Classification)"
      ]
    },
    {
      "cell_type": "markdown",
      "metadata": {
        "id": "SCiaUsuzVHE2",
        "colab_type": "text"
      },
      "source": [
        "[참조 사이트](https://frhyme.github.io/machine-learning/clf_%ED%8F%89%EA%B0%80%ED%95%98%EA%B8%B0/)  \n",
        "\n",
        "<img src=\"https://t1.daumcdn.net/cfile/tistory/99DC064C5BE056CE10\" alt=\"Drawing\" style=\"width: 500px;\"/>  \n",
        "- True Positive(TP) : 실제 True인 정답을 True라고 예측 (정답)\n",
        "- False Positive(FP) : 실제 False인 정답을 True라고 예측 (오답)\n",
        "- False Negative(FN) : 실제 True인 정답을 False라고 예측 (오답)\n",
        "- True Negative(TN) : 실제 False인 정답을 False라고 예측 (정답)<br>"
      ]
    },
    {
      "cell_type": "markdown",
      "metadata": {
        "colab_type": "text",
        "id": "AedwSafZY4tu"
      },
      "source": [
        "`A, B, C, D, E, F, G, H, I, J, K, L, M, N, O, P, Q, R, S, T, U, V, W, X, Y, Z`"
      ]
    },
    {
      "cell_type": "markdown",
      "metadata": {
        "id": "lBV7Nn9ZXaMo",
        "colab_type": "text"
      },
      "source": [
        "#### 정확도(accuracy)"
      ]
    },
    {
      "cell_type": "markdown",
      "metadata": {
        "id": "N9Xu9a1LXUVb",
        "colab_type": "text"
      },
      "source": [
        "- 정확도(accuracy)란 전체 샘플 중 맞게 예측한 샘플 수의 비율\n",
        "- 높을수록 좋은 모형이고 일반적으로 학습에서 최적화 목적함수로 사용됨!!\n",
        "- 정확도(Accuracy)의 가장 큰 문제점은 **클래스의 분포가 같을 때만 이용 가능하다는 점**\n",
        "- 이러한 **단점을 보완**하는 지표가 정밀도(Precision)와 재현율(Recall), ROC 곡선과 AUC입니다.\n",
        "\n",
        "$$accuracy=\\frac{TP+TN}{TP+TN+FP+FN}$$<br>\n",
        "``` python\n",
        "from sklearn.metrics import accuracy_score\n",
        "y_true = [0, 0, 0, 1, 1, 1, 1, 1, 1, 1]\n",
        "y_pred = [0, 0, 1, 0, 0, 1, 1, 1, 1, 1]\n",
        "\n",
        "accuracy_score(y_true, y_pred)\n",
        "```\n",
        "\n",
        "\n"
      ]
    },
    {
      "cell_type": "markdown",
      "metadata": {
        "id": "XtJXnJNKXV30",
        "colab_type": "text"
      },
      "source": [
        "#### 정밀도(precision)"
      ]
    },
    {
      "cell_type": "markdown",
      "metadata": {
        "id": "0EPaMs0OXV8S",
        "colab_type": "text"
      },
      "source": [
        "- 정밀도(precision)란 positive 클래스에 속한다고 분류한 샘플 중 실제로 positive 클래스에 속하는 샘플 수의 비율\n",
        "- 높을수록 좋은 모형!!!\n",
        "\n",
        "$$precision=\\frac{TP}{TP+FP}$$\n",
        "\n",
        "``` python\n",
        "from sklearn.metrics import precision_score\n",
        "y_true = [0, 0, 0, 1, 1, 1, 1, 1, 1, 1]\n",
        "y_pred = [0, 0, 1, 0, 0, 1, 1, 1, 1, 1]\n",
        "\n",
        "precision_score(y_true, y_pred)\n",
        "```"
      ]
    },
    {
      "cell_type": "markdown",
      "metadata": {
        "id": "uU_ReU8QXWEo",
        "colab_type": "text"
      },
      "source": [
        "#### 재현율(recall)"
      ]
    },
    {
      "cell_type": "markdown",
      "metadata": {
        "id": "MHaUHh1EXWIk",
        "colab_type": "text"
      },
      "source": [
        "- 재현율(recall)이란 실제 positive 클래스에 속한 표본 중에 positive 클래스에 속한다고 출력한 표본의 수의 비율\n",
        "- 높을수록 좋은 모형!!\n",
        "- TPR(true positive rate) 또는 민감도(sensitivity)라고도 합니다.\n",
        "\n",
        "$$recall=\\frac{TP}{TP+FN}$$\n",
        "\n",
        "``` python\n",
        "from sklearn.metrics import recall_score\n",
        "y_true = [0, 0, 0, 1, 1, 1, 1, 1, 1, 1]\n",
        "y_pred = [0, 0, 1, 0, 0, 1, 1, 1, 1, 1]\n",
        "\n",
        "recall_score(y_true, y_pred)\n",
        "```"
      ]
    },
    {
      "cell_type": "markdown",
      "metadata": {
        "id": "HDZoiHjyXuTu",
        "colab_type": "text"
      },
      "source": [
        "#### F Score, F1 score"
      ]
    },
    {
      "cell_type": "markdown",
      "metadata": {
        "id": "5AZKUVmhXvhM",
        "colab_type": "text"
      },
      "source": [
        "- F Score는 precision과 recall의 **가중조화평균**\n",
        "- 베타($\\beta$)는 정밀도에 주어지는 가중치\n",
        "\n",
        "$$F_β=\\frac{(1+β^2)(precision*recall)}{β^2precision+recall}$$\n",
        " \n",
        "- 베타가 1인 경우가 F1 Score!\n",
        "$$F_1=\\frac{2⋅precision⋅recall}{precision+recall}$$\n",
        "\n",
        "``` python\n",
        "from sklearn.metrics import f1_score\n",
        "y_true = [0, 0, 0, 1, 1, 1, 1, 1, 1, 1]\n",
        "y_pred = [0, 0, 1, 0, 0, 1, 1, 1, 1, 1]\n",
        "\n",
        "f1_score(y_true, y_pred)\n",
        "```"
      ]
    },
    {
      "cell_type": "markdown",
      "metadata": {
        "id": "bxyf2bX3aaep",
        "colab_type": "text"
      },
      "source": [
        "#### Classification_report"
      ]
    },
    {
      "cell_type": "markdown",
      "metadata": {
        "id": "b9Afq16ZXvqL",
        "colab_type": "text"
      },
      "source": [
        "- Classification report는 sklearn 패키지의 metrics 패키지에서 precision, recall , F1 score를 구할 때 쓰는 메소드\n",
        "- Classification report는 각각의 클래스를 양성(positive) 클래스로 보았을 때의  precision, recall , F1 score를 각각 구하고 그 평균값으로 전체 모형의 성능을 평가함!!\n",
        "\n",
        "``` python\n",
        "from sklearn.metrics import classification_report\n",
        "\n",
        "y_true = [0, 0, 0, 1, 1, 1, 1, 1, 1, 1]\n",
        "y_pred = [0, 0, 1, 0, 0, 1, 1, 1, 1, 1]\n",
        "\n",
        "print(classification_report(y_true, y_pred, target_names=['class 0', 'class 1']))\n",
        "```"
      ]
    },
    {
      "cell_type": "markdown",
      "metadata": {
        "id": "vEw5OQDyXvzl",
        "colab_type": "text"
      },
      "source": [
        "#### ROC, AUC"
      ]
    },
    {
      "cell_type": "markdown",
      "metadata": {
        "id": "eCTCVNqlbOvg",
        "colab_type": "text"
      },
      "source": [
        "> ROC, AUC\n",
        "- ROC이란 TPR과 FPR은 어떤 기준을 연속적으로 바꾸며 측정해야 하는데 이를 한눈에 볼 수 있게 한 것\n",
        "- AUC란 ROC 곡선 아래 부분의 면적이다. 1에 가까울수록 성능이 좋음!\n",
        "- ![ROC_curve](https://t1.daumcdn.net/cfile/tistory/262E8E3F544837AD27)<br>\n",
        "- 위 그림처럼 ROC 곡선은 TPR과 FPR이 둘다 [0,1]의 범위이며 (0,0)에서 (1,1)을 잇는 곡선이다. \n",
        "\n",
        "- TRP(True Positive Rate) = recall\n",
        "$$TPR=\\frac{TP}{TP+FN}$$<br>\n",
        "- FPR(False Positive Rate)\n",
        "$$FPR=\\frac{FP}{FP+TN}$$<br>\n",
        "- TPR과 FPR은 반비례 관계에 있음\n",
        "  - 예시) 3인지 아닌지 판단할 때, 조금만 3처럼 보여도 모두 3이라고 분류할 경우, 이 때의 TPR은 1에 가까워지지만 반대로 FPR은 매우 낮아진다. 반대로 조금만 비슷하지 않아도 모두 3이 아니라고 분류할 경우 TPR은 급격히 낮아져 0에 가까워지겠지만, FPR은 반대로 급격히 높아져 1에 가까워진다.(3이라고 분류 자체를 안하므로, 잘못 분류하는 경우가 없는 것). 이처럼 TPR과 FPR은 어떤 기준(언제 3이라고 예측할까?)을 연속적으로 바꾸며 측정해야 하는데 이를 한눈에 볼 수 있게 한 것이 바로 **ROC 곡선**입니다.  \n"
      ]
    },
    {
      "cell_type": "code",
      "metadata": {
        "id": "_0ZGnYi9Xv9w",
        "colab_type": "code",
        "colab": {}
      },
      "source": [
        "from sklearn.metrics import roc_auc_score\n",
        "y_true = np.array([0, 0, 0, 1, 1, 1, 1, 1, 1, 1])\n",
        "y_scores = np.array([0.1, 0.4, 0.35, 0.8])\n",
        "roc_auc_score(y_true, y_scores)"
      ],
      "execution_count": 0,
      "outputs": []
    },
    {
      "cell_type": "markdown",
      "metadata": {
        "id": "POW8Za7TX6oi",
        "colab_type": "text"
      },
      "source": [
        "시각화"
      ]
    },
    {
      "cell_type": "code",
      "metadata": {
        "id": "7gtchm7nX5Rg",
        "colab_type": "code",
        "colab": {}
      },
      "source": [
        "import matplotlib.pyplot as plt \n",
        "\n",
        "from sklearn.metrics import accuracy_score, precision_score, precision_recall_curve\n",
        "from sklearn.metrics import classification_report, confusion_matrix\n",
        "from sklearn.metrics import roc_curve, roc_auc_score\n",
        "\n",
        "from sklearn.linear_model import LogisticRegression\n",
        "\n",
        "def learn_and_eval_clf(x, y_true):\n",
        "    clf = LogisticRegression(random_state=42)\n",
        "    clf.fit(x, y_true)\n",
        "\n",
        "    y_pred = clf.predict(x)\n",
        "    print(\"accuracy_score: {}\".format( accuracy_score(y_true, y_pred)))\n",
        "    print(\"precision_score: {}\".format( precision_score(y_true, y_pred)))\n",
        "    #print(\"AUC: Area Under Curve: {}\".format(roc_auc_score(y_true, y_pred_proba[:, 1])))\n",
        "    #print(\"Classificcation Report: \\n{}\".format(classification_report(y_true, y_pred)))\n",
        "    #print(\"Confusition matrix: \\n{}\".format(confusion_matrix(y_true, y_pred)))\n",
        "\n",
        "    y_score = clf.decision_function(x)\n",
        "    precision, recall, _ = precision_recall_curve(y_true, y_score)\n",
        "    fpr, tpr, _ = roc_curve(y_true, y_score)\n",
        "\n",
        "    f, axes = plt.subplots(1, 2, sharex=True, sharey=True)\n",
        "    f.set_size_inches((8, 4)) \n",
        "    axes[0].fill_between(recall, precision, step='post', alpha=0.2, color='b')\n",
        "    axes[0].set_title('Recall-Precision Curve')\n",
        "\n",
        "    axes[1].plot(fpr, tpr)\n",
        "    axes[1].plot([0, 1], [0, 1], linestyle='--')\n",
        "    axes[1].set_title('ROC curve')\n",
        "    #plt.save\n",
        "    return f\n",
        "\n",
        "## - 임의로 각각 평균이 0.0, 0.25인, 큰 차이가 나지 않는 샘플들을 뽑아서, 분류해본다. \n",
        "\n",
        "sample_size = 100\n",
        "x = np.vstack(\n",
        "    [np.random.normal(0, 1, sample_size*2).reshape(sample_size, 2), \n",
        "     np.random.normal(0.25, 1, sample_size*2).reshape(sample_size, 2), \n",
        "    ]\n",
        ")\n",
        "y_true = np.array([0 for i in range(0, sample_size)]+[1 for i in range(0, sample_size)])\n",
        "\n",
        "\n",
        "try1 = learn_and_eval_clf(x, y_true)\n",
        "\n",
        "### 임의로 각각 평균이 0.0, 2인, 큰 차이가 나지 않는 샘플들을 뽑아서, 분류해본다. \n",
        "\n",
        "sample_size = 100\n",
        "x = np.vstack(\n",
        "    [np.random.normal(0, 1, sample_size*2).reshape(sample_size, 2), \n",
        "     np.random.normal(2, 1, sample_size*2).reshape(sample_size, 2), \n",
        "    ]\n",
        ")\n",
        "y_true = np.array([0 for i in range(0, sample_size)]+[1 for i in range(0, sample_size)])\n",
        "try2 = learn_and_eval_clf(x, y_true)"
      ],
      "execution_count": 0,
      "outputs": []
    },
    {
      "cell_type": "markdown",
      "metadata": {
        "id": "P2Hj6aBncgJk",
        "colab_type": "text"
      },
      "source": [
        "### Model Evaluation (Regression)"
      ]
    },
    {
      "cell_type": "markdown",
      "metadata": {
        "id": "aJMPSJ60X7sC",
        "colab_type": "text"
      },
      "source": [
        "- Continuous한 값을 예측하는 Regression은 Accuracy 등의 분류 모델 평가 기준으로 평가하는 것이 부적절함!ㅡㅡ;;;\n",
        "- Classification은 맞게 분류했는지/아닌지만 평가하면 되지만 Regression은 정확하게 예측하지 못했더라도 정답과 비슷하게 맞추면 성능이 좋다고 평가해야하기 때문!"
      ]
    },
    {
      "cell_type": "markdown",
      "metadata": {
        "id": "sj9hOXCJX7wn",
        "colab_type": "text"
      },
      "source": [
        "#### MAE(Mean Absolute Error)"
      ]
    },
    {
      "cell_type": "code",
      "metadata": {
        "id": "16Kh5aGwX71E",
        "colab_type": "code",
        "colab": {}
      },
      "source": [
        "from sklearn.metrics import mean_absolute_error\n",
        "\n",
        "mean_absolute_error(y_test, y_predict)"
      ],
      "execution_count": 0,
      "outputs": []
    },
    {
      "cell_type": "markdown",
      "metadata": {
        "id": "IazaMePGX76R",
        "colab_type": "text"
      },
      "source": [
        "#### MSE(Mean Squared Error)"
      ]
    },
    {
      "cell_type": "code",
      "metadata": {
        "id": "DyzEFO5qX7-k",
        "colab_type": "code",
        "colab": {}
      },
      "source": [
        "from sklearn.metrics import mean_squared_error\n",
        "\n",
        "mean_squared_error(y_test, y_predict)"
      ],
      "execution_count": 0,
      "outputs": []
    },
    {
      "cell_type": "markdown",
      "metadata": {
        "id": "uD8jqOziX8DR",
        "colab_type": "text"
      },
      "source": [
        "#### MAPE"
      ]
    },
    {
      "cell_type": "markdown",
      "metadata": {
        "id": "X0jrj1BGYH5Y",
        "colab_type": "text"
      },
      "source": [
        "- Scale Dependent Error의 단점을 보완하기 위한 방법이다.\n",
        "- 하지만 MAPE 역시 실제 예측 값이 1보다 작을 경우 분모가 작아져 무한대에 가까워질 수 있다는 단점이 있다."
      ]
    },
    {
      "cell_type": "code",
      "metadata": {
        "id": "QyhyWH_GYIbY",
        "colab_type": "code",
        "colab": {}
      },
      "source": [
        "from sklearn.utils import check_arrays\n",
        "def mean_absolute_percentage_error(y_true, y_pred): \n",
        "    y_true, y_pred = check_arrays(y_true, y_pred)\n",
        "\n",
        "    #if _is_1d(y_true): \n",
        "    #    y_true, y_pred = _check_1d_array(y_true, y_pred)\n",
        "\n",
        "    return np.mean(np.abs((y_true - y_pred) / y_true)) * 100"
      ],
      "execution_count": 0,
      "outputs": []
    },
    {
      "cell_type": "markdown",
      "metadata": {
        "id": "N8Gae7f3VB5Y",
        "colab_type": "text"
      },
      "source": [
        "### Overfitting, Underfitting"
      ]
    },
    {
      "cell_type": "markdown",
      "metadata": {
        "id": "cVAOq1gD3pv2",
        "colab_type": "text"
      },
      "source": [
        "![123123](https://mblogthumb-phinf.pstatic.net/MjAxODA3MzBfMjMy/MDAxNTMyODkwNjUxMjY4.H_ocFIRFaG8MWrBsv8BWrTCaAMGLMKZZUh_Rd1krRLog.HAZRdDtrQMvVGKiEWfGls8bm0EhTyRKf7XzoSY1Cibsg.JPEG.qbxlvnf11/maxresdefault.jpg?type=w800)\n",
        "\n",
        "> **과대적합(Overfitting)**이란?\n",
        " - 모델이 Train Dataset에 너무 잘 맞아서 일반성이 떨어지게 되는 문제\n",
        " - 즉 Train Dataset을 너무 과하게 학습해 학습되지 않은 데이터가 들어오면 분류하지 못하게 되는 것\n",
        " - 위 그림의 오른쪽 그림들이 과대적합의 예시\n",
        " - 보시다시피 Train Set을 거의 다 거치거나 분류해내며 굉장히 높은 성능을 보여주고 있지만, 새로운 변수에 대응하기 어려움\n",
        " - 그림의 가운데 모델이 적합한 모델이라고 할 수 있음!\n",
        "\n",
        "> **과소적합(Underfitting)**이란?\n",
        " - Overfitting과 반대 개념\n",
        " - 모델이 너무 단순해서 데이터의 내재된 구조를 학습하지 못하는 것\n",
        " - 위 그림의 왼쪽 그림이 underfitting.\n",
        "<br>\n",
        "\n",
        "> Machine Learning에서 **Overfitting을 방지하는 방법**\n",
        " - 더 많은 데이터로 학습하기\n",
        " - Feature 개수 줄이기\n",
        " - 정규화(Regularization) 시키기 (e.g. L1, L2)  \n",
        "   ```용어 모음``` 확인\n",
        " - Early stopping: 어느 정도 loss가 줄어들지 않으면 학습 멈추기\n",
        "\n",
        "> Deep Learning에서 **Overfitting을 방지하는 방법**\n",
        " - Network size를 줄이기\n",
        " - Weight Decay\n",
        " - Dropout 해주기\n",
        " - Batch Normalization 해주기"
      ]
    },
    {
      "cell_type": "markdown",
      "metadata": {
        "id": "OEBuuhlkwIMu",
        "colab_type": "text"
      },
      "source": [
        "## Machine learning 용어 모음\n",
        "---"
      ]
    },
    {
      "cell_type": "markdown",
      "metadata": {
        "id": "epC3tuHrwRmF",
        "colab_type": "text"
      },
      "source": [
        "`A, B, C, D, E, F, G, H, I, J, K, L, M, N, O, P, Q, R, S, T, U, V, W, X, Y, Z`"
      ]
    },
    {
      "cell_type": "markdown",
      "metadata": {
        "id": "y-agd97XdIq4",
        "colab_type": "text"
      },
      "source": [
        "> ### Accuracy (정확도)\n",
        "- 정확도(accuracy)란 전체 샘플 중 맞게 예측한 샘플 수의 비율\n",
        "- 높을수록 좋은 모형이고 일반적으로 학습에서 최적화 목적함수로 사용됨!!\n",
        "- 정확도(Accuracy)의 가장 큰 문제점은 **클래스의 분포가 같을 때만 이용 가능하다는 점**\n",
        "- 이러한 **단점을 보완**하는 지표가 정밀도(Precision)와 재현율(Recall), ROC 곡선과 AUC입니다.\n",
        "- $$accuracy=\\frac{TP+TN}{TP+TN+FP+FN}$$<br>\n",
        "``` python\n",
        "from sklearn.metrics import accuracy_score\n",
        "y_true = [0, 0, 0, 1, 1, 1, 1, 1, 1, 1]\n",
        "y_pred = [0, 0, 1, 0, 0, 1, 1, 1, 1, 1]\n",
        "accuracy_score(y_true, y_pred)\n",
        "```\n",
        "\n",
        "> ### AUC\n",
        "- AUC란 ROC 곡선 아래 부분의 면적이다. 1에 가까울수록 성능이 좋음!\n",
        "\n",
        "> ### Batch size\n",
        "- Batch size: data를 나누는 것\n",
        "\n",
        "> ### Bagging\n",
        "- Bagging은 샘플을 여러 번 뽑아 각 모델을 학습시켜 결과를 집계(Aggregating) 하는 방법이다.\n",
        "\n",
        "> ### Bias\n",
        " - Bias는 실제 값에서 멀어진 척도 \n",
        "\n",
        "> ### Cross validation\n",
        "- Cross validation은 validation set을 뗄 만큼 data가 크지 않을 때 사용\n",
        "- Training Set을 여러 Subset으로 나누고 각 모델을 이 Subset의 조합으로 훈련시키고 나머지 부분으로 검증하는 방법이다.\n",
        "\n",
        "> ### Cost function\n",
        "- Cost function은 loss function의 합이다. \n",
        "- 즉 entire data set에서 loss funciton을 계산한 합이다.\n",
        "- 순간순간의 loss를 판단할 땐 loss function, 학습이 완료된 후에는 cost function!\n",
        "- A loss function is a part of a cost function which is a type of an objective function!!!\n",
        "\n",
        "> ### Epoch\n",
        "- one epoch: 모든 training example을 도는 것!\n",
        "\n",
        "> ### Gradient\n",
        "- Parameter들의 편미분계수, 기울기\n",
        "\n",
        "> ### Hold-out Validation\n",
        "- Validation set을 만드는 방법 중 하나\n",
        "- 데이터를 무작위로 train set과 validation set, test set으로 구분한 뒤, train set과 validation set을 이용해 분석 모형을 구축하고, test set을 이용하여 분석 모형의 성능을 평가하는 방법 \n",
        "- step.1\n",
        " - Original Set을 무작위로 train set과 validation set, test set으로 구분!\n",
        "- step.2\n",
        "  - hyperparameter를 다르게 해 여러가지 세팅을 만들어본 뒤, 학습 알고리즘을 사용해 Train set에 모델을 학습시키뮤\n",
        "- step.3\n",
        "  - Validation Set로 모델의 성능을 평가해 가장 좋은 성능의 hyperparameter 세팅을 선택함\n",
        "- step.4\n",
        "  - Train Set은 보통 클수록 좋음. 그러므로 모델 선택 후에 Train Set와 Validation Set을 합쳐 더 큰 데이터셋으로 step.3에서 선택한 최선의 hyperparameter 세팅을 사용한 모델을 학습하기!\n",
        "- step.5 \n",
        "  - 이제 Test Set을 사용해 모델의 성능을 평가~\n",
        "- Cross Validation과의 차이점: Hold-out Validation에서 Test Set의 경우 모형에는 영향을 주지 않고, 모델의 성능 측정 만을 위해 사용된다는 점! \n",
        "\n",
        "> ### Hyperparameter\n",
        "- 학습의 대상이 아니라 학습 이전에 정해놓은 변수\n",
        "- parameter는 학습의 대상이 되는 변수\n",
        "\n",
        "> ### Iteration\n",
        "- batch를 몇 번 학습에 사용했냐?\n",
        "- e.g. 1000개의 training set이 있고, batch size는 500이다. 그러므로 1 epoch 도는 동안 2 iteration이다.\n",
        "\n",
        "> ### Loss function  \n",
        "- Loss function은 data point에서의 오차. Single data set에서의 오차를 구하는 것\n",
        "순간순간의 loss를 판단할 땐 loss function, 학습이 완료된 후에는 cost function!\n",
        "- A loss function is a part of a cost function which is a type of an objective function!!!\n",
        "\n",
        "> ### MAE (Mean Absolute Error)\n",
        "```python\n",
        "from sklearn.metrics import mean_absolute_error\n",
        "mean_absolute_error(y_test, y_predict)\n",
        "```\n",
        "\n",
        "> ### MAPE (Mean Asolute Percentage Error)\n",
        "- Scale Dependent Error의 단점을 보완하기 위한 방법이다.\n",
        "- 하지만 MAPE 역시 실제 예측 값이 1보다 작을 경우 분모가 작아져 무한대에 가까워질 수 있다는 단점이 있다.\n",
        "``` python\n",
        "from sklearn.utils import check_arrays\n",
        "def mean_absolute_percentage_error(y_true, y_pred): \n",
        "    y_true, y_pred = check_arrays(y_true, y_pred)\n",
        "    return np.mean(np.abs((y_true - y_pred) / y_true)) * 100\n",
        "```\n",
        "\n",
        "> ### MSE(Mean Squared Error)\n",
        "```python\n",
        "from sklearn.metrics import mean_squared_error\n",
        "mean_squared_error(y_test, y_predict)\n",
        "```\n",
        "\n",
        "> ### Objective function\n",
        "- The most general term for any function that you optimize during training.\n",
        "- For example, a probability of generating training set in maximum likelihood approach is a well defined objective function, but it is not a loss function nor cost function (however you could define an equivalent cost function). For example:\n",
        "\n",
        "> ### Overfitting\n",
        " - 모델이 Train Dataset에 너무 잘 맞아서 일반성이 떨어지게 되는 문제\n",
        " - 즉 Train Dataset을 너무 과하게 학습해 학습되지 않은 데이터가 들어오면 분류하지 못하게 되는 것\n",
        " - 위 그림의 오른쪽 그림들이 과대적합의 예시\n",
        " - 보시다시피 Train Set을 거의 다 거치거나 분류해내며 굉장히 높은 성능을 보여주고 있지만, 새로운 변수에 대응하기 어려움\n",
        " - 그림의 가운데 모델이 적합한 모델이라고 할 수 있음!\n",
        "\n",
        "> ### Precision (정밀도)\n",
        "- 정밀도(precision)란 positive 클래스에 속한다고 분류한 샘플 중 실제로 positive 클래스에 속하는 샘플 수의 비율\n",
        "- 높을수록 좋은 모형!!!\n",
        "$$precision=\\frac{TP}{TP+FP}$$\n",
        "``` python\n",
        "from sklearn.metrics import precision_score\n",
        "y_true = [0, 0, 0, 1, 1, 1, 1, 1, 1, 1]\n",
        "y_pred = [0, 0, 1, 0, 0, 1, 1, 1, 1, 1]\n",
        "precision_score(y_true, y_pred)\n",
        "```\n",
        "\n",
        "> ### Recall (재현율)\n",
        "- 재현율(recall)이란 실제 positive 클래스에 속한 표본 중에 positive 클래스에 속한다고 출력한 표본의 수의 비율\n",
        "- 높을수록 좋은 모형!!\n",
        "- TPR(true positive rate) 또는 민감도(sensitivity)라고도 합니다.\n",
        "$$recall=\\frac{TP}{TP+FN}$$\n",
        "``` python\n",
        "from sklearn.metrics import recall_score\n",
        "y_true = [0, 0, 0, 1, 1, 1, 1, 1, 1, 1]\n",
        "y_pred = [0, 0, 1, 0, 0, 1, 1, 1, 1, 1]\n",
        "recall_score(y_true, y_pred)\n",
        "```\n",
        "\n",
        "> ### ROC\n",
        "- ROC이란 TPR과 FPR은 어떤 기준을 연속적으로 바꾸며 측정해야 하는데 이를 한눈에 볼 수 있게 한 것\n",
        "- ![ROC_curve](https://t1.daumcdn.net/cfile/tistory/262E8E3F544837AD27)<br>\n",
        "- 위 그림처럼 ROC 곡선은 TPR과 FPR이 둘다 [0,1]의 범위이며 (0,0)에서 (1,1)을 잇는 곡선이다. \n",
        "\n",
        "> ### Underfitting\n",
        " - Overfitting과 반대 개념\n",
        " - 모델이 너무 단순해서 데이터의 내재된 구조를 학습하지 못하는 것\n",
        " - 위 그림의 왼쪽 그림이 underfitting.\n",
        "\n",
        "> ### Variance\n",
        " - Variance는 예측된 값들이 서로 얼마나 멀리 떨어져 있는지에 대한 척도"
      ]
    },
    {
      "cell_type": "markdown",
      "metadata": {
        "id": "ygOPUNxI2uaa",
        "colab_type": "text"
      },
      "source": [
        "## Machine learning 관련 메소드 모음\n",
        "밑에 나오지 않은 기타 메소드들\n",
        "\n",
        "---"
      ]
    },
    {
      "cell_type": "markdown",
      "metadata": {
        "id": "ZjjuHB0rwULR",
        "colab_type": "text"
      },
      "source": [
        "### 학습한 모델 저장하는 법"
      ]
    },
    {
      "cell_type": "markdown",
      "metadata": {
        "id": "f_W-Sdk6w8vO",
        "colab_type": "text"
      },
      "source": [
        "joblib 활용"
      ]
    },
    {
      "cell_type": "code",
      "metadata": {
        "id": "qlqZIRBCwWwI",
        "colab_type": "code",
        "colab": {}
      },
      "source": [
        "## 저장할 때\n",
        "from sklearn.externals import joblib \n",
        "# 객체를 pickled binary file 형태로 저장한다 \n",
        "file_name = 'object_01.pkl' \n",
        "joblib.dump(obj, file_name) \n",
        "\n",
        "## 읽을 때\n",
        "from sklearn.externals import joblib \n",
        "# pickled binary file 형태로 저장된 객체를 로딩한다 \n",
        "file_name = 'object_01.pkl' \n",
        "obj = joblib.load(file_name) "
      ],
      "execution_count": 0,
      "outputs": []
    },
    {
      "cell_type": "markdown",
      "metadata": {
        "id": "s_CciL_ew_OG",
        "colab_type": "text"
      },
      "source": [
        "pickle 활용"
      ]
    },
    {
      "cell_type": "code",
      "metadata": {
        "id": "gvMC4llKwA2_",
        "colab_type": "code",
        "colab": {}
      },
      "source": [
        "# Save Model Using Pickle\n",
        "import pandas\n",
        "from sklearn import model_selection\n",
        "from sklearn.linear_model import LogisticRegression\n",
        "import pickle\n",
        "url = \"https://raw.githubusercontent.com/jbrownlee/Datasets/master/pima-indians-diabetes.data.csv\"\n",
        "names = ['preg', 'plas', 'pres', 'skin', 'test', 'mass', 'pedi', 'age', 'class']\n",
        "\n",
        "dataframe = pandas.read_csv(url, names=names)\n",
        "array = dataframe.values\n",
        "X = array[:,0:8]\n",
        "Y = array[:,8]\n",
        "test_size = 0.33\n",
        "seed = 7\n",
        "X_train, X_test, Y_train, Y_test = model_selection.train_test_split(X, Y, test_size=test_size, random_state=seed)\n",
        "\n",
        "# Fit the model on training set\n",
        "model = LogisticRegression()\n",
        "model.fit(X_train, Y_train)\n",
        "\n",
        "# save the model to disk\n",
        "filename = 'finalized_model.sav'\n",
        "pickle.dump(model, open(filename, 'wb'))\n",
        " \n",
        "# some time later...\n",
        " \n",
        "# load the model from disk\n",
        "loaded_model = pickle.load(open(filename, 'rb'))\n",
        "result = loaded_model.score(X_test, Y_test)\n",
        "print(result)"
      ],
      "execution_count": 0,
      "outputs": []
    },
    {
      "cell_type": "markdown",
      "metadata": {
        "id": "a6csp-C1x8HQ",
        "colab_type": "text"
      },
      "source": [
        "# 0. Supervised Learning"
      ]
    },
    {
      "cell_type": "markdown",
      "metadata": {
        "id": "6PdHdvEww3aD",
        "colab_type": "text"
      },
      "source": [
        "## 0-1. Regression"
      ]
    },
    {
      "cell_type": "markdown",
      "metadata": {
        "id": "XiDidYG-jsQy",
        "colab_type": "text"
      },
      "source": [
        "### Linear regression\n",
        "- 선형회귀!\n",
        "- 가장 basic!\n",
        "- train data로 모델을 만들고, test data로 성능을 평가\n",
        "\n",
        "### 빈용 메소드 모음\n",
        "- **linear_model .LinearRegression ( fit_intercept = True , normalisze = True , copy_X = True , n_jobs = )**: 모델 만들어주기 \n",
        "  - fit_intercept: 상수항을 넣을지 말지\n",
        "  - normalize: 앞에서 scaling 해줬으면 굳이 또 안해줘도 됨\n",
        "  - n_jobs: CPU를 몇 개 쓸건지 지정할 수 있다\n",
        " - **linear_model .LinearRegression . fit ( X_train , y_train )**: fit 시켜주기\n",
        "   \n",
        "   **.coef_**: 계수를 반환   \n",
        "\n",
        "   **.intercept_**: y 절편을 반환\n",
        "   \n",
        "   **.predict ( X_test )**: : 예측하기\n",
        "- **mean_squared_error ( y_true , y_pred )**: MSE 추출하기\n",
        "- statsmodels를 이용해서 regression을 할 수도 있음"
      ]
    },
    {
      "cell_type": "code",
      "metadata": {
        "id": "3DA-zNYni3M1",
        "colab_type": "code",
        "colab": {}
      },
      "source": [
        "from sklearn import linear_model\n",
        "from sklearn.metrics import mean_squared_error"
      ],
      "execution_count": 0,
      "outputs": []
    },
    {
      "cell_type": "code",
      "metadata": {
        "id": "2Yn-2GYBj1Nz",
        "colab_type": "code",
        "colab": {}
      },
      "source": [
        "# statsmodels를 이용한 regression\n",
        "import statsmodels.api as sm\n",
        "model = sm.OLS(y_train, X_train)\n",
        "results = model.fit()\n",
        "results.summary()"
      ],
      "execution_count": 0,
      "outputs": []
    },
    {
      "cell_type": "code",
      "metadata": {
        "id": "CNNiy75Xj2Fm",
        "colab_type": "code",
        "colab": {}
      },
      "source": [
        "# Normal equation 예시1\n",
        "from sklearn.linear_model import LinearRegression\n",
        "lr_ne = LinearRegression(fit_intercept = True)\n",
        "\n",
        "from sklearn.model_selection import train_test_split\n",
        "X_train, X_test, y_train, y_test = train_test_split(X, y, test_size = 0.33, random_state=42)\n",
        "\n",
        "lr_ne.fit(X_train, y_train)\n",
        "\n",
        "y_hat = lr_ne.predict(X_test)\n",
        "y_true = y_test\n",
        "\n",
        "mse = sklearn.metris.mean_squared_error(y_hat, y_true)"
      ],
      "execution_count": 0,
      "outputs": []
    },
    {
      "cell_type": "markdown",
      "metadata": {
        "id": "vGDuirxpw9Z6",
        "colab_type": "text"
      },
      "source": [
        "### Gradient descent\n",
        "- 한 점에서 내려가면서 기존 값에서 계속 업데이트 해주면서 새로운 값을 적용해 최소값을 찾아내는 것\n",
        "\n",
        "### 메소드 모음\n",
        "- **linear_model .LinearRegressionGD ( eta0 = , epochs = , batch-size = , shuffle = )**: gradient descent 만들기\n",
        "  - eta0: learning rate\n",
        "- 예시)\n",
        "\n",
        "  **linear_model .LinearRegressionGD ( eta0 = 0.001 , epochs = 10000 , batch-size = 1 , shuffle = False)**: Gradient descent\n",
        "  \n",
        "  **linear_model .LinearRegressionGD ( eta0 = 0.001 , epochs = 10000 , batch-size = len(X) , shuffle = False)**: Batch gradient descent\n",
        "  \n",
        "  **linear_model .LinearRegressionGD ( eta0 = 0.001 , epochs = 10000 , batch-size = 1 , shuffle = True)**: Stochasic gradient descent\n",
        "  \n",
        "  **linear_model .LinearRegressionGD ( eta0 = 0.001 , epochs = 10000 , batch-size = 100 , shuffle = True)**: Mini-batch stochasic gradient descent"
      ]
    },
    {
      "cell_type": "markdown",
      "metadata": {
        "id": "NXUWwMTJw9dq",
        "colab_type": "text"
      },
      "source": [
        "### Stochastic gradient descent\n",
        "- Gradient descent는 한 점을 잡고, 그 점에서 내려가서 최소값을 찾는 방법이다.\n",
        "- 전체 데이터가 1억건, 10억건 되는 상황에서 전체를 고려해서 한 번씩 weight를 수정하는 것은 시간이 오래 걸림! 이러한 상황에서 1억건의 데이터를 1천만 건씩 나눠서 학습을 진행하자는 것이 Stochastic gradient descent.\n",
        "- 기존보다 더 빠르게 학습함. \n",
        "- Stochastic gradient descent는 x의 값을 돌아가면서 gradient를 구해서 지역 최적화에 빠지는 것을 최소화 한다.\n",
        "\n",
        "### 메소드모음\n",
        "- **linear_model .SGDRegressor ( n_iter = , loss = ’squared_loss ’, penalty = ’l2 ’,  alpha = 0.0001 , l1_ratio = 0.15 , fit_intercept = True , max_iter = 1000 , tol = 0.001 , shuffle = True , verbose = 0 , epsilon = 0.1 , random_state = None , learning_rate = ’optimal ’ , eta0 = 0.01 , power_t = 0.25 , early_stopping = False , validation_fraction = 0.1 , n_iter_no_change = 5 , warm_start = False , average = False )**: Stochastic gradient descent\n",
        "  - loss function: squared loss를 기본적으로 사용하면 된다.\n",
        "  - penalty: regularization 방법. L1, L2, elastic net\n",
        "  - alpha: L2 앞에 람다 값을 얼마로 설정해줄까. 이 값이 크면 클수록 regularization이 많이 되기 때문에 학습 데이터 값이 줄어든다.\n",
        "  - max_iter: number of epoch. epoch을 몇 번 돌껀가\n",
        "  - tol: 멈추는 기준\n",
        "  - shutffle: SGD이기 때문에 섞는다. False로 하면 Batch gradient descent가 되는 것\n",
        "  - learning_rate: 돌아갈 때마다 일정량 줄어들게 되는 것. 줄어드는 전략은 3개의 전략! constant, optimal, invscaling\n",
        "  - eta0: learning rate을 지정. 학습속도를 빠르게 하려면 eta를 올려주면 됨. \n",
        "  - warm_start: 잘 안 쓰기는 하는데 weight의 초기값을 지정해줄 수 있다. 초기값을 기반으로 예측!"
      ]
    },
    {
      "cell_type": "code",
      "metadata": {
        "id": "8Om0Rxv3lXaq",
        "colab_type": "code",
        "colab": {}
      },
      "source": [
        "# Stochastic gradient descent 예시1\n",
        "from sklearn.linear_model import SGDRegressor\n",
        "lr_SGD = SGDRegressor()\n",
        "\n",
        "from sklearn.preprocessing import StandardScaler\n",
        "std_scaler = StandardScaler()\n",
        "std_scaler.fit(X)\n",
        "X_scaled = std_scaler.transform(X)\n",
        "\n",
        "from sklearn.mode_selection import train_test_split\n",
        "X_train, X_test, y_train, y_test = train_test_split(X, y, test_size = 0.33, random_state=42)\n",
        "\n",
        "lr_SGD.fit(X_train, y_train)\n",
        "\n",
        "y_hat = lr_SGD.predict(X_test)\n",
        "y_true = y_test\n",
        "\n",
        "mse = sklearn.metrics.mean_squared_error(y_hat, y_true)\n",
        "rmse = np.sqrt((((y_hat - y_true)**2).sum() / len(y_true)))\n",
        "\n",
        "'''\n",
        "rmse값이 엄청나게 커졌다는 것은 학습이 잘 안 되었다는 뜻!\n",
        "learning rate이 너무 크다거나 충분히 돌지 못했을 때 발생\n",
        "'''\n",
        "\n",
        "# scaled된 data로 돌리면\n",
        "X_train, X_test, y_train, y_test = train_test_split(X_scaled, y, test_size = 0.33, random_state=42)\n",
        "\n",
        "lr_SGD.fit(X_train, y_train)\n",
        "\n",
        "y_hat = lr_SGD.predict(X_test)\n",
        "y_true = y_test\n",
        "\n",
        "mse = sklearn.metrics.mean_squared_error(y_hat, y_true)\n",
        "rmse = np.sqrt((((y_hat - y_true)**2).sum() / len(y_true)))\n",
        "# rmse값이 안정적으로 나오게 된다. 즉 SGD regression을 할 때는 반드시 scaling을 해야 한다!"
      ],
      "execution_count": 0,
      "outputs": []
    },
    {
      "cell_type": "markdown",
      "metadata": {
        "id": "qvOxz3SYw9h8",
        "colab_type": "text"
      },
      "source": [
        "### Polynomial regression\n",
        "- 1차식이 아닌 다항식! 비선형 관계 예측에 용이!\n",
        "\n",
        "### 빈용 메소드 모음\n",
        "- **PolynomialFeatures ( degree = )**: polynomial feature 만들어주기. degree가 2이면 제곱항까지 만들어줄 것을 의미\n",
        "- **PolynomialFeatures .fit_transform ( 데이터 )**: polynomial feature로 바꿔주기"
      ]
    },
    {
      "cell_type": "code",
      "metadata": {
        "id": "gYLPd1Y0lgfc",
        "colab_type": "code",
        "colab": {
          "base_uri": "https://localhost:8080/",
          "height": 264
        },
        "outputId": "6f0c393f-5954-45d9-f90b-47ece3840f7f"
      },
      "source": [
        "# 예시1 \n",
        "import numpy as np\n",
        "import matplotlib.pyplot as plt\n",
        "\n",
        "def f(size):\n",
        "    x = np.linspace(0, 5, size)\n",
        "    y = x * np.sin(x ** 2) + 1\n",
        "    return (x,y)\n",
        "\n",
        "def sample(size):\n",
        "    x = np.linspace(0, 5, size)\n",
        "    y = x * np.sin(x ** 2) + 1 + np.random.randn(x.size)*0.5\n",
        "    return (x,y)\n",
        "  \n",
        "  \n",
        "\n",
        "f_x, f_y = f(1000)\n",
        "plt.plot(f_x, f_y)\n",
        "X, y = sample(1000)\n",
        "plt.scatter(X, y, s=3, c=\"black\")\n",
        "plt.show()"
      ],
      "execution_count": 1,
      "outputs": [
        {
          "output_type": "display_data",
          "data": {
            "image/png": "[encoded data removed]",
            "text/plain": [
              "<Figure size 432x288 with 1 Axes>"
            ]
          },
          "metadata": {
            "tags": []
          }
        }
      ]
    },
    {
      "cell_type": "code",
      "metadata": {
        "id": "VtqHeJTQlifD",
        "colab_type": "code",
        "colab": {
          "base_uri": "https://localhost:8080/",
          "height": 264
        },
        "outputId": "655dc6dc-2d83-4d40-8cc7-8ad0e2bd15dd"
      },
      "source": [
        "# 예시1 \n",
        "X = X.reshape(-1,1)\n",
        "y = y.reshape(-1,1)\n",
        "X.shape, y.shape\n",
        "\n",
        "from sklearn.linear_model import LinearRegression\n",
        "\n",
        "lr = LinearRegression()\n",
        "lr.fit(X,y)\n",
        "\n",
        "f_x, f_y = f(1000)\n",
        "plt.plot(f_x, f_y)\n",
        "plt.scatter(X.flatten(), y.flatten(), s=3, c=\"black\")\n",
        "plt.plot(X.flatten(), lr.predict(X).flatten())\n",
        "plt.show()"
      ],
      "execution_count": 2,
      "outputs": [
        {
          "output_type": "display_data",
          "data": {
            "image/png": "[encoded data removed]",
            "text/plain": [
              "<Figure size 432x288 with 1 Axes>"
            ]
          },
          "metadata": {
            "tags": []
          }
        }
      ]
    },
    {
      "cell_type": "code",
      "metadata": {
        "id": "VuV7QqZolimO",
        "colab_type": "code",
        "colab": {
          "base_uri": "https://localhost:8080/",
          "height": 264
        },
        "outputId": "62c9c5a1-7934-4cc2-eb25-97883b209bc8"
      },
      "source": [
        "# 예시1 \n",
        "from sklearn.preprocessing import PolynomialFeatures\n",
        "\n",
        "poly_features = PolynomialFeatures(degree=2)\n",
        "X_poly = poly_features.fit_transform(X)\n",
        "X_poly[:10]\n",
        "\n",
        "lr = LinearRegression(fit_intercept=False)\n",
        "lr.fit(X_poly,y)\n",
        "\n",
        "f_x, f_y = f(1000)\n",
        "plt.plot(f_x, f_y)\n",
        "plt.scatter(X.flatten(), y.flatten(), s=3, c=\"black\")\n",
        "plt.plot(X.flatten(), lr.predict(X_poly).flatten())\n",
        "plt.show()"
      ],
      "execution_count": 3,
      "outputs": [
        {
          "output_type": "display_data",
          "data": {
            "image/png": "[encoded data removed]",
            "text/plain": [
              "<Figure size 432x288 with 1 Axes>"
            ]
          },
          "metadata": {
            "tags": []
          }
        }
      ]
    },
    {
      "cell_type": "code",
      "metadata": {
        "id": "mbWplI6vlisR",
        "colab_type": "code",
        "colab": {
          "base_uri": "https://localhost:8080/",
          "height": 264
        },
        "outputId": "5340b079-a3dc-49e5-a1b2-ee263c2a1d13"
      },
      "source": [
        "# 예시1 \n",
        "poly_features = PolynomialFeatures(degree=16)\n",
        "X_poly = poly_features.fit_transform(X)\n",
        "X_poly[:3]\n",
        "\n",
        "lr = LinearRegression(fit_intercept=False)\n",
        "lr.fit(X_poly,y)\n",
        "f_x, f_y = f(1000)\n",
        "plt.plot(f_x, f_y)\n",
        "plt.scatter(X.flatten(), y.flatten(), s=3, c=\"black\")\n",
        "plt.plot(X.flatten(), lr.predict(X_poly).flatten())\n",
        "plt.show()"
      ],
      "execution_count": 4,
      "outputs": [
        {
          "output_type": "display_data",
          "data": {
            "image/png": "[encoded data removed]",
            "text/plain": [
              "<Figure size 432x288 with 1 Axes>"
            ]
          },
          "metadata": {
            "tags": []
          }
        }
      ]
    },
    {
      "cell_type": "markdown",
      "metadata": {
        "id": "6zK5cpuckTJ3",
        "colab_type": "text"
      },
      "source": [
        "### Regularized linear models (Lasso)\n",
        "- Regularization에서 L1 방법을 쓰는 것\n",
        "- Parameter에 절대값을 취함으로써 정규화시킨다.\n",
        "- Lasso를 쓰면 feature selection이 가능하다.\n",
        "\n",
        "### 메소드 모음\n",
        "- **linear_model .Lasso ( alpha = 1.0, fit_intercept = True , normalize = False , precompute = False , copy_X = True , max_iter = 1000 , tol = 0.0001 , warm_start = False , positive = False , random_state = None , selection = ’cyclic ’)**: Lasso"
      ]
    },
    {
      "cell_type": "code",
      "metadata": {
        "id": "5IB3kqrTlNla",
        "colab_type": "code",
        "colab": {}
      },
      "source": [
        "# Lasso 예시\n",
        "ridge_reg = Ridge(alpha=1, solver=\"sag\", random_state=42)\n",
        "ridge_reg.fit(X, y)\n",
        "ridge_reg.predict([[1.5]])\n",
        "\n",
        "from sklearn.linear_model import ElasticNet\n",
        "elastic_net = ElasticNet(alpha=0.1, l1_ratio=0.5, random_state=42)\n",
        "elastic_net.fit(X, y)\n",
        "elastic_net.predict([[1.5]])"
      ],
      "execution_count": 0,
      "outputs": []
    },
    {
      "cell_type": "markdown",
      "metadata": {
        "id": "Y1XBnMuCw9l6",
        "colab_type": "text"
      },
      "source": [
        "### Regularized linear models (Ridge)\n",
        "- Regularization에서 L2 방법을 쓰는 것\n",
        "- Parameter를 제곱함으로써 정규화시킨다.\n",
        "\n",
        "### 메소드 모음\n",
        "- **linear_model.Ridge ( alpha = 1.0 , fit_intercept = True , normalize = False , copy_X = True , max_iter = None , tol = 0.001 , solver = ’auto ’, random_state = None )**: Ridge\n",
        "  - solver: auto로 하면 데이터를 보고서 fitting을 할 때 어떤 알고리즘을(normal equation, SGD) 알아서 찾아준다."
      ]
    },
    {
      "cell_type": "code",
      "metadata": {
        "id": "ZNGMHaOwlPFG",
        "colab_type": "code",
        "colab": {}
      },
      "source": [
        "# Ridge 예시\n",
        "ridge_reg = Ridge(alpha=1, solver=\"cholesky\", random_state=42)\n",
        "ridge_reg.fit(X, y)\n",
        "ridge_reg.predict([[1.5]])\n",
        "\n",
        "ridge_reg = Ridge(alpha=1, solver=\"sag\", random_state=42)\n",
        "ridge_reg.fit(X, y)\n",
        "ridge_reg.predict([[1.5]])"
      ],
      "execution_count": 0,
      "outputs": []
    },
    {
      "cell_type": "markdown",
      "metadata": {
        "id": "Kyosm9OZw9qZ",
        "colab_type": "text"
      },
      "source": [
        "### Logistic regression\n",
        "- binary 형태로 예측을 하는 regression\n",
        "\n",
        "### 빈용 메소드 모음\n",
        "- **PolynomialFeatures ( degree = )**: polynomial feature 만들어주기. degree가 2이면 제곱항까지 만들어줄 것을 의미\n",
        "- **PolynomialFeatures .fit_transform ( 데이터 )**: polynomial feature로 바꿔주기\n",
        "- statsmodels을 이용할 수도 있음"
      ]
    },
    {
      "cell_type": "code",
      "metadata": {
        "id": "uWb1GnWYmgPP",
        "colab_type": "code",
        "colab": {}
      },
      "source": [
        "# Logistic regression 에시\n",
        "# 먼저 데이터를 반응변인과 예측변인으로 분리하기\n",
        "Y = (df['Status'] == 'Developed').astype(np.int) #'Developed'면 1, 아니면 0으로\n",
        "X = df.drop('Status', axis=1)\n",
        "\n",
        "# 예측변인과 반응변인을 train set과 test set으로 분리해 줍니다.\n",
        "X_train, X_test, y_train, y_test = train_test_split(X, Y, test_size=0.2)\n",
        "\n",
        "from sklearn.linear_model import LogisticRegression\n",
        "\n",
        "# 1. 먼저 모델을 만들어 줍니다.\n",
        "logReg = LogisticRegression()\n",
        "\n",
        "# 2. 모델 적합시킵니다.\n",
        "logReg.fit(X_train, y_train)\n",
        "\n",
        "# 3. 트레이닝셋과 테스트셋에서의 성능을 확인합니다. (이 경우 결정계수 R^2)\n",
        "print('Training R^2:', logReg.score(X_train, y_train))\n",
        "print('Test R^2: ', logReg.score(X_test, y_test))\n",
        "\n",
        "# 모델로부터 반응을 예측하고 accuracy, f1-score, confusion matrix를 구해봅시다.\n",
        "from sklearn.metrics import accuracy_score, f1_score, confusion_matrix\n",
        "y_pred = logReg.predict(X_test)\n",
        "print(\"Accuracy: %.2f\" %accuracy_score(y_test, y_pred))\n",
        "print(\"F1 score: %.2f\" %f1_score(y_test, y_pred))\n",
        "confusion_matrix(y_test, y_pred)"
      ],
      "execution_count": 0,
      "outputs": []
    },
    {
      "cell_type": "code",
      "metadata": {
        "id": "Rlc5Mxl1mgmq",
        "colab_type": "code",
        "colab": {}
      },
      "source": [
        "import statsmodels.api as sm\n",
        "model = sm.Logit(y_train, X_train)\n",
        "results = model.fit()\n",
        "results.summary()"
      ],
      "execution_count": 0,
      "outputs": []
    },
    {
      "cell_type": "markdown",
      "metadata": {
        "id": "AFcp77hOw9uI",
        "colab_type": "text"
      },
      "source": [
        "### Softmax function\n",
        "- Logistic이 binary만 예측이 가능했다면 softmax는 여러 class를 예측할 수 있다."
      ]
    },
    {
      "cell_type": "code",
      "metadata": {
        "id": "0HXIi68GmmLz",
        "colab_type": "code",
        "colab": {}
      },
      "source": [
        "# softmax regression 예시1\n",
        "X = iris[\"data\"][:, (2, 3)]  # petal length, petal width\n",
        "y = iris[\"target\"]\n",
        "\n",
        "softmax_reg = LogisticRegression(multi_class=\"multinomial\",solver=\"lbfgs\", C=10, random_state=42)\n",
        "softmax_reg.fit(X, y)\n",
        "\n",
        "x0, x1 = np.meshgrid(\n",
        "        np.linspace(0, 8, 500).reshape(-1, 1),\n",
        "        np.linspace(0, 3.5, 200).reshape(-1, 1),\n",
        "    )\n",
        "X_new = np.c_[x0.ravel(), x1.ravel()]\n",
        "\n",
        "\n",
        "y_proba = softmax_reg.predict_proba(X_new)\n",
        "y_predict = softmax_reg.predict(X_new)\n",
        "\n",
        "zz1 = y_proba[:, 1].reshape(x0.shape)\n",
        "zz = y_predict.reshape(x0.shape)\n",
        "\n",
        "plt.figure(figsize=(10, 4))\n",
        "plt.plot(X[y==2, 0], X[y==2, 1], \"g^\", label=\"Iris-Virginica\")\n",
        "plt.plot(X[y==1, 0], X[y==1, 1], \"bs\", label=\"Iris-Versicolor\")\n",
        "plt.plot(X[y==0, 0], X[y==0, 1], \"yo\", label=\"Iris-Setosa\")\n",
        "\n",
        "from matplotlib.colors import ListedColormap\n",
        "custom_cmap = ListedColormap(['#fafab0','#9898ff','#a0faa0'])\n",
        "\n",
        "plt.contourf(x0, x1, zz, cmap=custom_cmap)\n",
        "contour = plt.contour(x0, x1, zz1, cmap=plt.cm.brg)\n",
        "plt.clabel(contour, inline=1, fontsize=12)\n",
        "plt.xlabel(\"Petal length\", fontsize=14)\n",
        "plt.ylabel(\"Petal width\", fontsize=14)\n",
        "plt.legend(loc=\"center left\", fontsize=14)\n",
        "plt.axis([0, 7, 0, 3.5])\n",
        "save_fig(\"softmax_regression_contour_plot\")\n",
        "plt.show()\n",
        "\n",
        "# predict\n",
        "softmax_reg.predict([[5, 2]])\n",
        "\n",
        "# predict probability\n",
        "softmax_reg.predict_proba([[5, 2]])"
      ],
      "execution_count": 0,
      "outputs": []
    },
    {
      "cell_type": "markdown",
      "metadata": {
        "id": "d8rOluECw9x7",
        "colab_type": "text"
      },
      "source": [
        "### Support vector machines"
      ]
    },
    {
      "cell_type": "markdown",
      "metadata": {
        "id": "G5PI_pRfw91l",
        "colab_type": "text"
      },
      "source": [
        "## 0-2. Classfication"
      ]
    },
    {
      "cell_type": "markdown",
      "metadata": {
        "id": "ziKN21X-nRmi",
        "colab_type": "text"
      },
      "source": [
        "### Classification이란?\n",
        "- Supervised Learning\n",
        "- 기존 집단에 대한 특징을 학습한 뒤, 새로운 데이터가 들어왔을 때 그 데이터의 적합한 집단을 분류해주는 것"
      ]
    },
    {
      "cell_type": "code",
      "metadata": {
        "id": "fUZD9-BvnO3E",
        "colab_type": "code",
        "colab": {}
      },
      "source": [
        "# SGD Classifier\n",
        "from sklearn.linear_model import SGDClassifier\n",
        "\n",
        "sgd_clf=SGDClassifier(random_state=42) \n",
        "'''\n",
        "GDClassifier는 randomness에 기반하기 때문에, \n",
        "고정 값을 정하고 싶다면, random_state parameter를 쓰자.\n",
        "'''\n",
        "sgd_clf.fit(X_train,y_train)\n",
        "\n",
        "sgd_clf.predict(X_test)\n",
        "\n",
        "y_pred = sgd_clf.predict(X_test)\n",
        "\n",
        "f1_score(y_test,y_pred, average='micro')"
      ],
      "execution_count": 0,
      "outputs": []
    },
    {
      "cell_type": "code",
      "metadata": {
        "id": "3z84bRmfnQQG",
        "colab_type": "code",
        "colab": {}
      },
      "source": [
        "# Xgboost Classifier\n",
        "from xgboost import XGBClassifier, plot_importance\n",
        "\n",
        "model = XGBClassifier()\n",
        "model.fit(X_train, y_train)\n",
        "\n",
        "model.predict(X_test)\n",
        "\n",
        "y_pred = model.predict(X_test)\n",
        "\n",
        "from sklearn.metrics import f1_score\n",
        "\n",
        "f1_score(y_test,y_pred, average='weighted')"
      ],
      "execution_count": 0,
      "outputs": []
    },
    {
      "cell_type": "markdown",
      "metadata": {
        "id": "sNDH8gavw941",
        "colab_type": "text"
      },
      "source": [
        "## 0-3. Decision tree"
      ]
    },
    {
      "cell_type": "markdown",
      "metadata": {
        "id": "BXEl20vhntko",
        "colab_type": "text"
      },
      "source": [
        "### Decision tree란?\n",
        "- 오메 이 부분은 정리하기"
      ]
    },
    {
      "cell_type": "code",
      "metadata": {
        "id": "HuSemgPAnsQC",
        "colab_type": "code",
        "colab": {}
      },
      "source": [
        "# 모델 만들어주기\n",
        "from sklearn.tree import DecisionTreeRegressor\n",
        "\n",
        "model = DecisionTreeRegressor(random_state=1, max_depth=50)\n",
        "model\n",
        "\n",
        "# fitting 시키기\n",
        "model.fit(x_train,y_train_re)\n",
        "model.fit(x_train,y_train_ca)\n",
        "model.fit(x_train,y_train)\n",
        "\n",
        "# predict하기\n",
        "model.predict(x_test)"
      ],
      "execution_count": 0,
      "outputs": []
    },
    {
      "cell_type": "markdown",
      "metadata": {
        "id": "Sw8bfsbHw98e",
        "colab_type": "text"
      },
      "source": [
        "## 0-4. Ensemble"
      ]
    },
    {
      "cell_type": "markdown",
      "metadata": {
        "id": "SwHw2i3oyho5",
        "colab_type": "text"
      },
      "source": [
        "### Random Forest"
      ]
    },
    {
      "cell_type": "markdown",
      "metadata": {
        "id": "kgZbjX5iw-AF",
        "colab_type": "text"
      },
      "source": [
        "### Bagging"
      ]
    },
    {
      "cell_type": "markdown",
      "metadata": {
        "id": "iqB656qNygjH",
        "colab_type": "text"
      },
      "source": [
        "### Boosting"
      ]
    },
    {
      "cell_type": "markdown",
      "metadata": {
        "id": "-EK-RY0opSNX",
        "colab_type": "text"
      },
      "source": [
        "#### Hyperparameter Tuning"
      ]
    },
    {
      "cell_type": "markdown",
      "metadata": {
        "id": "uouKdNy2n-8_",
        "colab_type": "text"
      },
      "source": [
        "- 사실 대부분 boosting 모델들이 parameter tuning을 하는 이유는 tree의 다형성과 overfitting 문제를 해결하기 위함이다.\n",
        "- Catboost 는 기본 파라미터가 기본적으로 최적화가 잘 되어있어서 parameter tuning에 크게 신경쓰지 않아도 됨\n",
        "- 반면 Xgboost나 LightGBM은 parameter tuning에 매우 민감하다.\n",
        "- Catboost 는 이를 내부적인 알고리즘으로 해결하고 있어서 parameter tuning을 할 필요가 없는 것이다. 굳이 한다면 learning_rate, random_strength, L2_regulariser 과 같은 parameter tuning인데, 결과는 큰 차이가 없다고 한다.\n",
        "\n"
      ]
    },
    {
      "cell_type": "markdown",
      "metadata": {
        "id": "-EQ8ppMDpvHh",
        "colab_type": "text"
      },
      "source": [
        "\n",
        "- [참고 사이트](http://machinelearningkorea.com/2019/09/29/lightgbm-%ED%8C%8C%EB%9D%BC%EB%AF%B8%ED%84%B0/)\n",
        " <br>\n",
        "- max_depth[default=6]\n",
        " - 트리의 최대 깊이를 정의하는 parameter(DT에서 배웠음)\n",
        "- min_child_weight[default=1]\n",
        " - Overfitting을 컨트롤하는 파라미터로, 값이 높아지면, underfitting되는 경우가 있어 CV를 통해 튜닝되어야 함.\n",
        "- gamma[default=0]\n",
        " - 노드가 split되게 위한 loss function의 값이 감소하는 최소 값을 정의함. 값이 높아질수록 알고리즘은 보수적으로 변하고, loss function의 정의에 따라 적정값이 달라져 **반드시 튜닝되어야 한다**\n",
        "- subsample\n",
        " - 각 트리마다의 관측 데이터 샘플링 비율. 값을 적게 주면 over-fitting을 방지하지만 값을 너무 작게 주면 under-fitting(일반적으로 0.5~1).\n",
        "- colsample_bytree\n",
        " - 각 트리마다의 feature 샘플링 비율.\n"
      ]
    },
    {
      "cell_type": "code",
      "metadata": {
        "id": "mNg2pZuEqOeC",
        "colab_type": "code",
        "colab": {}
      },
      "source": [
        "## best parameter 찾는 예시 (밑에 GridsearchCV에도 같은 코드가 있음)\n",
        "# 우선 부차적인 parameter 찾아주고\n",
        "cb = CatBoostClassifier(\n",
        " learning_rate =0.1,\n",
        " iterations=100 #n-estimator대신 iteration을 사용,\n",
        ")\n",
        "\n",
        "cb_params_1 = {\n",
        "    'depth' : [3,5,7],\n",
        "    'random_strength' : [1,3],\n",
        "    'bagging_temperature' : [0,0.5,1],\n",
        "    'l2_leaf_reg' : [1,3,5,7],\n",
        "}\n",
        "cb_grid_1 = GridSearchCV(cb, param_grid=cb_params_1, scoring=my_scorer, cv=5, verbose=1)\n",
        "cb_grid_1.fit(train[features], train['Survived'])\n",
        "\n",
        "print(\"Best Score : {}\".format(cb_grid_1.best_score_))\n",
        "print(\"Best Params : {}\".format(cb_grid_1.best_params_))\n",
        "best_cb_model = cb_grid_1.best_estimator_\n",
        "\n",
        "# 최적의 core parameter 찾기\n",
        "cb_params_2 = {\n",
        "    'learning_rate' : [0.03, 0.07, 0.1],\n",
        "    'iterations' : [n for n in range(80,130,20)]\n",
        "}\n",
        "cb_grid_2 = GridSearchCV(best_cb_model, param_grid=cb_params_2, scoring=my_scorer, cv=5, verbose=1)\n",
        "cb_grid_2.fit(train[features], train['Survived'])\n",
        "\n",
        "print(\"Best Score : {}\".format(cb_grid_2.best_score_))\n",
        "print(\"Best Params : {}\".format(cb_grid_2.best_params_))\n",
        "best_cb_model = cb_grid_2.best_estimator_"
      ],
      "execution_count": 0,
      "outputs": []
    },
    {
      "cell_type": "markdown",
      "metadata": {
        "id": "tjMcvT33ymnI",
        "colab_type": "text"
      },
      "source": [
        "#### CatBoost\n",
        "- Catboost는 Category와 Boosting을 합쳐서 만들어진 이름이다. \n",
        "- 여기에서 Boost는 Gradient boosting machine learnin algorithm에서 온 말인데 Gradient boosting은 추천 시스템, 예측 등 다양한 분야에서 활용되어지는 강력한 방법.\n",
        "- Deep Learning과 달리 적은 데이터로도 좋은 결과를 얻을 수 있는 효율적인 방법이다.\n",
        "- Catboost에서는 categorical 변수를 사용자가 다른 작업을 하지 않아도 자동으로 이를 변환하여 사용한다. model fitting할 때 지정해야됨!!!\n",
        "- default parameters값으로 더 나은 성능\n",
        "- hyper-parmeter tuning을 하지 않더라도 기본적인 세팅으로도 좋은 결과를 얻을 수 있어 활용성이 뛰어나다. "
      ]
    },
    {
      "cell_type": "code",
      "metadata": {
        "id": "bun_kQGCo9uQ",
        "colab_type": "code",
        "colab": {}
      },
      "source": [
        "# CatBoost Regressor 예시\n",
        "from catboost import CatBoostRegressor\n",
        "train_data = pd.read_csv('train_data.csv', encdoing='euc-kr')\n",
        "test_data = pd.read_csv('test_data.csv', encdoing='euc-kr')\n",
        "cat_features = [0,1,2]\n",
        "train_labels = [10,20,30]\n",
        "\n",
        "model = CatBoostRegressor(iterations=2, learning_rate=1, depth=2)\n",
        "\n",
        "model.fit(train_data, train_labels, cat_features) # cat_features를 꼭 지정해줘야한다."
      ],
      "execution_count": 0,
      "outputs": []
    },
    {
      "cell_type": "code",
      "metadata": {
        "id": "sXRmy-mQo_9C",
        "colab_type": "code",
        "colab": {}
      },
      "source": [
        "# CatBoost Classifier 예시\n",
        "import catboost as cb\n",
        "cat_features_index = [0,1,2,3,4,5,6]\n",
        "\n",
        "def auc(m, train, test): \n",
        "    return (metrics.roc_auc_score(y_train,m.predict_proba(train)[:,1]),\n",
        "                            metrics.roc_auc_score(y_test,m.predict_proba(test)[:,1]))\n",
        "\n",
        "params = {'depth': [4, 7, 10],\n",
        "          'learning_rate' : [0.03, 0.1, 0.15],\n",
        "         'l2_leaf_reg': [1,4,9],\n",
        "         'iterations': [300]}\n",
        "cb = cb.CatBoostClassifier()\n",
        "cb_model = GridSearchCV(cb, params, scoring=\"roc_auc\", cv = 3)\n",
        "cb_model.fit(train, y_train)\n",
        "\n",
        "# With Categorical features\n",
        "clf = cb.CatBoostClassifier(eval_metric=\"AUC\", depth=10, iterations= 500, l2_leaf_reg= 9, learning_rate= 0.15)\n",
        "clf.fit(train,y_train)\n",
        "auc(clf, train, test)\n",
        "\n",
        "# With Categorical features\n",
        "clf = cb.CatBoostClassifier(eval_metric=\"AUC\",one_hot_max_size=31, \\\n",
        "                            depth=10, iterations= 500, l2_leaf_reg= 9, learning_rate= 0.15)\n",
        "clf.fit(train,y_train, cat_features= cat_features_index)\n",
        "auc(clf, train, test)"
      ],
      "execution_count": 0,
      "outputs": []
    },
    {
      "cell_type": "markdown",
      "metadata": {
        "id": "NY5w7x_6yqab",
        "colab_type": "text"
      },
      "source": [
        "#### Xgboost\n",
        "- Null값 있어도 상관없는 모델!\n",
        "- categorical variables는 모두 one-hot encoding을 통해서 바꿔줘야 함!"
      ]
    },
    {
      "cell_type": "code",
      "metadata": {
        "id": "MTtYgRztokxX",
        "colab_type": "code",
        "colab": {}
      },
      "source": [
        "## Xgboost Classifier\n",
        "from xgboost import XGBClassifier, plot_importance\n",
        "\n",
        "model = XGBClassifier()\n",
        "model.fit(X_train, y_train)\n",
        "\n",
        "model.predict(X_test)\n",
        "\n",
        "y_pred = model.predict(X_test)\n",
        "\n",
        "from sklearn.metrics import f1_score\n",
        "\n",
        "f1_score(y_test,y_pred, average='weighted')"
      ],
      "execution_count": 0,
      "outputs": []
    },
    {
      "cell_type": "code",
      "metadata": {
        "id": "p5F9hpbeop4V",
        "colab_type": "code",
        "colab": {}
      },
      "source": [
        "## Xgboost Plot importance\n",
        "# 코드1\n",
        "from xgboost import plot_importance\n",
        "\n",
        "model = xgb.XGBClassifier()\n",
        "model.fit(X, y)\n",
        "sorted_idx = np.argsort(model.feature_importances_)[::-1]\n",
        "for index in sorted_idx:\n",
        "    print([X.columns[index], model.feature_importances_[index]])\n",
        "\n",
        "# 코드2\n",
        "from xgboost import XGBClassifier, plot_importance\n",
        "model = XGBClassifier()\n",
        "model.fit(train, label)\n",
        "\n",
        "sorted_idx = np.argsort(model.feature_importances_)[::-1]\n",
        "\n",
        "for index in sorted_idx:\n",
        "    print([train.columns[index], model.feature_importances_[index]]) \n",
        "\n",
        "    plot_importance(model, max_num_features = 15)\n",
        "pyplot.show()"
      ],
      "execution_count": 0,
      "outputs": []
    },
    {
      "cell_type": "markdown",
      "metadata": {
        "id": "OXWSQuGTyqlO",
        "colab_type": "text"
      },
      "source": [
        "#### LightGBM\n",
        "- Tree based learning 알고리즘의 gradient boosting framework!\n",
        "- 작은 데이터셋 규모로 진행했을 때 overfitting될 가능성이 매우 높기 때문에 10,000 row 이상인 데이터셋에 적합하다.\n",
        "- Catboost와 마찬가지로 categorical \n",
        "- 일반적인 GBM 패키지와 다르게 LGBM은 leaf wise방식을 사용한다. 기존의 트리기반 알고리즘은 트리의 깊이를 줄이기 위해 level wise(균형 트리 분할)를 사용한다면 LGBM은 leaf wise(리프 중심 트리 분할)를 이용한다. 앞의 level wise는 트리를 균형적으로 분할하는데 균형작업이 추가로 들어간다고 보면 된다. LGBM은 균형적으로 트리를 분할하지 않는 대신 최대 손실값(max delta loss)을 갖는 트리 노드를 계속 분할한다. 이 때문에 비대칭적으로 어느 트리는 깊이가 아주 깊어지게 된다. 이 방식은 균형 트리 분할보다 오류를 최소화할 수 있다.\n",
        "![](https://user-images.githubusercontent.com/46089347/67144522-3479aa80-f2b2-11e9-9a17-1206005286f6.png)\n",
        "\n",
        "> 주요 hyper parameter\n",
        "- n_estimators : default=100, 반복하려는 트리의 갯수\n",
        "learning)rate : 0~1사이 값 지정. gradient descent에서 얼마나 움직일 것인지 설정한다. 간단히 학습률이라고 생각하면 된다.\n",
        "- max_depth : default=-1, 최대 깊이를 조절\n",
        "- min_child_samples : default=20, leaf node로 분류되기 위한 최소 데이터 수\n",
        "- num_leaves : default=31, one tree가 가잘 수 있는 leaf 갯수\n",
        "- boost : default=gbdt, gbdt는 gradient descent를 의미. rt는 random forest\n",
        "- reg_lambda : L2 규제 적용\n",
        "- leg_alpha : L1 규제\n"
      ]
    },
    {
      "cell_type": "markdown",
      "metadata": {
        "id": "vn-FHxW0qdj1",
        "colab_type": "text"
      },
      "source": [
        "기본적인 lightgbm 쓰는 방법"
      ]
    },
    {
      "cell_type": "code",
      "metadata": {
        "id": "W7QjBAlPqc2V",
        "colab_type": "code",
        "colab": {}
      },
      "source": [
        "import lightgbm as lgb\n",
        "from sklearn import metrics\n",
        "\n",
        "def auc2(m, train, test): \n",
        "    return (metrics.roc_auc_score(y_train,m.predict(train)),\n",
        "                            metrics.roc_auc_score(y_test,m.predict(test)))\n",
        "\n",
        "lg = lgb.LGBMClassifier(silent=False)\n",
        "param_dist = {\"max_depth\": [25,50, 75],\n",
        "              \"learning_rate\" : [0.01,0.05,0.1],\n",
        "              \"num_leaves\": [300,900,1200],\n",
        "              \"n_estimators\": [200]\n",
        "             }\n",
        "grid_search = GridSearchCV(lg, n_jobs=-1, param_grid=param_dist, cv = 3, scoring=\"roc_auc\", verbose=5)\n",
        "grid_search.fit(train,y_train)\n",
        "grid_search.best_estimator_\n",
        "\n",
        "d_train = lgb.Dataset(train, label=y_train)\n",
        "params = {\"max_depth\": 50, \"learning_rate\" : 0.1, \"num_leaves\": 900,  \"n_estimators\": 300}\n",
        "\n",
        "# Without Categorical Features\n",
        "model2 = lgb.train(params, d_train)\n",
        "auc2(model2, train, test)\n",
        "\n",
        "#With Catgeorical Features\n",
        "cate_features_name = [\"MONTH\",\"DAY\",\"DAY_OF_WEEK\",\"AIRLINE\",\"DESTINATION_AIRPORT\",\n",
        "                 \"ORIGIN_AIRPORT\"]\n",
        "model2 = lgb.train(params, d_train, categorical_feature = cate_features_name)\n",
        "auc2(model2, train, test)"
      ],
      "execution_count": 0,
      "outputs": []
    },
    {
      "cell_type": "markdown",
      "metadata": {
        "id": "CrvIqWElqhzM",
        "colab_type": "text"
      },
      "source": [
        "##### Kaggle_card_fraud_detection에서 썼던 코드"
      ]
    },
    {
      "cell_type": "markdown",
      "metadata": {
        "id": "nvetBrzeqwSe",
        "colab_type": "text"
      },
      "source": [
        "Google Drive 마운트"
      ]
    },
    {
      "cell_type": "code",
      "metadata": {
        "id": "ngNYjA_oqlqc",
        "colab_type": "code",
        "colab": {}
      },
      "source": [
        "from google.colab import drive\n",
        "drive.mount('/content/gdrive')"
      ],
      "execution_count": 0,
      "outputs": []
    },
    {
      "cell_type": "code",
      "metadata": {
        "id": "1LNwFrfKqlvB",
        "colab_type": "code",
        "colab": {}
      },
      "source": [
        "cd /content/gdrive/My \\Drive/"
      ],
      "execution_count": 0,
      "outputs": []
    },
    {
      "cell_type": "code",
      "metadata": {
        "id": "7U4B5Aj7qlzJ",
        "colab_type": "code",
        "colab": {}
      },
      "source": [
        "# 사용자에 맞게 바꾸기\n",
        "# cd Colab \\Notebooks/"
      ],
      "execution_count": 0,
      "outputs": []
    },
    {
      "cell_type": "markdown",
      "metadata": {
        "id": "cwz6n8Neql3P",
        "colab_type": "text"
      },
      "source": [
        "Google Colab 사용 시 설치법"
      ]
    },
    {
      "cell_type": "code",
      "metadata": {
        "id": "hg6Dx8llq3Yy",
        "colab_type": "code",
        "colab": {}
      },
      "source": [
        "!git clone --recursive https://github.com/Microsoft/LightGBM"
      ],
      "execution_count": 0,
      "outputs": []
    },
    {
      "cell_type": "code",
      "metadata": {
        "id": "M9Qpoodmq3dX",
        "colab_type": "code",
        "colab": {}
      },
      "source": [
        "%cd LightGBM/"
      ],
      "execution_count": 0,
      "outputs": []
    },
    {
      "cell_type": "code",
      "metadata": {
        "id": "UfRFrlYMq3hk",
        "colab_type": "code",
        "colab": {}
      },
      "source": [
        "!mkdir build"
      ],
      "execution_count": 0,
      "outputs": []
    },
    {
      "cell_type": "code",
      "metadata": {
        "id": "K88iB4L-q3lz",
        "colab_type": "code",
        "colab": {}
      },
      "source": [
        "!cmake -DUSE_GPU=1 #avoid ..\n",
        "!make -j$(nproc)"
      ],
      "execution_count": 0,
      "outputs": []
    },
    {
      "cell_type": "code",
      "metadata": {
        "id": "jbbgrNHBq3qH",
        "colab_type": "code",
        "colab": {}
      },
      "source": [
        "!sudo apt-get -y install python-pip"
      ],
      "execution_count": 0,
      "outputs": []
    },
    {
      "cell_type": "code",
      "metadata": {
        "id": "JqFs4VCwq3ua",
        "colab_type": "code",
        "colab": {}
      },
      "source": [
        "!sudo -H pip install setuptools pandas numpy scipy scikit-learn -U"
      ],
      "execution_count": 0,
      "outputs": []
    },
    {
      "cell_type": "code",
      "metadata": {
        "id": "kky8ZN9rq36g",
        "colab_type": "code",
        "colab": {}
      },
      "source": [
        "%cd python-package/"
      ],
      "execution_count": 0,
      "outputs": []
    },
    {
      "cell_type": "code",
      "metadata": {
        "id": "fpM7se7iq4Dw",
        "colab_type": "code",
        "colab": {}
      },
      "source": [
        "!sudo python setup.py install --precompile"
      ],
      "execution_count": 0,
      "outputs": []
    },
    {
      "cell_type": "code",
      "metadata": {
        "id": "iH-iFODEq4QG",
        "colab_type": "code",
        "colab": {}
      },
      "source": [
        "# lgbm 설치시 pandas에서 오류가 나 재설정한 부분(선택적)\n",
        "!pip install pandas==0.18.1"
      ],
      "execution_count": 0,
      "outputs": []
    },
    {
      "cell_type": "markdown",
      "metadata": {
        "id": "pjeBPFMOq4Zp",
        "colab_type": "text"
      },
      "source": [
        "LGBM 설치된 경로로 추가 설치과정 필요"
      ]
    },
    {
      "cell_type": "code",
      "metadata": {
        "id": "gXn1WmcLq4fZ",
        "colab_type": "code",
        "colab": {}
      },
      "source": [
        "cd /content/gdrive/My \\Drive/"
      ],
      "execution_count": 0,
      "outputs": []
    },
    {
      "cell_type": "code",
      "metadata": {
        "id": "Aspwch-Nq4XN",
        "colab_type": "code",
        "colab": {}
      },
      "source": [
        "# 사용자에 따른 선택적, 개별 드라이브 상황에 따라 경로 설정-> but LightGBM을 설치한 경로에 맞춰야 함\n",
        "cd 경로/"
      ],
      "execution_count": 0,
      "outputs": []
    },
    {
      "cell_type": "code",
      "metadata": {
        "id": "txuqad5Xq4Mj",
        "colab_type": "code",
        "colab": {}
      },
      "source": [
        "cd LightGBM"
      ],
      "execution_count": 0,
      "outputs": []
    },
    {
      "cell_type": "code",
      "metadata": {
        "id": "RIlNMtMVq4Jc",
        "colab_type": "code",
        "colab": {}
      },
      "source": [
        "cd python-package"
      ],
      "execution_count": 0,
      "outputs": []
    },
    {
      "cell_type": "code",
      "metadata": {
        "id": "pBxQZ340q4Au",
        "colab_type": "code",
        "colab": {}
      },
      "source": [
        "!sudo python setup.py install --precompile"
      ],
      "execution_count": 0,
      "outputs": []
    },
    {
      "cell_type": "markdown",
      "metadata": {
        "id": "k4Hvrlwsq33J",
        "colab_type": "text"
      },
      "source": [
        "분석을 위한 경로 재설정"
      ]
    },
    {
      "cell_type": "code",
      "metadata": {
        "id": "Nf1oQbkBrEWD",
        "colab_type": "code",
        "colab": {}
      },
      "source": [
        "from google.colab import drive\n",
        "drive.mount('/content/gdrive')"
      ],
      "execution_count": 0,
      "outputs": []
    },
    {
      "cell_type": "code",
      "metadata": {
        "id": "_lG-l4YirEff",
        "colab_type": "code",
        "colab": {}
      },
      "source": [
        "cd /content/gdrive/My \\Drive/"
      ],
      "execution_count": 0,
      "outputs": []
    },
    {
      "cell_type": "code",
      "metadata": {
        "id": "xOa1oUE0rEkJ",
        "colab_type": "code",
        "colab": {}
      },
      "source": [
        "# 사용자에 따른 선택적, 개별 드라이브 상황에 따라 경로 설정-> but LightGBM을 설치한 경로에 맞춰야 함\n",
        "cd 경로"
      ],
      "execution_count": 0,
      "outputs": []
    },
    {
      "cell_type": "markdown",
      "metadata": {
        "id": "XvDUnDimrEol",
        "colab_type": "text"
      },
      "source": [
        "기본 패키지 및 설정, 데이터 적재"
      ]
    },
    {
      "cell_type": "code",
      "metadata": {
        "id": "i3KSbDCKrEsy",
        "colab_type": "code",
        "colab": {}
      },
      "source": [
        "import pandas as pd\n",
        "import numpy as np\n",
        "from sklearn.model_selection import train_test_split\n",
        "\n",
        "pd.set_option('display.max_columns', None)"
      ],
      "execution_count": 0,
      "outputs": []
    },
    {
      "cell_type": "code",
      "metadata": {
        "id": "PSJXHLktrExZ",
        "colab_type": "code",
        "colab": {}
      },
      "source": [
        "train = pd.read_csv('final_train_merged.csv')    # 맞는 데이터 적재하기\n",
        "test = pd.read_csv('final_test_merged.csv')    # 맞는 데이터 적재하기"
      ],
      "execution_count": 0,
      "outputs": []
    },
    {
      "cell_type": "code",
      "metadata": {
        "id": "WErXw01frE1l",
        "colab_type": "code",
        "colab": {}
      },
      "source": [
        "# test에 고객 아이디가 없어서 아이디 있는 파일 중 아무거나 가져옴. \n",
        "# test용 고객 아이디 있는 데이터면 수정해도 무방\n",
        "tt = pd.read_csv('pca_test_all_c_fraud.csv')"
      ],
      "execution_count": 0,
      "outputs": []
    },
    {
      "cell_type": "code",
      "metadata": {
        "id": "Hvi4MMEyq3z8",
        "colab_type": "code",
        "colab": {}
      },
      "source": [
        "del train['addr1_na']\n",
        "del test['addr1_na']\n",
        "\n",
        "del train['Unnamed: 0']\n",
        "del test['Unnamed: 0']"
      ],
      "execution_count": 0,
      "outputs": []
    },
    {
      "cell_type": "code",
      "metadata": {
        "id": "nhiGTioHrMU4",
        "colab_type": "code",
        "colab": {}
      },
      "source": [
        "X = train.iloc[:, 1:].values\n",
        "y = train.iloc[:, 0].values\n",
        "\n",
        "X_test = test.values"
      ],
      "execution_count": 0,
      "outputs": []
    },
    {
      "cell_type": "code",
      "metadata": {
        "id": "OTdamFplrMbv",
        "colab_type": "code",
        "colab": {}
      },
      "source": [
        "print(X.shape, y.shape)"
      ],
      "execution_count": 0,
      "outputs": []
    },
    {
      "cell_type": "code",
      "metadata": {
        "id": "79ZZmRQ_rMj2",
        "colab_type": "code",
        "colab": {}
      },
      "source": [
        "X_train, X_valid, y_train, y_valid = train_test_split(X, y, test_size=0.25)"
      ],
      "execution_count": 0,
      "outputs": []
    },
    {
      "cell_type": "markdown",
      "metadata": {
        "id": "m6B1M9RvrMoK",
        "colab_type": "text"
      },
      "source": [
        "LGBM 모델 사용"
      ]
    },
    {
      "cell_type": "code",
      "metadata": {
        "id": "RXJ3aQfcrMrx",
        "colab_type": "code",
        "colab": {}
      },
      "source": [
        "import lightgbm as lgb\n",
        "import matplotlib.pyplot as plt\n",
        "from sklearn.model_selection import PredefinedSplit\n",
        "from sklearn.model_selection import GridSearchCV, ParameterGrid\n",
        "from sklearn.metrics import (roc_curve, auc, accuracy_score)\n",
        "from sklearn.metrics import roc_auc_score"
      ],
      "execution_count": 0,
      "outputs": []
    },
    {
      "cell_type": "code",
      "metadata": {
        "id": "GBiuqzdDrMwE",
        "colab_type": "code",
        "colab": {}
      },
      "source": [
        "params = {\n",
        "    'task': 'train',\n",
        "    'boosting_type': 'gbdt',\n",
        "    'objective': 'binary',\n",
        "    'metric': {'binary_logloss', 'auc'},\n",
        "    'metric_freq': 1,\n",
        "    'is_training_metric': True,\n",
        "    'max_bin': 255,\n",
        "    'learning_rate': 0.01,\n",
        "    'num_leaves': 63,\n",
        "    'tree_learner': 'serial',\n",
        "    'feature_fraction': 0.8,\n",
        "    'bagging_fraction': 0.8,\n",
        "    'bagging_freq': 5,\n",
        "    'min_data_in_leaf': 50,\n",
        "    'min_sum_hessian_in_leaf': 5,\n",
        "    'is_enable_sparse': True,\n",
        "    'use_two_round_loading': False,\n",
        "    'is_save_binary_file': False,\n",
        "    'output_model': 'LightGBM_model.txt',\n",
        "    'num_machines': 1,\n",
        "    'local_listen_port': 12400,\n",
        "    'machine_list_file': 'mlist.txt',\n",
        "    'verbose': 0,\n",
        "    'subsample_for_bin': 200000,\n",
        "    'min_child_samples': 20,\n",
        "    'min_child_weight': 0.001,\n",
        "    'min_split_gain': 0.0,\n",
        "    'colsample_bytree': 1.0,\n",
        "    'reg_alpha': 0.0,\n",
        "    'reg_lambda': 0.0\n",
        "}"
      ],
      "execution_count": 0,
      "outputs": []
    },
    {
      "cell_type": "code",
      "metadata": {
        "id": "F4ajsl13rM0H",
        "colab_type": "code",
        "colab": {}
      },
      "source": [
        "lgb_train = lgb.Dataset(X_train, y_train)\n",
        "lgb_eval = lgb.Dataset(X_valid, y_valid, reference=lgb_train)"
      ],
      "execution_count": 0,
      "outputs": []
    },
    {
      "cell_type": "code",
      "metadata": {
        "id": "mgqIB8ZFrM5T",
        "colab_type": "code",
        "colab": {}
      },
      "source": [
        "model = lgb.train(params, lgb_train, 2500, lgb_eval, verbose_eval=10,  early_stopping_rounds=100)"
      ],
      "execution_count": 0,
      "outputs": []
    },
    {
      "cell_type": "code",
      "metadata": {
        "id": "TzxObaWgrM84",
        "colab_type": "code",
        "colab": {}
      },
      "source": [
        "y_valid_pred = model.predict(X_valid)\n",
        "roc_auc_score(y_valid, y_valid_pred)"
      ],
      "execution_count": 0,
      "outputs": []
    },
    {
      "cell_type": "code",
      "metadata": {
        "id": "p7kMm2crrMhl",
        "colab_type": "code",
        "colab": {}
      },
      "source": [
        "prediction = model.predict(X_test)"
      ],
      "execution_count": 0,
      "outputs": []
    },
    {
      "cell_type": "markdown",
      "metadata": {
        "id": "dVmXelhErTme",
        "colab_type": "text"
      },
      "source": [
        "제출용 csv 만들기"
      ]
    },
    {
      "cell_type": "code",
      "metadata": {
        "id": "CA5-ZDj-rTsC",
        "colab_type": "code",
        "colab": {}
      },
      "source": [
        "tt['isFraud'] = prediction"
      ],
      "execution_count": 0,
      "outputs": []
    },
    {
      "cell_type": "code",
      "metadata": {
        "id": "JeRyCvCErTwW",
        "colab_type": "code",
        "colab": {}
      },
      "source": [
        "tt2 = tt[['TransactionID', 'isFraud']]"
      ],
      "execution_count": 0,
      "outputs": []
    },
    {
      "cell_type": "code",
      "metadata": {
        "id": "9RQwYkT2rT0k",
        "colab_type": "code",
        "colab": {}
      },
      "source": [
        "tt2.to_csv('lgbm_git_.csv', index=False)"
      ],
      "execution_count": 0,
      "outputs": []
    },
    {
      "cell_type": "markdown",
      "metadata": {
        "id": "5Kt66CjqyzCz",
        "colab_type": "text"
      },
      "source": [
        "# 0. Unsupervised Learning"
      ]
    },
    {
      "cell_type": "markdown",
      "metadata": {
        "id": "Bb4x7qwly1BF",
        "colab_type": "text"
      },
      "source": [
        "## Dimensionality reduction"
      ]
    },
    {
      "cell_type": "markdown",
      "metadata": {
        "id": "b_0h1642y2nI",
        "colab_type": "text"
      },
      "source": [
        "## Clustering"
      ]
    },
    {
      "cell_type": "markdown",
      "metadata": {
        "id": "wGGUGYR9y4LI",
        "colab_type": "text"
      },
      "source": [
        "### K-means clustering"
      ]
    },
    {
      "cell_type": "markdown",
      "metadata": {
        "id": "SAAHvcqYy4PZ",
        "colab_type": "text"
      },
      "source": [
        "### Hierarchical clustering"
      ]
    },
    {
      "cell_type": "markdown",
      "metadata": {
        "id": "DvZ5Q-fky4TV",
        "colab_type": "text"
      },
      "source": [
        "### DBSCAN"
      ]
    },
    {
      "cell_type": "markdown",
      "metadata": {
        "id": "3p0Lc8RFy4XJ",
        "colab_type": "text"
      },
      "source": [
        "### Gaussian Mixture model (GMM)"
      ]
    },
    {
      "cell_type": "markdown",
      "metadata": {
        "id": "Q4GE559ly4Zw",
        "colab_type": "text"
      },
      "source": [
        "### KNN clustering"
      ]
    },
    {
      "cell_type": "markdown",
      "metadata": {
        "id": "pozkZiGgzD8i",
        "colab_type": "text"
      },
      "source": [
        "# 0. 기타 Machine learning에 필요한 기법들"
      ]
    },
    {
      "cell_type": "markdown",
      "metadata": {
        "id": "5ynxIB0azGk2",
        "colab_type": "text"
      },
      "source": [
        "## Sampling"
      ]
    },
    {
      "cell_type": "markdown",
      "metadata": {
        "id": "eWamjn8MzGqU",
        "colab_type": "text"
      },
      "source": [
        "## Scaling"
      ]
    },
    {
      "cell_type": "markdown",
      "metadata": {
        "id": "WuuADgPUzGz6",
        "colab_type": "text"
      },
      "source": [
        "## GridsearchCV"
      ]
    },
    {
      "cell_type": "markdown",
      "metadata": {
        "id": "8NbQWxXfqIhd",
        "colab_type": "text"
      },
      "source": [
        "### Best hyperparameter 찾기"
      ]
    },
    {
      "cell_type": "code",
      "metadata": {
        "id": "e8b9wqkNqICy",
        "colab_type": "code",
        "colab": {}
      },
      "source": [
        "## best parameter 찾는 과정\n",
        "# 우선 부차적인 parameter 찾아주고\n",
        "cb = CatBoostClassifier(\n",
        " learning_rate =0.1,\n",
        " iterations=100 #n-estimator대신 iteration을 사용,\n",
        ")\n",
        "\n",
        "cb_params_1 = {\n",
        "    'depth' : [3,5,7],\n",
        "    'random_strength' : [1,3],\n",
        "    'bagging_temperature' : [0,0.5,1],\n",
        "    'l2_leaf_reg' : [1,3,5,7],\n",
        "}\n",
        "cb_grid_1 = GridSearchCV(cb, param_grid=cb_params_1, scoring=my_scorer, cv=5, verbose=1)\n",
        "cb_grid_1.fit(train[features], train['Survived'])\n",
        "\n",
        "print(\"Best Score : {}\".format(cb_grid_1.best_score_))\n",
        "print(\"Best Params : {}\".format(cb_grid_1.best_params_))\n",
        "best_cb_model = cb_grid_1.best_estimator_\n",
        "\n",
        "# 최적의 core parameter 찾기\n",
        "cb_params_2 = {\n",
        "    'learning_rate' : [0.03, 0.07, 0.1],\n",
        "    'iterations' : [n for n in range(80,130,20)]\n",
        "}\n",
        "cb_grid_2 = GridSearchCV(best_cb_model, param_grid=cb_params_2, scoring=my_scorer, cv=5, verbose=1)\n",
        "cb_grid_2.fit(train[features], train['Survived'])\n",
        "\n",
        "print(\"Best Score : {}\".format(cb_grid_2.best_score_))\n",
        "print(\"Best Params : {}\".format(cb_grid_2.best_params_))\n",
        "best_cb_model = cb_grid_2.best_estimator_"
      ],
      "execution_count": 0,
      "outputs": []
    },
    {
      "cell_type": "markdown",
      "metadata": {
        "id": "g-wMf9vgmP5B",
        "colab_type": "text"
      },
      "source": [
        "### 가장 적합한 모델 찾기"
      ]
    },
    {
      "cell_type": "code",
      "metadata": {
        "id": "zxgJuSoFmJYg",
        "colab_type": "code",
        "colab": {
          "base_uri": "https://localhost:8080/",
          "height": 1000
        },
        "outputId": "25740d42-32a8-4bf3-e55b-b07838b95f79"
      },
      "source": [
        "# Linear regression, Ridge, Lasso 3개 중에서 10~49까지.\n",
        "\n",
        "def rmse(predictions, targets):\n",
        "    return np.sqrt(((predictions - targets) ** 2).mean())\n",
        "\n",
        "poly_range = list(range(10, 50))\n",
        "rmse_lr_list = []\n",
        "rmse_lasso_list = []\n",
        "rmse_ridge_list = []\n",
        "\n",
        "from sklearn.linear_model import Lasso\n",
        "from sklearn.linear_model import Ridge\n",
        "\n",
        "for poly_value in poly_range:\n",
        "    poly_features = PolynomialFeatures(degree=poly_value)\n",
        "    X_poly = poly_features.fit_transform(X)\n",
        "\n",
        "    lr = LinearRegression(fit_intercept=False)\n",
        "    lr.fit(X_poly,y)\n",
        "    rmse_lr_list.append(rmse(lr.predict(X_poly), y))\n",
        "\n",
        "    lasso = Lasso(fit_intercept=False)\n",
        "    lasso.fit(X_poly,y)\n",
        "    rmse_lasso_list.append(rmse(lasso.predict(X_poly), y))\n",
        "    \n",
        "    ridge = Ridge(fit_intercept=False)\n",
        "    ridge.fit(X_poly,y)\n",
        "    rmse_ridge_list.append(rmse(ridge.predict(X_poly), y))\n",
        "    \n",
        "import pandas as pd\n",
        "from pandas import DataFrame\n",
        "data = {\"poly_range\":poly_range, \"lr_rmse\":rmse_lr_list, \n",
        "        \"lasso_rmse\":rmse_lasso_list,\"ridge_rmse\":rmse_ridge_list}\n",
        "df = DataFrame(data).set_index(\"poly_range\")\n",
        "df"
      ],
      "execution_count": 5,
      "outputs": [
        {
          "output_type": "stream",
          "text": [
            "/usr/local/lib/python3.6/dist-packages/sklearn/linear_model/coordinate_descent.py:475: ConvergenceWarning: Objective did not converge. You might want to increase the number of iterations. Duality gap: 2434.0457508985533, tolerance: 0.5525671213541011\n",
            "  positive)\n",
            "/usr/local/lib/python3.6/dist-packages/sklearn/linear_model/coordinate_descent.py:475: ConvergenceWarning: Objective did not converge. You might want to increase the number of iterations. Duality gap: 2438.905066476105, tolerance: 0.5525671213541011\n",
            "  positive)\n",
            "/usr/local/lib/python3.6/dist-packages/sklearn/linear_model/ridge.py:147: LinAlgWarning: Ill-conditioned matrix (rcond=4.85543e-18): result may not be accurate.\n",
            "  overwrite_a=True).T\n",
            "/usr/local/lib/python3.6/dist-packages/sklearn/linear_model/coordinate_descent.py:475: ConvergenceWarning: Objective did not converge. You might want to increase the number of iterations. Duality gap: 2435.357638648013, tolerance: 0.5525671213541011\n",
            "  positive)\n",
            "/usr/local/lib/python3.6/dist-packages/sklearn/linear_model/ridge.py:147: LinAlgWarning: Ill-conditioned matrix (rcond=2.07148e-19): result may not be accurate.\n",
            "  overwrite_a=True).T\n",
            "/usr/local/lib/python3.6/dist-packages/sklearn/linear_model/coordinate_descent.py:475: ConvergenceWarning: Objective did not converge. You might want to increase the number of iterations. Duality gap: 2430.008120602205, tolerance: 0.5525671213541011\n",
            "  positive)\n",
            "/usr/local/lib/python3.6/dist-packages/sklearn/linear_model/ridge.py:147: LinAlgWarning: Ill-conditioned matrix (rcond=9.22947e-21): result may not be accurate.\n",
            "  overwrite_a=True).T\n",
            "/usr/local/lib/python3.6/dist-packages/sklearn/linear_model/coordinate_descent.py:475: ConvergenceWarning: Objective did not converge. You might want to increase the number of iterations. Duality gap: 2424.391012922622, tolerance: 0.5525671213541011\n",
            "  positive)\n",
            "/usr/local/lib/python3.6/dist-packages/sklearn/linear_model/ridge.py:147: LinAlgWarning: Ill-conditioned matrix (rcond=2.15421e-22): result may not be accurate.\n",
            "  overwrite_a=True).T\n",
            "/usr/local/lib/python3.6/dist-packages/sklearn/linear_model/coordinate_descent.py:475: ConvergenceWarning: Objective did not converge. You might want to increase the number of iterations. Duality gap: 2419.3100406483613, tolerance: 0.5525671213541011\n",
            "  positive)\n",
            "/usr/local/lib/python3.6/dist-packages/sklearn/linear_model/coordinate_descent.py:475: ConvergenceWarning: Objective did not converge. You might want to increase the number of iterations. Duality gap: 2415.1898412816104, tolerance: 0.5525671213541011\n",
            "  positive)\n",
            "/usr/local/lib/python3.6/dist-packages/sklearn/linear_model/coordinate_descent.py:475: ConvergenceWarning: Objective did not converge. You might want to increase the number of iterations. Duality gap: 2412.131485025354, tolerance: 0.5525671213541011\n",
            "  positive)\n",
            "/usr/local/lib/python3.6/dist-packages/sklearn/linear_model/coordinate_descent.py:475: ConvergenceWarning: Objective did not converge. You might want to increase the number of iterations. Duality gap: 2410.0600893188866, tolerance: 0.5525671213541011\n",
            "  positive)\n",
            "/usr/local/lib/python3.6/dist-packages/sklearn/linear_model/coordinate_descent.py:475: ConvergenceWarning: Objective did not converge. You might want to increase the number of iterations. Duality gap: 2408.7943908954753, tolerance: 0.5525671213541011\n",
            "  positive)\n",
            "/usr/local/lib/python3.6/dist-packages/sklearn/linear_model/coordinate_descent.py:475: ConvergenceWarning: Objective did not converge. You might want to increase the number of iterations. Duality gap: 2408.1200880225597, tolerance: 0.5525671213541011\n",
            "  positive)\n",
            "/usr/local/lib/python3.6/dist-packages/sklearn/linear_model/coordinate_descent.py:475: ConvergenceWarning: Objective did not converge. You might want to increase the number of iterations. Duality gap: 2407.8571343078593, tolerance: 0.5525671213541011\n",
            "  positive)\n",
            "/usr/local/lib/python3.6/dist-packages/sklearn/linear_model/coordinate_descent.py:475: ConvergenceWarning: Objective did not converge. You might want to increase the number of iterations. Duality gap: 2407.836263268413, tolerance: 0.5525671213541011\n",
            "  positive)\n",
            "/usr/local/lib/python3.6/dist-packages/sklearn/linear_model/coordinate_descent.py:475: ConvergenceWarning: Objective did not converge. You might want to increase the number of iterations. Duality gap: 2407.8980901398795, tolerance: 0.5525671213541011\n",
            "  positive)\n",
            "/usr/local/lib/python3.6/dist-packages/sklearn/linear_model/coordinate_descent.py:475: ConvergenceWarning: Objective did not converge. You might want to increase the number of iterations. Duality gap: 2407.8673822006986, tolerance: 0.5525671213541011\n",
            "  positive)\n",
            "/usr/local/lib/python3.6/dist-packages/sklearn/linear_model/coordinate_descent.py:475: ConvergenceWarning: Objective did not converge. You might want to increase the number of iterations. Duality gap: 2407.5737203388944, tolerance: 0.5525671213541011\n",
            "  positive)\n",
            "/usr/local/lib/python3.6/dist-packages/sklearn/linear_model/coordinate_descent.py:475: ConvergenceWarning: Objective did not converge. You might want to increase the number of iterations. Duality gap: 2406.84728833416, tolerance: 0.5525671213541011\n",
            "  positive)\n",
            "/usr/local/lib/python3.6/dist-packages/sklearn/linear_model/coordinate_descent.py:475: ConvergenceWarning: Objective did not converge. You might want to increase the number of iterations. Duality gap: 2405.534053942979, tolerance: 0.5525671213541011\n",
            "  positive)\n",
            "/usr/local/lib/python3.6/dist-packages/sklearn/linear_model/coordinate_descent.py:475: ConvergenceWarning: Objective did not converge. You might want to increase the number of iterations. Duality gap: 2403.508384561651, tolerance: 0.5525671213541011\n",
            "  positive)\n",
            "/usr/local/lib/python3.6/dist-packages/sklearn/linear_model/coordinate_descent.py:475: ConvergenceWarning: Objective did not converge. You might want to increase the number of iterations. Duality gap: 2400.677328258669, tolerance: 0.5525671213541011\n",
            "  positive)\n",
            "/usr/local/lib/python3.6/dist-packages/sklearn/linear_model/coordinate_descent.py:475: ConvergenceWarning: Objective did not converge. You might want to increase the number of iterations. Duality gap: 2396.990439576614, tolerance: 0.5525671213541011\n",
            "  positive)\n",
            "/usr/local/lib/python3.6/dist-packages/sklearn/linear_model/coordinate_descent.py:475: ConvergenceWarning: Objective did not converge. You might want to increase the number of iterations. Duality gap: 2392.442588599907, tolerance: 0.5525671213541011\n",
            "  positive)\n",
            "/usr/local/lib/python3.6/dist-packages/sklearn/linear_model/coordinate_descent.py:475: ConvergenceWarning: Objective did not converge. You might want to increase the number of iterations. Duality gap: 2387.0736670858655, tolerance: 0.5525671213541011\n",
            "  positive)\n",
            "/usr/local/lib/python3.6/dist-packages/sklearn/linear_model/coordinate_descent.py:475: ConvergenceWarning: Objective did not converge. You might want to increase the number of iterations. Duality gap: 2380.9531266980553, tolerance: 0.5525671213541011\n",
            "  positive)\n",
            "/usr/local/lib/python3.6/dist-packages/sklearn/linear_model/coordinate_descent.py:475: ConvergenceWarning: Objective did not converge. You might want to increase the number of iterations. Duality gap: 2374.167335970987, tolerance: 0.5525671213541011\n",
            "  positive)\n",
            "/usr/local/lib/python3.6/dist-packages/sklearn/linear_model/coordinate_descent.py:475: ConvergenceWarning: Objective did not converge. You might want to increase the number of iterations. Duality gap: 2366.8230013069647, tolerance: 0.5525671213541011\n",
            "  positive)\n",
            "/usr/local/lib/python3.6/dist-packages/sklearn/linear_model/coordinate_descent.py:475: ConvergenceWarning: Objective did not converge. You might want to increase the number of iterations. Duality gap: 2359.0401181497823, tolerance: 0.5525671213541011\n",
            "  positive)\n",
            "/usr/local/lib/python3.6/dist-packages/sklearn/linear_model/coordinate_descent.py:475: ConvergenceWarning: Objective did not converge. You might want to increase the number of iterations. Duality gap: 2350.9440706394716, tolerance: 0.5525671213541011\n",
            "  positive)\n",
            "/usr/local/lib/python3.6/dist-packages/sklearn/linear_model/coordinate_descent.py:475: ConvergenceWarning: Objective did not converge. You might want to increase the number of iterations. Duality gap: 2342.6586006310154, tolerance: 0.5525671213541011\n",
            "  positive)\n",
            "/usr/local/lib/python3.6/dist-packages/sklearn/linear_model/coordinate_descent.py:475: ConvergenceWarning: Objective did not converge. You might want to increase the number of iterations. Duality gap: 2334.296133608245, tolerance: 0.5525671213541011\n",
            "  positive)\n",
            "/usr/local/lib/python3.6/dist-packages/sklearn/linear_model/coordinate_descent.py:475: ConvergenceWarning: Objective did not converge. You might want to increase the number of iterations. Duality gap: 2325.946817469901, tolerance: 0.5525671213541011\n",
            "  positive)\n",
            "/usr/local/lib/python3.6/dist-packages/sklearn/linear_model/coordinate_descent.py:475: ConvergenceWarning: Objective did not converge. You might want to increase the number of iterations. Duality gap: 2317.6841379931393, tolerance: 0.5525671213541011\n",
            "  positive)\n",
            "/usr/local/lib/python3.6/dist-packages/sklearn/linear_model/coordinate_descent.py:475: ConvergenceWarning: Objective did not converge. You might want to increase the number of iterations. Duality gap: 2309.5866908609905, tolerance: 0.5525671213541011\n",
            "  positive)\n",
            "/usr/local/lib/python3.6/dist-packages/sklearn/linear_model/coordinate_descent.py:475: ConvergenceWarning: Objective did not converge. You might want to increase the number of iterations. Duality gap: 2301.716388535115, tolerance: 0.5525671213541011\n",
            "  positive)\n",
            "/usr/local/lib/python3.6/dist-packages/sklearn/linear_model/coordinate_descent.py:475: ConvergenceWarning: Objective did not converge. You might want to increase the number of iterations. Duality gap: 2294.132336698558, tolerance: 0.5525671213541011\n",
            "  positive)\n",
            "/usr/local/lib/python3.6/dist-packages/sklearn/linear_model/coordinate_descent.py:475: ConvergenceWarning: Objective did not converge. You might want to increase the number of iterations. Duality gap: 2286.881536085086, tolerance: 0.5525671213541011\n",
            "  positive)\n",
            "/usr/local/lib/python3.6/dist-packages/sklearn/linear_model/coordinate_descent.py:475: ConvergenceWarning: Objective did not converge. You might want to increase the number of iterations. Duality gap: 2279.9818315098896, tolerance: 0.5525671213541011\n",
            "  positive)\n",
            "/usr/local/lib/python3.6/dist-packages/sklearn/linear_model/coordinate_descent.py:475: ConvergenceWarning: Objective did not converge. You might want to increase the number of iterations. Duality gap: 2273.457084825518, tolerance: 0.5525671213541011\n",
            "  positive)\n",
            "/usr/local/lib/python3.6/dist-packages/sklearn/linear_model/coordinate_descent.py:475: ConvergenceWarning: Objective did not converge. You might want to increase the number of iterations. Duality gap: 2267.321238606658, tolerance: 0.5525671213541011\n",
            "  positive)\n",
            "/usr/local/lib/python3.6/dist-packages/sklearn/linear_model/coordinate_descent.py:475: ConvergenceWarning: Objective did not converge. You might want to increase the number of iterations. Duality gap: 2261.579472670413, tolerance: 0.5525671213541011\n",
            "  positive)\n"
          ],
          "name": "stderr"
        },
        {
          "output_type": "execute_result",
          "data": {
            "text/html": [
              "<div>\n",
              "<style scoped>\n",
              "    .dataframe tbody tr th:only-of-type {\n",
              "        vertical-align: middle;\n",
              "    }\n",
              "\n",
              "    .dataframe tbody tr th {\n",
              "        vertical-align: top;\n",
              "    }\n",
              "\n",
              "    .dataframe thead th {\n",
              "        text-align: right;\n",
              "    }\n",
              "</style>\n",
              "<table border=\"1\" class=\"dataframe\">\n",
              "  <thead>\n",
              "    <tr style=\"text-align: right;\">\n",
              "      <th></th>\n",
              "      <th>lr_rmse</th>\n",
              "      <th>lasso_rmse</th>\n",
              "      <th>ridge_rmse</th>\n",
              "    </tr>\n",
              "    <tr>\n",
              "      <th>poly_range</th>\n",
              "      <th></th>\n",
              "      <th></th>\n",
              "      <th></th>\n",
              "    </tr>\n",
              "  </thead>\n",
              "  <tbody>\n",
              "    <tr>\n",
              "      <th>10</th>\n",
              "      <td>1.926541</td>\n",
              "      <td>2.320398</td>\n",
              "      <td>1.950333</td>\n",
              "    </tr>\n",
              "    <tr>\n",
              "      <th>11</th>\n",
              "      <td>1.920644</td>\n",
              "      <td>2.322260</td>\n",
              "      <td>1.933155</td>\n",
              "    </tr>\n",
              "    <tr>\n",
              "      <th>12</th>\n",
              "      <td>1.657890</td>\n",
              "      <td>2.322672</td>\n",
              "      <td>1.932618</td>\n",
              "    </tr>\n",
              "    <tr>\n",
              "      <th>13</th>\n",
              "      <td>1.377976</td>\n",
              "      <td>2.322120</td>\n",
              "      <td>1.906485</td>\n",
              "    </tr>\n",
              "    <tr>\n",
              "      <th>14</th>\n",
              "      <td>1.357432</td>\n",
              "      <td>2.321007</td>\n",
              "      <td>1.649491</td>\n",
              "    </tr>\n",
              "    <tr>\n",
              "      <th>15</th>\n",
              "      <td>0.950690</td>\n",
              "      <td>2.319717</td>\n",
              "      <td>1.516091</td>\n",
              "    </tr>\n",
              "    <tr>\n",
              "      <th>16</th>\n",
              "      <td>0.740613</td>\n",
              "      <td>2.318500</td>\n",
              "      <td>1.525275</td>\n",
              "    </tr>\n",
              "    <tr>\n",
              "      <th>17</th>\n",
              "      <td>0.698616</td>\n",
              "      <td>2.317491</td>\n",
              "      <td>1.321306</td>\n",
              "    </tr>\n",
              "    <tr>\n",
              "      <th>18</th>\n",
              "      <td>0.721070</td>\n",
              "      <td>2.316728</td>\n",
              "      <td>0.897234</td>\n",
              "    </tr>\n",
              "    <tr>\n",
              "      <th>19</th>\n",
              "      <td>0.737762</td>\n",
              "      <td>2.316204</td>\n",
              "      <td>0.772189</td>\n",
              "    </tr>\n",
              "    <tr>\n",
              "      <th>20</th>\n",
              "      <td>0.662764</td>\n",
              "      <td>2.315904</td>\n",
              "      <td>0.762286</td>\n",
              "    </tr>\n",
              "    <tr>\n",
              "      <th>21</th>\n",
              "      <td>0.637865</td>\n",
              "      <td>2.315805</td>\n",
              "      <td>0.624743</td>\n",
              "    </tr>\n",
              "    <tr>\n",
              "      <th>22</th>\n",
              "      <td>0.575616</td>\n",
              "      <td>2.315901</td>\n",
              "      <td>0.534591</td>\n",
              "    </tr>\n",
              "    <tr>\n",
              "      <th>23</th>\n",
              "      <td>0.610584</td>\n",
              "      <td>2.316177</td>\n",
              "      <td>0.545164</td>\n",
              "    </tr>\n",
              "    <tr>\n",
              "      <th>24</th>\n",
              "      <td>0.961801</td>\n",
              "      <td>2.316623</td>\n",
              "      <td>0.527321</td>\n",
              "    </tr>\n",
              "    <tr>\n",
              "      <th>25</th>\n",
              "      <td>1.129367</td>\n",
              "      <td>2.317226</td>\n",
              "      <td>1.325784</td>\n",
              "    </tr>\n",
              "    <tr>\n",
              "      <th>26</th>\n",
              "      <td>1.212833</td>\n",
              "      <td>2.317975</td>\n",
              "      <td>1.911076</td>\n",
              "    </tr>\n",
              "    <tr>\n",
              "      <th>27</th>\n",
              "      <td>1.260335</td>\n",
              "      <td>2.318859</td>\n",
              "      <td>1.893928</td>\n",
              "    </tr>\n",
              "    <tr>\n",
              "      <th>28</th>\n",
              "      <td>1.311367</td>\n",
              "      <td>2.319868</td>\n",
              "      <td>1.795284</td>\n",
              "    </tr>\n",
              "    <tr>\n",
              "      <th>29</th>\n",
              "      <td>1.328180</td>\n",
              "      <td>2.321002</td>\n",
              "      <td>1.672852</td>\n",
              "    </tr>\n",
              "    <tr>\n",
              "      <th>30</th>\n",
              "      <td>1.307206</td>\n",
              "      <td>2.322265</td>\n",
              "      <td>1.472459</td>\n",
              "    </tr>\n",
              "    <tr>\n",
              "      <th>31</th>\n",
              "      <td>1.268892</td>\n",
              "      <td>2.323664</td>\n",
              "      <td>1.437853</td>\n",
              "    </tr>\n",
              "    <tr>\n",
              "      <th>32</th>\n",
              "      <td>1.587275</td>\n",
              "      <td>2.325211</td>\n",
              "      <td>1.876634</td>\n",
              "    </tr>\n",
              "    <tr>\n",
              "      <th>33</th>\n",
              "      <td>1.651721</td>\n",
              "      <td>2.326916</td>\n",
              "      <td>1.357674</td>\n",
              "    </tr>\n",
              "    <tr>\n",
              "      <th>34</th>\n",
              "      <td>1.687820</td>\n",
              "      <td>2.328795</td>\n",
              "      <td>1.600639</td>\n",
              "    </tr>\n",
              "    <tr>\n",
              "      <th>35</th>\n",
              "      <td>1.698153</td>\n",
              "      <td>2.330856</td>\n",
              "      <td>2.057498</td>\n",
              "    </tr>\n",
              "    <tr>\n",
              "      <th>36</th>\n",
              "      <td>1.689844</td>\n",
              "      <td>2.333104</td>\n",
              "      <td>2.035456</td>\n",
              "    </tr>\n",
              "    <tr>\n",
              "      <th>37</th>\n",
              "      <td>1.672428</td>\n",
              "      <td>2.335536</td>\n",
              "      <td>1.953587</td>\n",
              "    </tr>\n",
              "    <tr>\n",
              "      <th>38</th>\n",
              "      <td>1.653713</td>\n",
              "      <td>2.338143</td>\n",
              "      <td>1.862148</td>\n",
              "    </tr>\n",
              "    <tr>\n",
              "      <th>39</th>\n",
              "      <td>1.640796</td>\n",
              "      <td>2.340909</td>\n",
              "      <td>2.006777</td>\n",
              "    </tr>\n",
              "    <tr>\n",
              "      <th>40</th>\n",
              "      <td>1.635403</td>\n",
              "      <td>2.343815</td>\n",
              "      <td>1.825182</td>\n",
              "    </tr>\n",
              "    <tr>\n",
              "      <th>41</th>\n",
              "      <td>1.639687</td>\n",
              "      <td>2.346837</td>\n",
              "      <td>1.759111</td>\n",
              "    </tr>\n",
              "    <tr>\n",
              "      <th>42</th>\n",
              "      <td>1.737310</td>\n",
              "      <td>2.349935</td>\n",
              "      <td>1.869628</td>\n",
              "    </tr>\n",
              "    <tr>\n",
              "      <th>43</th>\n",
              "      <td>1.726214</td>\n",
              "      <td>2.353071</td>\n",
              "      <td>1.840047</td>\n",
              "    </tr>\n",
              "    <tr>\n",
              "      <th>44</th>\n",
              "      <td>1.714748</td>\n",
              "      <td>2.356206</td>\n",
              "      <td>1.768150</td>\n",
              "    </tr>\n",
              "    <tr>\n",
              "      <th>45</th>\n",
              "      <td>1.705265</td>\n",
              "      <td>2.359304</td>\n",
              "      <td>1.929834</td>\n",
              "    </tr>\n",
              "    <tr>\n",
              "      <th>46</th>\n",
              "      <td>1.699707</td>\n",
              "      <td>2.362331</td>\n",
              "      <td>1.909029</td>\n",
              "    </tr>\n",
              "    <tr>\n",
              "      <th>47</th>\n",
              "      <td>1.699390</td>\n",
              "      <td>2.365256</td>\n",
              "      <td>1.900798</td>\n",
              "    </tr>\n",
              "    <tr>\n",
              "      <th>48</th>\n",
              "      <td>1.704903</td>\n",
              "      <td>2.368054</td>\n",
              "      <td>1.808059</td>\n",
              "    </tr>\n",
              "    <tr>\n",
              "      <th>49</th>\n",
              "      <td>1.716069</td>\n",
              "      <td>2.370700</td>\n",
              "      <td>1.796133</td>\n",
              "    </tr>\n",
              "  </tbody>\n",
              "</table>\n",
              "</div>"
            ],
            "text/plain": [
              "             lr_rmse  lasso_rmse  ridge_rmse\n",
              "poly_range                                  \n",
              "10          1.926541    2.320398    1.950333\n",
              "11          1.920644    2.322260    1.933155\n",
              "12          1.657890    2.322672    1.932618\n",
              "13          1.377976    2.322120    1.906485\n",
              "14          1.357432    2.321007    1.649491\n",
              "15          0.950690    2.319717    1.516091\n",
              "16          0.740613    2.318500    1.525275\n",
              "17          0.698616    2.317491    1.321306\n",
              "18          0.721070    2.316728    0.897234\n",
              "19          0.737762    2.316204    0.772189\n",
              "20          0.662764    2.315904    0.762286\n",
              "21          0.637865    2.315805    0.624743\n",
              "22          0.575616    2.315901    0.534591\n",
              "23          0.610584    2.316177    0.545164\n",
              "24          0.961801    2.316623    0.527321\n",
              "25          1.129367    2.317226    1.325784\n",
              "26          1.212833    2.317975    1.911076\n",
              "27          1.260335    2.318859    1.893928\n",
              "28          1.311367    2.319868    1.795284\n",
              "29          1.328180    2.321002    1.672852\n",
              "30          1.307206    2.322265    1.472459\n",
              "31          1.268892    2.323664    1.437853\n",
              "32          1.587275    2.325211    1.876634\n",
              "33          1.651721    2.326916    1.357674\n",
              "34          1.687820    2.328795    1.600639\n",
              "35          1.698153    2.330856    2.057498\n",
              "36          1.689844    2.333104    2.035456\n",
              "37          1.672428    2.335536    1.953587\n",
              "38          1.653713    2.338143    1.862148\n",
              "39          1.640796    2.340909    2.006777\n",
              "40          1.635403    2.343815    1.825182\n",
              "41          1.639687    2.346837    1.759111\n",
              "42          1.737310    2.349935    1.869628\n",
              "43          1.726214    2.353071    1.840047\n",
              "44          1.714748    2.356206    1.768150\n",
              "45          1.705265    2.359304    1.929834\n",
              "46          1.699707    2.362331    1.909029\n",
              "47          1.699390    2.365256    1.900798\n",
              "48          1.704903    2.368054    1.808059\n",
              "49          1.716069    2.370700    1.796133"
            ]
          },
          "metadata": {
            "tags": []
          },
          "execution_count": 5
        }
      ]
    },
    {
      "cell_type": "code",
      "metadata": {
        "id": "drFnOo4rmKHv",
        "colab_type": "code",
        "colab": {
          "base_uri": "https://localhost:8080/",
          "height": 212
        },
        "outputId": "f49f8c76-c7d3-40ff-fe7e-5062f5ae3289"
      },
      "source": [
        "print(df.min())\n",
        "df[\"ridge_rmse\"].sort_values().head()"
      ],
      "execution_count": 6,
      "outputs": [
        {
          "output_type": "stream",
          "text": [
            "lr_rmse       0.575616\n",
            "lasso_rmse    2.315805\n",
            "ridge_rmse    0.527321\n",
            "dtype: float64\n"
          ],
          "name": "stdout"
        },
        {
          "output_type": "execute_result",
          "data": {
            "text/plain": [
              "poly_range\n",
              "24    0.527321\n",
              "22    0.534591\n",
              "23    0.545164\n",
              "21    0.624743\n",
              "20    0.762286\n",
              "Name: ridge_rmse, dtype: float64"
            ]
          },
          "metadata": {
            "tags": []
          },
          "execution_count": 6
        }
      ]
    },
    {
      "cell_type": "code",
      "metadata": {
        "id": "bEB8zpZlmOfH",
        "colab_type": "code",
        "colab": {
          "base_uri": "https://localhost:8080/",
          "height": 264
        },
        "outputId": "e358b725-35a0-4814-bd8d-d7dd61429e06"
      },
      "source": [
        "poly_features = PolynomialFeatures(degree=22)\n",
        "X_poly = poly_features.fit_transform(X)\n",
        "ridge = Ridge(fit_intercept=False)\n",
        "ridge.fit(X_poly,y)\n",
        "\n",
        "f_x, f_y = f(1000)\n",
        "plt.plot(f_x, f_y)\n",
        "plt.scatter(X.flatten(), y.flatten(), s=3, c=\"black\")\n",
        "plt.plot(X.flatten(), ridge.predict(X_poly).flatten())\n",
        "plt.show()"
      ],
      "execution_count": 7,
      "outputs": [
        {
          "output_type": "display_data",
          "data": {
            "image/png": "[encoded data removed]",
            "text/plain": [
              "<Figure size 432x288 with 1 Axes>"
            ]
          },
          "metadata": {
            "tags": []
          }
        }
      ]
    }
  ]
}