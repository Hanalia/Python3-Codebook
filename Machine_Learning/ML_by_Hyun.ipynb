{
  "nbformat": 4,
  "nbformat_minor": 0,
  "metadata": {
    "colab": {
      "name": "Machine_learning_part.ipynb",
      "provenance": [],
      "collapsed_sections": [
        "aFbtD4uKrv3W",
        "g2jrKBzK7PZ8",
        "NjwDM4deM1V2",
        "toTWwIKsx8Ri",
        "NPd69rTc0sJb",
        "cpKSYEZYFMgd",
        "XqbLGgCqTwr8",
        "aFNrbmwwWcMP",
        "gTEdK2mn6fBk",
        "q2Q_WkdOaHqF",
        "FA2eofXEHNw0",
        "hf88nypWNXlO",
        "f1bGuT7XK9Jt",
        "hVCisNbZ9AmF",
        "gOzO9VKj9E-G",
        "J1GrLsHa9M5_",
        "RVZGnPXmn0Gs",
        "592LBZFKoWHT",
        "oXCo6vcWv-EG",
        "GwMzfX66ndvT",
        "_niQacgbZPlF",
        "N6CvgUU5kkvX",
        "fv3aapPouXm4",
        "XBqhuEbnugFM",
        "u6Ppo8GhRaCU",
        "Zu2H3HlgR75L",
        "RiEMrXR5Rgzi",
        "fW4SD0goRir5",
        "3TEB4Gp9SKaK",
        "FEItOgFcS3Iq",
        "LkShFY26KE3e",
        "-sxs7kF6P0PE",
        "NkNfAwhWs9Ft"
      ]
    },
    "kernelspec": {
      "name": "python3",
      "display_name": "Python 3"
    },
    "accelerator": "GPU"
  },
  "cells": [
    {
      "cell_type": "markdown",
      "metadata": {
        "id": "0fZgmZciDdxN",
        "colab_type": "text"
      },
      "source": [
        "----\n",
        "# ┗(•̀へ •́  )ﾉ  Hyun's Code collection \n",
        "----\n",
        "Authored by HyunWoo Jung"
      ]
    },
    {
      "cell_type": "markdown",
      "metadata": {
        "id": "kxeoB5YsDkK0",
        "colab_type": "text"
      },
      "source": [
        "# Machine learning description"
      ]
    },
    {
      "cell_type": "markdown",
      "metadata": {
        "id": "cMkljiUUC6EQ",
        "colab_type": "text"
      },
      "source": [
        "![123123](https://wordstream-files-prod.s3.amazonaws.com/s3fs-public/styles/simple_image/public/images/machine-learning1.png?SnePeroHk5B9yZaLY7peFkULrfW8Gtaf&itok=yjEJbEKD)\n"
      ]
    },
    {
      "cell_type": "markdown",
      "metadata": {
        "id": "aFbtD4uKrv3W",
        "colab_type": "text"
      },
      "source": [
        "# ┗(•̀へ •́  )ﾉ **이것만 돌리면 다 돌아간다~~~**"
      ]
    },
    {
      "cell_type": "code",
      "metadata": {
        "id": "gRO8gtPDrySn",
        "colab_type": "code",
        "colab": {}
      },
      "source": [
        "# 기본\n",
        "import numpy as np\n",
        "from numpy.linalg import inv\n",
        "from numpy.linalg import solve\n",
        "import random\n",
        "\n",
        "import pandas as pd\n",
        "from pandas import Series, DataFrame\n",
        "import pandas_profiling\n",
        "import openpyxl\n",
        "\n",
        "import matplotlib.pyplot as plt\n",
        "import urllib\n",
        "import matplotlib.dates as mdates\n",
        "from matplotlib.dates import bytespdate2num\n",
        "import matplotlib.ticker as ticker\n",
        "from matplotlib import font_manager, rc\n",
        "from matplotlib import style\n",
        "import seaborn as sns\n",
        "\n",
        "import itertools\n",
        "import re\n",
        "import warnings\n",
        "warnings.filterwarnings(\"ignore\")\n",
        "\n",
        "# 시계열 데이터 처리\n",
        "import calendar\n",
        "import dateutil\n",
        "from dateutil.parser import parse\n",
        "import datetime\n",
        "\n",
        "# Network 분석\n",
        "import networkx as nx\n",
        "\n",
        "# 지도시각화\n",
        "import folium\n",
        "from folium import plugins\n",
        "import html\n",
        "import json\n",
        "import geopy\n",
        "from geopy.geocoders import Nominatim\n",
        "import os\n",
        "import requests\n",
        "import ipywidgets\n",
        "from IPython.display import Image\n",
        "from ipywidgets import interact\n",
        "\n",
        "# Clustering\n",
        "from sklearn.cluster import KMeans\n",
        "from scipy.cluster.hierarchy import linkage, dendrogram\n",
        "\n",
        "# Factor analysis\n",
        "from factor_analyzer import FactorAnalyzer\n",
        "\n",
        "# Machine learning 용도\n",
        "from sklearn.preprocessing import StandardScaler, MinMaxScaler\n",
        "from sklearn.linear_model import LinearRegression\n",
        "from sklearn.model_selection import train_test_split\n",
        "from sklearn.metrics import r2_score\n",
        "from sklearn.model_selection import PredefinedSplit\n",
        "from sklearn.model_selection import GridSearchCV, ParameterGrid\n",
        "from sklearn.metrics import (roc_curve, auc, accuracy_score, roc_auc_score)\n",
        "from sklearn.cluster import KMeans\n",
        "from sklearn.decomposition import PCA\n",
        "from sklearn.metrics import silhouette_samples, silhouette_score\n",
        "from sklearn.preprocessing import OneHotEncoder,LabelEncoder\n",
        "from sklearn.preprocessing import StandardScaler\n",
        "from sklearn.preprocessing import MinMaxScaler\n",
        "from sklearn.preprocessing import RobustScaler\n",
        "from sklearn.datasets import make_blobs\n",
        "import scipy.cluster.hierarchy as shc\n",
        "from sklearn.cluster import AgglomerativeClustering\n",
        "from sklearn.metrics import classification_report\n",
        "from xgboost import XGBRegressor\n",
        "from catboost import CatBoostRegressor\n",
        "from sklearn.ensemble import AdaBoostRegressor, GradientBoostingRegressor\n",
        "from lightgbm import LGBMClassifier, LGBMRegressor\n",
        "import lightgbm as lgb\n",
        "\n",
        "# Wordcloud\n",
        "import konlpy\n",
        "from konlpy.tag import Okt\n",
        "import collections\n",
        "from collections import Counter\n",
        "from wordcloud import WordCloud, STOPWORDS as stopwords\n",
        "from PIL import Image, ImageFilter\n",
        "from wordcloud import ImageColorGenerator\n",
        "import pickle\n",
        "\n",
        "# 한글 사용하기\n",
        "import matplotlib.font_manager as fm\n",
        "from matplotlib import rc\n",
        "font_name = fm.FontProperties(fname=\"c:/Windows/Fonts/malgun.ttf\").get_name()\n",
        "rc('font', family=font_name)\n",
        "\n",
        "\n",
        "# 크롤링\n",
        "from selenium import webdriver\n",
        "import requests\n",
        "from bs4 import BeautifulSoup\n",
        "\n",
        "# 기타\n",
        "from urllib.request import urlopen\n",
        "from tqdm import tqdm\n",
        "import time\n",
        "\n",
        "from zeep import Client\n",
        "\n",
        "from collections import namedtuple\n",
        "import sqlite3\n",
        "\n",
        "# 한 번에 matplotlib 그림 띄우기\n",
        "%matplotlib inline    \n",
        "%config InlineBackend.figure_format = 'retina'  #%matplotlib 뒤에 써주면 그래프를 더 높은 해상도로 보여줌\n",
        "\n",
        "# 설정 관련\n",
        "pd.set_option('display.max_columns', None)\n",
        "pd.set_option('display.max_rows', None)"
      ],
      "execution_count": 0,
      "outputs": []
    },
    {
      "cell_type": "markdown",
      "metadata": {
        "id": "g2jrKBzK7PZ8",
        "colab_type": "text"
      },
      "source": [
        "# 0. Machine learning: Linear model"
      ]
    },
    {
      "cell_type": "code",
      "metadata": {
        "id": "3Pc99ussyDFQ",
        "colab_type": "code",
        "colab": {}
      },
      "source": [
        "from sklearn import linear_model\n",
        "from sklearn.metrics import mean_squared_error"
      ],
      "execution_count": 0,
      "outputs": []
    },
    {
      "cell_type": "markdown",
      "metadata": {
        "id": "NjwDM4deM1V2",
        "colab_type": "text"
      },
      "source": [
        "## >> K-fold cross validation\n",
        "\n",
        "`from sklearn.model_selection import KFold`\n",
        "\n",
        "- **KFold ( n_splits = , shuffle = True)**: KFold\n",
        "  - n_splits: 데이터를 몇 번 나눌꺼냐\n",
        "  - shuffle: 데이터를 나누기 전에 섞을건지"
      ]
    },
    {
      "cell_type": "code",
      "metadata": {
        "id": "8i7AH_8bNYTJ",
        "colab_type": "code",
        "colab": {}
      },
      "source": [
        "# Kfold 예시1\n",
        "from sklearn.linear_model import Lasso, Ridge\n",
        "from sklearn.metrics import mean_squared_error\n",
        "from sklearn.model_selection import KFold\n",
        "kf = KFold(n_splits=10)\n",
        "lasso_regressor = Lasso()\n",
        "ridge_regressor = Ridge()\n",
        "\n",
        "lasso_mse = []\n",
        "ridge_mse = []\n",
        "\n",
        "for train_index, test_index in kf.split(X):\n",
        "    lasso_regressor.fit(X[train_index], y[train_index])\n",
        "    ridge_regressor.fit(X[train_index], y[train_index])\n",
        "    \n",
        "    lasso_mse.append(mean_squared_error(y[test_index], lasso_regressor.predict(X[test_index])))\n",
        "    ridge_mse.append(mean_squared_error(y[test_index], ridge_regressor.predict(X[test_index])))\n",
        "    \n",
        "sum(lasso_mse) / 10, sum(ridge_mse) / 10\n",
        "\n",
        "################################################################################################################\n",
        "\n",
        "# Kfold 예시2\n",
        "from sklearn.model_selection import cross_val_score\n",
        "import numpy as np \n",
        "\n",
        "lasso_regressor = Lasso(warm_start=False)\n",
        "ridge_regressor = Ridge()\n",
        "\n",
        "lasso_scores = cross_val_score(lasso_regressor, X, y, cv=10, \n",
        "                               scoring='neg_mean_squared_error')\n",
        "ridge_scores= cross_val_score(ridge_regressor, X, y, cv=10, \n",
        "                              scoring='neg_mean_squared_error')\n",
        "# cv: 몇 번 돌릴 것이냐. cross-validation, scoring: 점수를 측정하는 기준\n",
        "np.mean(lasso_scores), np.mean(ridge_scores)"
      ],
      "execution_count": 0,
      "outputs": []
    },
    {
      "cell_type": "markdown",
      "metadata": {
        "id": "toTWwIKsx8Ri",
        "colab_type": "text"
      },
      "source": [
        "## >> Linear regression\n",
        "## Linear regression이란...\n",
        "- 선형회귀!\n",
        "- 가장 basic!\n",
        "- train data로 모델을 만들고, test data로 성능을 평가\n",
        "\n",
        "## 빈용 메소드 모음\n",
        "- **linear_model .LinearRegression ( fit_intercept = True , normalisze = True , copy_X = True , n_jobs = )**: 모델 만들어주기 \n",
        "  - fit_intercept: 상수항을 넣을지 말지\n",
        "  - normalize: 앞에서 scaling 해줬으면 굳이 또 안해줘도 됨\n",
        "  - n_jobs: CPU를 몇 개 쓸건지 지정할 수 있다\n",
        " - **linear_model .LinearRegression . fit ( X_train , y_train )**: fit 시켜주기\n",
        "   \n",
        "   **.coef_**: 계수를 반환   \n",
        "\n",
        "   **.intercept_**: y 절편을 반환\n",
        "   \n",
        "   **.predict ( X_test )**: : 예측하기\n",
        "- **mean_squared_error ( y_true , y_pred )**: MSE 추출하기\n",
        "- statsmodels를 이용해서 regression을 할 수도 있음"
      ]
    },
    {
      "cell_type": "code",
      "metadata": {
        "id": "5_k1yCotTCPx",
        "colab_type": "code",
        "colab": {}
      },
      "source": [
        "# statsmodels를 이용한 regression\n",
        "import statsmodels.api as sm\n",
        "model = sm.OLS(y_train, X_train)\n",
        "results = model.fit()\n",
        "results.summary()"
      ],
      "execution_count": 0,
      "outputs": []
    },
    {
      "cell_type": "code",
      "metadata": {
        "id": "_0Z5AwrhE6Za",
        "colab_type": "code",
        "colab": {}
      },
      "source": [
        "# Normal equation 예시1\n",
        "from sklearn.linear_model import LinearRegression\n",
        "lr_ne = LinearRegression(fit_intercept = True)\n",
        "\n",
        "from sklearn.model_selection import train_test_split\n",
        "X_train, X_test, y_train, y_test = train_test_split(X, y, test_size = 0.33, random_state=42)\n",
        "\n",
        "lr_ne.fit(X_train, y_train)\n",
        "\n",
        "y_hat = lr_ne.predict(X_test)\n",
        "y_true = y_test\n",
        "\n",
        "mse = sklearn.metris.mean_squared_error(y_hat, y_true)"
      ],
      "execution_count": 0,
      "outputs": []
    },
    {
      "cell_type": "markdown",
      "metadata": {
        "id": "NPd69rTc0sJb",
        "colab_type": "text"
      },
      "source": [
        "## >> GD, SGD, Ridge, Lasso\n",
        "\n",
        "## Gradient descent란...\n",
        "- 한 점에서 내려가면서 기존 값에서 계속 업데이트 해주면서 새로운 값을 적용해 최소값을 찾아내는 것\n",
        "\n",
        "## Stodchastic gradient descent란...\n",
        "- Gradient descent는 한 점을 잡고 그 점에서 내려가서 최소값을 찾는 방법이다.\n",
        "- 반면 Stochastic gradient descent는 x의 값을 돌아가면서 gradient를 구해서 지역 최적화에 빠지는 것을 최소화 한다.\n",
        "\n",
        "\n",
        "## **정규화를 쓰는 이유는 overfitting을 방지하기 위함이다.**\n",
        "## Ridge\n",
        "- regularization에서 L2 방법을 쓰는 것\n",
        "- Parameter를 제곱함으로써 정규화시킨다.\n",
        "\n",
        "## Lasso\n",
        "- regularization에서 L1 방법을 쓰는 것\n",
        "- Parameter에 절대값을 취함으로써 정규화시킨다.\n",
        "- Lasso를 쓰면 feature selection이 가능하다.\n",
        "\n",
        "## 빈용 메소드 모음\n",
        "- **linear_model .SGDRegressor ( n_iter = , loss = ’squared_loss ’, penalty = ’l2 ’,  alpha = 0.0001 , l1_ratio = 0.15 , fit_intercept = True , max_iter = 1000 , tol = 0.001 , shuffle = True , verbose = 0 , epsilon = 0.1 , random_state = None , learning_rate = ’optimal ’ , eta0 = 0.01 , power_t = 0.25 , early_stopping = False , validation_fraction = 0.1 , n_iter_no_change = 5 , warm_start = False , average = False )**: Stochastic gradient descent\n",
        "  - loss function: squared loss를 기본적으로 사용하면 된다.\n",
        "  - penalty: regularization 방법. L1, L2, elastic net\n",
        "  - alpha: L2 앞에 람다 값을 얼마로 설정해줄까. 이 값이 크면 클수록 regularization이 많이 되기 때문에 학습 데이터 값이 줄어든다.\n",
        "  - max_iter: number of epoch. epoch을 몇 번 돌껀가\n",
        "  - tol: 멈추는 기준\n",
        "  - shutffle: SGD이기 때문에 섞는다. False로 하면 Batch gradient descent가 되는 것\n",
        "  - learning_rate: 돌아갈 때마다 일정량 줄어들게 되는 것. 줄어드는 전략은 3개의 전략! constant, optimal, invscaling\n",
        "  - eta0: learning rate을 지정. 학습속도를 빠르게 하려면 eta를 올려주면 됨. \n",
        "  - warm_start: 잘 안 쓰기는 하는데 weight의 초기값을 지정해줄 수 있다. 초기값을 기반으로 예측!\n",
        "\n",
        "- **linear_model .LinearRegressionGD ( eta0 = , epochs = , batch-size = , shuffle = )**: gradient descent 만들기\n",
        "  - eta0: learning rate\n",
        "- 예시)\n",
        "\n",
        "  **linear_model .LinearRegressionGD ( eta0 = 0.001 , epochs = 10000 , batch-size = 1 , shuffle = False)**: Gradient descent\n",
        "  \n",
        "  **linear_model .LinearRegressionGD ( eta0 = 0.001 , epochs = 10000 , batch-size = len(X) , shuffle = False)**: Batch gradient descent\n",
        "  \n",
        "  **linear_model .LinearRegressionGD ( eta0 = 0.001 , epochs = 10000 , batch-size = 1 , shuffle = True)**: Stochasic gradient descent\n",
        "  \n",
        "  **linear_model .LinearRegressionGD ( eta0 = 0.001 , epochs = 10000 , batch-size = 100 , shuffle = True)**: Mini-batch stochasic gradient descent\n",
        "  \n",
        "- **linear_model .Lasso ( alpha = 1.0, fit_intercept = True , normalize = False , precompute = False , copy_X = True , max_iter = 1000 , tol = 0.0001 , warm_start = False , positive = False , random_state = None , selection = ’cyclic ’)**: Lasso\n",
        "\n",
        "- **linear_model.Ridge ( alpha = 1.0 , fit_intercept = True , normalize = False , copy_X = True , max_iter = None , tol = 0.001 , solver = ’auto ’, random_state = None )**: Ridge\n",
        "  - solver: auto로 하면 데이터를 보고서 fitting을 할 때 어떤 알고리즘을(normal equation, SGD) 알아서 찾아준다."
      ]
    },
    {
      "cell_type": "code",
      "metadata": {
        "id": "fLaZOHneYIit",
        "colab_type": "code",
        "colab": {}
      },
      "source": [
        "# Lasso 예시1\n",
        "ridge_reg = Ridge(alpha=1, solver=\"sag\", random_state=42)\n",
        "ridge_reg.fit(X, y)\n",
        "ridge_reg.predict([[1.5]])\n",
        "\n",
        "from sklearn.linear_model import ElasticNet\n",
        "elastic_net = ElasticNet(alpha=0.1, l1_ratio=0.5, random_state=42)\n",
        "elastic_net.fit(X, y)\n",
        "elastic_net.predict([[1.5]])"
      ],
      "execution_count": 0,
      "outputs": []
    },
    {
      "cell_type": "code",
      "metadata": {
        "id": "sSPI9HdpXsat",
        "colab_type": "code",
        "colab": {}
      },
      "source": [
        "# Ridge 예시1\n",
        "ridge_reg = Ridge(alpha=1, solver=\"cholesky\", random_state=42)\n",
        "ridge_reg.fit(X, y)\n",
        "ridge_reg.predict([[1.5]])\n",
        "\n",
        "ridge_reg = Ridge(alpha=1, solver=\"sag\", random_state=42)\n",
        "ridge_reg.fit(X, y)\n",
        "ridge_reg.predict([[1.5]])"
      ],
      "execution_count": 0,
      "outputs": []
    },
    {
      "cell_type": "code",
      "metadata": {
        "id": "DBvFAocp0sRk",
        "colab_type": "code",
        "colab": {}
      },
      "source": [
        "# 기본 Code\n",
        "for epoch in range(epoches):\n",
        "  X_copy = np.copy(X)\n",
        "  if is_SGD:\n",
        "    np.random.shuffle(X_copy)\n",
        "  batch = len(X_copy) // BATCH_SIZE\n",
        "  for batch_count in range(batch):\n",
        "    X_batch = np.copy(\n",
        "    X_copy[batch_count*BATCH_SIZE : (batch_count+1)*BATCH_SIZE])\n",
        "    # Do weight Update\n",
        "  print(\"Number of epoch : {}\".format(epoch))"
      ],
      "execution_count": 0,
      "outputs": []
    },
    {
      "cell_type": "code",
      "metadata": {
        "id": "p-6-RgkQKOxM",
        "colab_type": "code",
        "colab": {}
      },
      "source": [
        "# Stochastic gradient descent 예시1\n",
        "from sklearn.linear_model import SGDRegressor\n",
        "lr_SGD = SGDRegressor()\n",
        "\n",
        "from sklearn.preprocessing import StandardScaler\n",
        "std_scaler = StandardScaler()\n",
        "std_scaler.fit(X)\n",
        "X_scaled = std_scaler.transform(X)\n",
        "\n",
        "from sklearn.mode_selection import train_test_split\n",
        "X_train, X_test, y_train, y_test = train_test_split(X, y, test_size = 0.33, random_state=42)\n",
        "\n",
        "lr_SGD.fit(X_train, y_train)\n",
        "\n",
        "y_hat = lr_SGD.predict(X_test)\n",
        "y_true = y_test\n",
        "\n",
        "mse = sklearn.metrics.mean_squared_error(y_hat, y_true)\n",
        "rmse = np.sqrt((((y_hat - y_true)**2).sum() / len(y_true)))\n",
        "# rmse값이 엄청나게 커졌다는 것은 학습이 잘 안 되었다는 뜻! learning rate이 너무 크다거나 충분히 돌지 못했을 때 발생\n",
        "\n",
        "# scaled된 data로 돌리면\n",
        "X_train, X_test, y_train, y_test = train_test_split(X_scaled, y, test_size = 0.33, random_state=42)\n",
        "\n",
        "lr_SGD.fit(X_train, y_train)\n",
        "\n",
        "y_hat = lr_SGD.predict(X_test)\n",
        "y_true = y_test\n",
        "\n",
        "mse = sklearn.metrics.mean_squared_error(y_hat, y_true)\n",
        "rmse = np.sqrt((((y_hat - y_true)**2).sum() / len(y_true)))\n",
        "# rmse값이 안정적으로 나오게 된다. 즉 SGD regression을 할 때는 반드시 scaling을 해야 한다!"
      ],
      "execution_count": 0,
      "outputs": []
    },
    {
      "cell_type": "markdown",
      "metadata": {
        "id": "cpKSYEZYFMgd",
        "colab_type": "text"
      },
      "source": [
        "## >> Polynomial regression\n",
        "\n",
        "## Polynomial regression이란.....??\n",
        "- 1차식이 아닌 다항식! 비선형 관계 예측에 용이!\n",
        "\n",
        "## 빈용 메소드 모음\n",
        "- **PolynomialFeatures ( degree = )**: polynomial feature 만들어주기. degree가 2이면 제곱항까지 만들어줄 것을 의미\n",
        "- **PolynomialFeatures .fit_transform ( 데이터 )**: polynomial feature로 바꿔주기"
      ]
    },
    {
      "cell_type": "code",
      "metadata": {
        "id": "1bkc3rbdFYQm",
        "colab_type": "code",
        "outputId": "8eb78638-1f21-48d8-ae3c-3edf036f9bed",
        "colab": {
          "base_uri": "https://localhost:8080/",
          "height": 269
        }
      },
      "source": [
        "# 예시1 \n",
        "import numpy as np\n",
        "import matplotlib.pyplot as plt\n",
        "\n",
        "def f(size):\n",
        "    x = np.linspace(0, 5, size)\n",
        "    y = x * np.sin(x ** 2) + 1\n",
        "    return (x,y)\n",
        "\n",
        "def sample(size):\n",
        "    x = np.linspace(0, 5, size)\n",
        "    y = x * np.sin(x ** 2) + 1 + np.random.randn(x.size)*0.5\n",
        "    return (x,y)\n",
        "  \n",
        "  \n",
        "\n",
        "f_x, f_y = f(1000)\n",
        "plt.plot(f_x, f_y)\n",
        "X, y = sample(1000)\n",
        "plt.scatter(X, y, s=3, c=\"black\")\n",
        "plt.show()"
      ],
      "execution_count": 0,
      "outputs": [
        {
          "output_type": "display_data",
          "data": {
            "image/png": "[encoded data removed]",
            "text/plain": [
              "<Figure size 432x288 with 1 Axes>"
            ]
          },
          "metadata": {
            "tags": []
          }
        }
      ]
    },
    {
      "cell_type": "code",
      "metadata": {
        "id": "tOD2wfd_FYZg",
        "colab_type": "code",
        "outputId": "d1e68ea9-7fb1-47c6-8a5e-d3771e2fd6d8",
        "colab": {
          "base_uri": "https://localhost:8080/",
          "height": 269
        }
      },
      "source": [
        "# 예시1 \n",
        "X = X.reshape(-1,1)\n",
        "y = y.reshape(-1,1)\n",
        "X.shape, y.shape\n",
        "\n",
        "from sklearn.linear_model import LinearRegression\n",
        "\n",
        "lr = LinearRegression()\n",
        "lr.fit(X,y)\n",
        "\n",
        "f_x, f_y = f(1000)\n",
        "plt.plot(f_x, f_y)\n",
        "plt.scatter(X.flatten(), y.flatten(), s=3, c=\"black\")\n",
        "plt.plot(X.flatten(), lr.predict(X).flatten())\n",
        "plt.show()"
      ],
      "execution_count": 0,
      "outputs": [
        {
          "output_type": "display_data",
          "data": {
            "image/png": "[encoded data removed]",
            "text/plain": [
              "<Figure size 432x288 with 1 Axes>"
            ]
          },
          "metadata": {
            "tags": []
          }
        }
      ]
    },
    {
      "cell_type": "code",
      "metadata": {
        "id": "ZY7hL5dVFYgL",
        "colab_type": "code",
        "outputId": "b7adbcce-ca9e-4284-94f0-2988b80a1f28",
        "colab": {
          "base_uri": "https://localhost:8080/",
          "height": 269
        }
      },
      "source": [
        "# 예시1 \n",
        "from sklearn.preprocessing import PolynomialFeatures\n",
        "\n",
        "poly_features = PolynomialFeatures(degree=2)\n",
        "X_poly = poly_features.fit_transform(X)\n",
        "X_poly[:10]\n",
        "\n",
        "lr = LinearRegression(fit_intercept=False)\n",
        "lr.fit(X_poly,y)\n",
        "\n",
        "f_x, f_y = f(1000)\n",
        "plt.plot(f_x, f_y)\n",
        "plt.scatter(X.flatten(), y.flatten(), s=3, c=\"black\")\n",
        "plt.plot(X.flatten(), lr.predict(X_poly).flatten())\n",
        "plt.show()"
      ],
      "execution_count": 0,
      "outputs": [
        {
          "output_type": "display_data",
          "data": {
            "image/png": "[encoded data removed]",
            "text/plain": [
              "<Figure size 432x288 with 1 Axes>"
            ]
          },
          "metadata": {
            "tags": []
          }
        }
      ]
    },
    {
      "cell_type": "code",
      "metadata": {
        "id": "vVliZegCFYmB",
        "colab_type": "code",
        "outputId": "d9223c59-434a-40a0-b13a-c5da10bff174",
        "colab": {
          "base_uri": "https://localhost:8080/",
          "height": 269
        }
      },
      "source": [
        "# 예시1 \n",
        "poly_features = PolynomialFeatures(degree=16)\n",
        "X_poly = poly_features.fit_transform(X)\n",
        "X_poly[:3]\n",
        "\n",
        "lr = LinearRegression(fit_intercept=False)\n",
        "lr.fit(X_poly,y)\n",
        "f_x, f_y = f(1000)\n",
        "plt.plot(f_x, f_y)\n",
        "plt.scatter(X.flatten(), y.flatten(), s=3, c=\"black\")\n",
        "plt.plot(X.flatten(), lr.predict(X_poly).flatten())\n",
        "plt.show()"
      ],
      "execution_count": 0,
      "outputs": [
        {
          "output_type": "display_data",
          "data": {
            "image/png": "[encoded data removed]",
            "text/plain": [
              "<Figure size 432x288 with 1 Axes>"
            ]
          },
          "metadata": {
            "tags": []
          }
        }
      ]
    },
    {
      "cell_type": "code",
      "metadata": {
        "id": "xXcLfARPJQnn",
        "colab_type": "code",
        "outputId": "76d0eb29-b83b-44a2-881b-66ca7e475eca",
        "colab": {
          "base_uri": "https://localhost:8080/",
          "height": 1000
        }
      },
      "source": [
        "# 가장 적합한 모델 찾기\n",
        "# Linear regression, Ridge, Lasso 3개 중에서 10~49까지.\n",
        "\n",
        "def rmse(predictions, targets):\n",
        "    return np.sqrt(((predictions - targets) ** 2).mean())\n",
        "\n",
        "poly_range = list(range(10, 50))\n",
        "rmse_lr_list = []\n",
        "rmse_lasso_list = []\n",
        "rmse_ridge_list = []\n",
        "\n",
        "from sklearn.linear_model import Lasso\n",
        "from sklearn.linear_model import Ridge\n",
        "\n",
        "for poly_value in poly_range:\n",
        "    poly_features = PolynomialFeatures(degree=poly_value)\n",
        "    X_poly = poly_features.fit_transform(X)\n",
        "\n",
        "    lr = LinearRegression(fit_intercept=False)\n",
        "    lr.fit(X_poly,y)\n",
        "    rmse_lr_list.append(rmse(lr.predict(X_poly), y))\n",
        "\n",
        "    lasso = Lasso(fit_intercept=False)\n",
        "    lasso.fit(X_poly,y)\n",
        "    rmse_lasso_list.append(rmse(lasso.predict(X_poly), y))\n",
        "    \n",
        "    ridge = Ridge(fit_intercept=False)\n",
        "    ridge.fit(X_poly,y)\n",
        "    rmse_ridge_list.append(rmse(ridge.predict(X_poly), y))\n",
        "    \n",
        "import pandas as pd\n",
        "from pandas import DataFrame\n",
        "data = {\"poly_range\":poly_range, \"lr_rmse\":rmse_lr_list, \n",
        "        \"lasso_rmse\":rmse_lasso_list,\"ridge_rmse\":rmse_ridge_list}\n",
        "df = DataFrame(data).set_index(\"poly_range\")\n",
        "df"
      ],
      "execution_count": 0,
      "outputs": [
        {
          "output_type": "stream",
          "text": [
            "/usr/local/lib/python3.6/dist-packages/sklearn/linear_model/coordinate_descent.py:475: ConvergenceWarning: Objective did not converge. You might want to increase the number of iterations. Duality gap: 2400.2274159729322, tolerance: 0.5460943105172318\n",
            "  positive)\n",
            "/usr/local/lib/python3.6/dist-packages/sklearn/linear_model/coordinate_descent.py:475: ConvergenceWarning: Objective did not converge. You might want to increase the number of iterations. Duality gap: 2408.860136931154, tolerance: 0.5460943105172318\n",
            "  positive)\n",
            "/usr/local/lib/python3.6/dist-packages/sklearn/linear_model/ridge.py:147: LinAlgWarning: Ill-conditioned matrix (rcond=4.85543e-18): result may not be accurate.\n",
            "  overwrite_a=True).T\n",
            "/usr/local/lib/python3.6/dist-packages/sklearn/linear_model/coordinate_descent.py:475: ConvergenceWarning: Objective did not converge. You might want to increase the number of iterations. Duality gap: 2406.814493176081, tolerance: 0.5460943105172318\n",
            "  positive)\n",
            "/usr/local/lib/python3.6/dist-packages/sklearn/linear_model/ridge.py:147: LinAlgWarning: Ill-conditioned matrix (rcond=2.07148e-19): result may not be accurate.\n",
            "  overwrite_a=True).T\n",
            "/usr/local/lib/python3.6/dist-packages/sklearn/linear_model/coordinate_descent.py:475: ConvergenceWarning: Objective did not converge. You might want to increase the number of iterations. Duality gap: 2402.938722675943, tolerance: 0.5460943105172318\n",
            "  positive)\n",
            "/usr/local/lib/python3.6/dist-packages/sklearn/linear_model/ridge.py:147: LinAlgWarning: Ill-conditioned matrix (rcond=9.22947e-21): result may not be accurate.\n",
            "  overwrite_a=True).T\n",
            "/usr/local/lib/python3.6/dist-packages/sklearn/linear_model/coordinate_descent.py:475: ConvergenceWarning: Objective did not converge. You might want to increase the number of iterations. Duality gap: 2398.762715313102, tolerance: 0.5460943105172318\n",
            "  positive)\n",
            "/usr/local/lib/python3.6/dist-packages/sklearn/linear_model/ridge.py:147: LinAlgWarning: Ill-conditioned matrix (rcond=2.15421e-22): result may not be accurate.\n",
            "  overwrite_a=True).T\n",
            "/usr/local/lib/python3.6/dist-packages/sklearn/linear_model/coordinate_descent.py:475: ConvergenceWarning: Objective did not converge. You might want to increase the number of iterations. Duality gap: 2394.9091820664216, tolerance: 0.5460943105172318\n",
            "  positive)\n",
            "/usr/local/lib/python3.6/dist-packages/sklearn/linear_model/coordinate_descent.py:475: ConvergenceWarning: Objective did not converge. You might want to increase the number of iterations. Duality gap: 2391.718473870374, tolerance: 0.5460943105172318\n",
            "  positive)\n",
            "/usr/local/lib/python3.6/dist-packages/sklearn/linear_model/coordinate_descent.py:475: ConvergenceWarning: Objective did not converge. You might want to increase the number of iterations. Duality gap: 2389.3381059770322, tolerance: 0.5460943105172318\n",
            "  positive)\n",
            "/usr/local/lib/python3.6/dist-packages/sklearn/linear_model/coordinate_descent.py:475: ConvergenceWarning: Objective did not converge. You might want to increase the number of iterations. Duality gap: 2387.690911341347, tolerance: 0.5460943105172318\n",
            "  positive)\n",
            "/usr/local/lib/python3.6/dist-packages/sklearn/linear_model/coordinate_descent.py:475: ConvergenceWarning: Objective did not converge. You might want to increase the number of iterations. Duality gap: 2386.671628524939, tolerance: 0.5460943105172318\n",
            "  positive)\n",
            "/usr/local/lib/python3.6/dist-packages/sklearn/linear_model/coordinate_descent.py:475: ConvergenceWarning: Objective did not converge. You might want to increase the number of iterations. Duality gap: 2386.1385935420058, tolerance: 0.5460943105172318\n",
            "  positive)\n",
            "/usr/local/lib/python3.6/dist-packages/sklearn/linear_model/coordinate_descent.py:475: ConvergenceWarning: Objective did not converge. You might want to increase the number of iterations. Duality gap: 2385.9342262104087, tolerance: 0.5460943105172318\n",
            "  positive)\n",
            "/usr/local/lib/python3.6/dist-packages/sklearn/linear_model/coordinate_descent.py:475: ConvergenceWarning: Objective did not converge. You might want to increase the number of iterations. Duality gap: 2385.9188675623195, tolerance: 0.5460943105172318\n",
            "  positive)\n",
            "/usr/local/lib/python3.6/dist-packages/sklearn/linear_model/coordinate_descent.py:475: ConvergenceWarning: Objective did not converge. You might want to increase the number of iterations. Duality gap: 2385.9570286883027, tolerance: 0.5460943105172318\n",
            "  positive)\n",
            "/usr/local/lib/python3.6/dist-packages/sklearn/linear_model/coordinate_descent.py:475: ConvergenceWarning: Objective did not converge. You might want to increase the number of iterations. Duality gap: 2385.904513131973, tolerance: 0.5460943105172318\n",
            "  positive)\n",
            "/usr/local/lib/python3.6/dist-packages/sklearn/linear_model/coordinate_descent.py:475: ConvergenceWarning: Objective did not converge. You might want to increase the number of iterations. Duality gap: 2385.604616190699, tolerance: 0.5460943105172318\n",
            "  positive)\n",
            "/usr/local/lib/python3.6/dist-packages/sklearn/linear_model/coordinate_descent.py:475: ConvergenceWarning: Objective did not converge. You might want to increase the number of iterations. Duality gap: 2384.8907861095504, tolerance: 0.5460943105172318\n",
            "  positive)\n",
            "/usr/local/lib/python3.6/dist-packages/sklearn/linear_model/coordinate_descent.py:475: ConvergenceWarning: Objective did not converge. You might want to increase the number of iterations. Duality gap: 2383.6141005523655, tolerance: 0.5460943105172318\n",
            "  positive)\n",
            "/usr/local/lib/python3.6/dist-packages/sklearn/linear_model/coordinate_descent.py:475: ConvergenceWarning: Objective did not converge. You might want to increase the number of iterations. Duality gap: 2381.651282356998, tolerance: 0.5460943105172318\n",
            "  positive)\n",
            "/usr/local/lib/python3.6/dist-packages/sklearn/linear_model/coordinate_descent.py:475: ConvergenceWarning: Objective did not converge. You might want to increase the number of iterations. Duality gap: 2378.9120656118166, tolerance: 0.5460943105172318\n",
            "  positive)\n",
            "/usr/local/lib/python3.6/dist-packages/sklearn/linear_model/coordinate_descent.py:475: ConvergenceWarning: Objective did not converge. You might want to increase the number of iterations. Duality gap: 2375.345655953905, tolerance: 0.5460943105172318\n",
            "  positive)\n",
            "/usr/local/lib/python3.6/dist-packages/sklearn/linear_model/coordinate_descent.py:475: ConvergenceWarning: Objective did not converge. You might want to increase the number of iterations. Duality gap: 2370.9425900038946, tolerance: 0.5460943105172318\n",
            "  positive)\n",
            "/usr/local/lib/python3.6/dist-packages/sklearn/linear_model/coordinate_descent.py:475: ConvergenceWarning: Objective did not converge. You might want to increase the number of iterations. Duality gap: 2365.7665099254496, tolerance: 0.5460943105172318\n",
            "  positive)\n",
            "/usr/local/lib/python3.6/dist-packages/sklearn/linear_model/coordinate_descent.py:475: ConvergenceWarning: Objective did not converge. You might want to increase the number of iterations. Duality gap: 2359.8533302814426, tolerance: 0.5460943105172318\n",
            "  positive)\n",
            "/usr/local/lib/python3.6/dist-packages/sklearn/linear_model/coordinate_descent.py:475: ConvergenceWarning: Objective did not converge. You might want to increase the number of iterations. Duality gap: 2353.2842508210947, tolerance: 0.5460943105172318\n",
            "  positive)\n",
            "/usr/local/lib/python3.6/dist-packages/sklearn/linear_model/coordinate_descent.py:475: ConvergenceWarning: Objective did not converge. You might want to increase the number of iterations. Duality gap: 2346.1669905713147, tolerance: 0.5460943105172318\n",
            "  positive)\n",
            "/usr/local/lib/python3.6/dist-packages/sklearn/linear_model/coordinate_descent.py:475: ConvergenceWarning: Objective did not converge. You might want to increase the number of iterations. Duality gap: 2338.614675041863, tolerance: 0.5460943105172318\n",
            "  positive)\n",
            "/usr/local/lib/python3.6/dist-packages/sklearn/linear_model/coordinate_descent.py:475: ConvergenceWarning: Objective did not converge. You might want to increase the number of iterations. Duality gap: 2330.7488860849107, tolerance: 0.5460943105172318\n",
            "  positive)\n",
            "/usr/local/lib/python3.6/dist-packages/sklearn/linear_model/coordinate_descent.py:475: ConvergenceWarning: Objective did not converge. You might want to increase the number of iterations. Duality gap: 2322.689494365073, tolerance: 0.5460943105172318\n",
            "  positive)\n",
            "/usr/local/lib/python3.6/dist-packages/sklearn/linear_model/coordinate_descent.py:475: ConvergenceWarning: Objective did not converge. You might want to increase the number of iterations. Duality gap: 2314.5505459803635, tolerance: 0.5460943105172318\n",
            "  positive)\n",
            "/usr/local/lib/python3.6/dist-packages/sklearn/linear_model/coordinate_descent.py:475: ConvergenceWarning: Objective did not converge. You might want to increase the number of iterations. Duality gap: 2306.42694074406, tolerance: 0.5460943105172318\n",
            "  positive)\n",
            "/usr/local/lib/python3.6/dist-packages/sklearn/linear_model/coordinate_descent.py:475: ConvergenceWarning: Objective did not converge. You might want to increase the number of iterations. Duality gap: 2298.3891664050902, tolerance: 0.5460943105172318\n",
            "  positive)\n",
            "/usr/local/lib/python3.6/dist-packages/sklearn/linear_model/coordinate_descent.py:475: ConvergenceWarning: Objective did not converge. You might want to increase the number of iterations. Duality gap: 2290.5045562635332, tolerance: 0.5460943105172318\n",
            "  positive)\n",
            "/usr/local/lib/python3.6/dist-packages/sklearn/linear_model/coordinate_descent.py:475: ConvergenceWarning: Objective did not converge. You might want to increase the number of iterations. Duality gap: 2282.8371368945986, tolerance: 0.5460943105172318\n",
            "  positive)\n",
            "/usr/local/lib/python3.6/dist-packages/sklearn/linear_model/coordinate_descent.py:475: ConvergenceWarning: Objective did not converge. You might want to increase the number of iterations. Duality gap: 2275.440887931608, tolerance: 0.5460943105172318\n",
            "  positive)\n",
            "/usr/local/lib/python3.6/dist-packages/sklearn/linear_model/coordinate_descent.py:475: ConvergenceWarning: Objective did not converge. You might want to increase the number of iterations. Duality gap: 2268.3514187100423, tolerance: 0.5460943105172318\n",
            "  positive)\n",
            "/usr/local/lib/python3.6/dist-packages/sklearn/linear_model/coordinate_descent.py:475: ConvergenceWarning: Objective did not converge. You might want to increase the number of iterations. Duality gap: 2261.5967797637654, tolerance: 0.5460943105172318\n",
            "  positive)\n",
            "/usr/local/lib/python3.6/dist-packages/sklearn/linear_model/coordinate_descent.py:475: ConvergenceWarning: Objective did not converge. You might want to increase the number of iterations. Duality gap: 2255.1985930437354, tolerance: 0.5460943105172318\n",
            "  positive)\n",
            "/usr/local/lib/python3.6/dist-packages/sklearn/linear_model/coordinate_descent.py:475: ConvergenceWarning: Objective did not converge. You might want to increase the number of iterations. Duality gap: 2249.17202808088, tolerance: 0.5460943105172318\n",
            "  positive)\n",
            "/usr/local/lib/python3.6/dist-packages/sklearn/linear_model/coordinate_descent.py:475: ConvergenceWarning: Objective did not converge. You might want to increase the number of iterations. Duality gap: 2243.5177693269416, tolerance: 0.5460943105172318\n",
            "  positive)\n"
          ],
          "name": "stderr"
        },
        {
          "output_type": "execute_result",
          "data": {
            "text/html": [
              "<div>\n",
              "<style scoped>\n",
              "    .dataframe tbody tr th:only-of-type {\n",
              "        vertical-align: middle;\n",
              "    }\n",
              "\n",
              "    .dataframe tbody tr th {\n",
              "        vertical-align: top;\n",
              "    }\n",
              "\n",
              "    .dataframe thead th {\n",
              "        text-align: right;\n",
              "    }\n",
              "</style>\n",
              "<table border=\"1\" class=\"dataframe\">\n",
              "  <thead>\n",
              "    <tr style=\"text-align: right;\">\n",
              "      <th></th>\n",
              "      <th>lr_rmse</th>\n",
              "      <th>lasso_rmse</th>\n",
              "      <th>ridge_rmse</th>\n",
              "    </tr>\n",
              "    <tr>\n",
              "      <th>poly_range</th>\n",
              "      <th></th>\n",
              "      <th></th>\n",
              "      <th></th>\n",
              "    </tr>\n",
              "  </thead>\n",
              "  <tbody>\n",
              "    <tr>\n",
              "      <th>10</th>\n",
              "      <td>1.908540</td>\n",
              "      <td>2.294458</td>\n",
              "      <td>1.936648</td>\n",
              "    </tr>\n",
              "    <tr>\n",
              "      <th>11</th>\n",
              "      <td>1.899772</td>\n",
              "      <td>2.295308</td>\n",
              "      <td>1.917277</td>\n",
              "    </tr>\n",
              "    <tr>\n",
              "      <th>12</th>\n",
              "      <td>1.637873</td>\n",
              "      <td>2.295093</td>\n",
              "      <td>1.916812</td>\n",
              "    </tr>\n",
              "    <tr>\n",
              "      <th>13</th>\n",
              "      <td>1.365971</td>\n",
              "      <td>2.294353</td>\n",
              "      <td>1.890192</td>\n",
              "    </tr>\n",
              "    <tr>\n",
              "      <th>14</th>\n",
              "      <td>1.348537</td>\n",
              "      <td>2.293067</td>\n",
              "      <td>1.624377</td>\n",
              "    </tr>\n",
              "    <tr>\n",
              "      <th>15</th>\n",
              "      <td>0.927390</td>\n",
              "      <td>2.291625</td>\n",
              "      <td>1.493108</td>\n",
              "    </tr>\n",
              "    <tr>\n",
              "      <th>16</th>\n",
              "      <td>0.705838</td>\n",
              "      <td>2.290287</td>\n",
              "      <td>1.503377</td>\n",
              "    </tr>\n",
              "    <tr>\n",
              "      <th>17</th>\n",
              "      <td>0.663773</td>\n",
              "      <td>2.289180</td>\n",
              "      <td>1.295161</td>\n",
              "    </tr>\n",
              "    <tr>\n",
              "      <th>18</th>\n",
              "      <td>0.689606</td>\n",
              "      <td>2.288365</td>\n",
              "      <td>0.873456</td>\n",
              "    </tr>\n",
              "    <tr>\n",
              "      <th>19</th>\n",
              "      <td>0.715536</td>\n",
              "      <td>2.287834</td>\n",
              "      <td>0.743838</td>\n",
              "    </tr>\n",
              "    <tr>\n",
              "      <th>20</th>\n",
              "      <td>0.638875</td>\n",
              "      <td>2.287560</td>\n",
              "      <td>0.736622</td>\n",
              "    </tr>\n",
              "    <tr>\n",
              "      <th>21</th>\n",
              "      <td>0.620338</td>\n",
              "      <td>2.287534</td>\n",
              "      <td>0.602170</td>\n",
              "    </tr>\n",
              "    <tr>\n",
              "      <th>22</th>\n",
              "      <td>0.551585</td>\n",
              "      <td>2.287723</td>\n",
              "      <td>0.506790</td>\n",
              "    </tr>\n",
              "    <tr>\n",
              "      <th>23</th>\n",
              "      <td>0.580720</td>\n",
              "      <td>2.288106</td>\n",
              "      <td>0.518933</td>\n",
              "    </tr>\n",
              "    <tr>\n",
              "      <th>24</th>\n",
              "      <td>0.958716</td>\n",
              "      <td>2.288659</td>\n",
              "      <td>0.507277</td>\n",
              "    </tr>\n",
              "    <tr>\n",
              "      <th>25</th>\n",
              "      <td>1.129944</td>\n",
              "      <td>2.289355</td>\n",
              "      <td>1.328121</td>\n",
              "    </tr>\n",
              "    <tr>\n",
              "      <th>26</th>\n",
              "      <td>1.214223</td>\n",
              "      <td>2.290179</td>\n",
              "      <td>1.922024</td>\n",
              "    </tr>\n",
              "    <tr>\n",
              "      <th>27</th>\n",
              "      <td>1.261996</td>\n",
              "      <td>2.291117</td>\n",
              "      <td>1.904141</td>\n",
              "    </tr>\n",
              "    <tr>\n",
              "      <th>28</th>\n",
              "      <td>1.312890</td>\n",
              "      <td>2.292159</td>\n",
              "      <td>1.803441</td>\n",
              "    </tr>\n",
              "    <tr>\n",
              "      <th>29</th>\n",
              "      <td>1.329480</td>\n",
              "      <td>2.293303</td>\n",
              "      <td>1.684829</td>\n",
              "    </tr>\n",
              "    <tr>\n",
              "      <th>30</th>\n",
              "      <td>1.308079</td>\n",
              "      <td>2.294554</td>\n",
              "      <td>1.472639</td>\n",
              "    </tr>\n",
              "    <tr>\n",
              "      <th>31</th>\n",
              "      <td>1.269078</td>\n",
              "      <td>2.295922</td>\n",
              "      <td>1.439374</td>\n",
              "    </tr>\n",
              "    <tr>\n",
              "      <th>32</th>\n",
              "      <td>1.580647</td>\n",
              "      <td>2.297414</td>\n",
              "      <td>1.893259</td>\n",
              "    </tr>\n",
              "    <tr>\n",
              "      <th>33</th>\n",
              "      <td>1.642675</td>\n",
              "      <td>2.299051</td>\n",
              "      <td>1.356047</td>\n",
              "    </tr>\n",
              "    <tr>\n",
              "      <th>34</th>\n",
              "      <td>1.676980</td>\n",
              "      <td>2.300848</td>\n",
              "      <td>1.595102</td>\n",
              "    </tr>\n",
              "    <tr>\n",
              "      <th>35</th>\n",
              "      <td>1.686152</td>\n",
              "      <td>2.302812</td>\n",
              "      <td>2.042633</td>\n",
              "    </tr>\n",
              "    <tr>\n",
              "      <th>36</th>\n",
              "      <td>1.677191</td>\n",
              "      <td>2.304957</td>\n",
              "      <td>2.022744</td>\n",
              "    </tr>\n",
              "    <tr>\n",
              "      <th>37</th>\n",
              "      <td>1.659493</td>\n",
              "      <td>2.307280</td>\n",
              "      <td>1.935177</td>\n",
              "    </tr>\n",
              "    <tr>\n",
              "      <th>38</th>\n",
              "      <td>1.640727</td>\n",
              "      <td>2.309775</td>\n",
              "      <td>1.858802</td>\n",
              "    </tr>\n",
              "    <tr>\n",
              "      <th>39</th>\n",
              "      <td>1.627850</td>\n",
              "      <td>2.312426</td>\n",
              "      <td>2.048710</td>\n",
              "    </tr>\n",
              "    <tr>\n",
              "      <th>40</th>\n",
              "      <td>1.622207</td>\n",
              "      <td>2.315216</td>\n",
              "      <td>1.804566</td>\n",
              "    </tr>\n",
              "    <tr>\n",
              "      <th>41</th>\n",
              "      <td>1.626158</td>\n",
              "      <td>2.318121</td>\n",
              "      <td>1.747126</td>\n",
              "    </tr>\n",
              "    <tr>\n",
              "      <th>42</th>\n",
              "      <td>1.718984</td>\n",
              "      <td>2.321111</td>\n",
              "      <td>1.826398</td>\n",
              "    </tr>\n",
              "    <tr>\n",
              "      <th>43</th>\n",
              "      <td>1.707336</td>\n",
              "      <td>2.324146</td>\n",
              "      <td>1.834131</td>\n",
              "    </tr>\n",
              "    <tr>\n",
              "      <th>44</th>\n",
              "      <td>1.695689</td>\n",
              "      <td>2.327190</td>\n",
              "      <td>1.754053</td>\n",
              "    </tr>\n",
              "    <tr>\n",
              "      <th>45</th>\n",
              "      <td>1.686405</td>\n",
              "      <td>2.330204</td>\n",
              "      <td>1.903494</td>\n",
              "    </tr>\n",
              "    <tr>\n",
              "      <th>46</th>\n",
              "      <td>1.681409</td>\n",
              "      <td>2.333157</td>\n",
              "      <td>1.893880</td>\n",
              "    </tr>\n",
              "    <tr>\n",
              "      <th>47</th>\n",
              "      <td>1.681971</td>\n",
              "      <td>2.336016</td>\n",
              "      <td>1.843600</td>\n",
              "    </tr>\n",
              "    <tr>\n",
              "      <th>48</th>\n",
              "      <td>1.688615</td>\n",
              "      <td>2.338753</td>\n",
              "      <td>1.813920</td>\n",
              "    </tr>\n",
              "    <tr>\n",
              "      <th>49</th>\n",
              "      <td>1.701080</td>\n",
              "      <td>2.341338</td>\n",
              "      <td>1.781467</td>\n",
              "    </tr>\n",
              "  </tbody>\n",
              "</table>\n",
              "</div>"
            ],
            "text/plain": [
              "             lr_rmse  lasso_rmse  ridge_rmse\n",
              "poly_range                                  \n",
              "10          1.908540    2.294458    1.936648\n",
              "11          1.899772    2.295308    1.917277\n",
              "12          1.637873    2.295093    1.916812\n",
              "13          1.365971    2.294353    1.890192\n",
              "14          1.348537    2.293067    1.624377\n",
              "15          0.927390    2.291625    1.493108\n",
              "16          0.705838    2.290287    1.503377\n",
              "17          0.663773    2.289180    1.295161\n",
              "18          0.689606    2.288365    0.873456\n",
              "19          0.715536    2.287834    0.743838\n",
              "20          0.638875    2.287560    0.736622\n",
              "21          0.620338    2.287534    0.602170\n",
              "22          0.551585    2.287723    0.506790\n",
              "23          0.580720    2.288106    0.518933\n",
              "24          0.958716    2.288659    0.507277\n",
              "25          1.129944    2.289355    1.328121\n",
              "26          1.214223    2.290179    1.922024\n",
              "27          1.261996    2.291117    1.904141\n",
              "28          1.312890    2.292159    1.803441\n",
              "29          1.329480    2.293303    1.684829\n",
              "30          1.308079    2.294554    1.472639\n",
              "31          1.269078    2.295922    1.439374\n",
              "32          1.580647    2.297414    1.893259\n",
              "33          1.642675    2.299051    1.356047\n",
              "34          1.676980    2.300848    1.595102\n",
              "35          1.686152    2.302812    2.042633\n",
              "36          1.677191    2.304957    2.022744\n",
              "37          1.659493    2.307280    1.935177\n",
              "38          1.640727    2.309775    1.858802\n",
              "39          1.627850    2.312426    2.048710\n",
              "40          1.622207    2.315216    1.804566\n",
              "41          1.626158    2.318121    1.747126\n",
              "42          1.718984    2.321111    1.826398\n",
              "43          1.707336    2.324146    1.834131\n",
              "44          1.695689    2.327190    1.754053\n",
              "45          1.686405    2.330204    1.903494\n",
              "46          1.681409    2.333157    1.893880\n",
              "47          1.681971    2.336016    1.843600\n",
              "48          1.688615    2.338753    1.813920\n",
              "49          1.701080    2.341338    1.781467"
            ]
          },
          "metadata": {
            "tags": []
          },
          "execution_count": 10
        }
      ]
    },
    {
      "cell_type": "code",
      "metadata": {
        "id": "B8KqB9znKRJ9",
        "colab_type": "code",
        "outputId": "6a7d56a2-6166-43ba-f9f0-85da25ca9702",
        "colab": {
          "base_uri": "https://localhost:8080/",
          "height": 215
        }
      },
      "source": [
        "print(df.min())\n",
        "df[\"ridge_rmse\"].sort_values().head()"
      ],
      "execution_count": 0,
      "outputs": [
        {
          "output_type": "stream",
          "text": [
            "lr_rmse       0.551585\n",
            "lasso_rmse    2.287534\n",
            "ridge_rmse    0.506790\n",
            "dtype: float64\n"
          ],
          "name": "stdout"
        },
        {
          "output_type": "execute_result",
          "data": {
            "text/plain": [
              "poly_range\n",
              "22    0.506790\n",
              "24    0.507277\n",
              "23    0.518933\n",
              "21    0.602170\n",
              "20    0.736622\n",
              "Name: ridge_rmse, dtype: float64"
            ]
          },
          "metadata": {
            "tags": []
          },
          "execution_count": 14
        }
      ]
    },
    {
      "cell_type": "code",
      "metadata": {
        "id": "HcV8ulPbKdfq",
        "colab_type": "code",
        "outputId": "27a95635-ed58-406b-ec29-dac28ef87bc2",
        "colab": {
          "base_uri": "https://localhost:8080/",
          "height": 269
        }
      },
      "source": [
        "poly_features = PolynomialFeatures(degree=22)\n",
        "X_poly = poly_features.fit_transform(X)\n",
        "ridge = Ridge(fit_intercept=False)\n",
        "ridge.fit(X_poly,y)\n",
        "\n",
        "f_x, f_y = f(1000)\n",
        "plt.plot(f_x, f_y)\n",
        "plt.scatter(X.flatten(), y.flatten(), s=3, c=\"black\")\n",
        "plt.plot(X.flatten(), ridge.predict(X_poly).flatten())\n",
        "plt.show()"
      ],
      "execution_count": 0,
      "outputs": [
        {
          "output_type": "display_data",
          "data": {
            "image/png": "[encoded data removed]",
            "text/plain": [
              "<Figure size 432x288 with 1 Axes>"
            ]
          },
          "metadata": {
            "tags": []
          }
        }
      ]
    },
    {
      "cell_type": "markdown",
      "metadata": {
        "id": "XqbLGgCqTwr8",
        "colab_type": "text"
      },
      "source": [
        "## >> Logistic regression\n",
        "\n",
        "## Logistic regression이란.....??\n",
        "- binary 형태로 예측을 하는 regression\n",
        "\n",
        "## 빈용 메소드 모음\n",
        "- **PolynomialFeatures ( degree = )**: polynomial feature 만들어주기. degree가 2이면 제곱항까지 만들어줄 것을 의미\n",
        "- **PolynomialFeatures .fit_transform ( 데이터 )**: polynomial feature로 바꿔주기\n",
        "- statsmodels을 이용할 수도 있음"
      ]
    },
    {
      "cell_type": "code",
      "metadata": {
        "id": "upALragvUADK",
        "colab_type": "code",
        "colab": {}
      },
      "source": [
        "# Logistic regression 에시\n",
        "# 먼저 데이터를 반응변인과 예측변인으로 분리하기\n",
        "Y = (df['Status'] == 'Developed').astype(np.int) #'Developed'면 1, 아니면 0으로\n",
        "X = df.drop('Status', axis=1)\n",
        "\n",
        "# 예측변인과 반응변인을 train set과 test set으로 분리해 줍니다.\n",
        "X_train, X_test, y_train, y_test = train_test_split(X, Y, test_size=0.2)\n",
        "\n",
        "from sklearn.linear_model import LogisticRegression\n",
        "\n",
        "# 1. 먼저 모델을 만들어 줍니다.\n",
        "logReg = LogisticRegression()\n",
        "\n",
        "# 2. 모델 적합시킵니다.\n",
        "logReg.fit(X_train, y_train)\n",
        "\n",
        "# 3. 트레이닝셋과 테스트셋에서의 성능을 확인합니다. (이 경우 결정계수 R^2)\n",
        "print('Training R^2:', logReg.score(X_train, y_train))\n",
        "print('Test R^2: ', logReg.score(X_test, y_test))\n",
        "\n",
        "# 모델로부터 반응을 예측하고 accuracy, f1-score, confusion matrix를 구해봅시다.\n",
        "from sklearn.metrics import accuracy_score, f1_score, confusion_matrix\n",
        "y_pred = logReg.predict(X_test)\n",
        "print(\"Accuracy: %.2f\" %accuracy_score(y_test, y_pred))\n",
        "print(\"F1 score: %.2f\" %f1_score(y_test, y_pred))\n",
        "confusion_matrix(y_test, y_pred)"
      ],
      "execution_count": 0,
      "outputs": []
    },
    {
      "cell_type": "code",
      "metadata": {
        "id": "b1TfWMl1TwQz",
        "colab_type": "code",
        "colab": {}
      },
      "source": [
        "import statsmodels.api as sm\n",
        "model = sm.Logit(y_train, X_train)\n",
        "results = model.fit()\n",
        "results.summary()"
      ],
      "execution_count": 0,
      "outputs": []
    },
    {
      "cell_type": "markdown",
      "metadata": {
        "id": "aFNrbmwwWcMP",
        "colab_type": "text"
      },
      "source": [
        "## >> Softmax function\n",
        "\n",
        "## Softmax란??\n",
        "\n",
        "Logistic이 binary만 예측이 가능했다면 softmax는 여러 class를 예측할 수 있다."
      ]
    },
    {
      "cell_type": "code",
      "metadata": {
        "id": "yUsNgvTvWpVM",
        "colab_type": "code",
        "colab": {}
      },
      "source": [
        "# softmax regression 예시1\n",
        "X = iris[\"data\"][:, (2, 3)]  # petal length, petal width\n",
        "y = iris[\"target\"]\n",
        "\n",
        "softmax_reg = LogisticRegression(multi_class=\"multinomial\",solver=\"lbfgs\", C=10, random_state=42)\n",
        "softmax_reg.fit(X, y)\n",
        "\n",
        "x0, x1 = np.meshgrid(\n",
        "        np.linspace(0, 8, 500).reshape(-1, 1),\n",
        "        np.linspace(0, 3.5, 200).reshape(-1, 1),\n",
        "    )\n",
        "X_new = np.c_[x0.ravel(), x1.ravel()]\n",
        "\n",
        "\n",
        "y_proba = softmax_reg.predict_proba(X_new)\n",
        "y_predict = softmax_reg.predict(X_new)\n",
        "\n",
        "zz1 = y_proba[:, 1].reshape(x0.shape)\n",
        "zz = y_predict.reshape(x0.shape)\n",
        "\n",
        "plt.figure(figsize=(10, 4))\n",
        "plt.plot(X[y==2, 0], X[y==2, 1], \"g^\", label=\"Iris-Virginica\")\n",
        "plt.plot(X[y==1, 0], X[y==1, 1], \"bs\", label=\"Iris-Versicolor\")\n",
        "plt.plot(X[y==0, 0], X[y==0, 1], \"yo\", label=\"Iris-Setosa\")\n",
        "\n",
        "from matplotlib.colors import ListedColormap\n",
        "custom_cmap = ListedColormap(['#fafab0','#9898ff','#a0faa0'])\n",
        "\n",
        "plt.contourf(x0, x1, zz, cmap=custom_cmap)\n",
        "contour = plt.contour(x0, x1, zz1, cmap=plt.cm.brg)\n",
        "plt.clabel(contour, inline=1, fontsize=12)\n",
        "plt.xlabel(\"Petal length\", fontsize=14)\n",
        "plt.ylabel(\"Petal width\", fontsize=14)\n",
        "plt.legend(loc=\"center left\", fontsize=14)\n",
        "plt.axis([0, 7, 0, 3.5])\n",
        "save_fig(\"softmax_regression_contour_plot\")\n",
        "plt.show()\n",
        "\n",
        "# predict\n",
        "softmax_reg.predict([[5, 2]])\n",
        "\n",
        "# predict probability\n",
        "softmax_reg.predict_proba([[5, 2]])"
      ],
      "execution_count": 0,
      "outputs": []
    },
    {
      "cell_type": "markdown",
      "metadata": {
        "colab_type": "text",
        "id": "gTEdK2mn6fBk"
      },
      "source": [
        "# 0. Machine learning: Linear model (with Pytorch)"
      ]
    },
    {
      "cell_type": "code",
      "metadata": {
        "colab_type": "code",
        "id": "yv04oq_i6fBi",
        "colab": {}
      },
      "source": [
        "import torch\n",
        "import numpy as np"
      ],
      "execution_count": 0,
      "outputs": []
    },
    {
      "cell_type": "markdown",
      "metadata": {
        "colab_type": "text",
        "id": "YfPXOpIa6fBh"
      },
      "source": [
        "## 빈용 메소드 모음\n",
        "- **Basic**\n",
        "  - **torch .FloatTensor()** : matrix를 생성하는 메소드\n",
        "  - **.matmul( )** : 행렬간의 곱을 구해줌\n",
        "  - **.mul( )** : 행렬간의 사이즈를 늘려서 맞춘 다음 곱을 해줌\n",
        "\n",
        "    *: 같은 결과를 반환\n",
        "  - **.mul_()**: in-place operation. 기존 tensor를 변환시킨다.\n",
        "  - **.mean ( dim = )** : 평균을 구해줌. dimension을 선택해줄 수도 있음\n",
        "  - **.sum ( dim = )** : 합을 구해줌. dimension을 선택해줄 수도 있음\n",
        "  - **.max ( dim = )** : 최대값을 구해줌. dimension을 선택해줄 수도 있음\n",
        "  - **.max ( dim = )[ 1 ]**: argmax. 즉 최대값의 index를 반환해줌\n",
        "  - **.view ( )**: reshape과 비슷. 원하는 형태로 tensor를 바꿔줄 수 있다.\n",
        "  - **.squeeze ( )**: view와 비슷하나, dimension의 element의 개수가 1인 경우에 그 dimension을 없애준다.\n",
        "  - **.unsqueeze ( dim = )**: squeeze를 반대로 해줌. 원하는 dimension에 1을 넣어준다. 꼭 dimension을 명시해줘야 한다.\n",
        "  - **torch .ones_lie ( )** : 같은 사이즈이되 1로 찬 tensor를 반환\n",
        "  - **torch .zeros_lie ( )** : 같은 사이즈이되 0로 찬 tensor를 반환\n",
        "  \n",
        "- **Type Casting**\n",
        "   - **.Longtensor ( )** : int(?) 형태로 저장한다.\n",
        "   - **.ByteTensor ( )** : Boolean 형태로 저장한다.\n",
        "   - **.long ( )** : long tensor로 바꿔줌\n",
        "   - **.float ( )** : float tensor로 바꿔줌\n",
        "\n",
        "- **Concatenate, Stacking**\n",
        " - **torch .cat ( [ ,  ] , dim = )** : 2개의 tensor를 합쳐주는 방법\n",
        " - **torch . stack ( [ , ] , dim = )** : 쌓아라! list형태로 tensor를 쌓아라! dim은 어떻게 쌓을지를 말해준다."
      ]
    },
    {
      "cell_type": "code",
      "metadata": {
        "colab_type": "code",
        "outputId": "3dedba00-76a1-49b9-cca4-4d0ec0695fed",
        "id": "KLBidX-v6fBY",
        "colab": {
          "base_uri": "https://localhost:8080/",
          "height": 161
        }
      },
      "source": [
        "# in-place operation\n",
        "x = torch.FloatTensor([[1,2],[3,4]])\n",
        "print(x.mul(2.))\n",
        "print(x)\n",
        "print(x.mul_(2.))\n",
        "print(x)"
      ],
      "execution_count": 0,
      "outputs": [
        {
          "output_type": "stream",
          "text": [
            "tensor([[2., 4.],\n",
            "        [6., 8.]])\n",
            "tensor([[1., 2.],\n",
            "        [3., 4.]])\n",
            "tensor([[2., 4.],\n",
            "        [6., 8.]])\n",
            "tensor([[2., 4.],\n",
            "        [6., 8.]])\n"
          ],
          "name": "stdout"
        }
      ]
    },
    {
      "cell_type": "code",
      "metadata": {
        "colab_type": "code",
        "outputId": "45603a68-61e1-4ecb-dd7a-fa94768ccfd5",
        "id": "LH2di5iy6fBW",
        "colab": {
          "base_uri": "https://localhost:8080/",
          "height": 35
        }
      },
      "source": [
        "m1 = torch.FloatTensor([[3,3]])\n",
        "m2 = torch.FloatTensor([[2,2]])\n",
        "print(m1 + m2)"
      ],
      "execution_count": 0,
      "outputs": [
        {
          "output_type": "stream",
          "text": [
            "tensor([[5., 5.]])\n"
          ],
          "name": "stdout"
        }
      ]
    },
    {
      "cell_type": "code",
      "metadata": {
        "colab_type": "code",
        "outputId": "dddf62ac-884c-4700-b2a4-bbc11740854d",
        "id": "bxpyKGmD6fBS",
        "colab": {
          "base_uri": "https://localhost:8080/",
          "height": 53
        }
      },
      "source": [
        "# 사이즈가 맞지 않지만 차원을 알아서 늘려서 실행을 해준다.\n",
        "m1 = torch.FloatTensor([[1,2]])\n",
        "m2 = torch.FloatTensor([[3],[4]])\n",
        "print(m1+m2)"
      ],
      "execution_count": 0,
      "outputs": [
        {
          "output_type": "stream",
          "text": [
            "tensor([[4., 5.],\n",
            "        [5., 6.]])\n"
          ],
          "name": "stdout"
        }
      ]
    },
    {
      "cell_type": "code",
      "metadata": {
        "colab_type": "code",
        "outputId": "4671d164-6b38-4541-9c49-e1e52303c94f",
        "id": "T54o4pPo6fBO",
        "colab": {
          "base_uri": "https://localhost:8080/",
          "height": 125
        }
      },
      "source": [
        "# Multiplication vs Matrix Multiplication\n",
        "m1 = torch.FloatTensor([[1, 2],[3, 4]])\n",
        "m2 = torch.FloatTensor([[1],[2]])\n",
        "print(m1.matmul(m2))\n",
        "print(m1 * m2)\n",
        "print(m1.mul(m2))"
      ],
      "execution_count": 0,
      "outputs": [
        {
          "output_type": "stream",
          "text": [
            "tensor([[ 5.],\n",
            "        [11.]])\n",
            "tensor([[1., 2.],\n",
            "        [6., 8.]])\n",
            "tensor([[1., 2.],\n",
            "        [6., 8.]])\n"
          ],
          "name": "stdout"
        }
      ]
    },
    {
      "cell_type": "code",
      "metadata": {
        "colab_type": "code",
        "outputId": "24ca01ea-a23d-475f-caf8-a356db08513a",
        "id": "63FT8LNO6fBI",
        "colab": {
          "base_uri": "https://localhost:8080/",
          "height": 107
        }
      },
      "source": [
        "# .mean() 예시1\n",
        "t = torch.FloatTensor([1,2])\n",
        "print(t.mean())\n",
        "\n",
        "# .mean() 예시2\n",
        "t = torch.FloatTensor([[1,2],[3,4]])\n",
        "print(t.mean())\n",
        "print(t.mean(dim=0))\n",
        "print(t.mean(dim=1))\n",
        "print(t.mean(dim=-1))"
      ],
      "execution_count": 0,
      "outputs": [
        {
          "output_type": "stream",
          "text": [
            "tensor(1.5000)\n",
            "tensor(2.5000)\n",
            "tensor([2., 3.])\n",
            "tensor([1.5000, 3.5000])\n",
            "tensor([1.5000, 3.5000])\n"
          ],
          "name": "stdout"
        }
      ]
    },
    {
      "cell_type": "code",
      "metadata": {
        "colab_type": "code",
        "outputId": "f38cbe02-4c19-46d8-ac24-661fb8cf8b3a",
        "id": "ARunkFlH6fBC",
        "colab": {
          "base_uri": "https://localhost:8080/",
          "height": 89
        }
      },
      "source": [
        "print(t.sum())\n",
        "print(t.sum(dim=0))\n",
        "print(t.sum(dim=1))\n",
        "print(t.sum(dim=-1))"
      ],
      "execution_count": 0,
      "outputs": [
        {
          "output_type": "stream",
          "text": [
            "tensor(10.)\n",
            "tensor([4., 6.])\n",
            "tensor([3., 7.])\n",
            "tensor([3., 7.])\n"
          ],
          "name": "stdout"
        }
      ]
    },
    {
      "cell_type": "code",
      "metadata": {
        "colab_type": "code",
        "outputId": "9f9fcd97-a728-40c5-f785-a4a635983668",
        "id": "y-ncX52N6fA5",
        "colab": {
          "base_uri": "https://localhost:8080/",
          "height": 35
        }
      },
      "source": [
        "# argmax: 최대값의 index를 반환\n",
        "t = torch.FloatTensor([[1,2],[3,4]])\n",
        "print(t.max())"
      ],
      "execution_count": 0,
      "outputs": [
        {
          "output_type": "stream",
          "text": [
            "tensor(4.)\n"
          ],
          "name": "stdout"
        }
      ]
    },
    {
      "cell_type": "code",
      "metadata": {
        "colab_type": "code",
        "outputId": "e4ab220f-72bf-4414-df7d-3b70866e2c83",
        "id": "FIg9V_s56fAz",
        "colab": {
          "base_uri": "https://localhost:8080/",
          "height": 107
        }
      },
      "source": [
        "print(t.max(dim=0))\n",
        "print('Max: ',t.max(dim=0)[0])\n",
        "print('Argmax: ', t.max(dim=0)[1])"
      ],
      "execution_count": 0,
      "outputs": [
        {
          "output_type": "stream",
          "text": [
            "torch.return_types.max(\n",
            "values=tensor([3., 4.]),\n",
            "indices=tensor([1, 1]))\n",
            "Max:  tensor([3., 4.])\n",
            "Argmax:  tensor([1, 1])\n"
          ],
          "name": "stdout"
        }
      ]
    },
    {
      "cell_type": "code",
      "metadata": {
        "colab_type": "code",
        "outputId": "062a6a0e-a500-4c1f-e6d4-0fc400d6e182",
        "id": "ZeylQC7s6fAv",
        "colab": {
          "base_uri": "https://localhost:8080/",
          "height": 35
        }
      },
      "source": [
        "# view 예시 1\n",
        "t = np.array([[[0,1,2],\n",
        "               [3,4,5]],\n",
        "              \n",
        "              [[6,7,8],\n",
        "               [9,10,11]]])\n",
        "ft = torch.FloatTensor(t)\n",
        "ft.shape"
      ],
      "execution_count": 0,
      "outputs": [
        {
          "output_type": "execute_result",
          "data": {
            "text/plain": [
              "torch.Size([2, 2, 3])"
            ]
          },
          "metadata": {
            "tags": []
          },
          "execution_count": 12
        }
      ]
    },
    {
      "cell_type": "code",
      "metadata": {
        "colab_type": "code",
        "outputId": "9dc3da0d-f896-40f7-f7df-ab423fa9e86c",
        "id": "kCLR4hpa6fAo",
        "colab": {
          "base_uri": "https://localhost:8080/",
          "height": 107
        }
      },
      "source": [
        "print(ft.view([-1,3]))\n",
        "print(ft.view([-1,3]).shape)"
      ],
      "execution_count": 0,
      "outputs": [
        {
          "output_type": "stream",
          "text": [
            "tensor([[ 0.,  1.,  2.],\n",
            "        [ 3.,  4.,  5.],\n",
            "        [ 6.,  7.,  8.],\n",
            "        [ 9., 10., 11.]])\n",
            "torch.Size([4, 3])\n"
          ],
          "name": "stdout"
        }
      ]
    },
    {
      "cell_type": "code",
      "metadata": {
        "colab_type": "code",
        "outputId": "097734bc-1be9-471b-efda-a479392ca324",
        "id": "3dEroZjT6fAh",
        "colab": {
          "base_uri": "https://localhost:8080/",
          "height": 161
        }
      },
      "source": [
        "print(ft.view([-1,1,3]))\n",
        "print(ft.view([-1,1,3]).shape)"
      ],
      "execution_count": 0,
      "outputs": [
        {
          "output_type": "stream",
          "text": [
            "tensor([[[ 0.,  1.,  2.]],\n",
            "\n",
            "        [[ 3.,  4.,  5.]],\n",
            "\n",
            "        [[ 6.,  7.,  8.]],\n",
            "\n",
            "        [[ 9., 10., 11.]]])\n",
            "torch.Size([4, 1, 3])\n"
          ],
          "name": "stdout"
        }
      ]
    },
    {
      "cell_type": "code",
      "metadata": {
        "colab_type": "code",
        "outputId": "f1f7b935-770b-4d68-e2d8-404cffd15c6d",
        "id": "ObEoLjA26fAb",
        "colab": {
          "base_uri": "https://localhost:8080/",
          "height": 125
        }
      },
      "source": [
        "# .squeeze() 예시\n",
        "ft = torch.FloatTensor([[0], [1], [2]])\n",
        "print(ft)\n",
        "print(ft.shape)\n",
        "print(ft.squeeze())\n",
        "print(ft.squeeze().shape)"
      ],
      "execution_count": 0,
      "outputs": [
        {
          "output_type": "stream",
          "text": [
            "tensor([[0.],\n",
            "        [1.],\n",
            "        [2.]])\n",
            "torch.Size([3, 1])\n",
            "tensor([0., 1., 2.])\n",
            "torch.Size([3])\n"
          ],
          "name": "stdout"
        }
      ]
    },
    {
      "cell_type": "code",
      "metadata": {
        "colab_type": "code",
        "outputId": "f8230d28-7ae4-46df-f9a9-f4e77204f919",
        "id": "88wPLB-i6fAV",
        "colab": {
          "base_uri": "https://localhost:8080/",
          "height": 35
        }
      },
      "source": [
        "# .unsqueeze() 예시\n",
        "ft = torch.Tensor([0,1,2,])\n",
        "print(ft.shape)"
      ],
      "execution_count": 0,
      "outputs": [
        {
          "output_type": "stream",
          "text": [
            "torch.Size([3])\n"
          ],
          "name": "stdout"
        }
      ]
    },
    {
      "cell_type": "code",
      "metadata": {
        "colab_type": "code",
        "outputId": "30ab6d05-ca94-4384-9f47-ef34774afd4e",
        "id": "0hfVY0Zb6fAQ",
        "colab": {
          "base_uri": "https://localhost:8080/",
          "height": 53
        }
      },
      "source": [
        "print(ft.unsqueeze(dim = 0))\n",
        "print(ft.unsqueeze(0).shape)"
      ],
      "execution_count": 0,
      "outputs": [
        {
          "output_type": "stream",
          "text": [
            "tensor([[0., 1., 2.]])\n",
            "torch.Size([1, 3])\n"
          ],
          "name": "stdout"
        }
      ]
    },
    {
      "cell_type": "code",
      "metadata": {
        "colab_type": "code",
        "outputId": "a4850460-2ecd-4091-a57a-55595a374b03",
        "id": "vLmihUJH6fAJ",
        "colab": {
          "base_uri": "https://localhost:8080/",
          "height": 53
        }
      },
      "source": [
        "print(ft.view(1,-1))\n",
        "print(ft.view(1,-1).shape)"
      ],
      "execution_count": 0,
      "outputs": [
        {
          "output_type": "stream",
          "text": [
            "tensor([[0., 1., 2.]])\n",
            "torch.Size([1, 3])\n"
          ],
          "name": "stdout"
        }
      ]
    },
    {
      "cell_type": "code",
      "metadata": {
        "colab_type": "code",
        "outputId": "47c8ddc2-5377-4b5d-9318-5d2a33eebebb",
        "id": "CbHLway36fAB",
        "colab": {
          "base_uri": "https://localhost:8080/",
          "height": 89
        }
      },
      "source": [
        "print(ft.unsqueeze(1))\n",
        "print(ft.unsqueeze(1).shape)"
      ],
      "execution_count": 0,
      "outputs": [
        {
          "output_type": "stream",
          "text": [
            "tensor([[0.],\n",
            "        [1.],\n",
            "        [2.]])\n",
            "torch.Size([3, 1])\n"
          ],
          "name": "stdout"
        }
      ]
    },
    {
      "cell_type": "code",
      "metadata": {
        "colab_type": "code",
        "outputId": "2866f192-7c30-4dce-9ad9-c14b7dedb018",
        "id": "BTzknNLQ6e_-",
        "colab": {
          "base_uri": "https://localhost:8080/",
          "height": 89
        }
      },
      "source": [
        "print(ft.unsqueeze(-1))\n",
        "print(ft.unsqueeze(-1).shape)"
      ],
      "execution_count": 0,
      "outputs": [
        {
          "output_type": "stream",
          "text": [
            "tensor([[0.],\n",
            "        [1.],\n",
            "        [2.]])\n",
            "torch.Size([3, 1])\n"
          ],
          "name": "stdout"
        }
      ]
    },
    {
      "cell_type": "code",
      "metadata": {
        "colab_type": "code",
        "outputId": "7e1fc330-c995-4def-fe36-c44e8fa88879",
        "id": "_TkqXGHT6e_w",
        "colab": {
          "base_uri": "https://localhost:8080/",
          "height": 125
        }
      },
      "source": [
        "# concat, .cat() 예시\n",
        "x = torch.FloatTensor([[1,2], [3,4]])\n",
        "y = torch.FloatTensor([[5,6], [7,8]])\n",
        "print(torch.cat([x,y],dim=0))\n",
        "print(torch.cat([x,y],dim=1))"
      ],
      "execution_count": 0,
      "outputs": [
        {
          "output_type": "stream",
          "text": [
            "tensor([[1., 2.],\n",
            "        [3., 4.],\n",
            "        [5., 6.],\n",
            "        [7., 8.]])\n",
            "tensor([[1., 2., 5., 6.],\n",
            "        [3., 4., 7., 8.]])\n"
          ],
          "name": "stdout"
        }
      ]
    },
    {
      "cell_type": "code",
      "metadata": {
        "colab_type": "code",
        "outputId": "d386dbce-7d79-4c5a-c198-df300fdae2d0",
        "id": "-v_XDhEo6e_m",
        "colab": {
          "base_uri": "https://localhost:8080/",
          "height": 161
        }
      },
      "source": [
        "# .stack() 예시\n",
        "x = torch.FloatTensor([1,4])\n",
        "y = torch.FloatTensor([2,5])\n",
        "z = torch.FloatTensor([3,6])\n",
        "print(torch.stack([x,y,z]))\n",
        "print(torch.stack([x,y,z], dim=1))\n",
        "print(torch.cat([x.unsqueeze(0),y.unsqueeze(0),z.unsqueeze(0)], dim=0))"
      ],
      "execution_count": 0,
      "outputs": [
        {
          "output_type": "stream",
          "text": [
            "tensor([[1., 4.],\n",
            "        [2., 5.],\n",
            "        [3., 6.]])\n",
            "tensor([[1., 2., 3.],\n",
            "        [4., 5., 6.]])\n",
            "tensor([[1., 4.],\n",
            "        [2., 5.],\n",
            "        [3., 6.]])\n"
          ],
          "name": "stdout"
        }
      ]
    },
    {
      "cell_type": "code",
      "metadata": {
        "colab_type": "code",
        "outputId": "9631789f-c587-494c-9816-514933fa34a7",
        "id": "ul1w9HVY6e_f",
        "colab": {
          "base_uri": "https://localhost:8080/",
          "height": 125
        }
      },
      "source": [
        "# .ones_like(), .zeros_like() 예시\n",
        "x = torch.FloatTensor([[0,1,2],[2,1,0]])\n",
        "print(x)\n",
        "print(torch.ones_like(x))\n",
        "print(torch.zeros_like(x))"
      ],
      "execution_count": 0,
      "outputs": [
        {
          "output_type": "stream",
          "text": [
            "tensor([[0., 1., 2.],\n",
            "        [2., 1., 0.]])\n",
            "tensor([[1., 1., 1.],\n",
            "        [1., 1., 1.]])\n",
            "tensor([[0., 0., 0.],\n",
            "        [0., 0., 0.]])\n"
          ],
          "name": "stdout"
        }
      ]
    },
    {
      "cell_type": "markdown",
      "metadata": {
        "colab_type": "text",
        "id": "rqjDn-746e_d"
      },
      "source": [
        "## Linear Regression with Pytorch\n",
        "- Basic\n",
        "  - **torch .zeros ( , requires_grad = True )** : 초기화 시킬 때 사용, requires_grad=True는 학습할 것이라고 pytorch에게 명시하는 것  \n",
        "- **torch.optim**: 모델을 개선시킬 때 사용하는 라이브러리\n",
        "  - **opotim.SGD( [ , ], lr = )** : Stochastic gradient descent를 사용하기\n",
        "  - **zero_grad ( )**: gradient를 초기화\n",
        "  - **backward ( )**: gradient를 계산\n",
        "  - **step ( )**: 개선된 gradient의 방향대로 W(weight), b(bias)를 개선한다."
      ]
    },
    {
      "cell_type": "code",
      "metadata": {
        "colab_type": "code",
        "id": "1PQ47scB6e_U",
        "colab": {}
      },
      "source": [
        "import torch.optim as optim"
      ],
      "execution_count": 0,
      "outputs": []
    },
    {
      "cell_type": "code",
      "metadata": {
        "colab_type": "code",
        "id": "oX4FE47Q6e_P",
        "colab": {}
      },
      "source": [
        "## Linear regression 예시\n",
        "# x: 공부시간, y: 시험성적\n",
        "x_train = torch.FloatTensor([[1],[2],[3]])\n",
        "y_train = torch.FloatTensor([[2],[4],[6]])\n",
        "\n",
        "# hypothesis를 설정하기\n",
        "W = torch.zeros(1, requires_grad=True)\n",
        "b = torch.zeros(1, requires_grad=True)\n",
        "\n",
        "optimizer = optim.SGD([W,b], lr = 0.01)\n",
        "\n",
        "nb_epochs = 1000\n",
        "for epoch in range(1, nb_epochs+1):\n",
        "  hypothesis = x_train*W + b\n",
        "  # cost 구하기\n",
        "  cost = torch.mean((hypothesis - y_train)**2)\n",
        "  \n",
        "  # 모델 개선 by.stochastic gradient descent\n",
        "  optimizer.zero_grad()    # hypothesis 예측\n",
        "  cost.backward()    # Cost 계산\n",
        "  optimizer.step()    # optimizer로 학습"
      ],
      "execution_count": 0,
      "outputs": []
    },
    {
      "cell_type": "markdown",
      "metadata": {
        "colab_type": "text",
        "id": "mT9PWpxM6e_O"
      },
      "source": [
        "## Gradient Descent with Pytorch\n",
        "- Basic\n",
        "  - **torch .zeros ( , requires_grad = True )** : 초기화 시킬 때 사용, requires_grad=True는 학습할 것이라고 pytorch에게 명시하는 것  \n",
        "- **torch.optim**: 모델을 개선시킬 때 사용하는 라이브러리\n",
        "  - **opotim.SGD( [ , ], lr = )** : Stochastic gradient descent를 사용하기\n",
        "  - **zero_grad ( )**: gradient를 초기화\n",
        "  - **backward ( )**: gradient를 계산\n",
        "  - **step ( )**: 개선된 gradient의 방향대로 W(weight), b(bias)를 개선한다."
      ]
    },
    {
      "cell_type": "code",
      "metadata": {
        "colab_type": "code",
        "id": "84Hglysp6e_J",
        "colab": {}
      },
      "source": [
        "## Gradient Descent 예시\n",
        "# 데이터\n",
        "x_train = torch.FloatTensor([[1],[2],[3]])\n",
        "y_train = torch.FloatTensor([[1],[2],[3]])\n",
        "\n",
        "# 모델 초기화\n",
        "W = torch.zeros(1, requires_grad  = True)\n",
        "# optimizer 설정\n",
        "optimizer = optim.SGD([W], lr=0.15)\n",
        "\n",
        "nb_epochs = 10\n",
        "for epoch in range(nb_epochs + 1):\n",
        "\n",
        "  # H(x) 계산\n",
        "  hypothesis = x_train * W\n",
        "\n",
        "  # cost 계산\n",
        "  cost = torch.mean((hypothesis - y_train)**2)\n",
        "\n",
        "  print('Epoch {:4d}/{} W: {:.3f} Cost: {;.6f}'.format(epoch, nb_epochs, W.titem(),cost.item()))\n",
        "\n",
        "  # cost로 H(x) 개선\n",
        "  optimizer.zero_grad()\n",
        "  cost.backward()\n",
        "  optimizer.step()"
      ],
      "execution_count": 0,
      "outputs": []
    },
    {
      "cell_type": "markdown",
      "metadata": {
        "colab_type": "text",
        "id": "vg6i6rTL6e_F"
      },
      "source": [
        "## Multivariate Linear Regression  with Pytorch\n",
        "- Basic\n",
        "  - **.matmul ( )** : x의 길이가 바뀌어도 코드를 바꿀 필요가 없고 속도도 더 빠르다."
      ]
    },
    {
      "cell_type": "code",
      "metadata": {
        "colab_type": "code",
        "id": "pU1TZqmZ6e-_",
        "colab": {}
      },
      "source": [
        "## Multivariate linear regression 예시\n",
        "# 데이터\n",
        "x_train = torch.FloatTensor([73, 80, 75],\n",
        "                            [93, 88, 93],\n",
        "                            [89, 91, 90],\n",
        "                            [96, 98, 100],\n",
        "                            [73, 66, 70])\n",
        "y_train = torch.FloatTensor([[152],[180],[196],[142]])\n",
        "\n",
        "# 모델 초기화\n",
        "W = torch.zeros((3,1), requires_grad = True)\n",
        "b = torch.zeros(1, requires_grad = True)\n",
        "\n",
        "# optimizer 설정\n",
        "optimizer = optim.SGD([W, b], lr=le-5)\n",
        "\n",
        "nb_epochs = 20\n",
        "for epoch in range(nb_epochs + 1):\n",
        "\n",
        "  # H(x) 계산\n",
        "  hypothesis = x_train.matmul(W) + b\n",
        "\n",
        "  # cost 계산\n",
        "  cost = torch.mean((hypothesis - y_train)**2)\n",
        "\n",
        "  # cost로 H(x) 개선\n",
        "  optimizer.zero_grad()\n",
        "  cost.backward()\n",
        "  optimizer.step()\n",
        "\n",
        "  print('Epoch {:4d}/{} W: {:.3f} Cost: {;.6f}'.format(epoch, nb_epochs, W.titem(),cost.item()))"
      ],
      "execution_count": 0,
      "outputs": []
    },
    {
      "cell_type": "code",
      "metadata": {
        "colab_type": "code",
        "id": "H8il_7gI6e-2",
        "colab": {}
      },
      "source": [
        ""
      ],
      "execution_count": 0,
      "outputs": []
    },
    {
      "cell_type": "markdown",
      "metadata": {
        "id": "q2Q_WkdOaHqF",
        "colab_type": "text"
      },
      "source": [
        "# 0. Machine learning: Loss function, Fitting, Validation, Model evaluation"
      ]
    },
    {
      "cell_type": "markdown",
      "metadata": {
        "id": "p54mqIekrI7k",
        "colab_type": "text"
      },
      "source": [
        "## Loss function vs Cost function vx Objective function"
      ]
    },
    {
      "cell_type": "markdown",
      "metadata": {
        "id": "EQXxBFYZrMXv",
        "colab_type": "text"
      },
      "source": [
        "\n",
        "![123123](https://postfiles.pstatic.net/MjAxODEwMjdfMjQ4/MDAxNTQwNjQxMDM2Nzk2.BBIktuYfZGDOltDPfnFZtGtGyAytqArZhHrc2uh2vCMg.Amk9px-LZyU2cH9WTmHwv_NA38VsVtgtV49FRbhRnX0g.PNG.qbxlvnf11/20181027_205024.png?type=w773)\n",
        "- Loss function은 data point! single data set을 다룬다는 느낌이다!\n",
        "\n",
        "![123123](https://postfiles.pstatic.net/MjAxODEwMjdfMTI3/MDAxNTQwNjQxMzQ3NDIy.Ud2tujcppuIOyhBsUgdf1X3eu9Ea-6K2zZfdqONRLiAg.RcUTI8Da51xFVHWXMsJsEjAJ_tTo6IaFoddR4MACVIgg.PNG.qbxlvnf11/20181027_205501.png?type=w773)\n",
        "- Cost function은 loss function의 합이다. 즉 entire data set을 다루는 것이다.\n",
        "- 순간순간의 loss를 판단할 땐 loss function, 학습이 완료된 후에는 cost function!\n",
        "\n",
        "![123123](https://postfiles.pstatic.net/MjAxODEwMjdfMjM1/MDAxNTQwNjQxMzQ3NDU2.cpPY6GJ0oeJLiz4h_Xs3pKVuv5V5f32aHSfbfX_rsEgg.a2QE606kUdtjPVt2JBlbpB4ZtgQST06b1dZN9KqOnSkg.PNG.qbxlvnf11/20181027_205532.png?type=w773)\n",
        "- 총 정리\n",
        "  - A loss function **is a part of** a cost function **which is a type of** an objective function!!!"
      ]
    },
    {
      "cell_type": "markdown",
      "metadata": {
        "id": "rawrOgibaMlA",
        "colab_type": "text"
      },
      "source": [
        "## 과대적합(Overfitting)과 과소적합(Underfitting)\n"
      ]
    },
    {
      "cell_type": "markdown",
      "metadata": {
        "id": "07yTtSLzaT2S",
        "colab_type": "text"
      },
      "source": [
        "**과대적합(Overfitting)**은 모델이 Train Dataset에 너무 잘 맞아서 일반성이 떨어지게 되는 문제입니다. 즉 Train Dataset을 너무 과하게 학습해 학습되지 않은 데이터가 들어오면 분류하지 못하게 되는 문제를 일으킵니다. 아래 그림의 오른쪽 그림들이 과대적합의 예시라고 할 수 있습니다. 보시다시피 Train Set을 거의 다 거치거나 분류해내며 굉장히 높은 성능을 보여주고 있지만, 새로운 변수에 대응하기 어렵습니다.\n",
        "<br>\n",
        "**과소적합(Underfitting)**은 반대의 개념이라고 할 수 있습니다. 모델이 너무 단순해서 데이터의 내재된 구조를 학습하지 못할 때 발생하는 것입니다. 아래의 왼쪽 그림을 보시면 쉽게 이해할 수 있을 것입니다.\n",
        "<br>\n",
        "![123123](https://mblogthumb-phinf.pstatic.net/MjAxODA3MzBfMjMy/MDAxNTMyODkwNjUxMjY4.H_ocFIRFaG8MWrBsv8BWrTCaAMGLMKZZUh_Rd1krRLog.HAZRdDtrQMvVGKiEWfGls8bm0EhTyRKf7XzoSY1Cibsg.JPEG.qbxlvnf11/maxresdefault.jpg?type=w800)"
      ]
    },
    {
      "cell_type": "markdown",
      "metadata": {
        "id": "Vq59BZ8taV87",
        "colab_type": "text"
      },
      "source": [
        "## Bias와 Variance"
      ]
    },
    {
      "cell_type": "markdown",
      "metadata": {
        "id": "zkJDU95VaZFz",
        "colab_type": "text"
      },
      "source": [
        "위에 설명한 과대적합과 과소적합을 극복하기 위해 간단히 bias와 variance의 개념을 살펴봅시다.\n",
        "\n",
        "![bias](https://img1.daumcdn.net/thumb/R1280x0/?scode=mtistory2&fname=http%3A%2F%2Fcfile9.uf.tistory.com%2Fimage%2F99CDCC33599AC28F075E3C)\n",
        "\n",
        "Bias는 실제 값에서 멀어진 척도, Variance는 예측된 값들이 서로 얼마나 멀리 떨어져 있는지에 대한 척도로 보시면 되겠습니다. \n",
        "우리의 목표는 당연히 Bias도 낮고, Variance도 낮게, 즉 모두 정확하게 예측하는 왼쪽 위의 그림입니다. Overfitting 모델은 high variace 모델이라고도 하는데(오른쪽 위), Train Data의 지엽적인 특성까지 반영되어 학습된 것은 잘 예측하지만, **학습되지 않은 데이터에 대해서는 예측력이 떨어지게 됩니다.** Underfitting 모델은 High Bias 모델이라고 하는데(왼쪽 아래), 너무 적은 특성만을 반영하여, 예측의 범위가 좁고 정확도가 떨어지게 됩니다.\n",
        "\n",
        "다시 말하면, Bias 에러가 높아지는 것은 많은 데이터를 고려하지 않아(=모델이 너무 단순해) 정확한 예측을 하지 못하는 경우를 말하고, Variance(분산) 에러는 노이즈까지 전부 학습해(=모델이 너무 복잡해) 약간의 input에도 예측 Y 값이 크게 흔들리는 것을 말합니다. 이 두가지 에러가 **Trade-off** 관계에 있어서 이 둘을 모두 잡는 것은 불가능 한 딜레마가 생긴다."
      ]
    },
    {
      "cell_type": "markdown",
      "metadata": {
        "id": "gAqSwjHGacNA",
        "colab_type": "text"
      },
      "source": [
        "![graph](https://img1.daumcdn.net/thumb/R1280x0/?scode=mtistory2&fname=http%3A%2F%2Fcfile9.uf.tistory.com%2Fimage%2F996DB433599AC34225B9BD)"
      ]
    },
    {
      "cell_type": "markdown",
      "metadata": {
        "id": "osFKBMIeahau",
        "colab_type": "text"
      },
      "source": [
        "그렇다면 어떻게 Total Error가 최소인 지점을 찾을 수 있을까요? 효과적인 방법은 **Validation Set을 만드는 것**인데, 바로 살펴보겠습니다!"
      ]
    },
    {
      "cell_type": "markdown",
      "metadata": {
        "id": "20wHD6tBajW2",
        "colab_type": "text"
      },
      "source": [
        "## 데이터를 train, valid, test로 나누어 사용하기"
      ]
    },
    {
      "cell_type": "markdown",
      "metadata": {
        "id": "mu44Man1anJK",
        "colab_type": "text"
      },
      "source": [
        "#### Validation Set?\n",
        "![datasets](https://t1.daumcdn.net/cfile/tistory/9951E5445AAE1BE025)\n",
        "\n",
        "우리는 머신러닝/딥러닝의 모델을 학습시키기 위해서는 전체 데이터를 train dataset과 test dataset으로 나누고, train dataset으로 학습한 뒤, test dataset을 통해 이 모델이 제대로 동작하는지 검증하는 과정을 거친다고 배웠습니다.<br>\n",
        "그렇다면 Validation set은 무엇이며, 왜 필요할까요? Validation Set을 통해 우리는 모델의 성능을 대략적으로 파악할 수 있습니다. Train Set의 일부를 떼어낸 후, 남은 부분을 학습한 뒤, 모델을 통해 떼어낸 부분에 대한 예측을 도출합니다. 우리는 떼어낸 부분의 실제 값을 알고 있기 때문에 예측치와 비교하여 성능을 평가하는 여러 측정 공식을 통해 모델의 성능을 알아봅니다. 그러니 Validation Set은 모의고사 문제라고 보시면 되겠습니다.\n",
        "\n"
      ]
    },
    {
      "cell_type": "markdown",
      "metadata": {
        "id": "64SKm7tlao8h",
        "colab_type": "text"
      },
      "source": [
        "### 교차검증(Cross Validation) vs 홀드아웃 검증(Hold-out Validation)"
      ]
    },
    {
      "cell_type": "markdown",
      "metadata": {
        "id": "qUcC3t11az4V",
        "colab_type": "text"
      },
      "source": [
        "### Cross Validation"
      ]
    },
    {
      "cell_type": "markdown",
      "metadata": {
        "id": "1KWBBgOja0A_",
        "colab_type": "text"
      },
      "source": [
        "그렇다면 Validation Set을 만드는 대표적인 두 유형에 대해 알아보겠습니다. 위에서 Validation Set을 만들 때, Train set에서 일부분을 뗴어 내 그것을 Validation Set으로 설정한다고 했습니다. 그러나 Validation Set을 뗄 만큼 데이터셋이 크지 않다면 어떻게 할까요? 이때는 너무 많은 양의 데이터를 Validation Set으로 뺏기지 않게 하기 위해 일반적으로 **Cross Validation** 이라 하는 기법을 사용합니다. Training Set을 여러 Subset으로 나누고 각 모델을 이 Subset의 조합으로 훈련시키고 나머지 부분으로 검증합니다."
      ]
    },
    {
      "cell_type": "markdown",
      "metadata": {
        "id": "SeRnNRA1a0Gk",
        "colab_type": "text"
      },
      "source": [
        "![validation](https://t1.daumcdn.net/cfile/tistory/990DD2465B72F1491E)"
      ]
    },
    {
      "cell_type": "code",
      "metadata": {
        "id": "AloC9S0oa0Na",
        "colab_type": "code",
        "colab": {}
      },
      "source": [
        "from sklearn.model_selection import KFold\n",
        "from sklearn import metrics\n",
        "X = np.arange(16).reshape((8,-1)) ## 8개의 row, 2개의 column\n",
        "y = np.arange(8).reshape((-1,1))\n",
        "kf = KFold(n_splits=4) # 8개의 row를 각각 2줄짜리 4개의 set으로 분리합니다\n",
        "for train_index, test_index in kf.split(X):\n",
        "    print(\"TRAIN:\", train_index, \"TEST:\", test_index)\n",
        "    X_train, X_test = X[train_index], X[test_index] \n",
        "    y_train, y_test = y[train_index], y[test_index]\n",
        "\n",
        "# 각각의 iteration을 print합니다. 첫 줄의 의미는 2~7번째 row를 학습하고 0,1번째 row를 validation set으로 하여 검증한다는 것입니다."
      ],
      "execution_count": 0,
      "outputs": []
    },
    {
      "cell_type": "markdown",
      "metadata": {
        "id": "gsej6CYFa0U4",
        "colab_type": "text"
      },
      "source": [
        "### Hold-out Validation"
      ]
    },
    {
      "cell_type": "markdown",
      "metadata": {
        "id": "EuGbr1mObz7d",
        "colab_type": "text"
      },
      "source": [
        "\n",
        "Original Set을 무작위로 training set과 validation set, test set으로 구분한 뒤, training set과 validation set을 이용해 분석 모형을 구축하고, test set을 이용하여 분석 모형의 성능을 평가하는 방법입니다.<br><br>\n",
        "Hold-out Validation의 전체적인 pipeline은 다음과 같습니다.\n",
        "1. Original Set을 무작위로 training set과 validation set, test set으로 구분합니다.\n",
        "2. 하이퍼파라미터를 여러가지로 튜닝해 여러가지 세팅을 만들어본 뒤, 학습 알고리즘을 사용해 Training set에 모델을 학습시킵니다. 하이퍼파라미터 세팅에 대해서는 나중에 더 배우도록 하겠습니다.\n",
        "3. Validation Set로 모델의 성능을 평가합니다. 가장 좋은 성능을 기록한 하이퍼파라미터 세팅을 선택합니다.\n",
        "4. Training Set은 보통 클수록 좋습니다. 그러므로 모델 선택 후에 Training Set와 Validation Set을 합쳐 더 큰 데이터셋으로 3에서 선택한 최선의 하이퍼파라미터 세팅을 사용한 모델을 학습합니다.\n",
        "5. 이제 Test Set을 사용해 모델의 성능을 평가합니다.\n",
        "<br>\n",
        "\n",
        "<br>\n",
        "Cross Validation과의 가장 큰 차이점은 Hold-out Validation에서 Test Set의 경우, 모형에는 영향을 주지 않고, 모델의 성능 측정 만을 위해 사용된다는 점입니다.\n",
        "    "
      ]
    },
    {
      "cell_type": "markdown",
      "metadata": {
        "id": "IENdy_Z0b_UV",
        "colab_type": "text"
      },
      "source": [
        "## 측정공식(Evaluation Metric) vs 비용함수(Cost Function)"
      ]
    },
    {
      "cell_type": "markdown",
      "metadata": {
        "id": "Lmc87ejUi4fW",
        "colab_type": "text"
      },
      "source": [
        "* F1 score, precision, recall, accuracy, ROC, AUC\n",
        "  - https://frhyme.github.io/machine-learning/clf_%ED%8F%89%EA%B0%80%ED%95%98%EA%B8%B0/"
      ]
    },
    {
      "cell_type": "markdown",
      "metadata": {
        "id": "uvr1fw2HcERG",
        "colab_type": "text"
      },
      "source": [
        "### 1) 분류 모델\n",
        "<img src=\"https://t1.daumcdn.net/cfile/tistory/99DC064C5BE056CE10\" alt=\"Drawing\" style=\"width: 500px;\"/>\n",
        "\n",
        "모델(분류기)의 성능을 평가하는 더 좋은 방법은 Coufusion Matrix(오차행렬)을 만들어보는 것입니다. 정답이 True/False로 나누어져 있고, 모델 또한 True/False의 답을 내놓습니다. 그렇다면 위와 같이 2x2의 행렬이 만들어지겠죠? 각 case별로 살펴본다면 다음과 같습니다.<br>\n",
        "- True Positive(TP) : 실제 True인 정답을 True라고 예측 (정답)\n",
        "- False Positive(FP) : 실제 False인 정답을 True라고 예측 (오답)\n",
        "- False Negative(FN) : 실제 True인 정답을 False라고 예측 (오답)\n",
        "- True Negative(TN) : 실제 False인 정답을 False라고 예측 (정답)<br>\n",
        "\n",
        "그렇다면 confusion matrix를 통해 우리의 분류 모델 성능을 어떻게 평가할 수 있을까요? 손으로 쓴 숫자가 '3'인지 아닌지 분류하는 아주 간단한 모델을 만든다고 가정하고, 이 모델의 성능을 여러 지표로 확인해보겠습니다.\n",
        "<img src=\"mnist3.png\" alt=\"Drawing\" style=\"width: 500px;\"/>"
      ]
    },
    {
      "cell_type": "markdown",
      "metadata": {
        "id": "W9VKlwWMcEYm",
        "colab_type": "text"
      },
      "source": [
        "### 정확도(accuracy)"
      ]
    },
    {
      "cell_type": "markdown",
      "metadata": {
        "id": "BQQs_U4McqGk",
        "colab_type": "text"
      },
      "source": [
        "\n",
        "정확도(accuracy)는 전체 샘플 중 맞게 예측한 샘플 수의 비율을 뜻합니다. 높을수록 좋은 모형입니다. 일반적으로 학습에서 최적화 목적함수로 사용됩니다.\n",
        "\n",
        "$$accuracy=\\frac{TP+TN}{TP+TN+FP+FN}$$<br>\n",
        "그러나, 정확도(Accuracy)의 가장 큰 문제점은, **클래스의 분포가 같을 때만 이용 가능하다는 점입니다**. 정답이 3일 때의 정확도는 5/7= 71.4%이지만, 정답이 3이 아닐 때의 정확도는 2/3 = 66.7%입니다. 전체 정확도를 70%라고 말한다면, 3이 아닐 때의 정확도가 미미하게 반영된다는 문제점이 있습니다.<br>\n",
        "이러한 **단점을 보완**하는 지표가 정밀도(Precision)와 재현율(Recall), ROC 곡선과 AUC입니다."
      ]
    },
    {
      "cell_type": "code",
      "metadata": {
        "id": "DD53j2CIc_yi",
        "colab_type": "code",
        "colab": {}
      },
      "source": [
        "from sklearn.metrics import accuracy_score\n",
        "y_true = [0, 0, 0, 1, 1, 1, 1, 1, 1, 1]\n",
        "y_pred = [0, 0, 1, 0, 0, 1, 1, 1, 1, 1]\n",
        "\n",
        "accuracy_score(y_true, y_pred)"
      ],
      "execution_count": 0,
      "outputs": []
    },
    {
      "cell_type": "markdown",
      "metadata": {
        "id": "gly25qHYcxOS",
        "colab_type": "text"
      },
      "source": [
        "### 정밀도(precision)"
      ]
    },
    {
      "cell_type": "markdown",
      "metadata": {
        "id": "cW5yhOcoczME",
        "colab_type": "text"
      },
      "source": [
        "정밀도(precision)은 positive 클래스에 속한다고 분류한 샘플 중 실제로 positive 클래스에 속하는 샘플 수의 비율을 말한다. 높을수록 좋은 모형입니다.\n",
        "\n",
        "$$precision=\\frac{TP}{TP+FP}$$"
      ]
    },
    {
      "cell_type": "code",
      "metadata": {
        "id": "y2GB7Zw0c257",
        "colab_type": "code",
        "colab": {}
      },
      "source": [
        "from sklearn.metrics import precision_score\n",
        "y_true = [0, 0, 0, 1, 1, 1, 1, 1, 1, 1]\n",
        "y_pred = [0, 0, 1, 0, 0, 1, 1, 1, 1, 1]\n",
        "\n",
        "precision_score(y_true, y_pred)"
      ],
      "execution_count": 0,
      "outputs": []
    },
    {
      "cell_type": "markdown",
      "metadata": {
        "id": "gz7wL3hqcEf9",
        "colab_type": "text"
      },
      "source": [
        "### 재현율(recall)"
      ]
    },
    {
      "cell_type": "markdown",
      "metadata": {
        "id": "nyWF_fVJc5Cx",
        "colab_type": "text"
      },
      "source": [
        "\n",
        "재현율(recall)은 실제 positive 클래스에 속한 표본 중에 positive 클래스에 속한다고 출력한 표본의 수의 비율을 뜻합니다. 높을수록 좋은 모형이다. TPR(true positive rate) 또는 민감도(sensitivity)라고도 합니다.\n",
        "\n",
        "$$recall=\\frac{TP}{TP+FN}$$"
      ]
    },
    {
      "cell_type": "code",
      "metadata": {
        "id": "e7m54a6Wc93_",
        "colab_type": "code",
        "colab": {}
      },
      "source": [
        "from sklearn.metrics import recall_score\n",
        "y_true = [0, 0, 0, 1, 1, 1, 1, 1, 1, 1]\n",
        "y_pred = [0, 0, 1, 0, 0, 1, 1, 1, 1, 1]\n",
        "\n",
        "recall_score(y_true, y_pred)"
      ],
      "execution_count": 0,
      "outputs": []
    },
    {
      "cell_type": "markdown",
      "metadata": {
        "id": "66RGY_whcEnC",
        "colab_type": "text"
      },
      "source": [
        "### F Score, F1 score"
      ]
    },
    {
      "cell_type": "markdown",
      "metadata": {
        "id": "XS3Ar-t3c5jy",
        "colab_type": "text"
      },
      "source": [
        "\n",
        "**정밀도**와 **재현율**의 **가중조화평균**을 F Score라고 합니다. 정밀도에 주어지는 가중치를 베타(beta)라고 합니다.\n",
        "\n",
        "$$F_β=\\frac{(1+β^2)(precision*recall)}{β^2precision+recall}$$\n",
        " \n",
        "베타가 1인 경우를 특별히 F1 Score라고 합니다.\n",
        "\n",
        "$$F_1=\\frac{2⋅precision⋅recall}{precision+recall}$$\n"
      ]
    },
    {
      "cell_type": "code",
      "metadata": {
        "id": "HtsgXeeBgPqZ",
        "colab_type": "code",
        "colab": {}
      },
      "source": [
        "from sklearn.metrics import f1_score\n",
        "y_true = [0, 0, 0, 1, 1, 1, 1, 1, 1, 1]\n",
        "y_pred = [0, 0, 1, 0, 0, 1, 1, 1, 1, 1]\n",
        "\n",
        "f1_score(y_true, y_pred)"
      ],
      "execution_count": 0,
      "outputs": []
    },
    {
      "cell_type": "markdown",
      "metadata": {
        "id": "w-EXkc1tgUF3",
        "colab_type": "text"
      },
      "source": [
        "sklearn 패키지의 metrics 패키지에서는 정밀도, 재현율, F1점수를 구하는 `classification_report` 명령을 제공합니다. 이 명령은 각각의 클래스를 양성(positive) 클래스로 보았을 때의 정밀도, 재현율, F1점수를 각각 구하고 그 평균값으로 전체 모형의 성능을 평가합니다."
      ]
    },
    {
      "cell_type": "code",
      "metadata": {
        "id": "s31GeLcegVVQ",
        "colab_type": "code",
        "colab": {}
      },
      "source": [
        "from sklearn.metrics import classification_report\n",
        "\n",
        "y_true = [0, 0, 0, 1, 1, 1, 1, 1, 1, 1]\n",
        "y_pred = [0, 0, 1, 0, 0, 1, 1, 1, 1, 1]\n",
        "\n",
        "print(classification_report(y_true, y_pred, target_names=['class 0', 'class 1']))"
      ],
      "execution_count": 0,
      "outputs": []
    },
    {
      "cell_type": "markdown",
      "metadata": {
        "id": "aMhkEurtgcv7",
        "colab_type": "text"
      },
      "source": [
        "### ROC와 AUC"
      ]
    },
    {
      "cell_type": "markdown",
      "metadata": {
        "id": "UfI1FAStgc3r",
        "colab_type": "text"
      },
      "source": [
        "ROC 곡선에 대해 설명하기 위해 일단 다음의 두 가지 개념에 대해 먼저 알아보겠습니다.<br>\n",
        "위에서 설명한 재현율(Recall)은 참 양성 비율(True Positive Rate, **TPR**)이라고도 하며, 다음과 같이 정의됩니다. $$TPR=\\frac{TP}{TP+FN}$$<br>\n",
        "거짓 양성 비율(False Positive Rate, **FPR**)은 다음과 같이 정의됩니다.\n",
        "$$FPR=\\frac{FP}{FP+TN}$$<br>\n",
        "TPR과 FPR은 반비례 관계에 있습니다. 3인지 아닌지 판단할 때, 조금만 3처럼 보여도 모두 3이라고 분류할 경우, 이 때의 TPR은 1에 가까워질 것입니다. 그러나 반대로 FPR은 매우 낮아지겠죠? 반대로 조금만 비슷하지 않아도 모두 3이 아니라고 분류할 경우 TPR은 급격히 낮아져 0에 가까워지겠지만, FPR은 반대로 급격히 높아져 1에 가까워질 것입니다(3이라고 분류 자체를 안하므로, 잘못 분류하는 경우가 없는 것). 이처럼 TPR과 FPR은 어떤 기준(언제 3이라고 예측할까?)을 연속적으로 바꾸며 측정해야 합니다. 이를 한눈에 볼 수 있게 한 것이 바로 **ROC 곡선**입니다. \n",
        "![ROC_curve](https://t1.daumcdn.net/cfile/tistory/262E8E3F544837AD27)<br>\n",
        "위 그림처럼, ROC 곡선은 TPR과 FPR이 둘다 [0,1]의 범위이며, (0,0)에서 (1,1)을 잇는 곡선입니다. 이때 **ROC 곡선 아래 부분의 면적**을 **AUC(Area Under Curve)**라 하며 이 값이 1에 가까울수록 성능이 좋습니다."
      ]
    },
    {
      "cell_type": "code",
      "metadata": {
        "id": "_ITUByOJg53O",
        "colab_type": "code",
        "colab": {}
      },
      "source": [
        "from sklearn.metrics import roc_auc_score\n",
        "y_true = np.array([0, 0, 0, 1, 1, 1, 1, 1, 1, 1])\n",
        "y_scores = np.array([0.1, 0.4, 0.35, 0.8])\n",
        "roc_auc_score(y_true, y_scores)"
      ],
      "execution_count": 0,
      "outputs": []
    },
    {
      "cell_type": "markdown",
      "metadata": {
        "id": "pUlvdypug9xh",
        "colab_type": "text"
      },
      "source": [
        "#### 시각화"
      ]
    },
    {
      "cell_type": "code",
      "metadata": {
        "id": "VEUPu6oFg-xp",
        "colab_type": "code",
        "colab": {}
      },
      "source": [
        "import matplotlib.pyplot as plt \n",
        "\n",
        "from sklearn.metrics import accuracy_score, precision_score, precision_recall_curve\n",
        "from sklearn.metrics import classification_report, confusion_matrix\n",
        "from sklearn.metrics import roc_curve, roc_auc_score\n",
        "\n",
        "from sklearn.linear_model import LogisticRegression\n",
        "\n",
        "def learn_and_eval_clf(x, y_true):\n",
        "    clf = LogisticRegression(random_state=42)\n",
        "    clf.fit(x, y_true)\n",
        "\n",
        "    y_pred = clf.predict(x)\n",
        "    print(\"accuracy_score: {}\".format( accuracy_score(y_true, y_pred)))\n",
        "    print(\"precision_score: {}\".format( precision_score(y_true, y_pred)))\n",
        "    #print(\"AUC: Area Under Curve: {}\".format(roc_auc_score(y_true, y_pred_proba[:, 1])))\n",
        "    #print(\"Classificcation Report: \\n{}\".format(classification_report(y_true, y_pred)))\n",
        "    #print(\"Confusition matrix: \\n{}\".format(confusion_matrix(y_true, y_pred)))\n",
        "\n",
        "    y_score = clf.decision_function(x)\n",
        "    precision, recall, _ = precision_recall_curve(y_true, y_score)\n",
        "    fpr, tpr, _ = roc_curve(y_true, y_score)\n",
        "\n",
        "    f, axes = plt.subplots(1, 2, sharex=True, sharey=True)\n",
        "    f.set_size_inches((8, 4)) \n",
        "    axes[0].fill_between(recall, precision, step='post', alpha=0.2, color='b')\n",
        "    axes[0].set_title('Recall-Precision Curve')\n",
        "\n",
        "    axes[1].plot(fpr, tpr)\n",
        "    axes[1].plot([0, 1], [0, 1], linestyle='--')\n",
        "    axes[1].set_title('ROC curve')\n",
        "    #plt.save\n",
        "    return f\n",
        "\n",
        "## - 임의로 각각 평균이 0.0, 0.25인, 큰 차이가 나지 않는 샘플들을 뽑아서, 분류해본다. \n",
        "\n",
        "sample_size = 100\n",
        "x = np.vstack(\n",
        "    [np.random.normal(0, 1, sample_size*2).reshape(sample_size, 2), \n",
        "     np.random.normal(0.25, 1, sample_size*2).reshape(sample_size, 2), \n",
        "    ]\n",
        ")\n",
        "y_true = np.array([0 for i in range(0, sample_size)]+[1 for i in range(0, sample_size)])\n",
        "\n",
        "\n",
        "try1 = learn_and_eval_clf(x, y_true)\n",
        "\n",
        "### 임의로 각각 평균이 0.0, 2인, 큰 차이가 나지 않는 샘플들을 뽑아서, 분류해본다. \n",
        "\n",
        "sample_size = 100\n",
        "x = np.vstack(\n",
        "    [np.random.normal(0, 1, sample_size*2).reshape(sample_size, 2), \n",
        "     np.random.normal(2, 1, sample_size*2).reshape(sample_size, 2), \n",
        "    ]\n",
        ")\n",
        "y_true = np.array([0 for i in range(0, sample_size)]+[1 for i in range(0, sample_size)])\n",
        "try2 = learn_and_eval_clf(x, y_true)"
      ],
      "execution_count": 0,
      "outputs": []
    },
    {
      "cell_type": "markdown",
      "metadata": {
        "id": "fnUFIOZ7hp2U",
        "colab_type": "text"
      },
      "source": [
        "### 2) 회귀 모델\n",
        "이번에는 회귀 모델의 성능을 평가하는 방법에 대해 알아보겠습니다. 수치(float)값을 예측하는 모델은 Accuracy 등의 분류 모델 평가 기준으로 평가하는 것이 애매합니다. 분류 모델은 맞게 분류했는지/아닌지만 평가하면 되지만, 회귀모델은 정확하게 예측하지 못했더라도, 정답과 비슷하게 맞추면 성능이 좋다고 평가해야 합니다."
      ]
    },
    {
      "cell_type": "markdown",
      "metadata": {
        "id": "2_2XBHl6hrGL",
        "colab_type": "text"
      },
      "source": [
        "#### MAE(Mean Absolute Error)"
      ]
    },
    {
      "cell_type": "code",
      "metadata": {
        "id": "6KnuR971hrO3",
        "colab_type": "code",
        "colab": {}
      },
      "source": [
        "from sklearn.metrics import mean_absolute_error\n",
        "\n",
        "mean_absolute_error(y_test, y_predict)"
      ],
      "execution_count": 0,
      "outputs": []
    },
    {
      "cell_type": "markdown",
      "metadata": {
        "id": "aV1s_1O6hrWI",
        "colab_type": "text"
      },
      "source": [
        "#### MSE(Mean Squared Error)"
      ]
    },
    {
      "cell_type": "code",
      "metadata": {
        "id": "_VgbB30Ghrdf",
        "colab_type": "code",
        "colab": {}
      },
      "source": [
        "from sklearn.metrics import mean_squared_error\n",
        "\n",
        "mean_squared_error(y_test, y_predict)"
      ],
      "execution_count": 0,
      "outputs": []
    },
    {
      "cell_type": "markdown",
      "metadata": {
        "id": "mAdUWyWBiN_g",
        "colab_type": "text"
      },
      "source": [
        "#### MAPE\n"
      ]
    },
    {
      "cell_type": "markdown",
      "metadata": {
        "id": "eYC0mqMKicx3",
        "colab_type": "text"
      },
      "source": [
        "Scale Dependent Error의 단점을 보완하기 위한 방법입니다. 하지만 MAPE 역시 실제 예측 값이 1보다 작을 경우 분모가 작아져 무한대에 가까워질 수 있다는 단점이 있습니다."
      ]
    },
    {
      "cell_type": "code",
      "metadata": {
        "id": "-y65FCLQifw4",
        "colab_type": "code",
        "colab": {}
      },
      "source": [
        "from sklearn.utils import check_arrays\n",
        "def mean_absolute_percentage_error(y_true, y_pred): \n",
        "    y_true, y_pred = check_arrays(y_true, y_pred)\n",
        "\n",
        "    #if _is_1d(y_true): \n",
        "    #    y_true, y_pred = _check_1d_array(y_true, y_pred)\n",
        "\n",
        "    return np.mean(np.abs((y_true - y_pred) / y_true)) * 100"
      ],
      "execution_count": 0,
      "outputs": []
    },
    {
      "cell_type": "markdown",
      "metadata": {
        "id": "FA2eofXEHNw0",
        "colab_type": "text"
      },
      "source": [
        "# 0. Machine learning: Dimensinality Reduction"
      ]
    },
    {
      "cell_type": "markdown",
      "metadata": {
        "id": "rL9YEt4yJ8Xv",
        "colab_type": "text"
      },
      "source": [
        "## 차원축소(Dimensinality Reduction)이란....?\n",
        "\n",
        "- 차원의 저주를 해결하기 위해 feature를 줄여주는 과정.\n",
        "- Feature를 줄이면 속도는 빨라지지만, 정보가 줄어들기 때문에 약간의 성능 저하가 있을 수 있어서 차원 축소를 하기 전에 먼저 Original data를 training 시켜보는 것이 좋다. 사람들은 2차원 까지만 생각할 수 있기 때문에 데이터 시각화에도 유용하다. 차원 축소는 대표적으로 PCA와 LLE가 있다.\n",
        "- 모델을 학습시키기 전에 학습 데이터셋의 차원을 감소시키면 학습 속도는 빨라지지만 모델의 성능은 항상 더 낫거나 간단한 모델이 되는 것은 아니다. 이것은 데이터셋이 어떠한 모양을 하고 있느냐에 따라 달라진다.\n",
        "\n",
        "## Curse of Dimensionality<br>\n",
        "- 차원이 커지면 커질수록 데이터 간의 거리가 멀어진다. 그래서 그래프 상으로 보게 되면 엄청 떨어져 있는 모습을 볼 수 있다. 이 상태로 모델을 돌리면 overfitting 될 가능성이 크다. 첫번째 방법은 feature만큼 row를 늘려줘서 density를 올려주는 방법이 있는데, 이는 row가 너무 많아질 가능성이 있기 때문에 좋은 방법은 아니다. 그래서 가장 많이 사용하는 방법은 Projection과 Manifold 방식이다. \n",
        "\n",
        "![123123](https://img1.daumcdn.net/thumb/R1280x0/?scode=mtistory2&fname=http%3A%2F%2Fcfile1.uf.tistory.com%2Fimage%2F99FF9F335B8A484A31820B)\n"
      ]
    },
    {
      "cell_type": "markdown",
      "metadata": {
        "id": "1WgSVgQdKFp8",
        "colab_type": "text"
      },
      "source": [
        "\n",
        "## PCA란?\n",
        "- PCA(Principal Component Analysis)는 주성분 분석이라고도 하며 고차원 데이터 집합이 주어졌을 때 원래의 고차원 데이터와 가장 비슷하면서 더 낮은 차원 데이터를 찾아내는 방법\n",
        "- 차원축소 방법이다. 최적의 초평면을 찾고, 그 다음에 data를 그 초평면에 projection 시켜주는 방식이다. \n",
        "\n",
        "\n",
        "### 분산보존\n",
        "\n",
        "최적의 lower-dimension hyperplane을 찾는 기준 중 하나는 분산보존이다. \n",
        "PCA는 데이터의 분산이 최대가 되는 축을 찾는다. 즉, 원본 데이터셋과 투영된 데이터셋 간의 평균제곱거리를 최소화 하는 축을 찾는다. C1을 축으로 한 데이터의 분산이 가장 잘 보존되어 있는걸 볼 수 있다.\n",
        "![123123](https://img1.daumcdn.net/thumb/R1280x0/?scode=mtistory2&fname=http%3A%2F%2Fcfile28.uf.tistory.com%2Fimage%2F99AC093E5B8A4904213CC3)\n",
        "\n",
        "\n",
        "## PCA 단계\n",
        "PCA는 다음과 같은 단계로 이루어진다. \n",
        "1. 학습 데이터셋에서 분산이 최대인 축(axis)을 찾는다. \n",
        "2. 이렇게 찾은 첫번째 축과 직교(orthogonal)하면서 분산이 최대인 두 번째 축을 찾는다.\n",
        "3. 첫 번째 축과 두 번째 축에 직교하고 분산을 최대한 보존하는 세 번째 축을 찾는다.\n",
        "4. 1~3과 같은 방법으로 데이터셋의 차원(특성 수)만큼의 축을 찾는다.\n",
        "PC의 방향은 항상 일정하지 않다. training set을 살짝 조정해서 PCA를 실행시키면, 새로운 PC가 원래의 PC랑 반대에 있을 가능성이 있다. 그러나 축이나 평면은 같다.\n",
        "![123123](https://img1.daumcdn.net/thumb/R1280x0/?scode=mtistory2&fname=http%3A%2F%2Fcfile6.uf.tistory.com%2Fimage%2F996F65335B8A493207D19B)\n",
        "\n",
        "\n",
        "- PC를 찾을 때 Singular Value Decomposition(SVD)를 사용해서 원래의 training set matrix를 3개의 matrices로 분해시켜준다.\n",
        "<br>\n",
        "PCA는 dataset이 origin 주변으로 center 되어있다고 가정한다. scikit-learn's에서는 이 부분을 자동으로 만들어주지만, 아닐 경우 이 부분에 대해서 잊어서는 안된다.\n",
        "\n",
        "## PCA for compression\n",
        "- PCA를 통해 없어진 변수는 다시 살릴 수 있다. 그러나 원래 데이터와 완전 똑같이 복원할 순 없다. Original과 Recover 된 데이터 사이의 mean square distance를 reconstruction error라고 부른다.\n"
      ]
    },
    {
      "cell_type": "markdown",
      "metadata": {
        "id": "YgkDwpS3NSIX",
        "colab_type": "text"
      },
      "source": [
        "## PCA 종류\n",
        "### Randomized PCA\n",
        "- svd_solver라는 hyperparmeter를 'randomzied'로 설정하면, scikit_learn에서는 stochastic algorithm을 사용하는데 이를 Randomzied PCA라고 부른다. 이걸 사용하면 처음 d개의 주성분을 대략적으로 찾을 수 있다. d가 n개보다 훨씬 적게 되면 매우 빠른 성능을 볼 수 있다. 이 함수에 'auto'로 설정하면 n 값이 500개 이상이고 d 값이 n 값의 80%보다 적으면 자동으로 randomized로 진행되고, 그 외에는 full svd가 진행된다. \n",
        "\n",
        "### Incremental PCA (IPCA)\n",
        "- PCA를 실행시킬때 가장 큰 문제는 알고리즘을 돌리기 위해서 모든 training set을 memory에 fit 시켜줘야한다는 것이다. 이 문제는 IPCA로 해결 가능하다. IPCA는 학습 데이터셋을 미니배치로 나눈 뒤 IPCA 알고리즘에 하나의 미니배치를 입력으로 넣어준다. IPCA는 학습 데이터셋이 클때 유용하다.\n",
        "\n",
        "### Kernel PCA (KPCA)\n",
        "- SVM에서 데이터를 저차원에서 선형 고차원으로 매핑시켜 비선형 데이터셋에 SVM을 적용시키는 방식이 있다. 우리는 이것을 활용해서 비선형 투영을 사용해서 차원 축소를 할 수 있는데, 이를 KPCA라고 부른다. 이 방식은 projection 후 데이터들의 cluster를 유지시키는데 좋고, unrolling dataset에도 사용 가능하다. (twisted manifold와 매우 비슷하다) \n",
        "<br>\n",
        "- KPCA는 일종의 unsupervised learning이기 때문에, 어떤 hyperparameter와 어떤 kernel이 best인지 명확하게 알 수 없다. 그러나 차원 축소는 지도 학습의 준비단계라고 할 수 있다. gridsearch로 어떤 hyperparmeter가 최적인지 찾을 수 있다. KernelPCA에서도 inverse로 원래 데이터 형태로 돌릴 수 있다. "
      ]
    },
    {
      "cell_type": "markdown",
      "metadata": {
        "id": "hf88nypWNXlO",
        "colab_type": "text"
      },
      "source": [
        "## 빈용 메소드 모음\n",
        "- **PCA ( n_components = 정수 )** : 기본 사용방법\n",
        "- **.fit_transform()**: 특정행렬을 낮은 차원의 근사행렬로 변환\n",
        "- **.inverse_transform()**: 변환된 근사행렬을 원래의 차원으로 복귀\n",
        "- **.mean_**: 데이터의 평균값을 반환\n",
        "- **.components_**: 단위기저벡터를 반환\n",
        "- **.explained_variance_ratio**: 각 주성분 축에 몇 %의 분산이 보존되어있는지 보여줌\n",
        "- **.inverse_transform()**: 압축했던 data를 다시 예전 차원으로 복원"
      ]
    },
    {
      "cell_type": "code",
      "metadata": {
        "id": "XA82l8tuPgKt",
        "colab_type": "code",
        "colab": {}
      },
      "source": [
        "## 분산으로도 적절한 차원의 수를 구할 수 있음\n",
        "from tensorflow.keras.datasets import mnist\n",
        "​\n",
        "# MNIST load\n",
        "(train_x, train_y), (test_x, test_y) = mnist.load_data()\n",
        "​\n",
        "# reshape\n",
        "train_x = train_x.reshape(-1, 28*28) \n",
        "​\n",
        "pca = PCA(n_components=0.95)\n",
        "X_reduced = pca.fit_transform(train_x)  # PCA 계산 후 투영\n",
        "\n",
        "print('선택한 차원(픽셀) 수 :', pca.n_components_)"
      ],
      "execution_count": 0,
      "outputs": []
    },
    {
      "cell_type": "code",
      "metadata": {
        "id": "yEZj7mkea8mc",
        "colab_type": "code",
        "colab": {}
      },
      "source": [
        "pca = PCA(n_components=0.95)\n",
        "X_reduced = pca.fit_transform(train_x)\n",
        "print('선택한 차원(픽셀) 수 :', pca.n_components_)"
      ],
      "execution_count": 0,
      "outputs": []
    },
    {
      "cell_type": "code",
      "metadata": {
        "id": "5cOrz_QvLamL",
        "colab_type": "code",
        "colab": {}
      },
      "source": [
        "## Scikit learn으로 간단하게 구하기\n",
        "# 적절한 차원의 개수 구하기\n",
        "from sklearn.decomposition import PCA\n",
        "pca = PCA(n_components=3)\n",
        "pca.fit(X)\n",
        "\n",
        "print('singular value :', pca.singular_values_)\n",
        "print('singular vector :\\n', pca.components_.T)\n",
        "\n",
        "print('eigen_value :', pca.explained_variance_)\n",
        "print('explained variance ratio :', pca.explained_variance_ratio_)\n",
        "\n",
        "cumsum = np.cumsum(pca.explained_variance_ratio_)\n",
        "d = np.argmax(cumsum >= 0.95) + 1\n",
        "print('선택할 차원 수 :', d)"
      ],
      "execution_count": 0,
      "outputs": []
    },
    {
      "cell_type": "code",
      "metadata": {
        "id": "KQ3CDVeMLlv3",
        "colab_type": "code",
        "colab": {}
      },
      "source": [
        "## 다양한 차원축소법들 예제\n",
        "# KPCA 예제\n",
        "from sklearn.datasets import make_swiss_roll\n",
        "X, t = make_swiss_roll(n_samples=1000, noise=0.2, random_state=42) \n",
        "\n",
        "# KernelPCA 예제\n",
        "from sklearn.decomposition import KernelPCA\n",
        "rbf_pca = KernelPCA(n_components = 2, kernel=\"rbf\", gamma=0.04)\n",
        "X_reduced = rbf_pca.fit_transform(X)\n",
        "\n",
        "# MDS 예제\n",
        "from sklearn.manifold import MDS\n",
        "mds = MDS(n_components=2, random_state=42)\n",
        "X_reduced_mds = mds.fit_transform(X)\n",
        "\n",
        "# Isomap 예제\n",
        "from sklearn.manifold import Isomap\n",
        "isomap = Isomap(n_components=2)\n",
        "X_reduced_isomap = isomap.fit_transform(X)\n",
        "\n",
        "# TSNE 예제\n",
        "from sklearn.manifold import TSNE\n",
        "tsne = TSNE(n_components=2, random_state=42)\n",
        "X_reduced_tsne = tsne.fit_transform(X)"
      ],
      "execution_count": 0,
      "outputs": []
    },
    {
      "cell_type": "markdown",
      "metadata": {
        "id": "f1bGuT7XK9Jt",
        "colab_type": "text"
      },
      "source": [
        "# 0. Machine learning: Sampling"
      ]
    },
    {
      "cell_type": "markdown",
      "metadata": {
        "id": "hVCisNbZ9AmF",
        "colab_type": "text"
      },
      "source": [
        "## Oversampling"
      ]
    },
    {
      "cell_type": "markdown",
      "metadata": {
        "id": "fpJoLEAM88ul",
        "colab_type": "text"
      },
      "source": [
        "\n",
        " - RandomOverSampler: 소수 클래스의 데이터를 반복해서 넣는 방법\n",
        "```\n",
        "X_samp, y_samp = RandomOverSampler(random_state=0).fit_sample(X_imb, y_imb)\n",
        "```\n",
        " - ADASYN: 소수 클래스 데이터와 그 데이터에서 가장 가까운 k개의 소수 클래스 데이터 중 무작위로 선택된 데이터 사이의 직선상에 가상의 소수 클래스 데이터를 만드는 방법\n",
        "```\n",
        "X_samp, y_samp = ADASYN(random_state=0).fit_sample(X_imb, y_imb)\n",
        "```\n",
        " - SMOTE: ADASYN 방법처럼 데이터를 생성하지만 생성된 데이터를 무조건 소수 클래스라고 하지 않고 분류 모형에 따라 분류한다.\n",
        "```\n",
        "X_samp, y_samp = SMOTE(random_state=4).fit_sample(X_imb, y_imb)\n",
        "```\n",
        " - SMOTENC: SMOTE와 유사하나 categorical 변수도 sampling 시킬 수 있는 방법\n",
        "```\n",
        "X_res, y_res = SMOTENC(random_state=42, categorical_features=[18, 19]).fit_resample(X, y)\n",
        "```\n",
        "\n",
        "\n",
        "\n"
      ]
    },
    {
      "cell_type": "markdown",
      "metadata": {
        "id": "gOzO9VKj9E-G",
        "colab_type": "text"
      },
      "source": [
        "## Undersampling"
      ]
    },
    {
      "cell_type": "markdown",
      "metadata": {
        "id": "d_korOR59Jgp",
        "colab_type": "text"
      },
      "source": [
        "\n",
        "\n",
        " - **RandomUnderSampler**: 무작위로 데이터를 없애는 단순 샘플링\n",
        "```\n",
        "  X_samp, y_samp = RandomUnderSampler(random_state=0).fit_sample(X_imb, y_imb)\n",
        "```\n",
        " - **TomekLinks**: 토멕링크(클래스가 다른 두 데이터 중 아주 가까이 붙어있는 데이터)를 찾아서 그 중 다수 클래스에 속한 데이터를 제외하는 방법\n",
        "```\n",
        "X_samp, y_samp = TomekLinks(random_state=0).fit_sample(X_imb, y_imb)\n",
        "```\n",
        " - **CondensedNearestNeighbour**: 1-NN 모형으로 분류되지 않는 데이터만 남기는 방법\n",
        "```\n",
        "X_samp, y_samp = CondensedNearestNeighbour(random_state=0).fit_sample(X_imb, y_imb)\n",
        "```\n",
        " - **OneSidedSelection**: 토맥링크 중 다수 클래스를 제외하고 나머지 데이터 중에서도 서로 붙어있는 다수 클래스 데이터는 1-NN 방법으로 제외한다.\n",
        "```\n",
        "X_samp, y_samp = OneSidedSelection(random_state=0).fit_sample(X_imb, y_imb)\n",
        "```\n",
        " - **EditedNearestNeighbours**: 다수 클래스 데이터 중 가장 가까운 k(n_neighbors)개의 데이터가 모두(kind_sel=\"all\") 또는 다수(kind_sel=\"mode\") 다수 클래스가 아니면 삭제하는 방법이다. 소수 클래스 주변의 다수 클래스 데이터는 사라진다.\n",
        "```\n",
        "X_samp, y_samp = EditedNearestNeighbours(kind_sel=\"all\", n_neighbors=5, random_state=0).fit_sample(X_imb, y_imb)\n",
        "```\n",
        " - **NeighbourhoodCleaningRule**: CNN(Condensed Nearest Neighbour) 방법과 ENN(Edited Nearest Neighbours) 방법을 섞은 것이다.\n",
        "```\n",
        "X_samp, y_samp = NeighbourhoodCleaningRule(kind_sel=\"all\", n_neighbors=5, random_state=0).fit_sample(X_imb, y_imb)\n",
        "```"
      ]
    },
    {
      "cell_type": "markdown",
      "metadata": {
        "id": "J1GrLsHa9M5_",
        "colab_type": "text"
      },
      "source": [
        "\n",
        "\n",
        "## 복합샘플링"
      ]
    },
    {
      "cell_type": "markdown",
      "metadata": {
        "id": "C5CLVsXtLD_x",
        "colab_type": "text"
      },
      "source": [
        "\n",
        " - SMOTEENN: SMOTE + ENN\n",
        "```\n",
        "X_samp, y_samp = SMOTEENN(random_state=0).fit_sample(X_imb, y_imb)\n",
        "```\n",
        " - SMOTETomek: SMOTE + Tomek\n",
        "```\n",
        "X_samp, y_samp = SMOTETomek(random_state=4).fit_sample(X_imb, y_imb)\n",
        "```\n",
        "\n"
      ]
    },
    {
      "cell_type": "code",
      "metadata": {
        "id": "06RGTAhROP-Z",
        "colab_type": "code",
        "colab": {}
      },
      "source": [
        "from imblearn.under_sampling"
      ],
      "execution_count": 0,
      "outputs": []
    },
    {
      "cell_type": "code",
      "metadata": {
        "id": "BAWsESfTLI7L",
        "colab_type": "code",
        "colab": {}
      },
      "source": [
        "# sampling 코드 모음\n",
        "X_samp, y_samp = RandomOverSampler(random_state=0).fit_sample(X_imb, y_imb)\n",
        "X_samp, y_samp = ADASYN(random_state=0).fit_sample(X_imb, y_imb)\n",
        "X_samp, y_samp = SMOTE(random_state=4).fit_sample(X_imb, y_imb)\n",
        "X_samp, y_samp = SMOTENC(random_state=42, categorical_features=[18, 19]).fit_resample(X_imb, y_imb)\n",
        "X_samp, y_samp = RandomUnderSampler(random_state=0).fit_sample(X_imb, y_imb)\n",
        "X_samp, y_samp = TomekLinks(random_state=0).fit_sample(X_imb, y_imb)\n",
        "X_samp, y_samp = CondensedNearestNeighbour(random_state=0).fit_sample(X_imb, y_imb)\n",
        "X_samp, y_samp = OneSidedSelection(random_state=0).fit_sample(X_imb, y_imb)\n",
        "X_samp, y_samp = EditedNearestNeighbours(kind_sel=\"all\", n_neighbors=5, random_state=0).fit_sample(X_imb, y_imb)\n",
        "X_samp, y_samp = NeighbourhoodCleaningRule(kind_sel=\"all\", n_neighbors=5, random_state=0).fit_sample(X_imb, y_imb)\n",
        "X_samp, y_samp = SMOTEENN(random_state=0).fit_sample(X_imb, y_imb)\n",
        "X_samp, y_samp = SMOTETomek(random_state=4).fit_sample(X_imb, y_imb)\n"
      ],
      "execution_count": 0,
      "outputs": []
    },
    {
      "cell_type": "markdown",
      "metadata": {
        "id": "RVZGnPXmn0Gs",
        "colab_type": "text"
      },
      "source": [
        "# 0. Machine learning: Scaling"
      ]
    },
    {
      "cell_type": "markdown",
      "metadata": {
        "id": "592LBZFKoWHT",
        "colab_type": "text"
      },
      "source": [
        "## Scaling이란.....\n",
        "- scaling을 통해서 다차원의 값들을 분석하기 쉽게 만들어주고 자료의 overflow, underflow를 방지할 수 있다! \n",
        "- 또한 최적화 과정에서의 안정성 및 수렴속도를 향상!\n",
        "- k-means 등 거리 기반의 모델에서는 scaling이 매우 중요하다\n",
        "\n",
        "## 종류\n",
        "- StandardScaler: 기본 스케일, 평균과 표준편차 사용\n",
        "- MinMaxScaler: 최대/최소값이 각각 1, 0이 되도록 하는 scaling\n",
        "- MaxAbsScaler: 최대절대값과 0이 각각 1, 0이 되도록 하는 scaling\n",
        "- RobustScaler: median과 IQR(interquartile range) 사용, outlier의 영향을 최소화한다."
      ]
    },
    {
      "cell_type": "code",
      "metadata": {
        "id": "tV6cV1ajpAlQ",
        "colab_type": "code",
        "colab": {}
      },
      "source": [
        "# StandardScaler\n",
        "## 예제1\n",
        "from sklearn.preprocessing import StandardScaler\n",
        "standardScaler = StandardScaler()\n",
        "print(standardScaler.fit(train_data))\n",
        "train_data_standardScaled = standardScaler.transform(train_data)"
      ],
      "execution_count": 0,
      "outputs": []
    },
    {
      "cell_type": "code",
      "metadata": {
        "id": "px21jdvPn_IN",
        "colab_type": "code",
        "colab": {}
      },
      "source": [
        "# MinMaxscaler\n",
        "## 예제1\n",
        "from sklearn.preprocessing import MinMaxScaler\n",
        "minMaxScaler = MinMaxScaler()\n",
        "print(minMaxScaler.fit(train_data))\n",
        "train_data_minMaxScaled = minMaxScaler.transform(train_data)\n",
        "\n",
        "## 예시2\n",
        "minmax = MinMaxScaler()\n",
        "train_X_mm = minmax.fit_transform(train_X_nu)\n",
        "train_X_mm_df = pd.DataFrame(train_X_mm, columns=train_X_nu.columns, index=train_X_nu.index)\n",
        "train_X_fin = pd.concat([train_X_mm_df, train_X_ca], axis=1)\n",
        "train_X_fin.index = range(len(train_X))"
      ],
      "execution_count": 0,
      "outputs": []
    },
    {
      "cell_type": "code",
      "metadata": {
        "id": "1hhjuCLapAfL",
        "colab_type": "code",
        "colab": {}
      },
      "source": [
        "# MaxAbsScaler\n",
        "from sklearn.preprocessing import MaxAbsScaler\n",
        "maxAbsScaler = MaxAbsScaler()\n",
        "print(maxAbsScaler.fit(train_data))\n",
        "train_data_maxAbsScaled = maxAbsScaler.transform(train_data)"
      ],
      "execution_count": 0,
      "outputs": []
    },
    {
      "cell_type": "code",
      "metadata": {
        "id": "g_nMPGOvpAYx",
        "colab_type": "code",
        "colab": {}
      },
      "source": [
        "# RobustScaler\n",
        "from sklearn.preprocessing import RobustScaler\n",
        "robustScaler = RobustScaler()\n",
        "print(robustScaler.fit(train_data))\n",
        "train_data_robustScaled = robustScaler.transform(train_data)"
      ],
      "execution_count": 0,
      "outputs": []
    },
    {
      "cell_type": "markdown",
      "metadata": {
        "id": "oXCo6vcWv-EG",
        "colab_type": "text"
      },
      "source": [
        "# 0. Machine learning: Classifier"
      ]
    },
    {
      "cell_type": "markdown",
      "metadata": {
        "id": "GwMzfX66ndvT",
        "colab_type": "text"
      },
      "source": [
        "## Classifier란....??\n",
        "- 지도학습의 일환으로 주어진 군집을 학습한 다음 새로운 값이 주어졌을 때 어느 군집에 속할지 분류해주는 것"
      ]
    },
    {
      "cell_type": "code",
      "metadata": {
        "id": "wGj5kBjswPll",
        "colab_type": "code",
        "colab": {}
      },
      "source": [
        "# SGD Classifier\n",
        "from sklearn.linear_model import SGDClassifier\n",
        "\n",
        "sgd_clf=SGDClassifier(random_state=42) #SGDClassifier는 randomness에 기반하기 때문에, \n",
        "#고정 값을 정하고 싶다면, random_state parameter를 쓰자.\n",
        "sgd_clf.fit(X_train,y_train)\n",
        "\n",
        "sgd_clf.predict(X_test)\n",
        "\n",
        "y_pred = sgd_clf.predict(X_test)\n",
        "\n",
        "f1_score(y_test,y_pred, average='micro')"
      ],
      "execution_count": 0,
      "outputs": []
    },
    {
      "cell_type": "code",
      "metadata": {
        "id": "5qrvTGZIP2z4",
        "colab_type": "code",
        "colab": {}
      },
      "source": [
        "from xgboost import XGBClassifier, plot_importance\n",
        "\n",
        "model = XGBClassifier()\n",
        "model.fit(X_train, y_train)\n",
        "\n",
        "model.predict(X_test)\n",
        "\n",
        "y_pred = model.predict(X_test)\n",
        "\n",
        "from sklearn.metrics import f1_score\n",
        "\n",
        "f1_score(y_test,y_pred, average='weighted')"
      ],
      "execution_count": 0,
      "outputs": []
    },
    {
      "cell_type": "markdown",
      "metadata": {
        "id": "_niQacgbZPlF",
        "colab_type": "text"
      },
      "source": [
        "# 0. Machine learning: Decision Tree"
      ]
    },
    {
      "cell_type": "code",
      "metadata": {
        "id": "S29RxeZbZSXx",
        "colab_type": "code",
        "colab": {}
      },
      "source": [
        "# 모델 만들어주기\n",
        "from sklearn.tree import DecisionTreeRegressor\n",
        "\n",
        "model = DecisionTreeRegressor(random_state=1, max_depth=50)\n",
        "model\n",
        "\n",
        "# fitting 시키기\n",
        "model.fit(x_train,y_train_re)\n",
        "model.fit(x_train,y_train_ca)\n",
        "model.fit(x_train,y_train)\n",
        "\n",
        "# predict하기\n",
        "model.predict(x_test)"
      ],
      "execution_count": 0,
      "outputs": []
    },
    {
      "cell_type": "markdown",
      "metadata": {
        "id": "N6CvgUU5kkvX",
        "colab_type": "text"
      },
      "source": [
        "# 0. Machine learning: Boosting"
      ]
    },
    {
      "cell_type": "markdown",
      "metadata": {
        "id": "Lq0VBFmVqPvC",
        "colab_type": "text"
      },
      "source": [
        "## Boosting이란 무엇인고....??"
      ]
    },
    {
      "cell_type": "markdown",
      "metadata": {
        "id": "x_5jNWflpykR",
        "colab_type": "text"
      },
      "source": [
        "![123123](https://user-images.githubusercontent.com/31475037/59011343-5a586280-886f-11e9-86ab-3143ad265195.png)\n",
        "\n",
        "\n",
        "![123123](https://quantdare.com/wp-content/uploads/2016/04/bb3.png)\n",
        "\n",
        "Boosting은 앙상블 모델이지만 Bagging과 다르게 이전 모델의 오차를 고려하여 학습을 하는 모델이다!\n"
      ]
    },
    {
      "cell_type": "markdown",
      "metadata": {
        "id": "MqHl6bOcqUiz",
        "colab_type": "text"
      },
      "source": [
        "![123123](https://image.slidesharecdn.com/mlstudyboostingv0-171128021615/95/boosting-bagging-vs-boosting-14-638.jpg?cb=1511939004)\n",
        "\n",
        "크게 Adaboost, GBM, Xgboost, Light GBM등이 있다."
      ]
    },
    {
      "cell_type": "markdown",
      "metadata": {
        "id": "EcGAU2xjofiD",
        "colab_type": "text"
      },
      "source": [
        "## 0) Xgboost, Lightgbm 등의 각종 parameter <br>"
      ]
    },
    {
      "cell_type": "markdown",
      "metadata": {
        "id": "R9goNFLrz8WS",
        "colab_type": "text"
      },
      "source": [
        "\n",
        "http://machinelearningkorea.com/2019/09/29/lightgbm-%ED%8C%8C%EB%9D%BC%EB%AF%B8%ED%84%B0/<br>\n",
        "간단하게 설명하면 <br>\n",
        "- max_depth[default=6]: 트리의 최대 깊이를 정의하는 parameter(DT에서 배웠음)\n",
        "- min_child_weight[default=1]: Overfitting을 컨트롤하는 파라미터로, 값이 높아지면, underfitting되는 경우가 있어 CV를 통해 튜닝되어야 함.\n",
        "- gamma[default=0]: 노드가 split되게 위한 loss function의 값이 감소하는 최소 값을 정의함. 값이 높아질수록 알고리즘은 보수적으로 변하고, loss function의 정의에 따라 적정값이 달라져 **반드시 튜닝되어야 한다**\n",
        "- subsample: 각 트리마다의 관측 데이터 샘플링 비율. 값을 적게 주면 over-fitting을 방지하지만 값을 너무 작게 주면 under-fitting(일반적으로 0.5~1).\n",
        "- colsample_bytree: 각 트리마다의 feature 샘플링 비율.\n"
      ]
    },
    {
      "cell_type": "markdown",
      "metadata": {
        "id": "MTHJmsUvHu_V",
        "colab_type": "text"
      },
      "source": [
        "## 1) Xgboost"
      ]
    },
    {
      "cell_type": "markdown",
      "metadata": {
        "id": "xf7tAZ9DKhFt",
        "colab_type": "text"
      },
      "source": [
        "### Xgboost란?\n",
        "\n",
        "- Null값 있어도 상관없는 모델!\n",
        "- categorical variables는 모두 one-hot encoding을 통해서 바꿔줘야 함!"
      ]
    },
    {
      "cell_type": "markdown",
      "metadata": {
        "id": "9TFMrcGgxcGV",
        "colab_type": "text"
      },
      "source": [
        "### Xgboost Classifier"
      ]
    },
    {
      "cell_type": "code",
      "metadata": {
        "id": "BTxIja-fxdnu",
        "colab_type": "code",
        "colab": {}
      },
      "source": [
        "from xgboost import XGBClassifier, plot_importance\n",
        "\n",
        "model = XGBClassifier()\n",
        "model.fit(X_train, y_train)\n",
        "\n",
        "model.predict(X_test)\n",
        "\n",
        "y_pred = model.predict(X_test)\n",
        "\n",
        "from sklearn.metrics import f1_score\n",
        "\n",
        "f1_score(y_test,y_pred, average='weighted')"
      ],
      "execution_count": 0,
      "outputs": []
    },
    {
      "cell_type": "markdown",
      "metadata": {
        "id": "PvfXnJFjodiy",
        "colab_type": "text"
      },
      "source": [
        "### Plot_importance"
      ]
    },
    {
      "cell_type": "code",
      "metadata": {
        "id": "kqaEHFdhoil8",
        "colab_type": "code",
        "colab": {}
      },
      "source": [
        "# 코드1\n",
        "from xgboost import plot_importance\n",
        "\n",
        "model = xgb.XGBClassifier()\n",
        "model.fit(X, y)\n",
        "sorted_idx = np.argsort(model.feature_importances_)[::-1]\n",
        "for index in sorted_idx:\n",
        "    print([X.columns[index], model.feature_importances_[index]])"
      ],
      "execution_count": 0,
      "outputs": []
    },
    {
      "cell_type": "code",
      "metadata": {
        "id": "45Rpf8ZHovMH",
        "colab_type": "code",
        "colab": {}
      },
      "source": [
        "# 코드2\n",
        "from xgboost import XGBClassifier, plot_importance\n",
        "model = XGBClassifier()\n",
        "model.fit(train, label)\n",
        "\n",
        "sorted_idx = np.argsort(model.feature_importances_)[::-1]\n",
        "\n",
        "for index in sorted_idx:\n",
        "    print([train.columns[index], model.feature_importances_[index]]) \n",
        "\n",
        "    plot_importance(model, max_num_features = 15)\n",
        "pyplot.show()"
      ],
      "execution_count": 0,
      "outputs": []
    },
    {
      "cell_type": "markdown",
      "metadata": {
        "id": "fv3aapPouXm4",
        "colab_type": "text"
      },
      "source": [
        "## 2) Catboost"
      ]
    },
    {
      "cell_type": "markdown",
      "metadata": {
        "id": "XBqhuEbnugFM",
        "colab_type": "text"
      },
      "source": [
        "### Catboost는 뭐꼬?\n",
        "- Catboost는 Category와 Boosting을 합쳐서 만들어진 이름이다. \n",
        "- 여기에서 Boost는 Gradient boosting machine learnin algorithm에서 온 말인데 Gradient boosting은 추천 시스템, 예측 등 다양한 분야에서 활용되어지는 강력한 방법.\n",
        "- Deep Learning과 달리 적은 데이터로도 좋은 결과를 얻을 수 있는 효율적인 방법이다.\n",
        "- Catboost에서는 categorical 변수를 사용자가 다른 작업을 하지 않아도 자동으로 이를 변환하여 사용한다. model fitting할 때 지정해야됨!!!\n",
        "- default parameters값으로 더 나은 성능\n",
        "- hyper-parmeter tuning을 하지 않더라도 기본적인 세팅으로도 좋은 결과를 얻을 수 있어 활용성이 뛰어나다. "
      ]
    },
    {
      "cell_type": "code",
      "metadata": {
        "id": "n59AeEWKyTXr",
        "colab_type": "code",
        "colab": {}
      },
      "source": [
        "from catboost import CatBoostRegressor\n",
        "train_data = pd.read_csv('train_data.csv', encdoing='euc-kr')\n",
        "test_data = pd.read_csv('test_data.csv', encdoing='euc-kr')\n",
        "cat_features = [0,1,2]\n",
        "train_labels = [10,20,30]\n",
        "\n",
        "model = CatBoostRegressor(iterations=2, learning_rate=1, depth=2)\n",
        "\n",
        "model.fit(train_data, train_labels, cat_features) # cat_features를 꼭 지정해줘야한다."
      ],
      "execution_count": 0,
      "outputs": []
    },
    {
      "cell_type": "code",
      "metadata": {
        "id": "thpnVBUDFUvt",
        "colab_type": "code",
        "colab": {}
      },
      "source": [
        "import catboost as cb\n",
        "cat_features_index = [0,1,2,3,4,5,6]\n",
        "\n",
        "def auc(m, train, test): \n",
        "    return (metrics.roc_auc_score(y_train,m.predict_proba(train)[:,1]),\n",
        "                            metrics.roc_auc_score(y_test,m.predict_proba(test)[:,1]))\n",
        "\n",
        "params = {'depth': [4, 7, 10],\n",
        "          'learning_rate' : [0.03, 0.1, 0.15],\n",
        "         'l2_leaf_reg': [1,4,9],\n",
        "         'iterations': [300]}\n",
        "cb = cb.CatBoostClassifier()\n",
        "cb_model = GridSearchCV(cb, params, scoring=\"roc_auc\", cv = 3)\n",
        "cb_model.fit(train, y_train)\n",
        "\n",
        "# With Categorical features\n",
        "clf = cb.CatBoostClassifier(eval_metric=\"AUC\", depth=10, iterations= 500, l2_leaf_reg= 9, learning_rate= 0.15)\n",
        "clf.fit(train,y_train)\n",
        "auc(clf, train, test)\n",
        "\n",
        "# With Categorical features\n",
        "clf = cb.CatBoostClassifier(eval_metric=\"AUC\",one_hot_max_size=31, \\\n",
        "                            depth=10, iterations= 500, l2_leaf_reg= 9, learning_rate= 0.15)\n",
        "clf.fit(train,y_train, cat_features= cat_features_index)\n",
        "auc(clf, train, test)"
      ],
      "execution_count": 0,
      "outputs": []
    },
    {
      "cell_type": "markdown",
      "metadata": {
        "id": "20lLx4cSucpO",
        "colab_type": "text"
      },
      "source": [
        "### best parameter 찾기<br>\n",
        "사실, Catboost 는 기본 파라미터가 기본적으로 최적화가 잘 되어있어서, 파라미터 튜닝에 크게 신경쓰지 않아도 된다고 한다. (반면 xgboost 나 light gbm 은 파라미터 튜닝에 매우 민감하다.) 사실 대부분 부스팅 모델들이 파라미터 튜닝하는 이유는, 트리의 다형성과 오버피팅 문제를 해결하기 위함인데, Catboost 는 이를 내부적인 알고리즘으로 해결하고 있으니, 굳이.. 파라미터 튜닝할 필요가 없는 것이다.\n",
        "굳이 한다면 learning_rate, random_strength, L2_regulariser 과 같은 파라미터 튜닝인데, 결과는 큰 차이가 없다고 한다.\n",
        "\n",
        "출처: https://dailyheumsi.tistory.com/136"
      ]
    },
    {
      "cell_type": "code",
      "metadata": {
        "id": "a3BemIAEuZrd",
        "colab_type": "code",
        "colab": {}
      },
      "source": [
        "## best parameter 찾는 과정\n",
        "# 우선 부차적인 parameter 찾아주고\n",
        "cb = CatBoostClassifier(\n",
        " learning_rate =0.1,\n",
        " iterations=100 #n-estimator대신 iteration을 사용,\n",
        ")\n",
        "\n",
        "cb_params_1 = {\n",
        "    'depth' : [3,5,7],\n",
        "    'random_strength' : [1,3],\n",
        "    'bagging_temperature' : [0,0.5,1],\n",
        "    'l2_leaf_reg' : [1,3,5,7],\n",
        "}\n",
        "cb_grid_1 = GridSearchCV(cb, param_grid=cb_params_1, scoring=my_scorer, cv=5, verbose=1)\n",
        "cb_grid_1.fit(train[features], train['Survived'])\n",
        "\n",
        "print(\"Best Score : {}\".format(cb_grid_1.best_score_))\n",
        "print(\"Best Params : {}\".format(cb_grid_1.best_params_))\n",
        "best_cb_model = cb_grid_1.best_estimator_\n",
        "\n",
        "# 최적의 core parameter 찾기\n",
        "cb_params_2 = {\n",
        "    'learning_rate' : [0.03, 0.07, 0.1],\n",
        "    'iterations' : [n for n in range(80,130,20)]\n",
        "}\n",
        "cb_grid_2 = GridSearchCV(best_cb_model, param_grid=cb_params_2, scoring=my_scorer, cv=5, verbose=1)\n",
        "cb_grid_2.fit(train[features], train['Survived'])\n",
        "\n",
        "print(\"Best Score : {}\".format(cb_grid_2.best_score_))\n",
        "print(\"Best Params : {}\".format(cb_grid_2.best_params_))\n",
        "best_cb_model = cb_grid_2.best_estimator_"
      ],
      "execution_count": 0,
      "outputs": []
    },
    {
      "cell_type": "markdown",
      "metadata": {
        "id": "u6Ppo8GhRaCU",
        "colab_type": "text"
      },
      "source": [
        "## 3) Light GBM"
      ]
    },
    {
      "cell_type": "markdown",
      "metadata": {
        "id": "93Vr5rYd0CJb",
        "colab_type": "text"
      },
      "source": [
        "### Light GBM은 뭐꼬???\n",
        "- Tree based learning 알고리즘의 gradient boosting framework!\n",
        "- 작은 데이터셋 규모로 진행했을 때 overfitting될 가능성이 매우 높기 때문에 10,000 row 이상인 데이터셋에 적합하다.\n",
        "- Catboost와 마찬가지로 categorical "
      ]
    },
    {
      "cell_type": "markdown",
      "metadata": {
        "id": "PNTmvYP-8Wue",
        "colab_type": "text"
      },
      "source": [
        "기본적인 lightgbm 사용방법"
      ]
    },
    {
      "cell_type": "code",
      "metadata": {
        "id": "bVj1bHF3z_5N",
        "colab_type": "code",
        "colab": {}
      },
      "source": [
        "import lightgbm as lgb\n",
        "from sklearn import metrics\n",
        "\n",
        "def auc2(m, train, test): \n",
        "    return (metrics.roc_auc_score(y_train,m.predict(train)),\n",
        "                            metrics.roc_auc_score(y_test,m.predict(test)))\n",
        "\n",
        "lg = lgb.LGBMClassifier(silent=False)\n",
        "param_dist = {\"max_depth\": [25,50, 75],\n",
        "              \"learning_rate\" : [0.01,0.05,0.1],\n",
        "              \"num_leaves\": [300,900,1200],\n",
        "              \"n_estimators\": [200]\n",
        "             }\n",
        "grid_search = GridSearchCV(lg, n_jobs=-1, param_grid=param_dist, cv = 3, scoring=\"roc_auc\", verbose=5)\n",
        "grid_search.fit(train,y_train)\n",
        "grid_search.best_estimator_\n",
        "\n",
        "d_train = lgb.Dataset(train, label=y_train)\n",
        "params = {\"max_depth\": 50, \"learning_rate\" : 0.1, \"num_leaves\": 900,  \"n_estimators\": 300}\n",
        "\n",
        "# Without Categorical Features\n",
        "model2 = lgb.train(params, d_train)\n",
        "auc2(model2, train, test)\n",
        "\n",
        "#With Catgeorical Features\n",
        "cate_features_name = [\"MONTH\",\"DAY\",\"DAY_OF_WEEK\",\"AIRLINE\",\"DESTINATION_AIRPORT\",\n",
        "                 \"ORIGIN_AIRPORT\"]\n",
        "model2 = lgb.train(params, d_train, categorical_feature = cate_features_name)\n",
        "auc2(model2, train, test)"
      ],
      "execution_count": 0,
      "outputs": []
    },
    {
      "cell_type": "markdown",
      "metadata": {
        "id": "OwoyzKeP8KBZ",
        "colab_type": "text"
      },
      "source": [
        "### Card Fraud detection에서 썼던 코드 모음"
      ]
    },
    {
      "cell_type": "markdown",
      "metadata": {
        "id": "Zu2H3HlgR75L",
        "colab_type": "text"
      },
      "source": [
        "#### 구글 드라이브 마운트"
      ]
    },
    {
      "cell_type": "code",
      "metadata": {
        "id": "Mfb9w1C6R6xZ",
        "colab_type": "code",
        "colab": {}
      },
      "source": [
        "from google.colab import drive\n",
        "drive.mount('/content/gdrive')"
      ],
      "execution_count": 0,
      "outputs": []
    },
    {
      "cell_type": "code",
      "metadata": {
        "id": "nh5TdsC1R6f-",
        "colab_type": "code",
        "colab": {}
      },
      "source": [
        "cd /content/gdrive/My \\Drive/"
      ],
      "execution_count": 0,
      "outputs": []
    },
    {
      "cell_type": "code",
      "metadata": {
        "id": "Cj2muovPR6VT",
        "colab_type": "code",
        "colab": {}
      },
      "source": [
        "# 사용자에 맞게 바꾸기\n",
        "# cd Colab \\Notebooks/"
      ],
      "execution_count": 0,
      "outputs": []
    },
    {
      "cell_type": "markdown",
      "metadata": {
        "id": "RiEMrXR5Rgzi",
        "colab_type": "text"
      },
      "source": [
        "#### Google Colab 사용 시 설치법"
      ]
    },
    {
      "cell_type": "code",
      "metadata": {
        "id": "RRJQGyryRg8O",
        "colab_type": "code",
        "colab": {}
      },
      "source": [
        "!git clone --recursive https://github.com/Microsoft/LightGBM"
      ],
      "execution_count": 0,
      "outputs": []
    },
    {
      "cell_type": "code",
      "metadata": {
        "id": "GBY4HUgtRhJq",
        "colab_type": "code",
        "colab": {}
      },
      "source": [
        "%cd LightGBM/"
      ],
      "execution_count": 0,
      "outputs": []
    },
    {
      "cell_type": "code",
      "metadata": {
        "id": "5f0KE_msRhQU",
        "colab_type": "code",
        "colab": {}
      },
      "source": [
        "!mkdir build"
      ],
      "execution_count": 0,
      "outputs": []
    },
    {
      "cell_type": "code",
      "metadata": {
        "id": "BDuYauo2RhfX",
        "colab_type": "code",
        "colab": {}
      },
      "source": [
        "!cmake -DUSE_GPU=1 #avoid ..\n",
        "!make -j$(nproc)"
      ],
      "execution_count": 0,
      "outputs": []
    },
    {
      "cell_type": "code",
      "metadata": {
        "id": "QO3oQDyFRhkx",
        "colab_type": "code",
        "colab": {}
      },
      "source": [
        "!sudo apt-get -y install python-pip"
      ],
      "execution_count": 0,
      "outputs": []
    },
    {
      "cell_type": "code",
      "metadata": {
        "id": "HYVsU8rTRh0-",
        "colab_type": "code",
        "colab": {}
      },
      "source": [
        "!sudo -H pip install setuptools pandas numpy scipy scikit-learn -U"
      ],
      "execution_count": 0,
      "outputs": []
    },
    {
      "cell_type": "code",
      "metadata": {
        "id": "FTwKo2aNRh7T",
        "colab_type": "code",
        "colab": {}
      },
      "source": [
        "%cd python-package/"
      ],
      "execution_count": 0,
      "outputs": []
    },
    {
      "cell_type": "code",
      "metadata": {
        "id": "dQRRStvVRiJR",
        "colab_type": "code",
        "colab": {}
      },
      "source": [
        "!sudo python setup.py install --precompile"
      ],
      "execution_count": 0,
      "outputs": []
    },
    {
      "cell_type": "code",
      "metadata": {
        "id": "2mo9LJCKRieQ",
        "colab_type": "code",
        "colab": {}
      },
      "source": [
        "# lgbm 설치시 pandas에서 오류가 나 재설정한 부분(선택적)\n",
        "!pip install pandas==0.18.1"
      ],
      "execution_count": 0,
      "outputs": []
    },
    {
      "cell_type": "markdown",
      "metadata": {
        "id": "fW4SD0goRir5",
        "colab_type": "text"
      },
      "source": [
        "#### LGBM 설치된 경로로 추가 설치과정 필요"
      ]
    },
    {
      "cell_type": "code",
      "metadata": {
        "id": "j2fkpSmdRhyy",
        "colab_type": "code",
        "colab": {}
      },
      "source": [
        "cd /content/gdrive/My \\Drive/"
      ],
      "execution_count": 0,
      "outputs": []
    },
    {
      "cell_type": "code",
      "metadata": {
        "id": "8PB-ByNGRhdS",
        "colab_type": "code",
        "colab": {}
      },
      "source": [
        "# 사용자에 따른 선택적, 개별 드라이브 상황에 따라 경로 설정-> but LightGBM을 설치한 경로에 맞춰야 함\n",
        "cd 경로/"
      ],
      "execution_count": 0,
      "outputs": []
    },
    {
      "cell_type": "code",
      "metadata": {
        "id": "mvQtPO35SLpK",
        "colab_type": "code",
        "colab": {}
      },
      "source": [
        "cd LightGBM"
      ],
      "execution_count": 0,
      "outputs": []
    },
    {
      "cell_type": "code",
      "metadata": {
        "id": "Y48rOD6gSJXi",
        "colab_type": "code",
        "colab": {}
      },
      "source": [
        "cd python-package"
      ],
      "execution_count": 0,
      "outputs": []
    },
    {
      "cell_type": "code",
      "metadata": {
        "id": "7r0kleBVSJoh",
        "colab_type": "code",
        "colab": {}
      },
      "source": [
        "!sudo python setup.py install --precompile"
      ],
      "execution_count": 0,
      "outputs": []
    },
    {
      "cell_type": "markdown",
      "metadata": {
        "id": "2S6RpknSSJuJ",
        "colab_type": "text"
      },
      "source": [
        "분석을 위한 경로 재설정"
      ]
    },
    {
      "cell_type": "code",
      "metadata": {
        "id": "nxfqggNfSJ9e",
        "colab_type": "code",
        "colab": {}
      },
      "source": [
        "from google.colab import drive\n",
        "drive.mount('/content/gdrive')"
      ],
      "execution_count": 0,
      "outputs": []
    },
    {
      "cell_type": "code",
      "metadata": {
        "id": "M3yPaJFUSKEr",
        "colab_type": "code",
        "colab": {}
      },
      "source": [
        "cd /content/gdrive/My \\Drive/"
      ],
      "execution_count": 0,
      "outputs": []
    },
    {
      "cell_type": "code",
      "metadata": {
        "id": "AAftnAzdSKTk",
        "colab_type": "code",
        "colab": {}
      },
      "source": [
        "# 사용자에 따른 선택적, 개별 드라이브 상황에 따라 경로 설정-> but LightGBM을 설치한 경로에 맞춰야 함\n",
        "cd 경로"
      ],
      "execution_count": 0,
      "outputs": []
    },
    {
      "cell_type": "markdown",
      "metadata": {
        "id": "3TEB4Gp9SKaK",
        "colab_type": "text"
      },
      "source": [
        "#### 기본 패키지 및 설정, 데이터 적재"
      ]
    },
    {
      "cell_type": "code",
      "metadata": {
        "id": "Y-SZ3L1PSKp5",
        "colab_type": "code",
        "colab": {}
      },
      "source": [
        "import pandas as pd\n",
        "import numpy as np\n",
        "from sklearn.model_selection import train_test_split\n",
        "\n",
        "pd.set_option('display.max_columns', None)"
      ],
      "execution_count": 0,
      "outputs": []
    },
    {
      "cell_type": "code",
      "metadata": {
        "id": "vbXLrqYpSKRJ",
        "colab_type": "code",
        "colab": {}
      },
      "source": [
        "train = pd.read_csv('final_train_merged.csv')    # 맞는 데이터 적재하기\n",
        "test = pd.read_csv('final_test_merged.csv')    # 맞는 데이터 적재하기"
      ],
      "execution_count": 0,
      "outputs": []
    },
    {
      "cell_type": "code",
      "metadata": {
        "id": "vYjRHWPPSJ7Z",
        "colab_type": "code",
        "colab": {}
      },
      "source": [
        "# test에 고객 아이디가 없어서 아이디 있는 파일 중 아무거나 가져옴. \n",
        "# test용 고객 아이디 있는 데이터면 수정해도 무방\n",
        "tt = pd.read_csv('pca_test_all_c_fraud.csv')"
      ],
      "execution_count": 0,
      "outputs": []
    },
    {
      "cell_type": "code",
      "metadata": {
        "id": "TJ9HpvS6S2dc",
        "colab_type": "code",
        "colab": {}
      },
      "source": [
        "del train['addr1_na']\n",
        "del test['addr1_na']\n",
        "\n",
        "del train['Unnamed: 0']\n",
        "del test['Unnamed: 0']"
      ],
      "execution_count": 0,
      "outputs": []
    },
    {
      "cell_type": "code",
      "metadata": {
        "id": "5ytVuMLjS2kX",
        "colab_type": "code",
        "colab": {}
      },
      "source": [
        "X = train.iloc[:, 1:].values\n",
        "y = train.iloc[:, 0].values\n",
        "\n",
        "X_test = test.values"
      ],
      "execution_count": 0,
      "outputs": []
    },
    {
      "cell_type": "code",
      "metadata": {
        "id": "D__t8VKqS21H",
        "colab_type": "code",
        "colab": {}
      },
      "source": [
        "print(X.shape, y.shape)"
      ],
      "execution_count": 0,
      "outputs": []
    },
    {
      "cell_type": "code",
      "metadata": {
        "id": "8sS2cZErS25a",
        "colab_type": "code",
        "colab": {}
      },
      "source": [
        "X_train, X_valid, y_train, y_valid = train_test_split(X, y, test_size=0.25)"
      ],
      "execution_count": 0,
      "outputs": []
    },
    {
      "cell_type": "markdown",
      "metadata": {
        "id": "FEItOgFcS3Iq",
        "colab_type": "text"
      },
      "source": [
        "#### LGBM 모델 사용"
      ]
    },
    {
      "cell_type": "code",
      "metadata": {
        "id": "H3YyeJbgS3QM",
        "colab_type": "code",
        "colab": {}
      },
      "source": [
        "import lightgbm as lgb\n",
        "import matplotlib.pyplot as plt\n",
        "from sklearn.model_selection import PredefinedSplit\n",
        "from sklearn.model_selection import GridSearchCV, ParameterGrid\n",
        "from sklearn.metrics import (roc_curve, auc, accuracy_score)\n",
        "from sklearn.metrics import roc_auc_score"
      ],
      "execution_count": 0,
      "outputs": []
    },
    {
      "cell_type": "code",
      "metadata": {
        "id": "k_AUfbAuS3cb",
        "colab_type": "code",
        "colab": {}
      },
      "source": [
        "params = {\n",
        "    'task': 'train',\n",
        "    'boosting_type': 'gbdt',\n",
        "    'objective': 'binary',\n",
        "    'metric': {'binary_logloss', 'auc'},\n",
        "    'metric_freq': 1,\n",
        "    'is_training_metric': True,\n",
        "    'max_bin': 255,\n",
        "    'learning_rate': 0.01,\n",
        "    'num_leaves': 63,\n",
        "    'tree_learner': 'serial',\n",
        "    'feature_fraction': 0.8,\n",
        "    'bagging_fraction': 0.8,\n",
        "    'bagging_freq': 5,\n",
        "    'min_data_in_leaf': 50,\n",
        "    'min_sum_hessian_in_leaf': 5,\n",
        "    'is_enable_sparse': True,\n",
        "    'use_two_round_loading': False,\n",
        "    'is_save_binary_file': False,\n",
        "    'output_model': 'LightGBM_model.txt',\n",
        "    'num_machines': 1,\n",
        "    'local_listen_port': 12400,\n",
        "    'machine_list_file': 'mlist.txt',\n",
        "    'verbose': 0,\n",
        "    'subsample_for_bin': 200000,\n",
        "    'min_child_samples': 20,\n",
        "    'min_child_weight': 0.001,\n",
        "    'min_split_gain': 0.0,\n",
        "    'colsample_bytree': 1.0,\n",
        "    'reg_alpha': 0.0,\n",
        "    'reg_lambda': 0.0\n",
        "}"
      ],
      "execution_count": 0,
      "outputs": []
    },
    {
      "cell_type": "code",
      "metadata": {
        "id": "9vFTCbAUS3gC",
        "colab_type": "code",
        "colab": {}
      },
      "source": [
        "lgb_train = lgb.Dataset(X_train, y_train)\n",
        "lgb_eval = lgb.Dataset(X_valid, y_valid, reference=lgb_train)"
      ],
      "execution_count": 0,
      "outputs": []
    },
    {
      "cell_type": "code",
      "metadata": {
        "id": "j5aKP7QqS3Gp",
        "colab_type": "code",
        "colab": {}
      },
      "source": [
        "model = lgb.train(params, lgb_train, 2500, lgb_eval, verbose_eval=10,  early_stopping_rounds=100)"
      ],
      "execution_count": 0,
      "outputs": []
    },
    {
      "cell_type": "code",
      "metadata": {
        "id": "Ta8d2_lbS2yp",
        "colab_type": "code",
        "colab": {}
      },
      "source": [
        "y_valid_pred = model.predict(X_valid)\n",
        "roc_auc_score(y_valid, y_valid_pred)"
      ],
      "execution_count": 0,
      "outputs": []
    },
    {
      "cell_type": "code",
      "metadata": {
        "id": "asTFo9xWSJmm",
        "colab_type": "code",
        "colab": {}
      },
      "source": [
        "prediction = model.predict(X_test)"
      ],
      "execution_count": 0,
      "outputs": []
    },
    {
      "cell_type": "markdown",
      "metadata": {
        "id": "19ivr7IpTOG9",
        "colab_type": "text"
      },
      "source": [
        "제출용 csv 만들기"
      ]
    },
    {
      "cell_type": "code",
      "metadata": {
        "id": "8jNynH4iTOXo",
        "colab_type": "code",
        "colab": {}
      },
      "source": [
        "tt['isFraud'] = prediction"
      ],
      "execution_count": 0,
      "outputs": []
    },
    {
      "cell_type": "code",
      "metadata": {
        "id": "6Bu5b0JtTOdK",
        "colab_type": "code",
        "colab": {}
      },
      "source": [
        "tt2 = tt[['TransactionID', 'isFraud']]"
      ],
      "execution_count": 0,
      "outputs": []
    },
    {
      "cell_type": "code",
      "metadata": {
        "id": "ISxAP-siTOVT",
        "colab_type": "code",
        "colab": {}
      },
      "source": [
        "tt2.to_csv('lgbm_git_.csv', index=False)"
      ],
      "execution_count": 0,
      "outputs": []
    },
    {
      "cell_type": "markdown",
      "metadata": {
        "colab_type": "text",
        "id": "LkShFY26KE3e"
      },
      "source": [
        "# 0. Machine learning: GridSearchCV"
      ]
    },
    {
      "cell_type": "markdown",
      "metadata": {
        "colab_type": "text",
        "id": "-a_KzM2ZKE3Q"
      },
      "source": [
        "\n",
        "- **GridSearchCV ( estimator = , param_grid = , scoring = , cv = , n_jobs = , verbose = )** : grid search 하기\n",
        "- **.best_score_**: 최적의 score 점수를 보여줌\n",
        "- **.best_estimator_**: 최적의 parameter로 설정된 모델을 생성\n",
        "- **.best_params_**: 최적의 parameter를 반환\n",
        "- **.cv_results_**: 전체적인 결과값들을 보여줌"
      ]
    },
    {
      "cell_type": "code",
      "metadata": {
        "colab_type": "code",
        "id": "B2F7YqwbKE2_",
        "colab": {}
      },
      "source": [
        "## Catboost best parameter 찾는 과정\n",
        "# 우선 부차적인 parameter 찾아주고\n",
        "cb = CatBoostClassifier(\n",
        " learning_rate =0.1,\n",
        " iterations=100 #n-estimator대신 iteration을 사용,\n",
        ")\n",
        "\n",
        "cb_params_1 = {\n",
        "    'depth' : [3,5,7],\n",
        "    'random_strength' : [1,3],\n",
        "    'bagging_temperature' : [0,0.5,1],\n",
        "    'l2_leaf_reg' : [1,3,5,7],\n",
        "}\n",
        "cb_grid_1 = GridSearchCV(cb, param_grid=cb_params_1, scoring=my_scorer, cv=5, verbose=1)\n",
        "cb_grid_1.fit(train[features], train['Survived'])\n",
        "\n",
        "print(\"Best Score : {}\".format(cb_grid_1.best_score_))\n",
        "print(\"Best Params : {}\".format(cb_grid_1.best_params_))\n",
        "best_cb_model = cb_grid_1.best_estimator_\n",
        "\n",
        "# 최적의 core parameter 찾기\n",
        "cb_params_2 = {\n",
        "    'learning_rate' : [0.03, 0.07, 0.1],\n",
        "    'iterations' : [n for n in range(80,130,20)]\n",
        "}\n",
        "cb_grid_2 = GridSearchCV(best_cb_model, param_grid=cb_params_2, scoring=my_scorer, cv=5, verbose=1)\n",
        "cb_grid_2.fit(train[features], train['Survived'])\n",
        "\n",
        "print(\"Best Score : {}\".format(cb_grid_2.best_score_))\n",
        "print(\"Best Params : {}\".format(cb_grid_2.best_params_))\n",
        "best_cb_model = cb_grid_2.best_estimator_"
      ],
      "execution_count": 0,
      "outputs": []
    },
    {
      "cell_type": "code",
      "metadata": {
        "colab_type": "code",
        "id": "pTzslcTdKE20",
        "colab": {}
      },
      "source": [
        "### Xgboost best parameter 찾기\n",
        "## 처음에는 부차적인 parameter를 tuning하기\n",
        "# GridSearchCV에 들어갈 param_grid, estimator, scoring 만들어주기\n",
        "from sklearn.metrics import make_scorer\n",
        "from sklearn.model_selection import GridSearchCV\n",
        "from sklearn.metrics import auc, f1_score, accuracy_score\n",
        "my_scorer = make_scorer(accuracy_score, greater_is_better = True)\n",
        "\n",
        "xgb1 = XGBClassifier(\n",
        " learning_rate =0.1,\n",
        " n_estimators=100,\n",
        ")\n",
        "\n",
        "xgb_params_1 = {\n",
        "    'max_depth' : [3,5,7],\n",
        "    'min_child_weight' : [0.5, 1],\n",
        "    'gamma' : [0, 0.1],\n",
        "    'subsample' : [0.5, 0.7, 0.9],\n",
        "    'colsample_bytree' : [0.5, 0.7, 0.9],\n",
        "} #3x2x2x3x3=108가지 경우의 수\n",
        "\n",
        "# GridSearchCV 돌리기\n",
        "xgb_grid_1 = GridSearchCV(estimator=xgb1, param_grid=xgb_params_1, \n",
        "                          scoring=my_scorer, cv=5, n_jobs=1, verbose=1)\n",
        "xgb_grid_1.fit(train[features], train['Survived']) # Titanic data\n",
        "\n",
        "# 제일 좋은 모델 뽑기\n",
        "print(\"Best Score : {}\".format(xgb_grid_1.best_score_))\n",
        "print(\"Best Params : {}\".format(xgb_grid_1.best_params_))\n",
        "\n",
        "# 표로 한 번 뽑아보고\n",
        "results = pd.DataFrame(xgb_grid_1.cv_results_)\n",
        "results = results.sort_values(by='mean_test_score', ascending=False)\n",
        "results.head()\n",
        "\n",
        "# 다시 Core parameter 설정!\n",
        "best_xgb_model = xgb_grid_1.best_estimator_\n",
        "xgb_params_2 = {\n",
        "    'learning_rate' : [0.01, 0.05, 0.07, 0.1, 0.2],\n",
        "    'n_estimators' : [n for n in range(100,200,20)]\n",
        "}\n",
        "xgb_grid_2 = GridSearchCV(best_xgb_model, param_grid=xgb_params_2, scoring=my_scorer, cv=5, verbose=1)\n",
        "xgb_grid_2.fit(train[features], train['Survived'])\n",
        "\n",
        "# 제일 좋은 모델 뽑기\n",
        "print(\"Best Score : {}\".format(xgb_grid_2.best_score_))\n",
        "print(\"Best Params : {}\".format(xgb_grid_2.best_params_))\n",
        "best_xgb_model = xgb_grid_2.best_estimator_"
      ],
      "execution_count": 0,
      "outputs": []
    },
    {
      "cell_type": "markdown",
      "metadata": {
        "id": "-sxs7kF6P0PE",
        "colab_type": "text"
      },
      "source": [
        "# 0. Machine learning: Clustering"
      ]
    },
    {
      "cell_type": "markdown",
      "metadata": {
        "id": "8x49TXSDwJfl",
        "colab_type": "text"
      },
      "source": [
        "## Clustering이란....?\n",
        "\n",
        "- 대표적인 비지도학습. 집단이 주어지지 않은 데이터에 군집을 부여해주는 것\n",
        "- 방법은 크게 3개. Hierarchical clustering / K-means clustering / KNN clustering\n",
        "  - Hierarchical Clustering: Connectivity method를 활용하여 Bottom-Up 방식으로 덴드로그램을 그려주고 거기서 주관에 의해서 적절한 군집 갯수를 찾는 방식. 큰 데이터에는 적용하기 힘들다.\n",
        "    - 거리측정 방식: https://datascienceschool.net/view-notebook/094bcb7b86574711a2e8d81f26bce2f5/\n",
        "  - K-means Clustering: Centroid 방식을 활용하여 주어진 갯수에 맞게 군집을 나눠준다.\n",
        "\n",
        "  - KNN Clustering: 패턴 인식에서 분류나 회귀에 사용되는 비모수 방식이다. 데이터의 지역 구조에 민감하다. 쉽게 구현이 되나 계산량이 많다. 매우 일관성 있는 결과를 도출해낸다."
      ]
    },
    {
      "cell_type": "markdown",
      "metadata": {
        "id": "NkNfAwhWs9Ft",
        "colab_type": "text"
      },
      "source": [
        "### K-means 예시"
      ]
    },
    {
      "cell_type": "code",
      "metadata": {
        "id": "EzRP-a7MpJgH",
        "colab_type": "code",
        "colab": {}
      },
      "source": [
        "# Kmeans 예시1\n",
        "from sklearn.cluster import KMeans\n",
        "import numpy as np\n",
        "X = np.array([[1, 2], [1, 4], [1, 0],\n",
        "               [10, 2], [10, 4], [10, 0]])\n",
        "\n",
        "kmeans = KMeans(n_clusters=2, random_state=0).fit(X)  # 2개의 cluster로 나눠라\n",
        "\n",
        "kmeans.labels_    # 각 데이터에 대한 클러스터 결과물\n",
        "# array([1, 1, 1, 0, 0, 0], dtype=int32)\n",
        "\n",
        "kmeans.predict([[0, 0], [12, 3]])\n",
        "# array([1, 0], dtype=int32)\n",
        "\n",
        "kmeans.cluster_centers_\n",
        "#array([[10.,  2.], [ 1.,  2.]])"
      ],
      "execution_count": 0,
      "outputs": []
    },
    {
      "cell_type": "code",
      "metadata": {
        "id": "vnxM7Z25pJnI",
        "colab_type": "code",
        "colab": {}
      },
      "source": [
        "# Kmeans 예시2\n",
        "import pandas as pd\n",
        "from sklearn.cluster import KMeans\n",
        "\n",
        "df = pd.DataFrame([\n",
        "        [2, 1],\n",
        "        [3, 2],\n",
        "        [3, 4],\n",
        "        [5, 5],\n",
        "        [7, 5],\n",
        "        [2, 5],\n",
        "        [8, 9],\n",
        "        [9, 10],\n",
        "        [6, 12]\n",
        "    ], columns=['hour', 'attendance'])\n",
        "\n",
        "model = KMeans(n_clusters=3)\n",
        "\n",
        "model.fit(df)\n",
        "\n",
        "y_predict = model.fit_predict(df)\n",
        "print(y_predict) \n",
        "#[0 0 0 2 2 0 1 1 1]\n",
        "\n",
        "df['cluster'] = y_predict\n",
        "print(df)\n",
        "'''\n",
        "   hour  attendance  cluster\n",
        "0     2           1        0\n",
        "1     3           2        0\n",
        "2     3           4        0\n",
        "3     5           5        2\n",
        "4     7           5        2\n",
        "5     2           5        0\n",
        "6     8           9        1\n",
        "7     9          10        1\n",
        "8     6          12        1\n",
        "'''"
      ],
      "execution_count": 0,
      "outputs": []
    },
    {
      "cell_type": "markdown",
      "metadata": {
        "id": "txB_GvvbtBcP",
        "colab_type": "text"
      },
      "source": [
        "### Hierarchical 예시"
      ]
    },
    {
      "cell_type": "code",
      "metadata": {
        "id": "T7g8_3TRrtTL",
        "colab_type": "code",
        "colab": {}
      },
      "source": [
        "# Hierarchical clustering 예시1 (by.sklearn)\n",
        "from sklearn.cluster import AgglomerativeClustering\n",
        "\n",
        "cluster = AgglomerativeClustering(n_clusters=2, affinity='euclidean', linkage='ward')\n",
        "cluster.fit_predict(X)\n",
        "\n",
        "print(cluster.labels_)"
      ],
      "execution_count": 0,
      "outputs": []
    },
    {
      "cell_type": "code",
      "metadata": {
        "id": "tzvUimTusCly",
        "colab_type": "code",
        "colab": {}
      },
      "source": [
        "# Hierarchical clustering 예시2 (실제 data로 응용하는 법)\n",
        "import scipy.cluster.hierarchy as shc\n",
        "data = customer_data.iloc[:, 3:5].values    # iloc 의미, 전체 row와 3~4번째 column의 값을 nparray 형식으로 반환\n",
        "\n",
        "plt.figure(figsize=(10, 7))\n",
        "plt.title(\"Customer Dendograms\")\n",
        "dend = shc.dendrogram(shc.linkage(data, method='ward'))    # dendrogram에서 적정 군집 수를 파악하고\n",
        "\n",
        "from sklearn.cluster import AgglomerativeClustering\n",
        "cluster = AgglomerativeClustering(n_clusters=5, affinity='euclidean', linkage='ward')    # 그 군집 수를 적용시켜줌\n",
        "cluster.fit_predict(data)\n",
        "\n",
        "print(cluster.labels_)\n",
        "\n",
        "# scatter plot 그리기\n",
        "plt.figure(figsize=(10, 7))\n",
        "plt.scatter(data[:,0], data[:,1], c=cluster.labels_, cmap='rainbow')"
      ],
      "execution_count": 0,
      "outputs": []
    },
    {
      "cell_type": "code",
      "metadata": {
        "id": "6IVPcgSmrIyI",
        "colab_type": "code",
        "colab": {}
      },
      "source": [
        "# Hierarchical clustering 예시3\n",
        "linked = linkage(X, 'single')\n",
        "\n",
        "labelList = range(1, 11)\n",
        "\n",
        "plt.figure(figsize=(10, 7))\n",
        "dendrogram(linked,\n",
        "            orientation='top',\n",
        "            labels=labelList,\n",
        "            distance_sort='descending',\n",
        "            show_leaf_counts=True)\n",
        "plt.show()"
      ],
      "execution_count": 0,
      "outputs": []
    }
  ]
}