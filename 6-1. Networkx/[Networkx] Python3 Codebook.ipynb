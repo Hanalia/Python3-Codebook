{
  "nbformat": 4,
  "nbformat_minor": 0,
  "metadata": {
    "colab": {
      "name": "(원본) [Networkx] Python3 Codebook.ipynb",
      "provenance": [],
      "collapsed_sections": [
        "K-rJjdFl113M",
        "nm4uTl3X13qP"
      ],
      "toc_visible": true
    },
    "kernelspec": {
      "name": "python3",
      "display_name": "Python 3"
    },
    "accelerator": "GPU"
  },
  "cells": [
    {
      "cell_type": "markdown",
      "metadata": {
        "id": "RYFuejL5sXMt"
      },
      "source": [
        "---\n",
        "# 📁 Hyun's Code collection (Networkx) \n",
        "---\n",
        "\n",
        "### <h3 align=\"right\">🥇 Authored by <strong>Hyun</strong></h3>"
      ]
    },
    {
      "cell_type": "markdown",
      "metadata": {
        "id": "K-rJjdFl113M"
      },
      "source": [
        "# ✏️ What is **Networkx**?"
      ]
    },
    {
      "cell_type": "markdown",
      "metadata": {
        "id": "NMqKrr39ju8O"
      },
      "source": [
        "- 각 객체와 객체 사이의 네트워크를 분석해주는 툴이다.\n",
        "- 인물관계 정리, 카톡 대화 친밀도 분석 등 네트워크 분석에 사용할 수 있다.\n"
      ]
    },
    {
      "cell_type": "markdown",
      "metadata": {
        "id": "Qw_VQlJe13t6"
      },
      "source": [
        "# ✏️ Import Libraries"
      ]
    },
    {
      "cell_type": "code",
      "metadata": {
        "id": "gRO8gtPDrySn"
      },
      "source": [
        "import networkx as nx"
      ],
      "execution_count": null,
      "outputs": []
    },
    {
      "cell_type": "markdown",
      "metadata": {
        "id": "nm4uTl3X13qP"
      },
      "source": [
        "# ✏️ Methods and Examples"
      ]
    },
    {
      "cell_type": "markdown",
      "metadata": {
        "id": "hkuW6egU2qTh"
      },
      "source": [
        "## 🔎 Basic Methods"
      ]
    },
    {
      "cell_type": "markdown",
      "metadata": {
        "id": "qsdBFGmdIBTW"
      },
      "source": [
        "- **nx .Graph ( )**: 빈 도화지 만들기\n",
        "- **.add_node ( )**: node 추가하기\n",
        "\n",
        "  **.add_nodes_from( list )**: list에서 node를 추가해줄 수도 있음\n",
        "- **nx .path_graph( 숫자 )**: 일렬로 연결된 n개의 node를 return함.\n",
        "- **nx .draw( 도화지 설정, with_labels = True , node_color = ' ' , node_shape = ' ' , node_size = , pos = pos)**:  network 그리기\n",
        "  \n",
        "  **nx .draw_networkx ( 그래프 , node_size = , node_color = ' ' , alpha = , width = )**: networkd 그리기\n",
        "- **.degree ( )**: 각 node의 degree값을 구할 수 있다.\n",
        "\n",
        "> Networkx with pandas dataframe\n",
        "- **nx.from_pandas_edgelist( 데이터프레임 이름, ' 칼럼1 ' , ' 칼럼2 ' , create_using = )**: pandas에서 정보 가져오기"
      ]
    },
    {
      "cell_type": "markdown",
      "metadata": {
        "id": "PfkWW6LW3Agg"
      },
      "source": [
        "### 📔 Examples"
      ]
    },
    {
      "cell_type": "code",
      "metadata": {
        "id": "Cf8mPNLUMzWF"
      },
      "source": [
        "# node의 위치 설정하기. x축과 y축으로\n",
        "pos = {'Young-Kwon':(1,6),\n",
        "       'Heung-Min':(10,7), \n",
        "       'Sung-Yeung':(5,5), \n",
        "       'Chul':(1,11), \n",
        "       'Tae-Hee':(10,9),\n",
        "       'Hyun-Soo':(1,4), \n",
        "       'Yong':(1,2), \n",
        "       'Jae-Sung':(10,5), \n",
        "       'Dong-Won':(15,7), \n",
        "       'Woo-Young':(5,9), \n",
        "       'Min-Jae':(1,8), \n",
        "       'Ui-Jo':(15,5), \n",
        "       'Sun-Min':(14,3), \n",
        "       'In-Beom':(10,9.5), \n",
        "       'Moonhwan':(2,2), \n",
        "       'Seung-Woo':(14,9)}"
      ],
      "execution_count": null,
      "outputs": []
    },
    {
      "cell_type": "code",
      "metadata": {
        "id": "WCI9JaOcK5A4"
      },
      "source": [
        "# nx.from_pandas_edgelist() 예시1\n",
        "# 축구는 볼의 흐름이 중요하므로, nx.digraph를 이용하는 것이 좋겠습니다.\n",
        "G = nx.from_pandas_edgelist(costarica, 'from', 'to', create_using=nx.DiGraph()) #시작점과 끝점의 컬럼을 이어줍니다.\n",
        " \n",
        "# Plot it\n",
        "plt.figure(figsize=(15, 9))\n",
        "nx.draw(G,\n",
        "        with_labels=True,\n",
        "        node_color=\"coral\",\n",
        "        node_shape='D',\n",
        "        node_size = 2000,\n",
        "        pos = pos\n",
        "       )"
      ],
      "execution_count": null,
      "outputs": []
    },
    {
      "cell_type": "code",
      "metadata": {
        "id": "XmjZKkwSK46n"
      },
      "source": [
        "# Link weight 반영해서 graph 그리기\n",
        "# links에서 value 항목만 추출한다\n",
        "edge_width = [x['value'] for x in links]\n",
        "# 1~10 정도로 스케일을 조정한다\n",
        "edge_width = [(x / max(edge_width) * 9) + 1 for x in edge_width]\n",
        "\n",
        "plt.figure(figsize=(20, 15))\n",
        "plt.axis('off')\n",
        "nx.draw_networkx(graph_miseables, \n",
        "                 node_size=node_sizes, width=edge_width,\n",
        "                 node_color='#FF69B4', alpha=0.5)"
      ],
      "execution_count": null,
      "outputs": []
    },
    {
      "cell_type": "code",
      "metadata": {
        "id": "u2r8lTTaK40W"
      },
      "source": [
        "# Node weight 반영해서 graph 그리기\n",
        "graph_degrees = graph_miseables.degree() # Degree 값 구하기\n",
        "node_sizes = [graph_degrees[x] * 100 for x in node_names] # Node Size로 Rescale\n",
        "## 팍팍 곱해줘야 눈에 띄게 늘어난다.\n",
        "\n",
        "plt.figure(figsize=(20, 15))\n",
        "plt.axis('off')\n",
        "nx.draw_networkx(graph_miseables, node_size=node_sizes, node_color='#88B04B', alpha=0.5)"
      ],
      "execution_count": null,
      "outputs": []
    },
    {
      "cell_type": "code",
      "metadata": {
        "id": "cNPxh11UK4uM"
      },
      "source": [
        "# .degree()\n",
        "mis_degree = dict(graph_miseables.degree())\n",
        "mis_degree"
      ],
      "execution_count": null,
      "outputs": []
    },
    {
      "cell_type": "code",
      "metadata": {
        "id": "g_FNf9uHIBaG"
      },
      "source": [
        "# nx.path_graph()\n",
        "H = nx.path_graph(10) #일렬로 연결된 n개의 node를 return합니다(순서는 무작위).\n",
        "G.add_nodes_from(H)\n",
        "\n",
        "nx.draw(G, with_labels = True, node_color = 'coral')"
      ],
      "execution_count": null,
      "outputs": []
    },
    {
      "cell_type": "code",
      "metadata": {
        "id": "XEclfXUkIBhH"
      },
      "source": [
        "# Networkx 예시\n",
        "graph_miseables = nx.Graph()\n",
        "\n",
        "# Node List에서 name 항목만 추출한다.\n",
        "node_names = [x['name'] for x in nodes]\n",
        "\n",
        "# 각 항목을 Graph에 Node로 등록한다.\n",
        "graph_miseables.add_nodes_from(node_names)\n",
        "\n",
        "# Edge List에서 (source_name, target_name) 형태로 추출한다\n",
        "link_indices = [(node_names[x['source']], node_names[x['target']]) for x in links]\n",
        "\n",
        "# 각 항목을 Graph에 Edge로 등록한다\n",
        "graph_miseables.add_edges_from(link_indices)\n",
        "\n",
        "# matplotlib 설정\n",
        "%config InlineBackend.figure_format = 'retina'\n",
        "plt.figure(figsize=(20, 15)) # 그래프 size\n",
        "plt.axis('off') # 축 제거\n",
        "nx.draw_networkx(graph_miseables) # 그래프 그리기"
      ],
      "execution_count": null,
      "outputs": []
    },
    {
      "cell_type": "markdown",
      "metadata": {
        "id": "RviKrEau3CQ-"
      },
      "source": [
        "### 📔 Examples (Networkx with Kakao chat data)"
      ]
    },
    {
      "cell_type": "markdown",
      "metadata": {
        "id": "kCkqb00k3FfD"
      },
      "source": [
        "Data Cleansing"
      ]
    },
    {
      "cell_type": "code",
      "metadata": {
        "id": "CM9w5z05cfBr"
      },
      "source": [
        "temp = df.copy()"
      ],
      "execution_count": null,
      "outputs": []
    },
    {
      "cell_type": "code",
      "metadata": {
        "id": "nOoClJb2clSl"
      },
      "source": [
        "links = []\n",
        "for i in range(0,87):\n",
        "    chatters = set(temp[index_s[i]+1:index_s[i+1]+1].chatter.tolist())    # 30분 이상 대화가 끊겼을 당시의 대화자를 모아서\n",
        "    links.append(list(itertools.combinations(chatters,2)))\n",
        "    print(\"이번에 추가된 조합 수: \", len(list((itertools.combinations(chatters,2)))))    # combination 시켜서 links에 추가\n",
        "first_miss = set(temp[0:index_s[0]+1].chatter.tolist())\n",
        "last_miss = set(temp[index_s[87]+1:].chatter.tolist())\n",
        "links.append(list(itertools.combinations(first_miss,2)))\n",
        "print(\"first_miss에서 추가된 조합 수: \", len(list(itertools.combinations(first_miss,2))))\n",
        "links.append(list(itertools.combinations(last_miss,2)))\n",
        "print(\"first_miss에서 추가된 조합 수: \", len(list(itertools.combinations(last_miss,2))))"
      ],
      "execution_count": null,
      "outputs": []
    },
    {
      "cell_type": "code",
      "metadata": {
        "id": "FVBZaeU8clOg"
      },
      "source": [
        "final_links = []    # 겹쳐져있던 list를 풀어주기\n",
        "for l in links:\n",
        "    for x in l:\n",
        "        final_links.append(x)\n",
        "final_links"
      ],
      "execution_count": null,
      "outputs": []
    },
    {
      "cell_type": "markdown",
      "metadata": {
        "id": "daTfmZwyclKM"
      },
      "source": [
        "Draw Graph"
      ]
    },
    {
      "cell_type": "code",
      "metadata": {
        "id": "CKgwBXWEclGP"
      },
      "source": [
        "# 우선 도화지 그려주고\n",
        "graph_kakao = nx.Graph()"
      ],
      "execution_count": null,
      "outputs": []
    },
    {
      "cell_type": "code",
      "metadata": {
        "id": "ILktpTNXclBi"
      },
      "source": [
        "# node 추가해주고\n",
        "node_names = df.chatter.unique()\n",
        "graph_kakao.add_nodes_from(node_names)"
      ],
      "execution_count": null,
      "outputs": []
    },
    {
      "cell_type": "code",
      "metadata": {
        "id": "DmU0L4m3ck9r"
      },
      "source": [
        "# edge 추가해주고\n",
        "link_indices = final_links\n",
        "graph_kakao.add_edges_from(link_indices)"
      ],
      "execution_count": null,
      "outputs": []
    },
    {
      "cell_type": "code",
      "metadata": {
        "id": "1mZi3g5Kck6B"
      },
      "source": [
        "# 위치 지정해주고\n",
        "pos = {'A':(1,6),\n",
        "       'B':(10,7), \n",
        "       'C':(5,5), \n",
        "       'D':(1,11), \n",
        "       'E':(10,9),\n",
        "       'F':(1,2), \n",
        "       'G':(1,4), \n",
        "       'H':(10,5), \n",
        "       'I':(15,7),\n",
        "       'J':(8,8),\n",
        "       'K':(5,9)}"
      ],
      "execution_count": null,
      "outputs": []
    },
    {
      "cell_type": "code",
      "metadata": {
        "id": "Uq7t72Tqck1x"
      },
      "source": [
        "graph_degrees = graph_kakao.degree()\n",
        "node_sizes = [graph_degrees[x]*700 for x in node_names]\n",
        "\n",
        "%config InlineBackend.figure_format = 'retina'\n",
        "plt.figure(figsize=(20, 15)) # 그래프 size\n",
        "plt.axis('off') # 축 제거\n",
        "nx.draw_networkx_labels(graph_kakao,pos=pos,font_size=10)\n",
        "nx.draw_networkx(graph_kakao, node_size=node_sizes, font_family=font_name,node_color = 'yellow', alpha=0.5)"
      ],
      "execution_count": null,
      "outputs": []
    }
  ]
}