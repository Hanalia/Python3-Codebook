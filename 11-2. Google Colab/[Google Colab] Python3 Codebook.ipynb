{
  "nbformat": 4,
  "nbformat_minor": 0,
  "metadata": {
    "colab": {
      "name": "(원본) [Google Colab] Python3 Codebook.ipynb",
      "provenance": [],
      "collapsed_sections": [],
      "toc_visible": true
    },
    "kernelspec": {
      "name": "python3",
      "display_name": "Python 3"
    },
    "accelerator": "GPU"
  },
  "cells": [
    {
      "cell_type": "markdown",
      "metadata": {
        "id": "RYFuejL5sXMt"
      },
      "source": [
        "---\n",
        "# 📁 Hyun's Code collection (Google Colab) \n",
        "---\n",
        "\n",
        "### <h3 align=\"right\">🥇 Authored by <strong>Hyun</strong></h3>"
      ]
    },
    {
      "cell_type": "markdown",
      "metadata": {
        "id": "WxstAY9JGG8K"
      },
      "source": [
        "# ✏️  What is **Google Colab**?"
      ]
    },
    {
      "cell_type": "markdown",
      "metadata": {
        "id": "_fL_jN6vGHxX"
      },
      "source": [
        "- 구글 드라이브에 jupyter notebook 파일을 옮긴 뒤 열면 열리는 게 Google Colab\n",
        "- GPU, TPU를 사용할 수 잇다는 점에서 유용함\n",
        "- 데이터가 작고 학습이 적게 걸리는 소규모 프로젝트에 유용하다.\n",
        "- 메모리가 제한적이라는 점, 런타임이 빨리 끊긴다는 단점이 있어 대규모 장기 프로젝트에는 부적합한 것 같다."
      ]
    },
    {
      "cell_type": "markdown",
      "metadata": {
        "id": "pbLDVu8hFQDM"
      },
      "source": [
        "# ✏️  Tips for Google Colab"
      ]
    },
    {
      "cell_type": "markdown",
      "metadata": {
        "id": "HJWGKZ41nhQI"
      },
      "source": [
        "## 🔎 Google Drive Mount and import"
      ]
    },
    {
      "cell_type": "code",
      "metadata": {
        "id": "RvBx2HRom8bP",
        "colab": {
          "base_uri": "https://localhost:8080/",
          "height": 125
        },
        "outputId": "8d3eddc5-6882-48ae-f2b3-5f1e8694fda0"
      },
      "source": [
        "# Google Drive Mount\n",
        "\n",
        "from google.colab import auth\n",
        "auth.authenticate_user()\n",
        "\n",
        "from google.colab import drive\n",
        "drive.mount('/content/gdrive')"
      ],
      "execution_count": null,
      "outputs": [
        {
          "output_type": "stream",
          "text": [
            "Go to this URL in a browser: https://accounts.google.com/o/oauth2/auth?client_id=947318989803-6bn6qk8qdgf4n4g3pfee6491hc0brc4i.apps.googleusercontent.com&redirect_uri=urn%3aietf%3awg%3aoauth%3a2.0%3aoob&response_type=code&scope=email%20https%3a%2f%2fwww.googleapis.com%2fauth%2fdocs.test%20https%3a%2f%2fwww.googleapis.com%2fauth%2fdrive%20https%3a%2f%2fwww.googleapis.com%2fauth%2fdrive.photos.readonly%20https%3a%2f%2fwww.googleapis.com%2fauth%2fpeopleapi.readonly\n",
            "\n",
            "Enter your authorization code:\n",
            "··········\n",
            "Mounted at /content/gdrive\n"
          ],
          "name": "stdout"
        }
      ]
    },
    {
      "cell_type": "code",
      "metadata": {
        "id": "Ws2AFvnpnApF",
        "colab": {
          "base_uri": "https://localhost:8080/",
          "height": 34
        },
        "outputId": "9d850386-8946-4a14-f573-f518a6644cce"
      },
      "source": [
        "cd gdrive/My Drive/스스로공부하는능동적이고자율적인혀누"
      ],
      "execution_count": null,
      "outputs": [
        {
          "output_type": "stream",
          "text": [
            "/content/gdrive/My Drive/스스로공부하는능동적이고자율적인혀누\n"
          ],
          "name": "stdout"
        }
      ]
    },
    {
      "cell_type": "markdown",
      "metadata": {
        "id": "2-UXB5wT5edk"
      },
      "source": [
        "## 🔎 Solving Jupyter Disconnection Problem"
      ]
    },
    {
      "cell_type": "markdown",
      "metadata": {
        "id": "hNYFkStC5hjX"
      },
      "source": [
        "> Javascrip interval을 만들어서 60초마다 계속 클릭하도록 만들기!!!\n",
        " - Ctrl+Shift+I를 눌러서 developer-settings을 연다.\n",
        " - `console`을 누르고\n",
        " - console prompt에 밑에 코드를 붙여넣는다.\n",
        " ``` javascript\n",
        "function ConnectButton(){\n",
        "    console.log(\"Connect pushed\"); \n",
        "    document.querySelector(\"#connect\").click() \n",
        "}\n",
        "setInterval(ConnectButton,60000);\n",
        "```"
      ]
    },
    {
      "cell_type": "markdown",
      "metadata": {
        "id": "X1vBzDxtFwX5"
      },
      "source": [
        "## 🔎 Colab Useful Command"
      ]
    },
    {
      "cell_type": "markdown",
      "metadata": {
        "id": "bldmR4vjV5_a"
      },
      "source": [
        "- enter: 해당 셀로 작성이 들어감\n",
        "- tab: 변수 이름이 길 때 자동 완성\n",
        "- 블록 칠하고 \": 누르면 앞 뒤에 \" \"을 생성\n",
        "- **?, shift + tab**: parameter 값들을 전부 볼 수 있다.\n",
        "- Ctrl + /: 주석 빼기, 주석 넣기\n",
        "- Ctrl + k: 한 줄 삭제\n",
        "- Shift + Alt + 위아래 방향키: 같은 줄 복사"
      ]
    },
    {
      "cell_type": "code",
      "metadata": {
        "id": "QwB7YYluFgyS"
      },
      "source": [
        "# ?, shift+tab\n",
        "pd.value_count?\n",
        "\n",
        "pd.read_csv?"
      ],
      "execution_count": null,
      "outputs": []
    },
    {
      "cell_type": "markdown",
      "metadata": {
        "id": "HaZVIA3SFxCm"
      },
      "source": [
        "## 🔎 LightGBM error fixing code in colab"
      ]
    },
    {
      "cell_type": "code",
      "metadata": {
        "id": "yM3un8qhTvnk"
      },
      "source": [
        "%cd /content/\n",
        "#lgbm with gpu on colab\n",
        "!git clone https://github.com/Microsoft/LightGBM\n",
        "%cd /content/LightGBM\n",
        "!mkdir build\n",
        "!cmake -DUSE_GPU=1\n",
        "!make -j$(nproc)\n",
        "!sudo apt-get -y install python-pip\n",
        "!sudo -H pip install setuptools pandas numpy scipy scikit-learn -U\n",
        "%cd /content/LightGBM/python-package\n",
        "!sudo python setup.py install\n",
        "!pip3 uninstall scikit-learn\n",
        "!pip3 install scikit-learn==0.21.3"
      ],
      "execution_count": null,
      "outputs": []
    }
  ]
}