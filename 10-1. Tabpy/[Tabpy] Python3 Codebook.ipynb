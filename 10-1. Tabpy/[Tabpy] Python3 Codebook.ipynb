{
  "nbformat": 4,
  "nbformat_minor": 0,
  "metadata": {
    "colab": {
      "name": "(원본) [Tabpy] Python3 Codebook.ipynb",
      "provenance": [],
      "collapsed_sections": [
        "JelDCixO8lXi",
        "GEZWLRaB8nbB"
      ]
    },
    "kernelspec": {
      "name": "python3",
      "display_name": "Python 3"
    },
    "accelerator": "GPU"
  },
  "cells": [
    {
      "cell_type": "markdown",
      "metadata": {
        "id": "8CqBLaAM9FCV"
      },
      "source": [
        "---\n",
        "# 📁 Hyun's Code collection (Tabpy) \n",
        "---\n",
        "\n",
        "### <h3 align=\"right\">🥇 Authored by <strong>Hyun</strong></h3>"
      ]
    },
    {
      "cell_type": "markdown",
      "metadata": {
        "id": "JelDCixO8lXi"
      },
      "source": [
        "# ✏️ What is **Tabpy**?"
      ]
    },
    {
      "cell_type": "markdown",
      "metadata": {
        "id": "P9gSsdWkbFho"
      },
      "source": [
        "- Tabpy는 파이썬 코드를 Tableau에서 실행할 수 있게 도와주는 라이브러리"
      ]
    },
    {
      "cell_type": "markdown",
      "metadata": {
        "id": "GEZWLRaB8nbB"
      },
      "source": [
        "# ✏️ How to Use Tabpy"
      ]
    },
    {
      "cell_type": "markdown",
      "metadata": {
        "id": "7ajZT9KQkNLx"
      },
      "source": [
        "- [Installation Guide](https://technowhisp.com/tableau-prep-python-integration-installing-and-setting-up-tabpy/)\n",
        "- 먼저 tabpy를 설치한다.\n",
        "```console\n",
        "$ pip install tabpy\n",
        "```\n",
        "- prmompt에서 tabpy server를 실행시켜준다.\n",
        "```console\n",
        "$ tabpy\n",
        "```\n",
        "- Tableau에서 [Help] -> [Settings and Performance] -> [Manage Analytics Extention Connection]을 들어가서 server를 TabPy로 바꾸면 된다! 그리고 localhost 9004에 연결해주고 [Create Calculated Field]에서 python scripts를 적어주면 된다."
      ]
    }
  ]
}