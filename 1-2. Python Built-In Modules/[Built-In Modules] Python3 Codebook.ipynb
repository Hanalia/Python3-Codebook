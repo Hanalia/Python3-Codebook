{
  "nbformat": 4,
  "nbformat_minor": 0,
  "metadata": {
    "colab": {
      "name": "(원본) [Built-In Modules] Python3 Codebook.ipynb",
      "provenance": [],
      "collapsed_sections": [
        "RYFuejL5sXMt",
        "fjDF4Hu-QTUm",
        "sc2wHTGtaIsx",
        "oGxJesZLbjFN",
        "kCr7RfpUbjJA",
        "foFryuPvdn3S",
        "ehN0yEiHcPkT",
        "lGSBfVpWcjEV",
        "rE0Xf4emcjKF",
        "QSiVpc6nhHJr",
        "6-Dv70N-hBFq",
        "SnEUPBadhr_t",
        "qwWvltPQhg4S",
        "fjvnnuSucjOy",
        "JPXtTPLAdLuU",
        "ZBj6irsmdLy-"
      ],
      "toc_visible": true
    },
    "kernelspec": {
      "name": "python3",
      "display_name": "Python 3"
    },
    "accelerator": "GPU"
  },
  "cells": [
    {
      "cell_type": "markdown",
      "metadata": {
        "id": "RYFuejL5sXMt"
      },
      "source": [
        "---\n",
        "# 📁 Hyun's Code collection (Built-In Modules) \n",
        "---\n",
        "- Glob\n",
        "- Re\n",
        "- Os\n",
        "- Json\n",
        "- Pickle\n",
        "- Collections\n",
        "- Itertools\n",
        "### <h3 align=\"right\">🥇 Authored by <strong>Hyun</strong></h3>"
      ]
    },
    {
      "cell_type": "markdown",
      "metadata": {
        "id": "fjDF4Hu-QTUm"
      },
      "source": [
        "# ✏️ **Built-In** Modules"
      ]
    },
    {
      "cell_type": "markdown",
      "metadata": {
        "id": "Ye3z9k7tZewh"
      },
      "source": [
        "## 🔎  What is **Glob**?"
      ]
    },
    {
      "cell_type": "markdown",
      "metadata": {
        "id": "S36Bv9UJQmoI"
      },
      "source": [
        "- Glob 모듈은 규칙에 따라 지정된 패턴과 일치하는 모든 경로명 및 파일들을 찾아준다.\n",
        "- 파일들의 목록을 뽑을 때 유용한 모듈이다."
      ]
    },
    {
      "cell_type": "markdown",
      "metadata": {
        "id": "CKSrZPuCQUi_"
      },
      "source": [
        "## 🔎  What is **Re**?"
      ]
    },
    {
      "cell_type": "markdown",
      "metadata": {
        "id": "9gJGZXrwQ4ea"
      },
      "source": [
        "- 정규식\b 표현식(Regular Expression)을 지원하는 모듈이다."
      ]
    },
    {
      "cell_type": "markdown",
      "metadata": {
        "id": "376UIfy8QUwl"
      },
      "source": [
        "## 🔎  What is **Os**?"
      ]
    },
    {
      "cell_type": "markdown",
      "metadata": {
        "id": "iw2jLWQUQ4wg"
      },
      "source": [
        "- 운영체제와 상호작용을 하기 위한 함수 및 기능을 지원해주는 모듈이다."
      ]
    },
    {
      "cell_type": "markdown",
      "metadata": {
        "id": "hHFomsw7QU0Q"
      },
      "source": [
        "## 🔎  What is **Json**?"
      ]
    },
    {
      "cell_type": "markdown",
      "metadata": {
        "id": "YQGmxJRhR3Mt"
      },
      "source": [
        "- json(JavaScript Object Notation) 파일을 인코딩하거나 디코딩할 때 사용하는 모듈이다.\n",
        "- 자바스크립트를 위한 것이고 객체 형식으로 자료를 표현하는 것.  \n",
        "- 서로다른 언어간에 데이터를 주고받을 수 있도록 만들어진 텍스트기반 형식이다.  \n",
        "- 프로그래밍 언어는 아니고, 단순히 데이터 포맷! 데이터를 표시하는 방법 !  \n",
        "- 특정 언어에 종속되지 않고, 대부분의 프로그래밍 언어에서 JSON 포맷을 핸들링할 수 있는 라이브러리를 제공합니다.  \n",
        "  \n",
        "\n",
        "> Structure of Json\n",
        "-  name - value 형식의 pair<br>\n",
        "- {object}는 중괄호로 감싸고 있음. {로 시작해서 }로 끝남. \n",
        "- 각각의 이름은 ':'와 ',' 로 구분된 name/value형식을 따름\n",
        "- name(string) : value<br>\n",
        "- name은 string으로 되어 있고 : 이후에 value값을 둠 <br>\n",
        "- value는 \"\"안에 string, number, true, false, null, object, array등이 올 수 있음 "
      ]
    },
    {
      "cell_type": "markdown",
      "metadata": {
        "id": "1uqx0fzHQU3y"
      },
      "source": [
        "## 🔎  What is **Pickle**?"
      ]
    },
    {
      "cell_type": "markdown",
      "metadata": {
        "id": "oAcNdXibQ5Of"
      },
      "source": [
        "- 일반 텍스트를 파일로 저장할 때는 pickle 형태로 저장하는 모듈이다.\n",
        "- 파이썬에서만 사용가능하며 json과 다르게 바이너리 직렬화 형식으로 사람이 읽을 수 없는 형태로 저장한다.\n",
        "- 안정성이 보장되지가 않는다.\n",
        "- 하지만 리스트나 클래스같은 텍스트가 아닌 자료형은 일반적인 파일 입출력 방법으로는 데이터를 저장하거나 불러올 수 없다.\n",
        "- 파이썬에서는 이와 같은 텍스트 이외의 자료형을 파일로 저장하기 위하여 pickle이라는 모듈을 제공한다.\n",
        "- pickle로 데이터를 저장하거나 불러올때는 파일을 바이트형식으로 읽거나 써야한다. (wb, rb)\n",
        "\n",
        "> [reference](https://wayhome25.github.io/cs/2017/04/04/cs-04/)"
      ]
    },
    {
      "cell_type": "markdown",
      "metadata": {
        "id": "UAAyF7BbQU7L"
      },
      "source": [
        "## 🔎  What is **Collections**?"
      ]
    },
    {
      "cell_type": "markdown",
      "metadata": {
        "id": "EkloU6OoQ8a1"
      },
      "source": [
        "- 데이터 처리를 위한 다양한 객체를 지원해주는 모듈이다.\n",
        "- 유용한 모듈로는 Counter, Deque, Ordered Dictionary 등을 지원해준다."
      ]
    },
    {
      "cell_type": "markdown",
      "metadata": {
        "id": "P7Oj_ljPQU-7"
      },
      "source": [
        "## 🔎  What is **Itertools**?"
      ]
    },
    {
      "cell_type": "markdown",
      "metadata": {
        "id": "WClPb10PQ9Ss"
      },
      "source": [
        "- 효율적인 looping을 도와주는 모듈이다.\n",
        "- itertools는 python에서 제공하는 자신만의 반복자를 만드는 유용한 모듈임!"
      ]
    },
    {
      "cell_type": "markdown",
      "metadata": {
        "id": "sc2wHTGtaIsx"
      },
      "source": [
        "# ✏️ Importing Libraries"
      ]
    },
    {
      "cell_type": "code",
      "metadata": {
        "id": "gRO8gtPDrySn"
      },
      "source": [
        "# Built-in modules\n",
        "from glob import glob\n",
        "import re\n",
        "import os\n",
        "import json\n",
        "from pandas.io.json import json_normalize\n",
        "import pickle\n",
        "import collections\n",
        "import itertools"
      ],
      "execution_count": null,
      "outputs": []
    },
    {
      "cell_type": "markdown",
      "metadata": {
        "id": "oGxJesZLbjFN"
      },
      "source": [
        "# ✏️  Methods and Examples\n"
      ]
    },
    {
      "cell_type": "markdown",
      "metadata": {
        "id": "kCr7RfpUbjJA"
      },
      "source": [
        "## 🔎 Glob"
      ]
    },
    {
      "cell_type": "markdown",
      "metadata": {
        "id": "4Xe0AwMtFT8i"
      },
      "source": [
        "- **import glob** : import하기\n",
        "- **glob .glob( ' . ' )**: 파일들 불러오기"
      ]
    },
    {
      "cell_type": "markdown",
      "metadata": {
        "id": "mQj38rLxiWms"
      },
      "source": [
        "### 📔 Examples"
      ]
    },
    {
      "cell_type": "code",
      "metadata": {
        "id": "60uYRom9oi_s"
      },
      "source": [
        "# Find fils recursively in directory and save in one file\n",
        "import glob\n",
        "first = True\n",
        "for filename in sorted(glob.iglob(dir_ + '**/*.sql', recursive=True)):\n",
        "    content = open(filename, 'r').read()\n",
        "    if first:\n",
        "        content_concat = content\n",
        "        first = False\n",
        "    else:\n",
        "        content_concat = content_concat +'\\n\\n' + content \n",
        "\n",
        "save_dir = '/Users/Downloads/'\n",
        "with open(save_dir + 'SQL concated.sql', 'w') as file:\n",
        "    file.write(content_concat)"
      ],
      "execution_count": null,
      "outputs": []
    },
    {
      "cell_type": "code",
      "metadata": {
        "id": "7YQdY1xovzWk"
      },
      "source": [
        "# directory 내에 있는 모든 directory를 뒤지며 .txt 파일 print하기\n",
        "import os\n",
        "for root, dirs, files in os.walk(\"/mydir\"):\n",
        "    for file in files:\n",
        "        if file.endswith(\".txt\"):\n",
        "             print(os.path.join(root, file))"
      ],
      "execution_count": null,
      "outputs": []
    },
    {
      "cell_type": "code",
      "metadata": {
        "id": "Tduax0rWVZOJ"
      },
      "source": [
        "# 디렉토리에 있는 파일들 전부 dictionary에 저장하기\n",
        "file_list = sorted(glob('*.csv'))\n",
        "dict_data = {}\n",
        "num=0\n",
        "for itr in file_list:\n",
        "    num += 1\n",
        "    dict_data[num] = pd.read_csv(itr, encoding=\"euc-kr\")"
      ],
      "execution_count": null,
      "outputs": []
    },
    {
      "cell_type": "code",
      "metadata": {
        "id": "3mvouUZ4kjrE"
      },
      "source": [
        "# glob 예시\n",
        "## 가장 마지막에 크롤링된 파일을 가져오는 방법\n",
        "os.chdir(\"/Users/의안정보시스템 crawling/\")\n",
        "latest_file = glob.glob(\"*.json\")[-1]\n",
        "\n",
        "with open(latest_file, \"r\") as f:\n",
        "    data = json.load(f)"
      ],
      "execution_count": null,
      "outputs": []
    },
    {
      "cell_type": "code",
      "metadata": {
        "id": "TcJXvjs6FT9E"
      },
      "source": [
        "## .glob 예시\n",
        "# 모든 파일 긁어오기\n",
        ">>> glob.glob('*.*')\n",
        "['INSTALL.LOG', 'LICENSE.txt', 'NEWS.txt', 'py.ico', 'pyc.ico',\n",
        "'pycon.ico', 'python.exe', 'pythonw.exe', 'readme.txt',\n",
        "'UNWISE.EXE', 'w9xpopen.exe']\n",
        "\n",
        "# 모든 txt 긁어오기\n",
        ">>> glob.glob('*.txt')\n",
        "['LICENSE.txt', 'NEWS.txt', 'readme.txt']"
      ],
      "execution_count": null,
      "outputs": []
    },
    {
      "cell_type": "markdown",
      "metadata": {
        "id": "foFryuPvdn3S"
      },
      "source": [
        "## 🔎 Re"
      ]
    },
    {
      "cell_type": "markdown",
      "metadata": {
        "id": "PPNO_5JI7AJr"
      },
      "source": [
        "<h2> 🎈 regex metacharacter </h2>\n",
        "\n",
        "- **＼d**: 숫자와 매치, [0-9]와 같음\n",
        "- **＼D**: 숫자 아닌 것과 매치, [^0-9]\n",
        "- **＼s**: whitespace 문자와 매치\n",
        "- **＼S**: whitespace 아닌 것과 매치\n",
        "- **＼w**: 문자+숫자와 매치\n",
        "- **＼W**: 문자+숫자가 아닌 문자와 매치\n",
        "- **[ ]**: [ ] 사이의 문자들과 매치\n",
        "- **＼b**: 단어의 경계. 공백, 탭, 컴마, 대시 등이 올 수 있음\n",
        "- **＼B**: ＼b가 아닌 것.\n",
        "- **＼**: 이스케이프용 문자. 정규식 상의 특별한 의미가 있는 기호들을 문자 그대로 사용할 때 쓴다. \n",
        "e.g ＼. ＼* ＼$ ＼\n",
        "\n",
        "- **^**: 반대를 의미           예시) [^0-9]: 숫자가 아닌 문자만 매치\n",
        "- **.**: 줄바꿈 문자인 \\n을 제외한 모든 문자와 매치\n",
        "- *: * 바로 앞에 있는 문자가 0부터 무한대로 반복될 수 있음\n",
        "- **+**: * 바로 앞에 있는 문자 소 1번 이상 반복될 때 사용\n",
        "- **{m, n}**: m부터 n까지 반복횟수를 매치할 수 있음\n",
        "- **{m}**: 반복횟수가 반드시 m회\n",
        "- **?**: {0, 1}을 의미, 있어도 되고 없어도 되고를 의미, *의 탐욕을 제한할 수 있다. \n",
        "- **^**: 문자열의 처음을 의미\n",
        "- **$**: 문자열의 마지막을 의미\n",
        "- **|**: or과 같은 의미\n",
        "- **( )**: 그룹을 만들어주는 메타문자\n",
        "- **(?=...)**: 긍정형 전방 탐색\n",
        "\n",
        "<h2> 🎈 regex methods </h2>\n",
        "\n",
        "- **re .compile ( ' 정규식 ' )**: 주어진 정규표현식을 컴파일한다.\n",
        "- **re .compile ( ' 정규식 ' ) .match ( \" 원하는 문구 \" )**: 문자열의 처음부터 끝까지 정규식과 매치되는지 조사\n",
        "  \n",
        "  **group ( )**: 매치된 문자열 반환\n",
        "  \n",
        "  **start ( )**: 매치된 문자열의 시작 위치 반환\n",
        "  \n",
        "  **end ( )**: 매치된 문자열의 끝 위치 반환\n",
        "  \n",
        "  **span ( )**: 매치된 문자열의 (시작, 끝)을 튜플로 반환\n",
        "  \n",
        "  **sub( ' old str ' , ' new str ' , count = )**: 첫 번째 str는 바꿀 문자열, 두 번째 매개변수는 대상 문자열. 바꾸고 싶은 횟수를 count에 넣기\n",
        "  \n",
        "  **subn( , )**: sub와 유사하나 반환 결과를 tuple과 바꾼 횟수로 반환\n",
        "- **re .compilt ( ' 정규식 ' ) .search ( \" 원하는 문구 \" )**: 문자열 전체를 검색하여 정규식과 매치되는지 조사 \n",
        "- **re .compilt ( ' 정규식 ' ) .findall ( \" 원하는 문구 \" )**: 정규식과 매치되는 문자열을 리스트로 반환\n",
        "- **re .compilt ( ' 정규식 ' ) .finditer ( \" 원하는 문구 \" )**: 정규식과 매치되는 문자열을 iterable로 반환\n",
        "- **re .DOTALL**, **re.S**: \\n 줄바꿈까지 매치하고 싶을 때\n",
        "- **re.MULTILINE**, **re.M**: ^ 메타 문자를 문자열 각 라인의 처음으로 인식시킬 때 사용\n",
        "- **re.VERBOSE**, **re.X**: 문자열에 사용된 whitespace는 컴파일할 때 제거\n",
        "- **re.IGNORECASE**, **re.I**: 대, 소문자에 관계 없이 매치"
      ]
    },
    {
      "cell_type": "markdown",
      "metadata": {
        "id": "ehN0yEiHcPkT"
      },
      "source": [
        "### 📔 Examples"
      ]
    },
    {
      "cell_type": "code",
      "metadata": {
        "id": "6qy-5KOkiUF7"
      },
      "source": [
        "# regex examples\n",
        "re.sub(r'\\(]^)]*\\)', '', sentence)    # 괄호로 닫힌 문자열 제거\n",
        "re.sub('\"', '', sentence)             # 쌍따옴표 \"\" 제거\n",
        "re.sub(r\"'s\\b\", \"\", sentence)         # 소유격 제거\n",
        "re.sub(\"[^a-zA-Z]\", \"\", sentence)     # 영어 외 문자 공백으로 변환\n",
        "re.sub('[m]{2,}', 'mm', sentence)     # m이 3개 이상이면 2개로 변경"
      ],
      "execution_count": null,
      "outputs": []
    },
    {
      "cell_type": "code",
      "metadata": {
        "id": "KKmqFJ3XX_Ac"
      },
      "source": [
        "# 대전시공모전에서 썼던 예제\n",
        "text = node['행정동'].iloc[0][0]\n",
        "re.compile(' \\w+동').findall(text)[0].strip()"
      ],
      "execution_count": null,
      "outputs": []
    },
    {
      "cell_type": "code",
      "metadata": {
        "id": "bUZL-5g0MAcn"
      },
      "source": [
        "# re 에시\n",
        "df_test['Title']= df_test.Name.str.extract('([A-Za-z]+)\\.')"
      ],
      "execution_count": null,
      "outputs": []
    },
    {
      "cell_type": "code",
      "metadata": {
        "id": "ZgGrUKwHJjL9",
        "colab": {
          "base_uri": "https://localhost:8080/",
          "height": 34
        },
        "outputId": "4e90a0f8-118c-4457-d6bc-2ca08859a9e7"
      },
      "source": [
        "# sub( , ), | 예시\n",
        "p = re.compile('(blue|white|red)')\n",
        "print(p.sub('colour', 'blue socks and red shoes', count=2))"
      ],
      "execution_count": null,
      "outputs": [
        {
          "output_type": "stream",
          "text": [
            "colour socks and colour shoes\n"
          ],
          "name": "stdout"
        }
      ]
    },
    {
      "cell_type": "code",
      "metadata": {
        "id": "ekwFOzTtJiyz"
      },
      "source": [
        "# 긍정형 전방 탐색 (?=...)\n",
        "p = re.compile(\".+(?=:)\")\n",
        "m = p.search(\"http://google.com\")\n",
        "print(m.group())"
      ],
      "execution_count": null,
      "outputs": []
    },
    {
      "cell_type": "code",
      "metadata": {
        "id": "v_kr1XHnHECH"
      },
      "source": [
        "# compile 메소드\n",
        "## 예제1 match()\n",
        "p = re.compile('[a-z]+')\n",
        "m = p.match(\"python\")\n",
        "print(m)\n",
        "\n",
        "## 에졔2 search()\n",
        "p = re.compile('[a-z]+')\n",
        "m = p.search(\"python\")\n",
        "print(m)\n",
        "\n",
        "p = re.compile('[a-z]+')\n",
        "m = p.search(\"3 python\")\n",
        "print(m)\n",
        "\n",
        "## 예제3 findall()\n",
        "p = re.compile('[a-z]+')\n",
        "m = p.findall(\"3 Life is 시발 too short python\")\n",
        "print(m)\n",
        "['ife', 'is', 'too', 'short', 'python']\n",
        "\n",
        "## 예제4 finditer\n",
        "p = re.compile('[a-z]+')r\n",
        "result = p.finditer(\"3 Life is 시발 too short python\")\n",
        "for r in result: print(r)\n",
        "<re.Match object; span=(3, 6), match='ife'>\n",
        "<re.Match object; span=(7, 9), match='is'>\n",
        "<re.Match object; span=(13, 16), match='too'>\n",
        "<re.Match object; span=(17, 22), match='short'>\n",
        "<re.Match object; span=(23, 29), match='python'>"
      ],
      "execution_count": null,
      "outputs": []
    },
    {
      "cell_type": "code",
      "metadata": {
        "id": "MDTYwUuRElfs"
      },
      "source": [
        "# re \n",
        "## 예제1\n",
        "p = re.compile(r\"(\\w+)\\s+\\d+[-]\\d+[-]\\d+\")\n",
        "m = p.search(\"park 010-1234-1234\")\n",
        "print(m.group(1))\n",
        "\n",
        "## 예제2\n",
        "p = re.compile(r\"(?P<name>\\w+)\\s+((\\d+)[-]\\d+[-]\\d+)\")\n",
        "m = p.search(\"park 010-1234-1234\")\n",
        "print(m.group(\"name\"))\n",
        "park\n",
        "\n",
        "## 예제3 이메일 주소 매치하기\n",
        "/^([a-z0-9_\\.-]+)@([a-z0-9_\\.-]+)\\.([a-z\\.]{2,6})$/\n",
        "\n",
        "## 예제4\n",
        "p = re.compile(r'\\bclass\\b')\t\t\t\t# r = Raw string임을 알려주는 기호임\n",
        "print(p.search('no class at all'))"
      ],
      "execution_count": null,
      "outputs": []
    },
    {
      "cell_type": "markdown",
      "metadata": {
        "id": "_t6Zo8WOGdln"
      },
      "source": [
        "<img src='https://blog.outsider.ne.kr/attach/1/550x458x1166620169.jpg.pagespeed.ic.v1tivqVmq1.webp' >"
      ]
    },
    {
      "cell_type": "code",
      "metadata": {
        "id": "6CgZ9sJADiX-"
      },
      "source": [
        "# 정규식 예시, 전화번호 매치하기\n",
        "01[016789]\\D?\\d{3,4}\\D?\\d{4}\n",
        "01[016789]    # 010, 011 등의 식별번호로 시작하며\n",
        "    \\D?\\d{3,4}    # 숫자가 아닌 구분기호는ㅡ 있을 수도 없을 수도 있고 그 뒤에는 3자리에서 4자리 숫자이며\n",
        "        \\D?\\d{4}    # 그 뒤에 구분기호가 있을 수도 없을 수도 있고 뒤에는 4자리 숫자가 온다."
      ],
      "execution_count": null,
      "outputs": []
    },
    {
      "cell_type": "code",
      "metadata": {
        "id": "emwHNvuf-T5y"
      },
      "source": [
        "# re.VERBOSE\n",
        "charref = re.compile(r\"\"\"\n",
        " &[#]                # Start of a numeric entity reference\n",
        " (\n",
        "     0[0-7]+         # Octal form\n",
        "   | [0-9]+          # Decimal form\n",
        "   | x[0-9a-fA-F]+   # Hexadecimal form\n",
        " )\n",
        " ;                   # Trailing semicolon\n",
        "\"\"\", re.VERBOSE)"
      ],
      "execution_count": null,
      "outputs": []
    },
    {
      "cell_type": "code",
      "metadata": {
        "id": "1p44kNMp_rvw",
        "colab": {
          "base_uri": "https://localhost:8080/",
          "height": 70
        },
        "outputId": "4ddd7321-195f-46c2-9517-940b0a459292"
      },
      "source": [
        "s = '<html><head><title>TItle</title>'\n",
        "print(len(s))\n",
        "print(re.match('<.*?>', s).span())\n",
        "print(re.match('<.*?>', s).group())"
      ],
      "execution_count": null,
      "outputs": [
        {
          "output_type": "stream",
          "text": [
            "32\n",
            "(0, 6)\n",
            "<html>\n"
          ],
          "name": "stdout"
        }
      ]
    },
    {
      "cell_type": "code",
      "metadata": {
        "id": "Omca2UVT7AgS"
      },
      "source": [
        "# 정규식\n",
        "## 예제1\n",
        "s = '<html><head><title>TItle</title>'\n",
        "print(len(s))\n",
        "print(re.match('<.*?>', s).span())\n",
        "print(re.match('<.*?>', s).group())\n",
        "\n",
        "## 예제2\n",
        "df_train['Title']= df_train.Name.str.extract('([A-Za-z]+)\\.')\n",
        "df_test['Title']= df_test.Name.str.extract('([A-Za-z]+)\\.')\n",
        "\n",
        "## 예제3\n",
        "a.b    # 의미: a + 모든 문자 + b\n",
        "[a-zA-Z]    # 의미: 알파벳 모두\n",
        "[0-9]    # 의미: 숫자 모두\n",
        "ca*t    # 의미: a가 0부터 무한대까지 반복되는 문자열 e.g ct, cat, caaaat\n",
        "ca+t    # 의미: a가 1부터 무한대까지 반복되는 문자열 e.g cat, caaat\n",
        "ca{2}t    # 의미: c, t 사이에 a가 반드시 2번 반복 e.g caat\n",
        "ca{2,5}    # 의미: a는 2회에서 5회까지 반복 가능 e.g caat, caaaat, caaaaat\n",
        "ab?c    # 의미: b가 있어도 되고 없어도 되고 e.g. abc, ac\n",
        "^python    # 의미: 문자열의 처음은 python으로 시작해야 매칭\n",
        "python$    # 의미: 문자열의 마지막이 python으로 끝나야 매칭\n",
        "\\bplay\\b    # 의미: play의 양 끝에 단어 경계가 오는 경우메만 play에 매치. playground는 매치 ㄴㄴ"
      ],
      "execution_count": null,
      "outputs": []
    },
    {
      "cell_type": "code",
      "metadata": {
        "id": "WfBMDTNq7Avd"
      },
      "source": [
        "# re 예제\n",
        "## 예제\n",
        "p = re.compile('[a-z]+')\n",
        "\n",
        "## .match\n",
        "m = p.match(\"python\")\n",
        "\n",
        "## .search\n",
        "m = p.search(\"python\")\n",
        "  \n",
        "## .findall\n",
        "m = p.findall(\"life is too short\")\n",
        "\n",
        "## .finditer\n",
        "m = p.finditer(\"life is too short\")"
      ],
      "execution_count": null,
      "outputs": []
    },
    {
      "cell_type": "code",
      "metadata": {
        "id": "nQBL6Th77AYk"
      },
      "source": [
        "# match 메서드 예제\n",
        "m = p.match(\"python\")\n",
        "m.group()\n",
        "m.start()\n",
        "m.end()\n",
        "m.span()"
      ],
      "execution_count": null,
      "outputs": []
    },
    {
      "cell_type": "code",
      "metadata": {
        "id": "kQqH4yAJ9G8g"
      },
      "source": [
        "# re.DOTALL\n",
        "p = re.compile('a.b', re.DOTALL)\n",
        "m = p.match('a\\nb')\n",
        "print(m)"
      ],
      "execution_count": null,
      "outputs": []
    },
    {
      "cell_type": "code",
      "metadata": {
        "id": "eQTmTrHV98kj",
        "colab": {
          "base_uri": "https://localhost:8080/",
          "height": 34
        },
        "outputId": "7a76f3d4-32d4-484e-db14-f76ddf969b0f"
      },
      "source": [
        "# re.MULTILINE\n",
        "p = re.compile(\"^python\\s\\w+\", re.MULTILINE)\n",
        "\n",
        "data = \"\"\"python one\n",
        "life is too short\n",
        "python two\n",
        "you need python\n",
        "python three\"\"\"\n",
        "\n",
        "print(p.findall(data))"
      ],
      "execution_count": null,
      "outputs": [
        {
          "output_type": "stream",
          "text": [
            "['python one', 'python two', 'python three']\n"
          ],
          "name": "stdout"
        }
      ]
    },
    {
      "cell_type": "markdown",
      "metadata": {
        "id": "lGSBfVpWcjEV"
      },
      "source": [
        "## 🔎 Os"
      ]
    },
    {
      "cell_type": "markdown",
      "metadata": {
        "id": "G2NVac47RsGz"
      },
      "source": [
        "[More methods](https://devanix.tistory.com/298)\n",
        "- **os .getcwd()**: 현재 작업중인 directory를 반환\n",
        "- **os .chdir('/ / ' )**: 현재 작업중인 directory를 변경\n",
        "- **os .listdir()**: 특정 경로에 존재하는 파일과 directory 목록을 구해주는 아가\n",
        "- **os .path.abspath( )**: 특정 경로에 대해 절대 경로 얻기\n",
        "- **os .path .dirname( )** : 경로 중에 디렉토리명만 얻기\n",
        "- **os .path .isfile( )**: 경로 중 파일명만 얻기\n",
        "- **os .path .split( )**: 경로 중 디렉토리명과 파일명 나눠서 얻기\n",
        "- **os .path .join( )** : 경로를 병합하여 새 경로 생성\n",
        "- **os .path .exists( )** : 파일 혹은 디렉토리 경로가 존재하는지 체크\n",
        "- **os .path .isdir( )** : 디렉토리 경로가 존재하는지 체크\n",
        "- **os .path .getsize( )** : 파일의 크기\n",
        "- **os .path .basename( )** : 입력받은 경로의 기본 이름을 반환. abspath()와 반대되는 기능이다."
      ]
    },
    {
      "cell_type": "markdown",
      "metadata": {
        "id": "XAO46_JMfGDS"
      },
      "source": [
        "### 📔 Examples"
      ]
    },
    {
      "cell_type": "code",
      "metadata": {
        "id": "ByURIsD10c0-"
      },
      "source": [
        "# 하위 directory 검색하기\n",
        "import os\n",
        "\n",
        "def search(dirname):\n",
        "    filenames = os.listdir(dirname)\n",
        "    for filename in filenames:\n",
        "        full_filename = os.path.join(dirname, filename)\n",
        "        ext = os.path.splitext(full_filename)[-1]\n",
        "        if ext == '.py': \n",
        "            print(full_filename)\n",
        "\n",
        "search(\"c:/\")"
      ],
      "execution_count": null,
      "outputs": []
    },
    {
      "cell_type": "code",
      "metadata": {
        "id": "GjQS4wdX2GJc"
      },
      "source": [
        "# directory 내 파일 검색하기\n",
        "files = [file_name for file_name in os.listdir(\"./data\") if file_name.endswith(\"xlsx\")] \n",
        "\n",
        "# 거기에 속해있는 excel 파일 읽기\n",
        "df_list = [pd.read_excel(\"data/\"+df_filename) for df_filename in files]\n"
      ],
      "execution_count": null,
      "outputs": []
    },
    {
      "cell_type": "markdown",
      "metadata": {
        "id": "rE0Xf4emcjKF"
      },
      "source": [
        "## 🔎 Json"
      ]
    },
    {
      "cell_type": "markdown",
      "metadata": {
        "id": "6DgQkM1PJ8sP"
      },
      "source": [
        " - **json_normalize(data, error = , max_level = , meta= , record_path = )**: json 데이터를 풀어쓰는 방법. 보통 data, meta, meta_prefix를 사용!!!"
      ]
    },
    {
      "cell_type": "markdown",
      "metadata": {
        "id": "RELguuqugsaR"
      },
      "source": [
        "### 📔 Examples"
      ]
    },
    {
      "cell_type": "code",
      "metadata": {
        "id": "95_vNOIyk36D"
      },
      "source": [
        "# Import jsonl file\n",
        "with open('train.jsonl', 'r') as json_file:\n",
        "    json_list = list(json_file)\n",
        "    \n",
        "list_result = []\n",
        "for json_str in json_list:\n",
        "    result = json.loads(json_str)\n",
        "    list_result.append(result)\n",
        "\n",
        "df_news = pd.DataFrame(list_result)"
      ],
      "execution_count": null,
      "outputs": []
    },
    {
      "cell_type": "code",
      "metadata": {
        "id": "SQDsTPAq9dbS"
      },
      "source": [
        "# Example 1\n",
        "from numpyencoder import NumpyEncoder\n",
        "\n",
        "with open(json_file, 'w') as file:\n",
        "    json.dump(numpy_data, file, indent=4, sort_keys=True,\n",
        "              separators=(', ', ': '), ensure_ascii=False,\n",
        "              cls=NumpyEncoder)\n",
        "    \n",
        "# Example 2\n",
        "with open(\"file name.json\", \"w\") as json_file:\n",
        "    json.dump(dict_result, json_file, \n",
        "             cls=NumpyEncoder)"
      ],
      "execution_count": null,
      "outputs": []
    },
    {
      "cell_type": "code",
      "metadata": {
        "id": "3NyNfyCqHqgF"
      },
      "source": [
        "# 한글 깨지는 문제 해결\n",
        "with open(\"bills 180 ver2.1.json\", \"w\", encoding='utf-8') as file_name:\n",
        "    json.dump(data, file_name, indent='\\t', ensure_ascii=False)"
      ],
      "execution_count": null,
      "outputs": []
    },
    {
      "cell_type": "code",
      "metadata": {
        "id": "HJwshkvfKH1B"
      },
      "source": [
        "# json 예시1\n",
        "{\n",
        "  \"member\" : [\n",
        "    {                        # object 1\n",
        "      \"id\" : \"jaewon94\",\n",
        "      \"blog\" : \"naver\",\n",
        "      \"from\" : \"korea\",\n",
        "      \"major\" : [\"Statistics\", \"Industrial Engineering\"]\n",
        "    },\n",
        "    {                        # object 2\n",
        "      \"id\" : \"gunwook1234\",\n",
        "      \"blog\" : \"github\",\n",
        "      \"from\" : \"korea\",\n",
        "      \"major\" : \"Statistics\"\n",
        "    }\n",
        "  ]\n",
        "}  "
      ],
      "execution_count": null,
      "outputs": []
    },
    {
      "cell_type": "markdown",
      "metadata": {
        "id": "QSiVpc6nhHJr"
      },
      "source": [
        "### 📔 Json to DataFrame"
      ]
    },
    {
      "cell_type": "code",
      "metadata": {
        "id": "JixOiw3c6iwI"
      },
      "source": [
        "price = {\"S&P 500\":\n",
        "    {\n",
        "    \"2019-01-15\" : 20555.29,\n",
        "    \"2019-01-01\" : 20359.80,\n",
        "    \"2019-01-10\" : 23533.48\n",
        "    },\n",
        " \"Nasdaq 100\":\n",
        "     {\n",
        "    \"2019-01-15\" : 1534.29,\n",
        "    \"2019-01-11\" : 1646.80,\n",
        "    \"2019-01-10\" : 1543.48\n",
        "     }\n",
        "}"
      ],
      "execution_count": null,
      "outputs": []
    },
    {
      "cell_type": "code",
      "metadata": {
        "id": "FOiVUMJ06i2h",
        "colab": {
          "base_uri": "https://localhost:8080/",
          "height": 173
        },
        "outputId": "c7463514-6def-47b9-94a5-a2d0ecb9be77"
      },
      "source": [
        "pd.DataFrame(price)"
      ],
      "execution_count": null,
      "outputs": [
        {
          "output_type": "execute_result",
          "data": {
            "text/html": [
              "<div>\n",
              "<style scoped>\n",
              "    .dataframe tbody tr th:only-of-type {\n",
              "        vertical-align: middle;\n",
              "    }\n",
              "\n",
              "    .dataframe tbody tr th {\n",
              "        vertical-align: top;\n",
              "    }\n",
              "\n",
              "    .dataframe thead th {\n",
              "        text-align: right;\n",
              "    }\n",
              "</style>\n",
              "<table border=\"1\" class=\"dataframe\">\n",
              "  <thead>\n",
              "    <tr style=\"text-align: right;\">\n",
              "      <th></th>\n",
              "      <th>S&amp;P 500</th>\n",
              "      <th>Nasdaq 100</th>\n",
              "    </tr>\n",
              "  </thead>\n",
              "  <tbody>\n",
              "    <tr>\n",
              "      <th>2019-01-15</th>\n",
              "      <td>20555.29</td>\n",
              "      <td>1534.29</td>\n",
              "    </tr>\n",
              "    <tr>\n",
              "      <th>2019-01-01</th>\n",
              "      <td>20359.80</td>\n",
              "      <td>NaN</td>\n",
              "    </tr>\n",
              "    <tr>\n",
              "      <th>2019-01-10</th>\n",
              "      <td>23533.48</td>\n",
              "      <td>1543.48</td>\n",
              "    </tr>\n",
              "    <tr>\n",
              "      <th>2019-01-11</th>\n",
              "      <td>NaN</td>\n",
              "      <td>1646.80</td>\n",
              "    </tr>\n",
              "  </tbody>\n",
              "</table>\n",
              "</div>"
            ],
            "text/plain": [
              "             S&P 500  Nasdaq 100\n",
              "2019-01-15  20555.29     1534.29\n",
              "2019-01-01  20359.80         NaN\n",
              "2019-01-10  23533.48     1543.48\n",
              "2019-01-11       NaN     1646.80"
            ]
          },
          "metadata": {
            "tags": []
          },
          "execution_count": 4
        }
      ]
    },
    {
      "cell_type": "markdown",
      "metadata": {
        "id": "D9fEbmbL6uZY"
      },
      "source": [
        "With height_data"
      ]
    },
    {
      "cell_type": "code",
      "metadata": {
        "id": "MqDtd5z26vPQ"
      },
      "source": [
        "height_data = {\"results\" : [\n",
        "       {\n",
        "          \"elevation\" : 243.3462677001953,\n",
        "          \"location\" : {\n",
        "             \"lat\" : 42.974049,\n",
        "             \"lng\" : -81.205203\n",
        "          },\n",
        "          \"resolution\" : 19.08790397644043\n",
        "       },\n",
        "       {\n",
        "         \"elevation\" : 244.1318664550781,\n",
        "         \"location\" : {\n",
        "             \"lat\" : 42.974298,\n",
        "            \"lng\" : -81.19575500000001\n",
        "          },\n",
        "          \"resolution\" : 19.08790397644043\n",
        "       }\n",
        "    ]\n",
        "   , \"status\" : \"OK\",\n",
        " }"
      ],
      "execution_count": null,
      "outputs": []
    },
    {
      "cell_type": "code",
      "metadata": {
        "id": "U7C3ulKu6uei",
        "colab": {
          "base_uri": "https://localhost:8080/",
          "height": 111
        },
        "outputId": "a86932a9-8bb3-4fc5-fd58-d9b24074a49d"
      },
      "source": [
        "pd.DataFrame(height_data['results'])"
      ],
      "execution_count": null,
      "outputs": [
        {
          "output_type": "execute_result",
          "data": {
            "text/html": [
              "<div>\n",
              "<style scoped>\n",
              "    .dataframe tbody tr th:only-of-type {\n",
              "        vertical-align: middle;\n",
              "    }\n",
              "\n",
              "    .dataframe tbody tr th {\n",
              "        vertical-align: top;\n",
              "    }\n",
              "\n",
              "    .dataframe thead th {\n",
              "        text-align: right;\n",
              "    }\n",
              "</style>\n",
              "<table border=\"1\" class=\"dataframe\">\n",
              "  <thead>\n",
              "    <tr style=\"text-align: right;\">\n",
              "      <th></th>\n",
              "      <th>elevation</th>\n",
              "      <th>location</th>\n",
              "      <th>resolution</th>\n",
              "    </tr>\n",
              "  </thead>\n",
              "  <tbody>\n",
              "    <tr>\n",
              "      <th>0</th>\n",
              "      <td>243.346268</td>\n",
              "      <td>{'lat': 42.974049, 'lng': -81.205203}</td>\n",
              "      <td>19.087904</td>\n",
              "    </tr>\n",
              "    <tr>\n",
              "      <th>1</th>\n",
              "      <td>244.131866</td>\n",
              "      <td>{'lat': 42.974298, 'lng': -81.195755}</td>\n",
              "      <td>19.087904</td>\n",
              "    </tr>\n",
              "  </tbody>\n",
              "</table>\n",
              "</div>"
            ],
            "text/plain": [
              "    elevation                               location  resolution\n",
              "0  243.346268  {'lat': 42.974049, 'lng': -81.205203}   19.087904\n",
              "1  244.131866  {'lat': 42.974298, 'lng': -81.195755}   19.087904"
            ]
          },
          "metadata": {
            "tags": []
          },
          "execution_count": 6
        }
      ]
    },
    {
      "cell_type": "code",
      "metadata": {
        "id": "ueu8HJ3V6ujA",
        "colab": {
          "base_uri": "https://localhost:8080/",
          "height": 165
        },
        "outputId": "ad22307d-2092-4310-f35c-1a26e2feeb02"
      },
      "source": [
        "json_normalize(height_data['results'])"
      ],
      "execution_count": null,
      "outputs": [
        {
          "output_type": "stream",
          "text": [
            "/usr/local/lib/python3.6/dist-packages/ipykernel_launcher.py:1: FutureWarning: pandas.io.json.json_normalize is deprecated, use pandas.json_normalize instead\n",
            "  \"\"\"Entry point for launching an IPython kernel.\n"
          ],
          "name": "stderr"
        },
        {
          "output_type": "execute_result",
          "data": {
            "text/html": [
              "<div>\n",
              "<style scoped>\n",
              "    .dataframe tbody tr th:only-of-type {\n",
              "        vertical-align: middle;\n",
              "    }\n",
              "\n",
              "    .dataframe tbody tr th {\n",
              "        vertical-align: top;\n",
              "    }\n",
              "\n",
              "    .dataframe thead th {\n",
              "        text-align: right;\n",
              "    }\n",
              "</style>\n",
              "<table border=\"1\" class=\"dataframe\">\n",
              "  <thead>\n",
              "    <tr style=\"text-align: right;\">\n",
              "      <th></th>\n",
              "      <th>elevation</th>\n",
              "      <th>resolution</th>\n",
              "      <th>location.lat</th>\n",
              "      <th>location.lng</th>\n",
              "    </tr>\n",
              "  </thead>\n",
              "  <tbody>\n",
              "    <tr>\n",
              "      <th>0</th>\n",
              "      <td>243.346268</td>\n",
              "      <td>19.087904</td>\n",
              "      <td>42.974049</td>\n",
              "      <td>-81.205203</td>\n",
              "    </tr>\n",
              "    <tr>\n",
              "      <th>1</th>\n",
              "      <td>244.131866</td>\n",
              "      <td>19.087904</td>\n",
              "      <td>42.974298</td>\n",
              "      <td>-81.195755</td>\n",
              "    </tr>\n",
              "  </tbody>\n",
              "</table>\n",
              "</div>"
            ],
            "text/plain": [
              "    elevation  resolution  location.lat  location.lng\n",
              "0  243.346268   19.087904     42.974049    -81.205203\n",
              "1  244.131866   19.087904     42.974298    -81.195755"
            ]
          },
          "metadata": {
            "tags": []
          },
          "execution_count": 7
        }
      ]
    },
    {
      "cell_type": "markdown",
      "metadata": {
        "id": "XQojQJij6un3"
      },
      "source": [
        "With mountain data"
      ]
    },
    {
      "cell_type": "code",
      "metadata": {
        "id": "hUXiTZgc7DC3"
      },
      "source": [
        "mountain = [{\"name\" : \"봉서산\",\n",
        "          \"elevation\" : 243.3462677001953,\n",
        "          \"location\" : {\n",
        "             \"lat\" : 42.974049,\n",
        "             \"lng\" : -81.205203},\n",
        "          \"resolution\" : 19.08790397644043},\n",
        "         {\"name\" : \"북한산\",\n",
        "         \"elevation\" : 244.1318664550781,\n",
        "         \"location\" : {\n",
        "             \"lat\" : 42.974298,\n",
        "            \"lng\" : -81.19575500000001},\n",
        "          \"resolution\" : 19.08790397644043},\n",
        "        {\"name\" : \"봉서산\",\n",
        "         \"elevation\" : 234.1246364550781,\n",
        "         \"location\" : {\n",
        "             \"lat\" : 32.935544298,\n",
        "            \"lng\" : -41.63500000001},\n",
        "          \"resolution\" : 19.08790397644043}]"
      ],
      "execution_count": null,
      "outputs": []
    },
    {
      "cell_type": "code",
      "metadata": {
        "id": "fhqTs1lq7DG3",
        "colab": {
          "base_uri": "https://localhost:8080/",
          "height": 142
        },
        "outputId": "74a69d95-f3d6-46b2-8d47-26bad23cb8f6"
      },
      "source": [
        "pd.DataFrame(mountain)"
      ],
      "execution_count": null,
      "outputs": [
        {
          "output_type": "execute_result",
          "data": {
            "text/html": [
              "<div>\n",
              "<style scoped>\n",
              "    .dataframe tbody tr th:only-of-type {\n",
              "        vertical-align: middle;\n",
              "    }\n",
              "\n",
              "    .dataframe tbody tr th {\n",
              "        vertical-align: top;\n",
              "    }\n",
              "\n",
              "    .dataframe thead th {\n",
              "        text-align: right;\n",
              "    }\n",
              "</style>\n",
              "<table border=\"1\" class=\"dataframe\">\n",
              "  <thead>\n",
              "    <tr style=\"text-align: right;\">\n",
              "      <th></th>\n",
              "      <th>name</th>\n",
              "      <th>elevation</th>\n",
              "      <th>location</th>\n",
              "      <th>resolution</th>\n",
              "    </tr>\n",
              "  </thead>\n",
              "  <tbody>\n",
              "    <tr>\n",
              "      <th>0</th>\n",
              "      <td>봉서산</td>\n",
              "      <td>243.346268</td>\n",
              "      <td>{'lat': 42.974049, 'lng': -81.205203}</td>\n",
              "      <td>19.087904</td>\n",
              "    </tr>\n",
              "    <tr>\n",
              "      <th>1</th>\n",
              "      <td>북한산</td>\n",
              "      <td>244.131866</td>\n",
              "      <td>{'lat': 42.974298, 'lng': -81.195755}</td>\n",
              "      <td>19.087904</td>\n",
              "    </tr>\n",
              "    <tr>\n",
              "      <th>2</th>\n",
              "      <td>봉서산</td>\n",
              "      <td>234.124636</td>\n",
              "      <td>{'lat': 32.935544298, 'lng': -41.63500000001}</td>\n",
              "      <td>19.087904</td>\n",
              "    </tr>\n",
              "  </tbody>\n",
              "</table>\n",
              "</div>"
            ],
            "text/plain": [
              "  name   elevation                                       location  resolution\n",
              "0  봉서산  243.346268          {'lat': 42.974049, 'lng': -81.205203}   19.087904\n",
              "1  북한산  244.131866          {'lat': 42.974298, 'lng': -81.195755}   19.087904\n",
              "2  봉서산  234.124636  {'lat': 32.935544298, 'lng': -41.63500000001}   19.087904"
            ]
          },
          "metadata": {
            "tags": []
          },
          "execution_count": 29
        }
      ]
    },
    {
      "cell_type": "code",
      "metadata": {
        "id": "8DsaDOhx7DKz",
        "colab": {
          "base_uri": "https://localhost:8080/",
          "height": 176
        },
        "outputId": "ed40f51e-5caf-4b82-9be5-e4e59a28ce9c"
      },
      "source": [
        "json_normalize(mountain)"
      ],
      "execution_count": null,
      "outputs": [
        {
          "output_type": "stream",
          "text": [
            "/usr/local/lib/python3.6/dist-packages/ipykernel_launcher.py:1: FutureWarning: pandas.io.json.json_normalize is deprecated, use pandas.json_normalize instead\n",
            "  \"\"\"Entry point for launching an IPython kernel.\n"
          ],
          "name": "stderr"
        },
        {
          "output_type": "execute_result",
          "data": {
            "text/html": [
              "<div>\n",
              "<style scoped>\n",
              "    .dataframe tbody tr th:only-of-type {\n",
              "        vertical-align: middle;\n",
              "    }\n",
              "\n",
              "    .dataframe tbody tr th {\n",
              "        vertical-align: top;\n",
              "    }\n",
              "\n",
              "    .dataframe thead th {\n",
              "        text-align: right;\n",
              "    }\n",
              "</style>\n",
              "<table border=\"1\" class=\"dataframe\">\n",
              "  <thead>\n",
              "    <tr style=\"text-align: right;\">\n",
              "      <th></th>\n",
              "      <th>name</th>\n",
              "      <th>elevation</th>\n",
              "      <th>resolution</th>\n",
              "      <th>location.lat</th>\n",
              "      <th>location.lng</th>\n",
              "    </tr>\n",
              "  </thead>\n",
              "  <tbody>\n",
              "    <tr>\n",
              "      <th>0</th>\n",
              "      <td>봉서산</td>\n",
              "      <td>243.346268</td>\n",
              "      <td>19.087904</td>\n",
              "      <td>42.974049</td>\n",
              "      <td>-81.205203</td>\n",
              "    </tr>\n",
              "    <tr>\n",
              "      <th>1</th>\n",
              "      <td>북한산</td>\n",
              "      <td>244.131866</td>\n",
              "      <td>19.087904</td>\n",
              "      <td>42.974298</td>\n",
              "      <td>-81.195755</td>\n",
              "    </tr>\n",
              "    <tr>\n",
              "      <th>2</th>\n",
              "      <td>봉서산</td>\n",
              "      <td>234.124636</td>\n",
              "      <td>19.087904</td>\n",
              "      <td>32.935544</td>\n",
              "      <td>-41.635000</td>\n",
              "    </tr>\n",
              "  </tbody>\n",
              "</table>\n",
              "</div>"
            ],
            "text/plain": [
              "  name   elevation  resolution  location.lat  location.lng\n",
              "0  봉서산  243.346268   19.087904     42.974049    -81.205203\n",
              "1  북한산  244.131866   19.087904     42.974298    -81.195755\n",
              "2  봉서산  234.124636   19.087904     32.935544    -41.635000"
            ]
          },
          "metadata": {
            "tags": []
          },
          "execution_count": 31
        }
      ]
    },
    {
      "cell_type": "markdown",
      "metadata": {
        "id": "6-Dv70N-hBFq"
      },
      "source": [
        "### 📔 Practice with another data"
      ]
    },
    {
      "cell_type": "code",
      "metadata": {
        "id": "_xS80vqk7HRt"
      },
      "source": [
        "data = [ {'state': 'Florida',\n",
        "          'shortname': 'FL',\n",
        "          'info': {\n",
        "               'governor': 'Rick Scott',\n",
        "               '혀누':'졸귀탱'\n",
        "          },\n",
        "          'counties': [{'name': 'Dade', 'population': 12345},\n",
        "                      {'name': 'Broward', 'population': 40000},\n",
        "                      {'name': 'Palm Beach', 'population': 60000}]},\n",
        "        \n",
        "         {'state': 'Ohio',\n",
        "          'shortname': 'OH',\n",
        "          'info': {\n",
        "               'governor': 'John Kasich',\n",
        "               '혀누':'존멋탱'\n",
        "          },\n",
        "          'counties': [{'name': 'Summit', 'population': 1234},\n",
        "                       {'name': 'Cuyahoga', 'population': 1337}]}]"
      ],
      "execution_count": null,
      "outputs": []
    },
    {
      "cell_type": "code",
      "metadata": {
        "id": "UZXA3Y44Mcx3"
      },
      "source": [
        "# 예시를 보면서 설명을 하자면\n",
        "json_normalize(data,  'counties',  ['state', 'shortname',['info', 'governor']])\n",
        "'''\n",
        "data만 입력하면 밑에처럼 key가 column name이 되고, value가 row에 들어간다.\n",
        "'''"
      ],
      "execution_count": null,
      "outputs": []
    },
    {
      "cell_type": "code",
      "metadata": {
        "id": "-E5Cbp0A7HEB",
        "colab": {
          "base_uri": "https://localhost:8080/",
          "height": 145
        },
        "outputId": "21e0488c-88ea-4c71-d709-59c0cc36d178"
      },
      "source": [
        "json_normalize(data)"
      ],
      "execution_count": null,
      "outputs": [
        {
          "output_type": "stream",
          "text": [
            "/usr/local/lib/python3.6/dist-packages/ipykernel_launcher.py:1: FutureWarning: pandas.io.json.json_normalize is deprecated, use pandas.json_normalize instead\n",
            "  \"\"\"Entry point for launching an IPython kernel.\n"
          ],
          "name": "stderr"
        },
        {
          "output_type": "execute_result",
          "data": {
            "text/html": [
              "<div>\n",
              "<style scoped>\n",
              "    .dataframe tbody tr th:only-of-type {\n",
              "        vertical-align: middle;\n",
              "    }\n",
              "\n",
              "    .dataframe tbody tr th {\n",
              "        vertical-align: top;\n",
              "    }\n",
              "\n",
              "    .dataframe thead th {\n",
              "        text-align: right;\n",
              "    }\n",
              "</style>\n",
              "<table border=\"1\" class=\"dataframe\">\n",
              "  <thead>\n",
              "    <tr style=\"text-align: right;\">\n",
              "      <th></th>\n",
              "      <th>state</th>\n",
              "      <th>shortname</th>\n",
              "      <th>counties</th>\n",
              "      <th>info.governor</th>\n",
              "      <th>info.혀누</th>\n",
              "    </tr>\n",
              "  </thead>\n",
              "  <tbody>\n",
              "    <tr>\n",
              "      <th>0</th>\n",
              "      <td>Florida</td>\n",
              "      <td>FL</td>\n",
              "      <td>[{'name': 'Dade', 'population': 12345}, {'name...</td>\n",
              "      <td>Rick Scott</td>\n",
              "      <td>졸귀탱</td>\n",
              "    </tr>\n",
              "    <tr>\n",
              "      <th>1</th>\n",
              "      <td>Ohio</td>\n",
              "      <td>OH</td>\n",
              "      <td>[{'name': 'Summit', 'population': 1234}, {'nam...</td>\n",
              "      <td>John Kasich</td>\n",
              "      <td>존멋탱</td>\n",
              "    </tr>\n",
              "  </tbody>\n",
              "</table>\n",
              "</div>"
            ],
            "text/plain": [
              "     state shortname  ... info.governor info.혀누\n",
              "0  Florida        FL  ...    Rick Scott     졸귀탱\n",
              "1     Ohio        OH  ...   John Kasich     존멋탱\n",
              "\n",
              "[2 rows x 5 columns]"
            ]
          },
          "metadata": {
            "tags": []
          },
          "execution_count": 4
        }
      ]
    },
    {
      "cell_type": "markdown",
      "metadata": {
        "id": "yv26TkW0NAbp"
      },
      "source": [
        "만약 데이터에서 원하는 key를 데이터프레임으로 만들고 싶으면 data 뒤에 key 이름을 적어주면 된다."
      ]
    },
    {
      "cell_type": "code",
      "metadata": {
        "id": "hew3x0o_ML5O",
        "colab": {
          "base_uri": "https://localhost:8080/",
          "height": 238
        },
        "outputId": "486cb2fb-a371-4243-870b-07f928277a83"
      },
      "source": [
        "json_normalize(data, 'counties')"
      ],
      "execution_count": null,
      "outputs": [
        {
          "output_type": "stream",
          "text": [
            "/usr/local/lib/python3.6/dist-packages/ipykernel_launcher.py:1: FutureWarning: pandas.io.json.json_normalize is deprecated, use pandas.json_normalize instead\n",
            "  \"\"\"Entry point for launching an IPython kernel.\n"
          ],
          "name": "stderr"
        },
        {
          "output_type": "execute_result",
          "data": {
            "text/html": [
              "<div>\n",
              "<style scoped>\n",
              "    .dataframe tbody tr th:only-of-type {\n",
              "        vertical-align: middle;\n",
              "    }\n",
              "\n",
              "    .dataframe tbody tr th {\n",
              "        vertical-align: top;\n",
              "    }\n",
              "\n",
              "    .dataframe thead th {\n",
              "        text-align: right;\n",
              "    }\n",
              "</style>\n",
              "<table border=\"1\" class=\"dataframe\">\n",
              "  <thead>\n",
              "    <tr style=\"text-align: right;\">\n",
              "      <th></th>\n",
              "      <th>name</th>\n",
              "      <th>population</th>\n",
              "    </tr>\n",
              "  </thead>\n",
              "  <tbody>\n",
              "    <tr>\n",
              "      <th>0</th>\n",
              "      <td>Dade</td>\n",
              "      <td>12345</td>\n",
              "    </tr>\n",
              "    <tr>\n",
              "      <th>1</th>\n",
              "      <td>Broward</td>\n",
              "      <td>40000</td>\n",
              "    </tr>\n",
              "    <tr>\n",
              "      <th>2</th>\n",
              "      <td>Palm Beach</td>\n",
              "      <td>60000</td>\n",
              "    </tr>\n",
              "    <tr>\n",
              "      <th>3</th>\n",
              "      <td>Summit</td>\n",
              "      <td>1234</td>\n",
              "    </tr>\n",
              "    <tr>\n",
              "      <th>4</th>\n",
              "      <td>Cuyahoga</td>\n",
              "      <td>1337</td>\n",
              "    </tr>\n",
              "  </tbody>\n",
              "</table>\n",
              "</div>"
            ],
            "text/plain": [
              "         name  population\n",
              "0        Dade       12345\n",
              "1     Broward       40000\n",
              "2  Palm Beach       60000\n",
              "3      Summit        1234\n",
              "4    Cuyahoga        1337"
            ]
          },
          "metadata": {
            "tags": []
          },
          "execution_count": 6
        }
      ]
    },
    {
      "cell_type": "markdown",
      "metadata": {
        "id": "aH2ShW6mPXoQ"
      },
      "source": [
        "원하는 key에 해당하는 다른 정보도 보고 싶으면 key 뒤에 [  ]속에 key 이름을 넣어주면 된다"
      ]
    },
    {
      "cell_type": "code",
      "metadata": {
        "id": "3xqV8UwS7DOk",
        "colab": {
          "base_uri": "https://localhost:8080/",
          "height": 238
        },
        "outputId": "42ff686d-7e92-4445-ea7f-7513e7d26183"
      },
      "source": [
        "json_normalize(data, 'counties', ['state','shortname'] )"
      ],
      "execution_count": null,
      "outputs": [
        {
          "output_type": "stream",
          "text": [
            "/usr/local/lib/python3.6/dist-packages/ipykernel_launcher.py:1: FutureWarning: pandas.io.json.json_normalize is deprecated, use pandas.json_normalize instead\n",
            "  \"\"\"Entry point for launching an IPython kernel.\n"
          ],
          "name": "stderr"
        },
        {
          "output_type": "execute_result",
          "data": {
            "text/html": [
              "<div>\n",
              "<style scoped>\n",
              "    .dataframe tbody tr th:only-of-type {\n",
              "        vertical-align: middle;\n",
              "    }\n",
              "\n",
              "    .dataframe tbody tr th {\n",
              "        vertical-align: top;\n",
              "    }\n",
              "\n",
              "    .dataframe thead th {\n",
              "        text-align: right;\n",
              "    }\n",
              "</style>\n",
              "<table border=\"1\" class=\"dataframe\">\n",
              "  <thead>\n",
              "    <tr style=\"text-align: right;\">\n",
              "      <th></th>\n",
              "      <th>name</th>\n",
              "      <th>population</th>\n",
              "      <th>state</th>\n",
              "      <th>shortname</th>\n",
              "    </tr>\n",
              "  </thead>\n",
              "  <tbody>\n",
              "    <tr>\n",
              "      <th>0</th>\n",
              "      <td>Dade</td>\n",
              "      <td>12345</td>\n",
              "      <td>Florida</td>\n",
              "      <td>FL</td>\n",
              "    </tr>\n",
              "    <tr>\n",
              "      <th>1</th>\n",
              "      <td>Broward</td>\n",
              "      <td>40000</td>\n",
              "      <td>Florida</td>\n",
              "      <td>FL</td>\n",
              "    </tr>\n",
              "    <tr>\n",
              "      <th>2</th>\n",
              "      <td>Palm Beach</td>\n",
              "      <td>60000</td>\n",
              "      <td>Florida</td>\n",
              "      <td>FL</td>\n",
              "    </tr>\n",
              "    <tr>\n",
              "      <th>3</th>\n",
              "      <td>Summit</td>\n",
              "      <td>1234</td>\n",
              "      <td>Ohio</td>\n",
              "      <td>OH</td>\n",
              "    </tr>\n",
              "    <tr>\n",
              "      <th>4</th>\n",
              "      <td>Cuyahoga</td>\n",
              "      <td>1337</td>\n",
              "      <td>Ohio</td>\n",
              "      <td>OH</td>\n",
              "    </tr>\n",
              "  </tbody>\n",
              "</table>\n",
              "</div>"
            ],
            "text/plain": [
              "         name  population    state shortname\n",
              "0        Dade       12345  Florida        FL\n",
              "1     Broward       40000  Florida        FL\n",
              "2  Palm Beach       60000  Florida        FL\n",
              "3      Summit        1234     Ohio        OH\n",
              "4    Cuyahoga        1337     Ohio        OH"
            ]
          },
          "metadata": {
            "tags": []
          },
          "execution_count": 7
        }
      ]
    },
    {
      "cell_type": "markdown",
      "metadata": {
        "id": "wJNG8W8YPezZ"
      },
      "source": [
        "key 속에 다른 key를 보고 싶으면 [ ] 속에 또 [ ]에 넣어주면 된다!"
      ]
    },
    {
      "cell_type": "code",
      "metadata": {
        "id": "hAE0Nmyu7Pp6",
        "colab": {
          "base_uri": "https://localhost:8080/",
          "height": 238
        },
        "outputId": "4c21c360-ee86-41e1-b8b2-2e34cdc70b73"
      },
      "source": [
        "json_normalize(data,  'counties',  ['state', 'shortname', 'info'])"
      ],
      "execution_count": null,
      "outputs": [
        {
          "output_type": "stream",
          "text": [
            "/usr/local/lib/python3.6/dist-packages/ipykernel_launcher.py:1: FutureWarning: pandas.io.json.json_normalize is deprecated, use pandas.json_normalize instead\n",
            "  \"\"\"Entry point for launching an IPython kernel.\n"
          ],
          "name": "stderr"
        },
        {
          "output_type": "execute_result",
          "data": {
            "text/html": [
              "<div>\n",
              "<style scoped>\n",
              "    .dataframe tbody tr th:only-of-type {\n",
              "        vertical-align: middle;\n",
              "    }\n",
              "\n",
              "    .dataframe tbody tr th {\n",
              "        vertical-align: top;\n",
              "    }\n",
              "\n",
              "    .dataframe thead th {\n",
              "        text-align: right;\n",
              "    }\n",
              "</style>\n",
              "<table border=\"1\" class=\"dataframe\">\n",
              "  <thead>\n",
              "    <tr style=\"text-align: right;\">\n",
              "      <th></th>\n",
              "      <th>name</th>\n",
              "      <th>population</th>\n",
              "      <th>state</th>\n",
              "      <th>shortname</th>\n",
              "      <th>info</th>\n",
              "    </tr>\n",
              "  </thead>\n",
              "  <tbody>\n",
              "    <tr>\n",
              "      <th>0</th>\n",
              "      <td>Dade</td>\n",
              "      <td>12345</td>\n",
              "      <td>Florida</td>\n",
              "      <td>FL</td>\n",
              "      <td>{'governor': 'Rick Scott', '혀누': '졸귀탱'}</td>\n",
              "    </tr>\n",
              "    <tr>\n",
              "      <th>1</th>\n",
              "      <td>Broward</td>\n",
              "      <td>40000</td>\n",
              "      <td>Florida</td>\n",
              "      <td>FL</td>\n",
              "      <td>{'governor': 'Rick Scott', '혀누': '졸귀탱'}</td>\n",
              "    </tr>\n",
              "    <tr>\n",
              "      <th>2</th>\n",
              "      <td>Palm Beach</td>\n",
              "      <td>60000</td>\n",
              "      <td>Florida</td>\n",
              "      <td>FL</td>\n",
              "      <td>{'governor': 'Rick Scott', '혀누': '졸귀탱'}</td>\n",
              "    </tr>\n",
              "    <tr>\n",
              "      <th>3</th>\n",
              "      <td>Summit</td>\n",
              "      <td>1234</td>\n",
              "      <td>Ohio</td>\n",
              "      <td>OH</td>\n",
              "      <td>{'governor': 'John Kasich', '혀누': '존멋탱'}</td>\n",
              "    </tr>\n",
              "    <tr>\n",
              "      <th>4</th>\n",
              "      <td>Cuyahoga</td>\n",
              "      <td>1337</td>\n",
              "      <td>Ohio</td>\n",
              "      <td>OH</td>\n",
              "      <td>{'governor': 'John Kasich', '혀누': '존멋탱'}</td>\n",
              "    </tr>\n",
              "  </tbody>\n",
              "</table>\n",
              "</div>"
            ],
            "text/plain": [
              "         name  population  ... shortname                                      info\n",
              "0        Dade       12345  ...        FL   {'governor': 'Rick Scott', '혀누': '졸귀탱'}\n",
              "1     Broward       40000  ...        FL   {'governor': 'Rick Scott', '혀누': '졸귀탱'}\n",
              "2  Palm Beach       60000  ...        FL   {'governor': 'Rick Scott', '혀누': '졸귀탱'}\n",
              "3      Summit        1234  ...        OH  {'governor': 'John Kasich', '혀누': '존멋탱'}\n",
              "4    Cuyahoga        1337  ...        OH  {'governor': 'John Kasich', '혀누': '존멋탱'}\n",
              "\n",
              "[5 rows x 5 columns]"
            ]
          },
          "metadata": {
            "tags": []
          },
          "execution_count": 10
        }
      ]
    },
    {
      "cell_type": "code",
      "metadata": {
        "id": "8eUc2Ei37Pit",
        "colab": {
          "base_uri": "https://localhost:8080/",
          "height": 238
        },
        "outputId": "bbd2f967-4bf6-4c58-b01e-47d96405a7f4"
      },
      "source": [
        "json_normalize(data, 'counties', ['state', 'shortname',['info']])"
      ],
      "execution_count": null,
      "outputs": [
        {
          "output_type": "stream",
          "text": [
            "/usr/local/lib/python3.6/dist-packages/ipykernel_launcher.py:1: FutureWarning: pandas.io.json.json_normalize is deprecated, use pandas.json_normalize instead\n",
            "  \"\"\"Entry point for launching an IPython kernel.\n"
          ],
          "name": "stderr"
        },
        {
          "output_type": "execute_result",
          "data": {
            "text/html": [
              "<div>\n",
              "<style scoped>\n",
              "    .dataframe tbody tr th:only-of-type {\n",
              "        vertical-align: middle;\n",
              "    }\n",
              "\n",
              "    .dataframe tbody tr th {\n",
              "        vertical-align: top;\n",
              "    }\n",
              "\n",
              "    .dataframe thead th {\n",
              "        text-align: right;\n",
              "    }\n",
              "</style>\n",
              "<table border=\"1\" class=\"dataframe\">\n",
              "  <thead>\n",
              "    <tr style=\"text-align: right;\">\n",
              "      <th></th>\n",
              "      <th>name</th>\n",
              "      <th>population</th>\n",
              "      <th>state</th>\n",
              "      <th>shortname</th>\n",
              "      <th>info</th>\n",
              "    </tr>\n",
              "  </thead>\n",
              "  <tbody>\n",
              "    <tr>\n",
              "      <th>0</th>\n",
              "      <td>Dade</td>\n",
              "      <td>12345</td>\n",
              "      <td>Florida</td>\n",
              "      <td>FL</td>\n",
              "      <td>{'governor': 'Rick Scott', '혀누': '졸귀탱'}</td>\n",
              "    </tr>\n",
              "    <tr>\n",
              "      <th>1</th>\n",
              "      <td>Broward</td>\n",
              "      <td>40000</td>\n",
              "      <td>Florida</td>\n",
              "      <td>FL</td>\n",
              "      <td>{'governor': 'Rick Scott', '혀누': '졸귀탱'}</td>\n",
              "    </tr>\n",
              "    <tr>\n",
              "      <th>2</th>\n",
              "      <td>Palm Beach</td>\n",
              "      <td>60000</td>\n",
              "      <td>Florida</td>\n",
              "      <td>FL</td>\n",
              "      <td>{'governor': 'Rick Scott', '혀누': '졸귀탱'}</td>\n",
              "    </tr>\n",
              "    <tr>\n",
              "      <th>3</th>\n",
              "      <td>Summit</td>\n",
              "      <td>1234</td>\n",
              "      <td>Ohio</td>\n",
              "      <td>OH</td>\n",
              "      <td>{'governor': 'John Kasich', '혀누': '존멋탱'}</td>\n",
              "    </tr>\n",
              "    <tr>\n",
              "      <th>4</th>\n",
              "      <td>Cuyahoga</td>\n",
              "      <td>1337</td>\n",
              "      <td>Ohio</td>\n",
              "      <td>OH</td>\n",
              "      <td>{'governor': 'John Kasich', '혀누': '존멋탱'}</td>\n",
              "    </tr>\n",
              "  </tbody>\n",
              "</table>\n",
              "</div>"
            ],
            "text/plain": [
              "         name  population  ... shortname                                      info\n",
              "0        Dade       12345  ...        FL   {'governor': 'Rick Scott', '혀누': '졸귀탱'}\n",
              "1     Broward       40000  ...        FL   {'governor': 'Rick Scott', '혀누': '졸귀탱'}\n",
              "2  Palm Beach       60000  ...        FL   {'governor': 'Rick Scott', '혀누': '졸귀탱'}\n",
              "3      Summit        1234  ...        OH  {'governor': 'John Kasich', '혀누': '존멋탱'}\n",
              "4    Cuyahoga        1337  ...        OH  {'governor': 'John Kasich', '혀누': '존멋탱'}\n",
              "\n",
              "[5 rows x 5 columns]"
            ]
          },
          "metadata": {
            "tags": []
          },
          "execution_count": 12
        }
      ]
    },
    {
      "cell_type": "code",
      "metadata": {
        "id": "MFgPuoS57Pbt",
        "colab": {
          "base_uri": "https://localhost:8080/",
          "height": 238
        },
        "outputId": "2a8f3358-8e3b-4e2a-9771-1d263452858d"
      },
      "source": [
        "json_normalize(data, 'counties', ['state', 'shortname',['info', 'governor']])"
      ],
      "execution_count": null,
      "outputs": [
        {
          "output_type": "stream",
          "text": [
            "/usr/local/lib/python3.6/dist-packages/ipykernel_launcher.py:1: FutureWarning: pandas.io.json.json_normalize is deprecated, use pandas.json_normalize instead\n",
            "  \"\"\"Entry point for launching an IPython kernel.\n"
          ],
          "name": "stderr"
        },
        {
          "output_type": "execute_result",
          "data": {
            "text/html": [
              "<div>\n",
              "<style scoped>\n",
              "    .dataframe tbody tr th:only-of-type {\n",
              "        vertical-align: middle;\n",
              "    }\n",
              "\n",
              "    .dataframe tbody tr th {\n",
              "        vertical-align: top;\n",
              "    }\n",
              "\n",
              "    .dataframe thead th {\n",
              "        text-align: right;\n",
              "    }\n",
              "</style>\n",
              "<table border=\"1\" class=\"dataframe\">\n",
              "  <thead>\n",
              "    <tr style=\"text-align: right;\">\n",
              "      <th></th>\n",
              "      <th>name</th>\n",
              "      <th>population</th>\n",
              "      <th>state</th>\n",
              "      <th>shortname</th>\n",
              "      <th>info.governor</th>\n",
              "    </tr>\n",
              "  </thead>\n",
              "  <tbody>\n",
              "    <tr>\n",
              "      <th>0</th>\n",
              "      <td>Dade</td>\n",
              "      <td>12345</td>\n",
              "      <td>Florida</td>\n",
              "      <td>FL</td>\n",
              "      <td>Rick Scott</td>\n",
              "    </tr>\n",
              "    <tr>\n",
              "      <th>1</th>\n",
              "      <td>Broward</td>\n",
              "      <td>40000</td>\n",
              "      <td>Florida</td>\n",
              "      <td>FL</td>\n",
              "      <td>Rick Scott</td>\n",
              "    </tr>\n",
              "    <tr>\n",
              "      <th>2</th>\n",
              "      <td>Palm Beach</td>\n",
              "      <td>60000</td>\n",
              "      <td>Florida</td>\n",
              "      <td>FL</td>\n",
              "      <td>Rick Scott</td>\n",
              "    </tr>\n",
              "    <tr>\n",
              "      <th>3</th>\n",
              "      <td>Summit</td>\n",
              "      <td>1234</td>\n",
              "      <td>Ohio</td>\n",
              "      <td>OH</td>\n",
              "      <td>John Kasich</td>\n",
              "    </tr>\n",
              "    <tr>\n",
              "      <th>4</th>\n",
              "      <td>Cuyahoga</td>\n",
              "      <td>1337</td>\n",
              "      <td>Ohio</td>\n",
              "      <td>OH</td>\n",
              "      <td>John Kasich</td>\n",
              "    </tr>\n",
              "  </tbody>\n",
              "</table>\n",
              "</div>"
            ],
            "text/plain": [
              "         name  population    state shortname info.governor\n",
              "0        Dade       12345  Florida        FL    Rick Scott\n",
              "1     Broward       40000  Florida        FL    Rick Scott\n",
              "2  Palm Beach       60000  Florida        FL    Rick Scott\n",
              "3      Summit        1234     Ohio        OH   John Kasich\n",
              "4    Cuyahoga        1337     Ohio        OH   John Kasich"
            ]
          },
          "metadata": {
            "tags": []
          },
          "execution_count": 13
        }
      ]
    },
    {
      "cell_type": "markdown",
      "metadata": {
        "id": "SnEUPBadhr_t"
      },
      "source": [
        "### 📔 Save Data as Json format"
      ]
    },
    {
      "cell_type": "code",
      "metadata": {
        "id": "69YBrQkdKBT-"
      },
      "source": [
        "# 우선 dict in list 형태로 json 파일 만들기\n",
        "petreat_data = []\n",
        "for num in range(pet.shape[0]):\n",
        "    dict_temp = dict()\n",
        "    dict_temp['id'] = num\n",
        "    dict_temp['name'] = pet.iloc[num][0]\n",
        "    dict_temp['BOW'] = pet.iloc[num][8]\n",
        "    dict_temp['similarity'] = cosine_sim[num].tolist()   # np.array는 json 저장 불가하기 때문!\n",
        "    petreat_data.append(dict_temp)"
      ],
      "execution_count": null,
      "outputs": []
    },
    {
      "cell_type": "code",
      "metadata": {
        "id": "Z-Y3PQSLKGpX"
      },
      "source": [
        "# 저장하기\n",
        "with open(\"petreat.json\", \"w\") as json_file:\n",
        "    json.dump(petreat_data, json_file)"
      ],
      "execution_count": null,
      "outputs": []
    },
    {
      "cell_type": "code",
      "metadata": {
        "id": "rrKpv6YMKGuh"
      },
      "source": [
        "# 불러오기\n",
        "with open(\"petreat.json\", \"r\") as st_json:\n",
        "    data = json.load(st_json)\n",
        "    score_series = np.array(item['similarity'])   # 다시 np.array로 바꾸는 방법"
      ],
      "execution_count": null,
      "outputs": []
    },
    {
      "cell_type": "markdown",
      "metadata": {
        "id": "qwWvltPQhg4S"
      },
      "source": [
        "### 📔 Crawl data as Json format "
      ]
    },
    {
      "cell_type": "code",
      "metadata": {
        "id": "nJWSeF5EBvvl"
      },
      "source": [
        "### Json 파일 형식으로 크롤링 성공!\n",
        "# 21대 국회의원 당선자들\n",
        "import time\n",
        "import numpy as np\n",
        "import pandas as pd\n",
        "import urllib.request\n",
        "import json\n",
        "from tqdm import tqdm\n",
        "import time\n",
        "from selenium import webdriver\n",
        "from collections import OrderedDict\n",
        "from selenium.webdriver.common.keys import Keys\n",
        "from selenium.webdriver.common.action_chains import ActionChains\n",
        "pd.set_option(\"display.max_columns\", 100)\n",
        "pd.set_option(\"display.max_rows\", 100)\n",
        "\n",
        "class Crawler():\n",
        "    def __init__(self):\n",
        "        self.path = r\"/Users/junghyunwoo/혀누에-의한-혀누를-위한-혀누의/일 관련/OXO politics/chromedriver\"\n",
        "        \n",
        "    def crawl_whom(self):\n",
        "        user_input = input(\"국회의원 or 비례대표?: \")\n",
        "        final_members = []\n",
        "        if user_input == \"국회의원\":\n",
        "            driver = webdriver.Chrome(self.path)\n",
        "            driver.get('http://info.nec.go.kr/main/showDocument.xhtml?electionId=0020200415&topMenuId=EP&secondMenuId=EPEI01') \n",
        "            for num in tqdm(list(range(2,19))):\n",
        "                driver.find_element_by_xpath('//*[@id=\"electionId2\"]').click()     # 국회의원 선거 클릭\n",
        "                driver.find_element_by_xpath('//*[@id=\"cityCode\"]').click() # drop box 열고\n",
        "                time.sleep(0.5)\n",
        "                driver.find_element_by_xpath('//*[@id=\"cityCode\"]/option['+str(num)+']').click() # 서울시 클릭\n",
        "                driver.find_element_by_xpath('//*[@id=\"spanSubmit\"]/input').click() # 클릭 누르기\n",
        "                members = driver.find_elements_by_css_selector('#table01 > tbody > tr')\n",
        "                for i in list(range(1, len(members)+1)):\n",
        "                    dict_member = dict()\n",
        "                    dict_member['선거구'] = driver.find_elements_by_css_selector('#table01 > tbody > tr:nth-child('+str(i)+') > td.firstTd.alignL')[0].text\n",
        "                    dict_member['정당'] = driver.find_elements_by_css_selector('#table01 > tbody > tr:nth-child('+str(i)+') > td:nth-child(2)')[0].text\n",
        "                    dict_member['이름'] = driver.find_elements_by_css_selector('#table01 > tbody > tr:nth-child('+str(i)+') > td:nth-child(4)')[0].text.replace('\\n', ' ')\n",
        "                    dict_member['성별'] = driver.find_elements_by_css_selector('#table01 > tbody > tr:nth-child('+str(i)+') > td:nth-child(5)')[0].text\n",
        "                    dict_member['생년월일'] = driver.find_elements_by_css_selector('#table01 > tbody > tr:nth-child('+str(i)+') > td:nth-child(6)')[0].text.split('\\n')[0]\n",
        "                    dict_member['주소'] = driver.find_elements_by_css_selector('#table01 > tbody > tr:nth-child('+str(i)+') > td:nth-child(7)')[0].text\n",
        "                    dict_member['직업'] = driver.find_elements_by_css_selector('#table01 > tbody > tr:nth-child('+str(i)+') > td:nth-child(8)')[0].text\n",
        "                    dict_member['학력'] = driver.find_elements_by_css_selector('#table01 > tbody > tr:nth-child('+str(i)+') > td:nth-child(9)')[0].text\n",
        "                    dict_member['경력'] = driver.find_elements_by_css_selector('#table01 > tbody > tr:nth-child('+str(i)+') > td:nth-child(10)')[0].text.replace('\\n', ', ')\n",
        "                    dict_member['득표율'] = driver.find_elements_by_css_selector('#table01 > tbody > tr:nth-child('+str(i)+') > td:nth-child(11)')[0].text.split('\\n')[1][1:-1]\n",
        "                    final_members.append(dict_member)\n",
        "                    \n",
        "        elif user_input == \"비례대표\":\n",
        "            driver = webdriver.Chrome(self.path)\n",
        "            driver.get('http://info.nec.go.kr/main/showDocument.xhtml?electionId=0020200415&topMenuId=EP&secondMenuId=EPEI01') \n",
        "            driver.find_element_by_xpath('//*[@id=\"electionId7\"]').click()\n",
        "            driver.find_element_by_xpath('//*[@id=\"spanSubmit\"]/input').click()\n",
        "            members = driver.find_elements_by_css_selector('#table01 > tbody > tr')\n",
        "            final_members = []\n",
        "            for i in tqdm(list(range(1, len(members)+1))):\n",
        "                dict_member = dict()\n",
        "                dict_member['선거구'] = '비례대표'\n",
        "                dict_member['정당'] = driver.find_elements_by_css_selector('#table01 > tbody > tr:nth-child('+str(i)+') > td:nth-child(1)')[0].text\n",
        "                dict_member['이름'] = driver.find_elements_by_css_selector('#table01 > tbody > tr:nth-child('+str(i)+') > td:nth-child(4)')[0].text.replace('\\n', ' ')\n",
        "                dict_member['성별'] = driver.find_elements_by_css_selector('#table01 > tbody > tr:nth-child('+str(i)+') > td:nth-child(5)')[0].text\n",
        "                dict_member['생년월일'] = driver.find_elements_by_css_selector('#table01 > tbody > tr:nth-child('+str(i)+') > td:nth-child(6)')[0].text.split('\\n')[0]\n",
        "                dict_member['주소'] = driver.find_elements_by_css_selector('#table01 > tbody > tr:nth-child('+str(i)+') > td:nth-child(7)')[0].text\n",
        "                dict_member['직업'] = driver.find_elements_by_css_selector('#table01 > tbody > tr:nth-child('+str(i)+') > td:nth-child(8)')[0].text\n",
        "                dict_member['학력'] = driver.find_elements_by_css_selector('#table01 > tbody > tr:nth-child('+str(i)+') > td:nth-child(9)')[0].text\n",
        "                dict_member['경력'] = driver.find_elements_by_css_selector('#table01 > tbody > tr:nth-child('+str(i)+') > td:nth-child(10)')[0].text.replace('\\n', ', ')\n",
        "                dict_member['득표율'] = '비례대표'\n",
        "                final_members.append(dict_member)\n",
        "        return final_members"
      ],
      "execution_count": null,
      "outputs": []
    },
    {
      "cell_type": "markdown",
      "metadata": {
        "id": "fjvnnuSucjOy"
      },
      "source": [
        "## 🔎 Pickle"
      ]
    },
    {
      "cell_type": "markdown",
      "metadata": {
        "id": "3qF0PmnncTN2"
      },
      "source": [
        "- **pickle .dump ( data , file )**: 데이터 입력\n",
        "- **pickle .load ( file )**: 데이터 로드. 로드를 해오려면 pickle.dump로 입력한 파일이어야 한다."
      ]
    },
    {
      "cell_type": "markdown",
      "metadata": {
        "id": "tUmMGr5xf2ZF"
      },
      "source": [
        "### 📔 Examples"
      ]
    },
    {
      "cell_type": "code",
      "metadata": {
        "id": "d9fH6zUeFPuV"
      },
      "source": [
        "## Pickle로 모델 저장하고 부르는 방법\n",
        "import pandas\n",
        "from sklearn import model_selection\n",
        "from sklearn.linear_model import LogisticRegression\n",
        "import pickle\n",
        "url = \"https://raw.githubusercontent.com/jbrownlee/Datasets/master/pima-indians-diabetes.data.csv\"\n",
        "names = ['preg', 'plas', 'pres', 'skin', 'test', 'mass', 'pedi', 'age', 'class']\n",
        "\n",
        "dataframe = pandas.read_csv(url, names=names)\n",
        "array = dataframe.values\n",
        "X = array[:,0:8]\n",
        "Y = array[:,8]\n",
        "test_size = 0.33\n",
        "seed = 7\n",
        "X_train, X_test, Y_train, Y_test = model_selection.train_test_split(X, Y, test_size=test_size, random_state=seed)\n",
        "\n",
        "# Fit the model on training set\n",
        "model = LogisticRegression()\n",
        "model.fit(X_train, Y_train)\n",
        "\n",
        "# save the model to disk\n",
        "filename = 'finalized_model.sav'\n",
        "pickle.dump(model, open(filename, 'wb'))\n",
        " \n",
        "# some time later...\n",
        " \n",
        "# load the model from disk\n",
        "loaded_model = pickle.load(open(filename, 'rb'))\n",
        "result = loaded_model.score(X_test, Y_test)\n",
        "print(result)"
      ],
      "execution_count": null,
      "outputs": []
    },
    {
      "cell_type": "code",
      "metadata": {
        "id": "fRQB4MQ5cTUG"
      },
      "source": [
        "# pickle.dump()\n",
        "import pickle\n",
        "list = ['a', 'b', 'c']\n",
        "with open('list.txt', 'wb') as f:\n",
        "    pickle.dump(list, f)"
      ],
      "execution_count": null,
      "outputs": []
    },
    {
      "cell_type": "code",
      "metadata": {
        "id": "Bz47bnskcTab"
      },
      "source": [
        "# 파일 전체 내용 로드\n",
        "with open('abc2.bin', 'rb') as file:\n",
        "    data_list = []\n",
        "    while True:\n",
        "        try:d\n",
        "            data = pickle.load(file)\n",
        "        except EOFError:\n",
        "            break\n",
        "        data_list.append(data)"
      ],
      "execution_count": null,
      "outputs": []
    },
    {
      "cell_type": "code",
      "metadata": {
        "id": "_8SXhscvdw-G"
      },
      "source": [
        "# pickle.dump로 데이터 내보내기\n",
        "import pickle\n",
        "with open('noun.txt', 'wb') as f:\n",
        "    pickle.dump(tokens_noun, f)\n",
        "    \n",
        "# pickle load로 txt 파일 불러오기\n",
        "with open('noun.txt', 'rb') as f:\n",
        "    tokens_noun = pickle.load(f)\n",
        "    \n",
        "tokens_noun"
      ],
      "execution_count": null,
      "outputs": []
    },
    {
      "cell_type": "markdown",
      "metadata": {
        "id": "JPXtTPLAdLuU"
      },
      "source": [
        "## 🔎 Collections"
      ]
    },
    {
      "cell_type": "markdown",
      "metadata": {
        "id": "gV-oazCcsuKm"
      },
      "source": [
        "- **.elements ( )**: 입력된 값의 요소에 해당하는 값을 풀어서 반환\n",
        "- **.update ( )**: Counter의 값을 갱신하는 것\n",
        "- **.most_common ( 숫자 )**: 빈도수가 높은 상위 Top '숫자'를 반환\n",
        "- **.subtract ( )**: 요소를 빼는 것.\n",
        "- **+**, **-**: 덧셈과 뺄셈\n",
        "- **&**: 교집합\n",
        "- **|**: 합집합"
      ]
    },
    {
      "cell_type": "markdown",
      "metadata": {
        "id": "ylv7lhmSiNAf"
      },
      "source": [
        "### 📔 Examples"
      ]
    },
    {
      "cell_type": "code",
      "metadata": {
        "id": "QArmpqSPvuGs",
        "colab": {
          "base_uri": "https://localhost:8080/",
          "height": 34
        },
        "outputId": "c7ebf3b6-a1e2-49ca-8c7b-24a476fd29fb"
      },
      "source": [
        "# .subtract()\n",
        "c3 = collections.Counter('hello python')\n",
        "c4 = collections.Counter('i love python')\n",
        "c3.subtract(c4)\n",
        "print(c3)"
      ],
      "execution_count": null,
      "outputs": [
        {
          "output_type": "stream",
          "text": [
            "Counter({'h': 1, 'l': 1, 'e': 0, 'o': 0, 'p': 0, 'y': 0, 't': 0, 'n': 0, ' ': -1, 'i': -1, 'v': -1})\n"
          ],
          "name": "stdout"
        }
      ]
    },
    {
      "cell_type": "code",
      "metadata": {
        "id": "CjIEV9C9uJp1"
      },
      "source": [
        "# most_common()\n",
        "## 예제1\n",
        "Counter(nouns).most_common(100)\n",
        "\n",
        "## 예제2\n",
        "c2 = collections.Counter('apple, orange, grape')\n",
        "print(c2.most_common())\n",
        "print(c2.most_common(3))"
      ],
      "execution_count": null,
      "outputs": []
    },
    {
      "cell_type": "code",
      "metadata": {
        "id": "NmWQqQoRuJmW",
        "colab": {
          "base_uri": "https://localhost:8080/",
          "height": 52
        },
        "outputId": "ddcb6615-1034-469f-dcd2-4b24ae91be09"
      },
      "source": [
        "# elements()\n",
        "c = collections.Counter(\"Hello Python\")\n",
        "print(list(c.elements()))\n",
        "print(sorted(c.elements()))"
      ],
      "execution_count": null,
      "outputs": [
        {
          "output_type": "stream",
          "text": [
            "['H', 'e', 'l', 'l', 'o', 'o', ' ', 'P', 'y', 't', 'h', 'n']\n",
            "[' ', 'H', 'P', 'e', 'h', 'l', 'l', 'n', 'o', 'o', 't', 'y']\n"
          ],
          "name": "stdout"
        }
      ]
    },
    {
      "cell_type": "code",
      "metadata": {
        "id": "u-Ueo6vCt2_T",
        "colab": {
          "base_uri": "https://localhost:8080/",
          "height": 34
        },
        "outputId": "c827d9cc-4967-4f5c-d067-d649786513b9"
      },
      "source": [
        "# collection의 입력값 예제\n",
        "## 예제1\n",
        "import collections\n",
        "lst = ['aa', 'cc', 'dd', 'aa', 'bb', 'ee']\n",
        "print(collections.Counter(lst))\n",
        "\n",
        "## 예제2\n",
        "print(collections.Counter({'가': 3, '나': 2, '다': 4}))\n",
        "\n",
        "\n",
        "## 예제3\n",
        "c = collections.Counter(a=2, b=3, c=2)\n",
        "print(collections.Counter(c))\n",
        "print(sorted(c.elements()))\n",
        "\n",
        "## 예제4\n",
        "container = collections.Counter()\n",
        "container.update(\"aabcdeffgg\")\n",
        "print(container)"
      ],
      "execution_count": null,
      "outputs": [
        {
          "output_type": "stream",
          "text": [
            "Counter({'aa': 2, 'cc': 1, 'dd': 1, 'bb': 1, 'ee': 1})\n"
          ],
          "name": "stdout"
        }
      ]
    },
    {
      "cell_type": "markdown",
      "metadata": {
        "id": "ZBj6irsmdLy-"
      },
      "source": [
        "## 🔎 Itertools"
      ]
    },
    {
      "cell_type": "markdown",
      "metadata": {
        "id": "uo3FivryKNz9"
      },
      "source": [
        "- **itertools .combinations ( \" 자료형 \" , num )**: 몇 개(num)로 combination을 만들지 설정하고 자료형을 넣어주면 완성~"
      ]
    },
    {
      "cell_type": "markdown",
      "metadata": {
        "id": "sOL1LrvmfTqt"
      },
      "source": [
        "### 📔 Examples"
      ]
    },
    {
      "cell_type": "code",
      "metadata": {
        "id": "OVuSpZu9KNuc"
      },
      "source": [
        "# itertools.combinations\n",
        "links = []\n",
        "a = list(set(temp[index_s[1]+1:index_s[2]+1].chatter.tolist()))\n",
        "links.append(list(itertools.combinations(a,2)))"
      ],
      "execution_count": null,
      "outputs": []
    }
  ]
}