{
  "nbformat": 4,
  "nbformat_minor": 0,
  "metadata": {
    "colab": {
      "name": "(원본) [Word Cloud] Python3 Codebook.ipynb",
      "provenance": [],
      "collapsed_sections": [
        "rLiaXVFfztVk",
        "_J1OKeESztTX",
        "E7FpHjXrztPJ"
      ]
    },
    "kernelspec": {
      "name": "python3",
      "display_name": "Python 3"
    },
    "accelerator": "GPU"
  },
  "cells": [
    {
      "cell_type": "markdown",
      "metadata": {
        "id": "RYFuejL5sXMt"
      },
      "source": [
        "---\n",
        "# 📁 Hyun's Code collection (Word Cloud) \n",
        "---\n",
        "\n",
        "### <h3 align=\"right\">🥇 Authored by <strong>Hyun</strong></h3>"
      ]
    },
    {
      "cell_type": "markdown",
      "metadata": {
        "id": "rLiaXVFfztVk"
      },
      "source": [
        "# ✏️ What is **Word Cloud**?"
      ]
    },
    {
      "cell_type": "markdown",
      "metadata": {
        "id": "fKjnDnZfO9dy"
      },
      "source": [
        "- 텍스트 데이터의 빈도수에 따라 크기를 다르게 해서 이미지에 단어를 채워서 보여주는 게 워드클라우드\n",
        "- 텍스트 데이터를 시각화하거나 주제를 파악하는 등에 유용하게 사용된다."
      ]
    },
    {
      "cell_type": "markdown",
      "metadata": {
        "id": "_J1OKeESztTX"
      },
      "source": [
        "# ✏️ Import Libraries"
      ]
    },
    {
      "cell_type": "code",
      "metadata": {
        "id": "gRO8gtPDrySn"
      },
      "source": [
        "# Wordcloud\n",
        "import konlpy\n",
        "from konlpy.tag import Okt\n",
        "from wordcloud import WordCloud, STOPWORDS as stopwords\n",
        "from PIL import Image, ImageFilter\n",
        "from wordcloud import ImageColorGenerator\n",
        "\n",
        "# Other Libraries\n",
        "import matplotlib as mplㅁ\n",
        "import matplotlib.pyplot as plt\n",
        "import numpy as np\n",
        "import pandas as pd\n",
        "%matplotlib inline \n",
        "np.set_printoptions(threshold=np.nan)\n",
        "\n",
        "import collections\n",
        "from collections import Counter"
      ],
      "execution_count": null,
      "outputs": []
    },
    {
      "cell_type": "markdown",
      "metadata": {
        "id": "E7FpHjXrztPJ"
      },
      "source": [
        "# ✏️ Methods and Examples"
      ]
    },
    {
      "cell_type": "markdown",
      "metadata": {
        "id": "WGlZOFUFkFh4"
      },
      "source": [
        "## 🔎 How to install WordCloud Module\n",
        "\n",
        "\n",
        "- cmd에 아래 명령을 입력\n",
        "```terminal\n",
        "$ conda install -c conda-forge wordcloud=1.5\n",
        "```\n",
        "- python shell에서 import wordcloud하면 된다.\n",
        "\n",
        "- 만약 EnvironmentNotWritableError가 뜨면 cmd창을 사용자 권한으로 실행해서 다시 ㄱㄱ.\n",
        "\n",
        "- 설치에 실패하거나, import wordcloud했을 때 실패한다면 아래 명령을 실행 (DLL load failed 에러),\n",
        "```terminal\n",
        "$ conda remove pillow\n",
        "$ conda install -c conda-forge wordcloud=1.5\n",
        "```\n",
        "\n",
        "- 설치 완료한 뒤 python shell에서 import wordcloud하면 된다.\n",
        "- win 32 bit의 경우 1.4.1"
      ]
    },
    {
      "cell_type": "markdown",
      "metadata": {
        "id": "94_s4yXV0-R1"
      },
      "source": [
        "## 🔎 Basic Methods"
      ]
    },
    {
      "cell_type": "markdown",
      "metadata": {
        "id": "O_m-1IrKQV4U"
      },
      "source": [
        "- **WordCloud (background_color = ' ', collocations = True , stopwords = stopwords, fontpath = ' ' , min_font_size = , colormap = \" \" , relative_scaling = , width = , height = )**: 인스턴스를 만들어준 다음에\n",
        "  - collocations: True이면 said King, said Hatter 같이 자주 나타나는 단어는 하나의 어구로 분류\n",
        "  - colormap: colormap을 통해서 색깔을 바꿔줄 수 있다.\n",
        "  - color_func: 색깔을 지정해주는 방법\n",
        "  - font_path: 폰트의 경로를 지정해줄 수 있다.\n",
        "  - min_font_size: default는 4이다. 더 작은 수를 입력하면 wordcloud에 더 많은 단어들을 담을 수 있다.\n",
        "  - relative_sacling: 0으로 해주면 랭킹만 고려되고 1로 설정하면 빈도수가 2배 많으면 사이즈도 2배 많이 나온다.\n",
        "  > reference: https://amueller.github.io/word_cloud/generated/wordcloud.WordCloud.html\n",
        "- **generate ( \" 텍스트 데이터 \" )**: 텍스트 데이터를 generate 메소드를 통해서 wordcloud를 만들어준다.\n",
        "- **generate_from_frequencies ( dict )**: dict 형태로 넣어줄 때\n",
        "- **.words_**: 가장 많이 나오는 단어를 1로 보고 나머지 상대적인 값을 반환\n",
        "- **.to_image ( )**: 시각화하기\n",
        "- **stopwords**: 텍스트 분석에 도움이 되지 않는 단어 토큰을 제거하는 작업이다.\n",
        "- **stopwords .add ( \" 원치 않는 단어 \" )**: 원치 않는 단어를 지우고 싶을 때\n",
        "- **to_file ( \" 파일 이름 .png \" )**: wordcloud 이미지로 저장하기"
      ]
    },
    {
      "cell_type": "markdown",
      "metadata": {
        "id": "5JjfXpSV1B7w"
      },
      "source": [
        "## 🔎 Using Image Mask"
      ]
    },
    {
      "cell_type": "markdown",
      "metadata": {
        "id": "eN92_oSj1E_y"
      },
      "source": [
        "- **Image .open ( \" 이미지이름 .png \" )**: 이미지 불러오기\n",
        "- **np .array ( Image .open ( \" 이미지이름 .png \" ) )**: 이미지를 np.array 형태로 변환. image가 크면 오래 걸려서 멈출 수 있다.\n",
        "- **.thumbnail ( ( 사이즈 , 사이즈 ) )**: 썸네일 사이즈 지정\n",
        "- **.save ( \" 이름 .png \" )**: 썸네일 저장해주기\n",
        "- **.resize ( ( 사이즈, 사이즈 ) )**: 이미지 확대, 축소하기\n",
        "- **.filter ( ImageFilter .BLUR )**: 이미지 필터링하기\n",
        "- **WordCloud ( backgroun_color = ' ' , collocations = False  , stopwords = stopwords , mask = )**: mask에다가 np.array로 만들어진 mask를 지정하면 된다."
      ]
    },
    {
      "cell_type": "markdown",
      "metadata": {
        "id": "WoJ3qOx21USL"
      },
      "source": [
        "### 📔 Examples"
      ]
    },
    {
      "cell_type": "code",
      "metadata": {
        "id": "DjhoD9OouMMe"
      },
      "source": [
        "## WordCloud 예시: [고급선물포장] 인스타그램 검색결과 (42개 게시물)\n",
        "# 필요한 클래스, 모듈들\n",
        "import matplotlib as mplㅁ\n",
        "import matplotlib.pyplot as plt\n",
        "import numpy as np\n",
        "import pandas as pd\n",
        "%matplotlib inline\n",
        "\n",
        "from wordcloud import WordCloud, STOPWORDS as stopwords\n",
        "from PIL import Image, ImageFilter\n",
        "from wordcloud import ImageColorGenerator\n",
        "\n",
        "# 데이터 불러오기\n",
        "content = open('first_crawling_content.txt', encoding='utf-8', errors='ignore')\n",
        "\n",
        "lines = content.readlines()\n",
        "\n",
        "# KoNLPy 준비하기\n",
        "okt=konlpy.tag.Okt()\n",
        "\n",
        "# 형태소 추출하기, 품사 태깅\n",
        "pos_lines = okt.pos(lines[0], norm=True, stem=True)\n",
        "pos_lines\n",
        "\n",
        "# 동사, 명사, 형용사만 추출\n",
        "list_words = []\n",
        "for each_tuple in pos_lines:\n",
        "        if (each_tuple[1]==\"Noun\") | (each_tuple[1]==\"Verb\") | (each_tuple[1]==\"Adjective\"):\n",
        "            list_words.append(each_tuple[0])\n",
        "\n",
        "# 단어 빈도수 파악하기\n",
        "Counter(list_words).most_common(100)  \n",
        "\n",
        "# stopwords 넣기\n",
        "stopwords = ['하다','클래스','청주','여의도','원데이','방','문의','영풍문고','세종시','수업',\n",
        "            '곳','가능','분','쌀','않다','카카오','마포','영등포','물다','있다','없다','전병']\n",
        "tokens = [each for each in list_words if each not in stopwords]\n",
        "tokens\n",
        "\n",
        "# 데이터 dictionary 형태로 준비\n",
        "word_collection = dict(Counter(list_words).most_common(100))\n",
        "\n",
        "# WordCloud 준비하기\n",
        "wc = WordCloud(background_color = \"white\",\n",
        "               font_path = \"c:/Windows/Fonts/NanumBrush.ttf\",\n",
        "               colormap = \"flag\",\n",
        "               mask = np.array(Image.open(\"gift_jpg.jpg\")),\n",
        "               collocations = True, \n",
        "               stopwords = stopwords)\n",
        "\n",
        "# WordCloud 만들기\n",
        "wc.generate_from_frequencies(word_collection)\n",
        "wc.to_image()"
      ],
      "execution_count": null,
      "outputs": []
    },
    {
      "cell_type": "code",
      "metadata": {
        "id": "aEsH0dfYO9r6"
      },
      "source": [
        "# WordCloud 예시: Alice text\n",
        "## 1) Wordcloud 클래스의 인스턴스 생성\n",
        "alicewc = WordCloud(background_color = \"white\",\n",
        "                  collocations = True, \n",
        "                  stopwords = stopwords)\n",
        "\n",
        "alicewc = WordCloud(background_color = 'white',\n",
        "                   collocations = False,\n",
        "                   stopwords = stopwords,\n",
        "                   width = 600, height = 400)    # 이렇게 만들어줄 수도 있음\n",
        "\n",
        "\n",
        "## 2) Wordcloud를 generate하기\n",
        "alicewc.generate(alice_text)\n",
        "\n",
        "## 3) Wordcloud 시각화하기\n",
        "alicewc.to_image()"
      ],
      "execution_count": null,
      "outputs": []
    },
    {
      "cell_type": "code",
      "metadata": {
        "id": "3IvNY6YlO9yW"
      },
      "source": [
        "# stopwords.add()\n",
        "stopwords.add(\"said\")\n",
        "\n",
        "alicewc.generate(alice_text)\n",
        "alicewc.to_image()"
      ],
      "execution_count": null,
      "outputs": []
    },
    {
      "cell_type": "code",
      "metadata": {
        "id": "nynLBaREO942"
      },
      "source": [
        "# color_func를 통한 색 설정\n",
        "def my_color_func(*args, **kwargs):\n",
        "    #print(args, kwargs)\n",
        "    font_size = kwargs['font_size']\n",
        "    if font_size > 50:\n",
        "        return \"rgb(204,0,102)\"\n",
        "    elif font_size > 20:\n",
        "        return \"rgb(255,51,153)\"\n",
        "    else:\n",
        "        return \"rgb(255,153,204)\"\n",
        "      \n",
        "alicewc = WordCloud(background_color = \"white\",\n",
        "                  collocations = False,\n",
        "                  stopwords = stopwords,\n",
        "                   color_func = my_color_func)\n",
        "\n",
        "alicewc.generate(alice_text)\n",
        "alicewc.to_image()"
      ],
      "execution_count": null,
      "outputs": []
    },
    {
      "cell_type": "code",
      "metadata": {
        "id": "oVNsQu2zO9_e"
      },
      "source": [
        "# font_path 정해주기\n",
        "alicewc = WordCloud(background_color = \"white\",\n",
        "                    collocations = False,\n",
        "                    stopwords = stopwords,\n",
        "                    colormap = \"Reds\",\n",
        "                    font_path = 'C:/Windows/Fonts/Bernhc.ttf') \n",
        "\n",
        "alicewc.generate(alice_text)\n",
        "alicewc.to_image()"
      ],
      "execution_count": null,
      "outputs": []
    },
    {
      "cell_type": "code",
      "metadata": {
        "id": "vE8qH6KIO-Gn"
      },
      "source": [
        "# image mask 예시\n",
        "from PIL import Image, ImageFilter\n",
        "Image.open(\"alice_mask.png\")\n",
        "\n",
        "mask_array = np.array(Image.open(\"alice_mask.png\"))\n",
        "mask_array\n",
        "\n",
        "# 썸네일 만들기\n",
        "a = Image.open(\"alice_mask.png\")\n",
        "size = (32,32) #최대 32*32 사이즈의 썸네일 만들기\n",
        "a.thumbnail(size)\n",
        "a.save(\"thumb.jpg\")\n",
        "\n",
        "# 이미지 확대/축소하기\n",
        "Image.open(\"alice_mask.png\").resize((300,500))\n",
        "\n",
        "# 이미지 저장하기\n",
        "a.save(\"alicejpg.jpg\")\n",
        "\n",
        "# 이미지 필터링\n",
        "Image.open(\"alice_mask.png\").filter(ImageFilter.BLUR) #CONTOUR 등등\n",
        "\n",
        "# wordcloud 만들기\n",
        "alice_wc = WordCloud(background_color = \"white\",\n",
        "                   collocations = False,\n",
        "                   stopwords = stopwords,\n",
        "                   mask = mask_array) # 앞에서 np.array로 만든 mask 지정\n",
        "\n",
        "alice_wc.generate(alice_text)\n",
        "alice_wc.to_image()"
      ],
      "execution_count": null,
      "outputs": []
    },
    {
      "cell_type": "code",
      "metadata": {
        "id": "8m3orhLZO-N5"
      },
      "source": [
        "# 모든 내용을 사용하여 최종 결과물 만들어보기\n",
        "alice_wc_f = WordCloud(background_color = \"white\", # 배경색\n",
        "                   collocations = False, # collocation 떨어뜨리기\n",
        "                   stopwords = stopwords, # stopword 지정\n",
        "                   mask = mask_array, # np.array로 가져온 이미지 mask 지정\n",
        "                   colormap = \"Reds\", # colormap 지정\n",
        "                   font_path = 'C:/Windows/Fonts/Bernhc.ttf', # 폰트 지정   \n",
        "                   min_font_size = 1) # 최소 폰트 크기 지정\n",
        "\n",
        "alice_wc_f.generate(alice_text)\n",
        "alice_wc_f.to_image()"
      ],
      "execution_count": null,
      "outputs": []
    },
    {
      "cell_type": "code",
      "metadata": {
        "id": "jkTKEuNFO-UN"
      },
      "source": [
        "# 한글 시각화\n",
        "## 예시1\n",
        "import konlpy\n",
        "from konlpy.tag import Okt\n",
        "\n",
        "okt = Okt()\n",
        "\n",
        "text = open(\"korcon.txt\", encoding = 'utf-8').read()\n",
        "\n",
        "tokens_noun = okt.nouns(text)\n",
        "tokens_noun\n",
        "\n",
        "# 데이터 내보내기\n",
        "import pickle\n",
        "with open('noun.txt', 'wb') as f:\n",
        "    pickle.dump(tokens_noun, f)\n",
        "    \n",
        "# 데이터 불러오기\n",
        "with open('noun.txt', 'rb') as f:\n",
        "    tokens_noun = pickle.load(f)\n",
        "    \n",
        "tokens_noun\n",
        "\n",
        "# 넣지 않을 단어 삭제하기\n",
        "stopwords = [\"제\",\"월\",\"일\",\"조\",\"때\",\"그\",\"이\",\"및\",\"안\",\"바\",\"수\",\"것\",\"정\",\"밖\"]\n",
        "tokens_noun = [each for each in tokens_noun if each not in stopwords]\n",
        "tokens_noun\n",
        "\n",
        "# 명사의 빈도수 추출\n",
        "Counter(tokens_noun).most_common(500)\n",
        "\n",
        "# Top 1000 단어 dictionary로 저장\n",
        "nouns_dict = dict(Counter(tokens_noun).most_common(1000))\n",
        "nouns_dict\n",
        "\n",
        "\n",
        "#대한민국 지도 위에 워드클라우드 그리기\n",
        "wordcloud = WordCloud(background_color = \"white\",\n",
        "                    font_path = \"c:/Windows/Fonts/malgun.ttf\",  \n",
        "                    mask = np.array(Image.open(\"koreanmap.png\")),\n",
        "                    colormap = \"flag\",\n",
        "                    relative_scaling = 0.1,\n",
        "                    max_font_size = 40)\n",
        "\n",
        "wordcloud.generate_from_frequencies(nouns_dict)  #워드클라우드에 넣어주고 싶은 것의 딕셔너리 파일을\n",
        "wordcloud.to_image()"
      ],
      "execution_count": null,
      "outputs": []
    },
    {
      "cell_type": "code",
      "metadata": {
        "id": "UaXiZHzAO-bA"
      },
      "source": [
        "# Dataframe에서 wordcloud 만들기\n",
        "immigration = pd.read_csv(\"immigration.csv\")\n",
        "immigration = immigration.set_index(\"Country\")\n",
        "immigration.head(10)\n",
        "\n",
        "#총 이민자 수 :\n",
        "total_immigration =int(immigration[\"Total\"].sum())\n",
        "total_immigration\n",
        "\n",
        "# text data 생성\n",
        "max_words = 3000\n",
        "txt = ''\n",
        "for country in immigration.index.values:\n",
        "    # 국가이름이 한 단어인 국가들만 보겠습니다^^\n",
        "    if len(country.split(' ')) == 1:\n",
        "        repeat_num_times = int(immigration.loc[country, 'Total']/float(total_immigration)*max_words)\n",
        "        txt = txt + ((country + ' ') * repeat_num_times)\n",
        "                                     \n",
        "# display the generated text\n",
        "txt\n",
        "#이러면 (3000 * 전체 immigrants 중 각 국가의 국민이 차지하는 비중) >= 1 이상인 국가만 뜹니다.\n",
        "\n",
        "world_wordcloud = WordCloud(background_color = 'white',\n",
        "                           collocations = False)\n",
        "\n",
        "world_wordcloud.generate(txt)\n",
        "world_wordcloud.to_image()"
      ],
      "execution_count": null,
      "outputs": []
    },
    {
      "cell_type": "code",
      "metadata": {
        "id": "ysZLpzeYO-iP"
      },
      "source": [
        "# ImageColorGenerator\n",
        "from wordcloud import ImageColorGenerator\n",
        "\n",
        "wine = pd.read_csv(\"winemag_data.csv\", index_col = 0)\n",
        "\n",
        "stopwords.append([\"drink\", \"now\", \"wine\", \"flavor\", \"flavors\"])\n",
        "\n",
        "# 미국 국기에 US Wine description으로 word cloud 해보기\n",
        "usa = \" \".join(i for i in wine[wine[\"country\"] == \"US\"].description)\n"
      ],
      "execution_count": null,
      "outputs": []
    }
  ]
}