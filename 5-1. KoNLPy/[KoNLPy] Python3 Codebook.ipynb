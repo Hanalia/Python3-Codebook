{
  "nbformat": 4,
  "nbformat_minor": 0,
  "metadata": {
    "colab": {
      "name": "(원본) [KoNLPy] Python3 Codebook.ipynb",
      "provenance": [],
      "collapsed_sections": [
        "1C51eODaw1Bp",
        "kSdEoddAw073",
        "dR0HeL3Yw02c",
        "3aYc9gcmt2hD"
      ]
    },
    "kernelspec": {
      "name": "python3",
      "display_name": "Python 3"
    },
    "accelerator": "GPU"
  },
  "cells": [
    {
      "cell_type": "markdown",
      "metadata": {
        "id": "RYFuejL5sXMt"
      },
      "source": [
        "---\n",
        "# 📁 Hyun's Code collection (KoNLPy) \n",
        "---\n",
        "\n",
        "### <h3 align=\"right\">🥇 Authored by <strong>Hyun</strong></h3>"
      ]
    },
    {
      "cell_type": "markdown",
      "metadata": {
        "id": "1C51eODaw1Bp"
      },
      "source": [
        "# ✏️  What is **KoNLPy**?"
      ]
    },
    {
      "cell_type": "markdown",
      "metadata": {
        "id": "VwvBT4oLaVi2"
      },
      "source": [
        "- KoNLP는 형태소를 분석하고 품사를 태깅해주는 라이브러리다.\n",
        "- 형태소를 비롯해 다양한 언어적 속성의 구조를 파악하고 형태소의 뜻과 문맥을 고려하여 그것에 마크업을 해준다.\n",
        "- [KoNLPy Homepage](https://konlpy-ko.readthedocs.io/ko/v0.5.1/#)\n",
        "- [How to install KoNLPy](https://konlpy-ko.readthedocs.io/ko/v0.5.1/install/)\n",
        "- [Korean descriptive tags Comparison table](https://docs.google.com/spreadsheets/d1OGAjUvalBuX-oZvZ_-9tEfYD2gQe7hTGsgUpiiBSXI8/edit#gid=0)"
      ]
    },
    {
      "cell_type": "markdown",
      "metadata": {
        "id": "NJ6AOVp-yG2q"
      },
      "source": [
        "<h3> KoNLPy의 내장된 분석기 종류 </h3>\n",
        "\n",
        "1. Hannanum\n",
        "2. Kkma\n",
        "3. Okt (Twitter)\n",
        "4. Komoran\n",
        "5. Mecab (Mac에서만 지원해줌)\n",
        "\n",
        "- 분석기마다 로딩시간과 실행시간이 다르다.\n",
        "- 동일한 문장이라도 분석기에 따라 품사 태깅하는 결과가 다르다.\n",
        "- KoNLPy의 분석기 중에서 사용할 것을 불러와서 인스턴스로 만들어준다."
      ]
    },
    {
      "cell_type": "markdown",
      "metadata": {
        "id": "kSdEoddAw073"
      },
      "source": [
        "# ✏️ Import Libraries"
      ]
    },
    {
      "cell_type": "code",
      "metadata": {
        "id": "gRO8gtPDrySn"
      },
      "source": [
        "import konlpy\n",
        "from konlpy.tag import Okt\n",
        "from konlpy.tag import Mecab"
      ],
      "execution_count": null,
      "outputs": []
    },
    {
      "cell_type": "markdown",
      "metadata": {
        "id": "dR0HeL3Yw02c"
      },
      "source": [
        "# ✏️ Methods and Examples"
      ]
    },
    {
      "cell_type": "markdown",
      "metadata": {
        "id": "nWLjXpU8aVi4"
      },
      "source": [
        "- **konlpy .tag .Kkma ( )**\n",
        "- **konlpy .tag .Okt ( )**\n",
        "- **konlpy .tag .Hannanum ( )**\n",
        "- **konlpy .tag .Komoran ( )**\n",
        "\n",
        "\n",
        "- **.morphs ( phrase )**: phrase의 형태소를 분석하기\n",
        "- **.pos ( phrase , norm = False , stem = False )**: phrase의 단어를 품사에 태깅하기\n",
        "  - norm: True로 설정하면 오류나 실수를 수정한다. e.g 사릉해 -> 사랑해\n",
        "  - stem: True로 설정하면 어근화시켜서 단어의 기본형으로 변환한다. e.g 되나요 -> 되다\n",
        "- **.nouns( phrase )**: phrase의 형태소 중에서 명사만 추출\n",
        "- **.phrases ( phrase )**: phrase에서 phrase를 추출"
      ]
    },
    {
      "cell_type": "markdown",
      "metadata": {
        "id": "3aYc9gcmt2hD"
      },
      "source": [
        "### 📔 Examples (Constitution of Korea)"
      ]
    },
    {
      "cell_type": "code",
      "metadata": {
        "id": "LJ9X9g7Wypnx"
      },
      "source": [
        "# Import data\n",
        "from konlpy.corpus import kolaw\n",
        "from konlpy.corpus import kobill"
      ],
      "execution_count": null,
      "outputs": []
    },
    {
      "cell_type": "code",
      "metadata": {
        "id": "BImFstcWaVjD"
      },
      "source": [
        "# konlpy 예제\n",
        "## 예제1\n",
        "# 우선 분석기를 인스턴스로 만들어주기\n",
        "kkma=konlpy.tag.Kkma()\n",
        "okt=konlpy.tag.Okt()\n",
        "han=konlpy.tag.Hannanum()\n",
        "komo = konlpy.tag.Komoran()\n",
        "\n",
        "# 해봅시다\n",
        "kolaw.fileids()\n",
        "\n",
        "korealaw = kolaw.open('constitution.txt').read()\n",
        "korealaw\n",
        "\n",
        "# 품사 태깅\n",
        "pos_korealaw = okt.pos(korealaw)\n",
        "pos_korealaw\n",
        "\n",
        "#품사가 명사인 단어들만 추리기\n",
        "nouns=[]\n",
        "\n",
        "for each_tuple in pos_korealaw:\n",
        "        if each_tuple[1]==\"Noun\":\n",
        "            nouns.append(each_tuple[0])\n",
        "\n",
        "#명사 빈도수 확인하기\n",
        "import collections\n",
        "from collections import Counter\n",
        "Counter(nouns).most_common(100)        "
      ],
      "execution_count": null,
      "outputs": []
    }
  ]
}