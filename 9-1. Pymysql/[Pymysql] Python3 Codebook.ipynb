{
  "nbformat": 4,
  "nbformat_minor": 0,
  "metadata": {
    "colab": {
      "name": "(원본) [Pymysql] Python3 Codebook.ipynb",
      "provenance": [],
      "collapsed_sections": [
        "JelDCixO8lXi",
        "PutzmCgk8ocO",
        "i8LnAfPOIBql",
        "i2FUiAQEIBql",
        "wyp_ob3-IBqm"
      ],
      "toc_visible": true
    },
    "kernelspec": {
      "name": "python3",
      "display_name": "Python 3"
    },
    "accelerator": "GPU"
  },
  "cells": [
    {
      "cell_type": "markdown",
      "metadata": {
        "id": "xPE6fbNB9G8s"
      },
      "source": [
        "---\n",
        "# 📁 Hyun's Code collection (Pymysql) \n",
        "---\n",
        "\n",
        "### <h3 align=\"right\">🥇 Authored by <strong>Hyun</strong></h3>"
      ]
    },
    {
      "cell_type": "markdown",
      "metadata": {
        "id": "JelDCixO8lXi"
      },
      "source": [
        "# ✏️ What is **Pymysql**?"
      ]
    },
    {
      "cell_type": "markdown",
      "metadata": {
        "id": "ENA9hJ9GYrQx"
      },
      "source": [
        "- MySQL DB와 연동해서 데이터를 읽고 저장하는 쿼리 실행을 도와주는 라이브러리"
      ]
    },
    {
      "cell_type": "markdown",
      "metadata": {
        "id": "GEZWLRaB8nbB"
      },
      "source": [
        "# ✏️ Import Libraries"
      ]
    },
    {
      "cell_type": "code",
      "metadata": {
        "id": "K_D_PJ5YXvCC"
      },
      "source": [
        "import pymysql"
      ],
      "execution_count": null,
      "outputs": []
    },
    {
      "cell_type": "markdown",
      "metadata": {
        "id": "PutzmCgk8ocO"
      },
      "source": [
        "# ✏️ Methods and Examples"
      ]
    },
    {
      "cell_type": "markdown",
      "metadata": {
        "id": "i8LnAfPOIBql"
      },
      "source": [
        "## 🔎 DB 연결"
      ]
    },
    {
      "cell_type": "code",
      "metadata": {
        "scrolled": true,
        "id": "0kPbRg2gIBql"
      },
      "source": [
        "db = pymysql.connect(\n",
        "    user='root', \n",
        "    port = 3306,\n",
        "    password='12341234', \n",
        "    host='127.0.0.1', \n",
        "    charset='utf8'\n",
        ")"
      ],
      "execution_count": null,
      "outputs": []
    },
    {
      "cell_type": "markdown",
      "metadata": {
        "id": "i2FUiAQEIBql"
      },
      "source": [
        "## 🔎 새로운 DB 생성 및 사용 설정"
      ]
    },
    {
      "cell_type": "code",
      "metadata": {
        "id": "-IvKqy2UIBql"
      },
      "source": [
        "cursor = db.cursor()"
      ],
      "execution_count": null,
      "outputs": []
    },
    {
      "cell_type": "code",
      "metadata": {
        "id": "Io57LS2OIBql"
      },
      "source": [
        "sql_create = 'CREATE DATABASE practice2'\n",
        "sql_use = 'USE practice2'"
      ],
      "execution_count": null,
      "outputs": []
    },
    {
      "cell_type": "code",
      "metadata": {
        "id": "6-ggTm_kIBql",
        "outputId": "7f3bcae4-f808-4b78-e49a-3579b05e2cdf"
      },
      "source": [
        "cursor.execute(sql_create)\n",
        "cursor.execute(sql_use)"
      ],
      "execution_count": null,
      "outputs": [
        {
          "output_type": "execute_result",
          "data": {
            "text/plain": [
              "0"
            ]
          },
          "metadata": {
            "tags": []
          },
          "execution_count": 17
        }
      ]
    },
    {
      "cell_type": "code",
      "metadata": {
        "id": "RZfojB-2IBql"
      },
      "source": [
        "# 테이블 생성\n",
        "sql=open(\"DBP-e14-MySQL-VRG-Create-Tables.sql\").read()"
      ],
      "execution_count": null,
      "outputs": []
    },
    {
      "cell_type": "code",
      "metadata": {
        "id": "FbAgVjl7IBql",
        "outputId": "a590c7a4-cbd0-4f31-dc6a-f892ea82cdfb"
      },
      "source": [
        "sql.split(';')"
      ],
      "execution_count": null,
      "outputs": [
        {
          "output_type": "execute_result",
          "data": {
            "text/plain": [
              "[\"/********************************************************************************/\\n/*\\t\\t\\t\\t\\t\\t\\t\\t\\t\\t\\t\\t\\t\\t\\t\\t\\t\\t        */\\n/*\\tKroenke and Auer - Database Processing (14th Edition) Chapter 10C         \\t*/\\n/*\\t\\t\\t\\t\\t\\t\\t\\t\\t\\t\\t\\t\\t\\t\\t\\t\\t\\t        */\\n/*\\tThe View Ridge Gallery (VRG) - Create Tables\\t\\t\\t\\t\\t\\t\\t    */\\n/*\\t\\t\\t\\t\\t\\t\\t\\t\\t\\t\\t\\t\\t\\t\\t\\t\\t\\t        */\\n/*\\tThese are the MySQL 5.6 SQL code solutions                              \\t*/\\n/*\\t\\t\\t\\t\\t\\t\\t\\t\\t\\t\\t\\t\\t\\t\\t\\t\\t\\t        */\\n/********************************************************************************/\\n\\n\\nCREATE TABLE ARTIST (\\n\\tArtistID \\t\\t     Int \\t\\t\\t\\tNOT NULL,\\n\\tLastName\\t\\t     Char(25)\\t\\t\\tNOT NULL,\\n\\tFirstName\\t\\t     Char(25)\\t\\t\\tNOT NULL,\\n\\tNationality      \\t Char(30)\\t\\t\\tNULL,\\n\\tDateOfBirth      \\t Numeric(4,0)\\t\\t\\tNULL,\\n\\tDateDeceased     \\t Numeric(4,0)\\t\\t\\tNULL,\\n\\tCONSTRAINT \\tArtistPK\\t\\t\\t\\t  PRIMARY KEY(ArtistID),\\n\\tCONSTRAINT \\tArtistAK1\\t\\t\\t\\t  UNIQUE(LastName, FirstName),\\n\\tCONSTRAINT \\tNationalityValues CHECK\\n\\t\\t\\t\\t\\t(Nationality IN ('Canadian', 'English', 'French',\\n\\t\\t\\t\\t\\t 'German', 'Mexican', 'Russian', 'Spanish',\\n\\t\\t\\t\\t\\t 'United States')),\\n\\tCONSTRAINT \\tBirthValuesCheck  CHECK (DateOfBirth < DateDeceased),\\n\\tCONSTRAINT \\tValidBirthYear \\t  CHECK\\n\\t\\t\\t\\t\\t(DateOfBirth REGEXP '[1-2][0-9][0-9][0-9]'),\\n\\tCONSTRAINT \\tValidDeathYear \\t  CHECK\\n\\t\\t\\t\\t\\t(DateDeceased REGEXP '[1-2][0-9][0-9][0-9]')\\n\\t)\",\n",
              " \"\\n\\nCREATE TABLE WORK (\\n\\tWorkID \\t\\t\\t     Int \\t\\t\\t\\tNOT NULL,\\n\\tTitle \\t\\t\\t\\t Char(35) \\t\\t \\tNOT NULL,\\n\\tCopy \\t\\t\\t\\t Char(12)\\t\\t\\tNOT NULL,\\n\\tMedium \\t\\t\\t     Char(35) \\t\\t \\tNULL,\\n\\tDescription\\t\\t\\t Varchar(1000) \\t\\tNULL DEFAULT 'Unknown provenance',\\n\\tArtistID \\t\\t\\t Int \\t\\t\\t\\tNOT NULL,\\n\\tCONSTRAINT \\tWorkPK\\t\\t\\t\\t\\t PRIMARY KEY(WorkID),\\n\\tCONSTRAINT \\tWorkAK1\\t\\t\\t\\t     UNIQUE(Title, Copy),\\n\\tCONSTRAINT \\tArtistFK\\t\\t\\t\\t FOREIGN KEY(ArtistID)\\n      \\t\\t\\t\\t\\t\\t REFERENCES ARTIST(ArtistID)\\n \\t\\t\\t\\t\\t\\t\\t        ON UPDATE NO ACTION\\n\\t\\t\\t\\t\\t\\t\\t        ON DELETE NO ACTION\\n\\t)\",\n",
              " '\\n\\nCREATE TABLE CUSTOMER (\\n\\tCustomerID \\t\\t\\t Int \\t\\t\\t\\tNOT NULL,\\n\\tLastName \\t\\t\\t Char(25) \\t\\t \\tNOT NULL,\\n\\tFirstName \\t\\t\\t Char(25) \\t\\t\\tNOT NULL,\\n    EmailAddress\\t\\t Varchar(100)  \\t\\tNULL,\\n    EncryptedPassword\\t Varchar(50)\\t\\tNULL,\\t\\n\\tStreet \\t\\t\\t     Char(30) \\t\\t \\tNULL,\\n\\tCity \\t\\t\\t\\t Char(35)\\t \\t\\tNULL,\\n\\tState \\t\\t\\t     Char(2) \\t\\t\\tNULL,\\n\\tZIPorPostalCode\\t\\t Char(9)\\t\\t\\tNULL,\\n\\tCountry\\t\\t\\t     Char(50)\\t\\t\\tNULL,\\n\\tAreaCode \\t\\t\\t Char(3)\\t\\t\\tNULL,\\n\\tPhoneNumber \\t\\t Char(8) \\t\\t\\tNULL,\\n\\tCONSTRAINT \\tCustomerPK\\t\\t\\t   \\tPRIMARY KEY(CustomerID),\\n\\tCONSTRAINT \\tEmailAddressAK1\\t\\t\\tUNIQUE(EmailAddress)\\n\\t)',\n",
              " '\\n\\nCREATE TABLE TRANS (\\n\\tTransactionID\\t\\t Int \\t\\t\\t\\tNOT NULL,\\n\\tDateAcquired \\t\\t Date\\t\\t\\t\\tNOT NULL,\\n\\tAcquisitionPrice \\t Numeric(8,2)\\t \\tNOT NULL,\\n    AskingPrice\\t\\t\\t Numeric(8,2)\\t \\tNULL,\\n\\tDateSold\\t\\t\\t Date\\t\\t\\t\\tNULL,\\n\\tSalesPrice \\t\\t\\t Numeric(8,2)\\t \\tNULL,\\n\\tCustomerID\\t\\t\\t Int \\t\\t\\t\\tNULL,\\n\\tWorkID\\t\\t\\t\\t Int \\t\\t\\t\\tNOT NULL,\\n\\tCONSTRAINT \\tTransPK\\t\\t\\t\\t    PRIMARY KEY(TransactionID),\\n\\tCONSTRAINT \\tTransWorkFK\\t\\t\\t   \\tFOREIGN KEY(WorkID)\\n\\t\\t\\t\\t\\t\\t       REFERENCES WORK(WorkID)\\n \\t\\t\\t\\t\\t\\t\\t        ON UPDATE NO ACTION\\n\\t\\t\\t\\t\\t\\t\\t\\t\\tON DELETE NO ACTION,\\n\\tCONSTRAINT \\tTransCustomerFK \\t \\tFOREIGN KEY(CustomerID)\\n\\t\\t\\t\\t\\t\\t       REFERENCES CUSTOMER(CustomerID)\\n \\t\\t\\t\\t\\t\\t\\t        ON UPDATE NO ACTION\\n\\t\\t\\t\\t\\t\\t\\t        ON DELETE NO ACTION,\\n\\tCONSTRAINT \\tSalesPriceRange \\t \\tCHECK\\n\\t\\t\\t\\t\\t         ((SalesPrice > 0) AND (SalesPrice <=500000)),\\n\\tCONSTRAINT\\tValidTransDate \\t\\t \\tCHECK (DateAcquired <= DateSold)\\n\\t)',\n",
              " '\\n\\nCREATE TABLE CUSTOMER_ARTIST_INT(\\n\\tArtistID \\t\\t\\t Int \\t\\t\\t\\tNOT NULL,\\n\\tCustomerID \\t\\t\\t Int \\t\\t\\t\\tNOT NULL,\\n\\tCONSTRAINT \\tCAIntPK\\t\\t\\t\\t    PRIMARY KEY(ArtistID, CustomerID),\\n\\tCONSTRAINT \\tCAInt_ArtistFK\\t\\t \\tFOREIGN KEY(ArtistID)\\n\\t\\t\\t\\t\\t\\t       REFERENCES ARTIST(ArtistID)\\n\\t\\t\\t\\t\\t\\t\\t\\t\\tON UPDATE NO ACTION\\n\\t\\t\\t\\t\\t\\t\\t        ON DELETE CASCADE,\\n\\tCONSTRAINT \\tCAInt_CustomerFK   \\t\\tFOREIGN KEY(CustomerID)\\n\\t\\t\\t\\t\\t\\t       REFERENCES CUSTOMER(CustomerID)\\n\\t\\t\\t\\t\\t\\t\\t        ON UPDATE NO ACTION\\n\\t\\t\\t\\t\\t\\t\\t        ON DELETE CASCADE\\n\\t)',\n",
              " '\\n']"
            ]
          },
          "metadata": {
            "tags": []
          },
          "execution_count": 21
        }
      ]
    },
    {
      "cell_type": "code",
      "metadata": {
        "id": "SJP0-zUTIBql"
      },
      "source": [
        "for statement in sql.split(';'):\n",
        "    if len(statement) > 5:\n",
        "        cursor.execute(statement + ';')"
      ],
      "execution_count": null,
      "outputs": []
    },
    {
      "cell_type": "code",
      "metadata": {
        "id": "3qsEygrVIBql"
      },
      "source": [
        "db.commit() # 데이터 확정\n",
        "db.close() # cursor 하나에는 db.close() 하나!!!"
      ],
      "execution_count": null,
      "outputs": []
    },
    {
      "cell_type": "markdown",
      "metadata": {
        "id": "wyp_ob3-IBqm"
      },
      "source": [
        "## 🔎 라이브러리 실습"
      ]
    },
    {
      "cell_type": "code",
      "metadata": {
        "id": "Ffxwqo-RIBqm"
      },
      "source": [
        "db = pymysql.connect(\n",
        "    user='root', \n",
        "    port = 3306,\n",
        "    password='12341234', \n",
        "    host='127.0.0.1', \n",
        "    charset='utf8',\n",
        "    database = 'practice'\n",
        ")"
      ],
      "execution_count": null,
      "outputs": []
    },
    {
      "cell_type": "code",
      "metadata": {
        "id": "oQPJvknWIBqm"
      },
      "source": [
        "cursor = db.cursor()"
      ],
      "execution_count": null,
      "outputs": []
    },
    {
      "cell_type": "code",
      "metadata": {
        "id": "eRiYRSHOIBqm"
      },
      "source": [
        "# 데이터 생성\n",
        "sql=open(\"DBP-e14-MySQL-VRG-Insert-Data.sql\").read()"
      ],
      "execution_count": null,
      "outputs": []
    },
    {
      "cell_type": "code",
      "metadata": {
        "id": "UvR2Po6xIBqm"
      },
      "source": [
        "for statement in sql.split(';'):\n",
        "    if len(statement) > 5:\n",
        "        cursor.execute(statement + ';')"
      ],
      "execution_count": null,
      "outputs": []
    },
    {
      "cell_type": "code",
      "metadata": {
        "scrolled": true,
        "id": "eq2Y0zBQIBqm",
        "outputId": "2ed4a69a-9cbd-42ba-9eab-528725aa5c13"
      },
      "source": [
        "sql = \"select * from artist\"\n",
        "cursor.execute(sql)"
      ],
      "execution_count": null,
      "outputs": [
        {
          "output_type": "execute_result",
          "data": {
            "text/plain": [
              "9"
            ]
          },
          "metadata": {
            "tags": []
          },
          "execution_count": 27
        }
      ]
    },
    {
      "cell_type": "code",
      "metadata": {
        "id": "6hAqyPl7IBqm",
        "outputId": "1d9214e6-eb6f-4808-ec17-64bad9436fe5"
      },
      "source": [
        "# 모든 데이터를 한번에 클라이언트로 가져오기\n",
        "cursor.fetchall()"
      ],
      "execution_count": null,
      "outputs": [
        {
          "output_type": "execute_result",
          "data": {
            "text/plain": [
              "((1, 'Miro', 'Joan', 'Spanish', Decimal('1893'), Decimal('1983')),\n",
              " (2, 'Kandinsky', 'Wassily', 'Russian', Decimal('1866'), Decimal('1944')),\n",
              " (3, 'Klee', 'Paul', 'German', Decimal('1879'), Decimal('1940')),\n",
              " (4, 'Matisse', 'Henri', 'French', Decimal('1869'), Decimal('1954')),\n",
              " (5, 'Chagall', 'Marc', 'French', Decimal('1887'), Decimal('1985')),\n",
              " (11,\n",
              "  'Sargent',\n",
              "  'John Singer',\n",
              "  'United States',\n",
              "  Decimal('1856'),\n",
              "  Decimal('1925')),\n",
              " (17, 'Tobey', 'Mark', 'United States', Decimal('1890'), Decimal('1976')),\n",
              " (18, 'Horiuchi', 'Paul', 'United States', Decimal('1906'), Decimal('1999')),\n",
              " (19, 'Graves', 'Morris', 'United States', Decimal('1920'), Decimal('2001')))"
            ]
          },
          "metadata": {
            "tags": []
          },
          "execution_count": 28
        }
      ]
    },
    {
      "cell_type": "code",
      "metadata": {
        "id": "YdwfMQrtIBqm",
        "outputId": "b08c8ddb-b0bc-4f3b-fe2a-666518bfcfd7"
      },
      "source": [
        "cursor.execute(sql)"
      ],
      "execution_count": null,
      "outputs": [
        {
          "output_type": "execute_result",
          "data": {
            "text/plain": [
              "9"
            ]
          },
          "metadata": {
            "tags": []
          },
          "execution_count": 32
        }
      ]
    },
    {
      "cell_type": "code",
      "metadata": {
        "id": "ZEVu0pDNIBqm",
        "outputId": "eb19f310-3ca4-4c7c-b85c-3e1b87feba5c"
      },
      "source": [
        "#  한번에 하나의 row만 가져오기\n",
        "cursor.fetchone()"
      ],
      "execution_count": null,
      "outputs": [
        {
          "output_type": "execute_result",
          "data": {
            "text/plain": [
              "(1, 'Miro', 'Joan', 'Spanish', Decimal('1893'), Decimal('1983'))"
            ]
          },
          "metadata": {
            "tags": []
          },
          "execution_count": 33
        }
      ]
    },
    {
      "cell_type": "code",
      "metadata": {
        "scrolled": true,
        "id": "hP_QKuX7IBqm",
        "outputId": "1a7fe442-5288-4bba-e00e-c5e7ea13d738"
      },
      "source": [
        "# n개 만큼의 데이터 가져오기\n",
        "cursor.fetchmany(3)"
      ],
      "execution_count": null,
      "outputs": [
        {
          "output_type": "execute_result",
          "data": {
            "text/plain": [
              "((2, 'Kandinsky', 'Wassily', 'Russian', Decimal('1866'), Decimal('1944')),\n",
              " (3, 'Klee', 'Paul', 'German', Decimal('1879'), Decimal('1940')),\n",
              " (4, 'Matisse', 'Henri', 'French', Decimal('1869'), Decimal('1954')))"
            ]
          },
          "metadata": {
            "tags": []
          },
          "execution_count": 34
        }
      ]
    },
    {
      "cell_type": "code",
      "metadata": {
        "id": "CXWN8FxUIBqm"
      },
      "source": [
        "#Data Insert\n",
        "insert = \"\"\"INSERT INTO ARTIST \n",
        "\t(ArtistID, LastName, FirstName, Nationality, DateOfBirth, DateDeceased)\n",
        "\tVALUES(\n",
        "\t59, 'Kim', 'John', 'Spanish', 1893, 1983);\"\"\""
      ],
      "execution_count": null,
      "outputs": []
    },
    {
      "cell_type": "code",
      "metadata": {
        "id": "0urL8pJ_IBqm"
      },
      "source": [
        "cursor.execute(insert)\n",
        "db.commit()"
      ],
      "execution_count": null,
      "outputs": []
    },
    {
      "cell_type": "code",
      "metadata": {
        "id": "viqcDoojIBqm",
        "outputId": "10ed5802-4cd8-49ab-bfa4-23df703ba371"
      },
      "source": [
        "sql = \"select * from artist\"\n",
        "cursor.execute(sql)\n",
        "cursor.fetchall()"
      ],
      "execution_count": null,
      "outputs": [
        {
          "output_type": "execute_result",
          "data": {
            "text/plain": [
              "((1, 'Miro', 'Joan', 'Spanish', Decimal('1893'), Decimal('1983')),\n",
              " (2, 'Kandinsky', 'Wassily', 'Russian', Decimal('1866'), Decimal('1944')),\n",
              " (3, 'Klee', 'Paul', 'German', Decimal('1879'), Decimal('1940')),\n",
              " (4, 'Matisse', 'Henri', 'French', Decimal('1869'), Decimal('1954')),\n",
              " (5, 'Chagall', 'Marc', 'French', Decimal('1887'), Decimal('1985')),\n",
              " (11,\n",
              "  'Sargent',\n",
              "  'John Singer',\n",
              "  'United States',\n",
              "  Decimal('1856'),\n",
              "  Decimal('1925')),\n",
              " (17, 'Tobey', 'Mark', 'United States', Decimal('1890'), Decimal('1976')),\n",
              " (18, 'Horiuchi', 'Paul', 'United States', Decimal('1906'), Decimal('1999')),\n",
              " (19, 'Graves', 'Morris', 'United States', Decimal('1920'), Decimal('2001')),\n",
              " (59, 'Kim', 'John', 'Spanish', Decimal('1893'), Decimal('1983')))"
            ]
          },
          "metadata": {
            "tags": []
          },
          "execution_count": 37
        }
      ]
    },
    {
      "cell_type": "code",
      "metadata": {
        "id": "UrT6B4zFIBqm"
      },
      "source": [
        "#Data Update\n",
        "update = \"\"\"UPDATE ARTIST SET Nationality = 'French' WHERE ArtistId = 59\"\"\""
      ],
      "execution_count": null,
      "outputs": []
    },
    {
      "cell_type": "code",
      "metadata": {
        "id": "eqxJKhu_IBqm"
      },
      "source": [
        "cursor.execute(update)\n",
        "db.commit()"
      ],
      "execution_count": null,
      "outputs": []
    },
    {
      "cell_type": "code",
      "metadata": {
        "id": "vzdrIhyKIBqm",
        "outputId": "f96e7f0f-e8a0-426d-f3df-42bb73ee4a26"
      },
      "source": [
        "sql = \"select * from artist\"\n",
        "cursor.execute(sql)\n",
        "cursor.fetchall()"
      ],
      "execution_count": null,
      "outputs": [
        {
          "output_type": "execute_result",
          "data": {
            "text/plain": [
              "((1, 'Miro', 'Joan', 'Spanish', Decimal('1893'), Decimal('1983')),\n",
              " (2, 'Kandinsky', 'Wassily', 'Russian', Decimal('1866'), Decimal('1944')),\n",
              " (3, 'Klee', 'Paul', 'German', Decimal('1879'), Decimal('1940')),\n",
              " (4, 'Matisse', 'Henri', 'French', Decimal('1869'), Decimal('1954')),\n",
              " (5, 'Chagall', 'Marc', 'French', Decimal('1887'), Decimal('1985')),\n",
              " (11,\n",
              "  'Sargent',\n",
              "  'John Singer',\n",
              "  'United States',\n",
              "  Decimal('1856'),\n",
              "  Decimal('1925')),\n",
              " (17, 'Tobey', 'Mark', 'United States', Decimal('1890'), Decimal('1976')),\n",
              " (18, 'Horiuchi', 'Paul', 'United States', Decimal('1906'), Decimal('1999')),\n",
              " (19, 'Graves', 'Morris', 'United States', Decimal('1920'), Decimal('2001')),\n",
              " (59, 'Kim', 'John', 'French', Decimal('1893'), Decimal('1983')))"
            ]
          },
          "metadata": {
            "tags": []
          },
          "execution_count": 40
        }
      ]
    },
    {
      "cell_type": "code",
      "metadata": {
        "id": "Q59r3sh_IBqm"
      },
      "source": [
        "#Data Delete\n",
        "delete = \"\"\"DELETE FROM ARTIST WHERE ArtistId=59\"\"\""
      ],
      "execution_count": null,
      "outputs": []
    },
    {
      "cell_type": "code",
      "metadata": {
        "id": "hm3vKLPpIBqm"
      },
      "source": [
        "cursor.execute(delete)\n",
        "db.commit()"
      ],
      "execution_count": null,
      "outputs": []
    },
    {
      "cell_type": "code",
      "metadata": {
        "id": "w6AFPelBIBqm",
        "outputId": "2dd428f0-0203-4ebf-af35-c65ff7f7e262"
      },
      "source": [
        "sql = \"select * from artist\"\n",
        "cursor.execute(sql)\n",
        "cursor.fetchall()"
      ],
      "execution_count": null,
      "outputs": [
        {
          "output_type": "execute_result",
          "data": {
            "text/plain": [
              "((1, 'Miro', 'Joan', 'Spanish', Decimal('1893'), Decimal('1983')),\n",
              " (2, 'Kandinsky', 'Wassily', 'Russian', Decimal('1866'), Decimal('1944')),\n",
              " (3, 'Klee', 'Paul', 'German', Decimal('1879'), Decimal('1940')),\n",
              " (4, 'Matisse', 'Henri', 'French', Decimal('1869'), Decimal('1954')),\n",
              " (5, 'Chagall', 'Marc', 'French', Decimal('1887'), Decimal('1985')),\n",
              " (11,\n",
              "  'Sargent',\n",
              "  'John Singer',\n",
              "  'United States',\n",
              "  Decimal('1856'),\n",
              "  Decimal('1925')),\n",
              " (17, 'Tobey', 'Mark', 'United States', Decimal('1890'), Decimal('1976')),\n",
              " (18, 'Horiuchi', 'Paul', 'United States', Decimal('1906'), Decimal('1999')),\n",
              " (19, 'Graves', 'Morris', 'United States', Decimal('1920'), Decimal('2001')))"
            ]
          },
          "metadata": {
            "tags": []
          },
          "execution_count": 43
        }
      ]
    },
    {
      "cell_type": "code",
      "metadata": {
        "id": "D6wOTV6hIBqm"
      },
      "source": [
        "# 결과를 Dictionary 형태로 받고싶은 경우\n",
        "curs = db.cursor(pymysql.cursors.DictCursor)"
      ],
      "execution_count": null,
      "outputs": []
    },
    {
      "cell_type": "code",
      "metadata": {
        "id": "IdcgZbFDIBqm"
      },
      "source": [
        "sql = \"select * from artist\"\n",
        "curs.execute(sql)\n",
        "data = curs.fetchall()"
      ],
      "execution_count": null,
      "outputs": []
    },
    {
      "cell_type": "code",
      "metadata": {
        "id": "PvWmRXdAIBqm",
        "outputId": "77af1e51-d05f-4083-9f85-673ddeb32872"
      },
      "source": [
        "for row in data:\n",
        "    print(row)\n",
        "    print(row['ArtistID'], row['LastName'], row['FirstName'])"
      ],
      "execution_count": null,
      "outputs": [
        {
          "output_type": "stream",
          "text": [
            "{'ArtistID': 1, 'LastName': 'Miro', 'FirstName': 'Joan', 'Nationality': 'Spanish', 'DateOfBirth': Decimal('1893'), 'DateDeceased': Decimal('1983')}\n",
            "1 Miro Joan\n",
            "{'ArtistID': 2, 'LastName': 'Kandinsky', 'FirstName': 'Wassily', 'Nationality': 'Russian', 'DateOfBirth': Decimal('1866'), 'DateDeceased': Decimal('1944')}\n",
            "2 Kandinsky Wassily\n",
            "{'ArtistID': 3, 'LastName': 'Klee', 'FirstName': 'Paul', 'Nationality': 'German', 'DateOfBirth': Decimal('1879'), 'DateDeceased': Decimal('1940')}\n",
            "3 Klee Paul\n",
            "{'ArtistID': 4, 'LastName': 'Matisse', 'FirstName': 'Henri', 'Nationality': 'French', 'DateOfBirth': Decimal('1869'), 'DateDeceased': Decimal('1954')}\n",
            "4 Matisse Henri\n",
            "{'ArtistID': 5, 'LastName': 'Chagall', 'FirstName': 'Marc', 'Nationality': 'French', 'DateOfBirth': Decimal('1887'), 'DateDeceased': Decimal('1985')}\n",
            "5 Chagall Marc\n",
            "{'ArtistID': 11, 'LastName': 'Sargent', 'FirstName': 'John Singer', 'Nationality': 'United States', 'DateOfBirth': Decimal('1856'), 'DateDeceased': Decimal('1925')}\n",
            "11 Sargent John Singer\n",
            "{'ArtistID': 17, 'LastName': 'Tobey', 'FirstName': 'Mark', 'Nationality': 'United States', 'DateOfBirth': Decimal('1890'), 'DateDeceased': Decimal('1976')}\n",
            "17 Tobey Mark\n",
            "{'ArtistID': 18, 'LastName': 'Horiuchi', 'FirstName': 'Paul', 'Nationality': 'United States', 'DateOfBirth': Decimal('1906'), 'DateDeceased': Decimal('1999')}\n",
            "18 Horiuchi Paul\n",
            "{'ArtistID': 19, 'LastName': 'Graves', 'FirstName': 'Morris', 'Nationality': 'United States', 'DateOfBirth': Decimal('1920'), 'DateDeceased': Decimal('2001')}\n",
            "19 Graves Morris\n"
          ],
          "name": "stdout"
        }
      ]
    },
    {
      "cell_type": "code",
      "metadata": {
        "id": "JYpIP56lIBqn"
      },
      "source": [
        "# Parameter Placeholder \n",
        "sql_placeholder = \"select * from artist where ArtistID=%s and LastName=%s\""
      ],
      "execution_count": null,
      "outputs": []
    },
    {
      "cell_type": "code",
      "metadata": {
        "id": "WD5LY8JWIBqn",
        "outputId": "cdacb19a-ab5b-41fa-ab00-07d22e5738a6"
      },
      "source": [
        "curs.execute(sql_placeholder, (1, 'Miro'))\n",
        "curs.fetchall()"
      ],
      "execution_count": null,
      "outputs": [
        {
          "output_type": "execute_result",
          "data": {
            "text/plain": [
              "[{'ArtistID': 1,\n",
              "  'LastName': 'Miro',\n",
              "  'FirstName': 'Joan',\n",
              "  'Nationality': 'Spanish',\n",
              "  'DateOfBirth': Decimal('1893'),\n",
              "  'DateDeceased': Decimal('1983')}]"
            ]
          },
          "metadata": {
            "tags": []
          },
          "execution_count": 48
        }
      ]
    }
  ]
}