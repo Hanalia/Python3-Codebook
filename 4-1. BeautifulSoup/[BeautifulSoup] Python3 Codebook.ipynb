{
  "nbformat": 4,
  "nbformat_minor": 0,
  "metadata": {
    "colab": {
      "name": "(원본) [BeautifulSoup] Python3 Codebook.ipynb",
      "provenance": [],
      "collapsed_sections": [
        "RYFuejL5sXMt",
        "9jQdCbIKpSe5",
        "hP6PCWjbpS8Q",
        "AwzIWkfVpTAJ"
      ],
      "toc_visible": true
    },
    "kernelspec": {
      "name": "python3",
      "display_name": "Python 3"
    },
    "accelerator": "GPU"
  },
  "cells": [
    {
      "cell_type": "markdown",
      "metadata": {
        "id": "RYFuejL5sXMt"
      },
      "source": [
        "---\n",
        "# 📁 Hyun's Code collection (BeautifulSoup) \n",
        "---\n",
        "\n",
        "### <h3 align=\"right\">🥇 Authored by <strong>Hyun</strong></h3>"
      ]
    },
    {
      "cell_type": "markdown",
      "metadata": {
        "id": "9jQdCbIKpSe5"
      },
      "source": [
        "# ✏️  What is **BeautifulSoup**?"
      ]
    },
    {
      "cell_type": "markdown",
      "metadata": {
        "id": "u1kDAGBRjU1B"
      },
      "source": [
        "- Web에 있는 데이터를 가져와서 저장할 수 있는 패키지\n",
        "- 크롤링할 때 가장 많이 쓰는 라이브러리\n",
        "- Selenium보다 에러가 적으며 속도가 빠르다."
      ]
    },
    {
      "cell_type": "markdown",
      "metadata": {
        "id": "hP6PCWjbpS8Q"
      },
      "source": [
        "# ✏️ Import Libraries"
      ]
    },
    {
      "cell_type": "code",
      "metadata": {
        "id": "gRO8gtPDrySn"
      },
      "source": [
        "# Libraries for Crawling\n",
        "import requests\n",
        "from bs4 import BeautifulSoup\n",
        "from selenium import webdriver"
      ],
      "execution_count": null,
      "outputs": []
    },
    {
      "cell_type": "markdown",
      "metadata": {
        "id": "AwzIWkfVpTAJ"
      },
      "source": [
        "# ✏️  Methods and Examples"
      ]
    },
    {
      "cell_type": "markdown",
      "metadata": {
        "id": "Tj_sEYeQjTwW"
      },
      "source": [
        "- **requests .get( \" 주소 \" , headers = {' User-Agent ' : ' Mozilla/5.0 ' } )**: URL 주소에 접속을 요청해 여러가지 데이터를 가져옴\n",
        "  - header를 달아주면 anti-crawling을 피해갈 수 있음\n",
        "  - 깐깐한 사이트는 user agent를 전부 다 입력해야 하는 경우도 있어서 그때는 https://developers.whatismybrowser.com/useragents/explore/software_name/chrome/ 여기에 들어가서 전체를 복사해야 함\n",
        "\n",
        "  **.text**: 접속한 URL의 소스코드\n",
        "\n",
        "  **.elapsed**: 페이지가 응답하는데 걸린 시간\n",
        "- **BeautifulSoup ( 소스코드, 'html .parser ' )**: BeautifulSoup 함수는 선택자를 통하여 데이터를 선택할 수 있도록 hyml 소스코드를 태그 기준으로 파싱해줌\n",
        "\n",
        "  **.select ( \" 데이터 위치 \" )**: 선택자를 사용해서 데이터를 골라줌. 모든 데이터를 list로 저장한다.\n",
        "  \n",
        "  **.select_one ( \" 데이터 위치 \" )**: 선택자에 해당하는 데이터 중 첫번째 데이터를 가져옴\n",
        "  \n",
        "  **.text**: 선택한 데이터를 텍스트 형식으로 바꿔줌"
      ]
    },
    {
      "cell_type": "markdown",
      "metadata": {
        "id": "3aYc9gcmt2hD"
      },
      "source": [
        "### 📔 Examples (Crawling Using URL address)"
      ]
    },
    {
      "cell_type": "code",
      "metadata": {
        "id": "z4DyiZK5ZDLo"
      },
      "source": [
        "# Crawl bills contents \n",
        "dict_crawl_data = {}\n",
        "for idx in tqdm(sug.index):\n",
        "    bill_id = sug.loc[idx]['BILL_ID']\n",
        "    url = sug.loc[idx]['DETAIL_LINK']\n",
        "\n",
        "    res = requests.get(url)\n",
        "\n",
        "    soup = BeautifulSoup(res.text, 'html.parser')\n",
        "    \n",
        "    content = soup.select('#summaryContentDiv')[0].text.replace('\\n', '').replace('\\t', '').replace('\\r', '')\n",
        "    dict_crawl_data[bill_id] = content"
      ],
      "execution_count": null,
      "outputs": []
    },
    {
      "cell_type": "markdown",
      "metadata": {
        "id": "R0Qf8JySuxrR"
      },
      "source": [
        "### 📔 Examples (Crawling Search Results)"
      ]
    },
    {
      "cell_type": "code",
      "metadata": {
        "id": "Fu2M1lBcd5tC"
      },
      "source": [
        "# 예시\n",
        "# 다음 '코알라' 검색 결과 crawling\n",
        "#1.엑셀 저장\n",
        "import requests\n",
        "from bs4 import BeautifulSoup\n",
        "\n",
        "import openpyxl\n",
        "\n",
        "wb = openpyxl.Workbook()\n",
        "sheet = wb.active\n",
        "sheet.append([\"제목\",\"내용\"])\n",
        "\n",
        "for p in range(1,3):\n",
        "    raw = requests.get(\"https://search.daum.net/search?w=news&q=코알라&p=\"+str(p))\n",
        "    html = BeautifulSoup(raw.text, \"html.parser\")\n",
        "    cons = html.select(\"div.wrap_cont\")\n",
        "\n",
        "\n",
        "    for con in cons:\n",
        "        title = con.select_one(\"a.f_link_b\").text.strip()\n",
        "        ab = con.select_one(\"p.f_eb.desc\").text.strip()\n",
        "        sheet.append([title, ab])\n",
        "\n",
        "wb.save(\"코알라news.xlsx\")\n",
        "\n",
        "#2.CSV저장\n",
        "f = open(\"코알라news.csv\",\"w\", encoding='utf-8')\n",
        "f.write(\"제목, 내용\\n\")\n",
        "\n",
        "for p in range(1,3):\n",
        "    raw = requests.get(\"https://search.daum.net/search?w=news&q=코알라&p=\"+str(p)).text\n",
        "    html = BeautifulSoup(raw, \"html.parser\")\n",
        "    cons = html.select(\"div.wrap_cont\")\n",
        "\n",
        "    for con in cons:\n",
        "        title = con.select_one(\"a.f_link_b\").text\n",
        "        ab = con.select_one(\"p.f_eb.desc\").text\n",
        "        #print(title, ab)\n",
        "        title = title.replace(\",\", \"\")\n",
        "        ab = ab.replace(\",\", \"\")\n",
        "        f.write(title+\",\"+ab+\"\\n\")\n",
        "\n",
        "f.close()"
      ],
      "execution_count": null,
      "outputs": []
    },
    {
      "cell_type": "markdown",
      "metadata": {
        "id": "Kguu10Hku0_U"
      },
      "source": [
        "### 📔 Examples (Crawling Daum Movies)"
      ]
    },
    {
      "cell_type": "code",
      "metadata": {
        "id": "-mXW3nbQd5bJ"
      },
      "source": [
        "# 예시\n",
        "# 다음 영화 crawling\n",
        "import requests\n",
        "from bs4 import BeautifulSoup\n",
        "import openpyxl\n",
        "\n",
        "try:\n",
        "    # 워크북 불러오기, 현재 활성화된 시트 선택하기\n",
        "    wb = openpyxl.load_workbook(\"week5_hw_1.xlsx\")\n",
        "    sheet = wb.active\n",
        "    print(\"불러오기 완료\")\n",
        "# 파일 불러오기에 실패하면, 새로운 워크북(엑셀파일)을 만듭니다.\n",
        "except:\n",
        "    # 워크북 새로 만들기, 현재 활성화된 시트 선택하기\n",
        "    # 헤더 행 추가하기\n",
        "    wb = openpyxl.Workbook()\n",
        "    sheet = wb.active\n",
        "    sheet.append([\"제목\", \"평점\", \"장르\", \"감독\", \"배우\"])\n",
        "    print(\"새로운 파일을 만들었습니다.\")\n",
        "    \n",
        "raw = requests.get(\"http://ticket2.movie.daum.net/Movie/MovieRankList.aspx\",\n",
        "                   headers={'User-Agent':'Mozilla/5.0'})\n",
        "html = BeautifulSoup(raw.text, \"html.parser\")\n",
        "\n",
        "movies = html.select(\"ul.list_boxthumb li\")\n",
        "num=0\n",
        "for movie in movies:\n",
        "    num = num+1\n",
        "    title = movie.select_one(\"div strong a.link_g\")\n",
        "    url = title.attrs[\"href\"]\n",
        "    \n",
        "    raw_each_movie = requests.get(url, headers={\"User-Agent\":\"Mozilla/5.0\"})\n",
        "    html_each_movie = BeautifulSoup(raw_each_movie.text, 'html.parser')\n",
        "    \n",
        "    contents = html_each_movie.select('div.detail_summarize')\n",
        "    try:\n",
        "        title = html_each_movie.select_one('div.subject_movie strong.tit_movie')\n",
        "        star = html_each_movie.select_one('em.emph_grade')\n",
        "        genre = html_each_movie.select_one('dl.list_movie > dd:nth-of-type(1)')\n",
        "        director = html_each_movie.select_one('dl.list_movie > dd:nth-of-type(5) a')\n",
        "        actor = html_each_movie.select_one('dl.list_movie > dd:nth-of-type(6) a')\n",
        "        sheet.append([title.text, star.text, genre.text, director.text, actor.text])\n",
        "        print(\"{}번째 끝!\".format(num))\n",
        "    except:\n",
        "        continue\n",
        "wb.save(\"week5_hw_1.xlsx\")"
      ],
      "execution_count": null,
      "outputs": []
    },
    {
      "cell_type": "markdown",
      "metadata": {
        "id": "kC7qNG1ju-o7"
      },
      "source": [
        "### 📔 Examples (Crawling Job site)"
      ]
    },
    {
      "cell_type": "code",
      "metadata": {
        "id": "MSrj9YmPckZe"
      },
      "source": [
        "# 팜리쿠르트 크롤링 코드\n",
        "class Crawler:\n",
        "    def __init__(self):\n",
        "        self.name = \"I am a good robot\"\n",
        "\n",
        "    def load_past_data(self, url):\n",
        "        with open(url,'r') as f:\n",
        "            data = json.load(f)\n",
        "        return data\n",
        "\n",
        "    def crawl_data(self):\n",
        "        url = 'http://recruit.dailypharm.com/Search.php?mode=offer&order=reg&optionAreaVal%5B%5D=97&optionAreaVal%5B%5D=100&optionAreaVal%5B%5D=104&optionAreaVal%5B%5D=106&optionAreaVal%5B%5D=107&optionAreaVal%5B%5D=109&optionAreaVal%5B%5D=110&optionAreaVal%5B%5D=111&optionJobVal%5B%5D=17&optionJobVal%5B%5D=12&optionJobVal%5B%5D=13&keyword='\n",
        "        res = requests.get(url)\n",
        "\n",
        "        soup = BeautifulSoup(res.text, 'html.parser')\n",
        "        contents = soup.select(\"li.search_tabCont_wrap a\")\n",
        "\n",
        "        dict_info = {}\n",
        "        for content in contents:\n",
        "            dict_temp = {}\n",
        "            href = content['href']\n",
        "            content_url = 'http://recruit.dailypharm.com' + href\n",
        "            id_ = content_url.split('.php?ID=')[1]\n",
        "            \n",
        "            # crawl title and region\n",
        "            res_2 = requests.get(content_url)\n",
        "            soup_2 = BeautifulSoup(res_2.content.decode('euc-kr','replace'))\n",
        "            title = soup_2.select(\"div.offer_title_wrap h2\")[0].text\n",
        "            region = soup_2.select(\"div.boxList td.boxbody\")[4].text.strip()\n",
        "            \n",
        "            # crawl details\n",
        "            res_3 = requests.get(content_url.replace('OfferView', 'offerContens'))\n",
        "            soup_3 = BeautifulSoup(res_3.content.decode('euc-kr','replace'))\n",
        "            details = ''\n",
        "            for i in soup_3.select(\"body p\"):\n",
        "                details = details + '\\n' + i.text.strip()\n",
        "            \n",
        "            # save crawled informations\n",
        "            dict_temp['title'] = title\n",
        "            dict_temp['region'] = region\n",
        "            dict_temp['details'] = details\n",
        "            dict_info[id_] = dict_temp\n",
        "        return dict_infohtml = BeautifulSoup(raw.text, 'html.parser')\n",
        "print(html)\n",
        "\n",
        "clips = html.select(\"div.inner\")\n",
        "print(clips[0])\n",
        "\n",
        "title = clips[0].select_one(\"dt.title\")\n",
        "print(title)\n",
        "\n",
        "print(title.text)    # 선택한 데이터를 텍스트 형식으로 바꿔줌"
      ],
      "execution_count": null,
      "outputs": []
    },
    {
      "cell_type": "markdown",
      "metadata": {
        "id": "iffifcZjvFYu"
      },
      "source": [
        "### 📔 Examples (Crawling by Pages)"
      ]
    },
    {
      "cell_type": "code",
      "metadata": {
        "id": "-f8c9Cy7eIfG"
      },
      "source": [
        "# 페이지 넘어가기\n",
        "for n in range(1, 100, 10):\n",
        "  raw = requests.get(\"https://search.naver.com/search.naver?where=news*query=코알라&start=\"+str(n), \n",
        "                  headers={'User-Agent':'Mozilla/5.0'})\n",
        "  html = BeautifulSoup(raw.text, \"html.parser\")\n",
        "  \n",
        "  articles = html.select(\"ul.type01 > li\")\n",
        "  \n",
        "  for article in articles:\n",
        "    title = article.select_one(\"a._sp_each_title\").text\n",
        "    source = article.select_one(\"span._sp_each_source\").text\n",
        "    \n",
        "    print( title, source)"
      ],
      "execution_count": null,
      "outputs": []
    }
  ]
}