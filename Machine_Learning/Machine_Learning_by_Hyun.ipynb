{
  "nbformat": 4,
  "nbformat_minor": 0,
  "metadata": {
    "colab": {
      "name": "혀누를 위한 Maching Learning",
      "provenance": [],
      "toc_visible": true
    },
    "kernelspec": {
      "name": "python3",
      "display_name": "Python 3"
    }
  },
  "cells": [
    {
      "cell_type": "markdown",
      "metadata": {
        "id": "ENYso35hnbpA",
        "colab_type": "text"
      },
      "source": [
        "---\n",
        "# ┗(•̀へ •́ )ﾉ Hyun's Machine Learning\n",
        "---\n",
        "자 Machine Learning을 공부해봅시다 (´∇｀)  \n",
        "## Authored by. Hyun\n",
        "![미니언즈!](https://post-phinf.pstatic.net/MjAxNzA3MTBfMjIg/MDAxNDk5NjcxOTY1NDQw.Kz07JXiZg6AT6Y4PAZY7ubUNAr7rbDinLwFGuS0OOxcg.WVhpo8yfybUh0qImMGNAo1ucSUPuNOvQyzlO_vKlAlkg.JPEG/%EC%98%81%EC%A7%84%EC%9C%845.jpg?type=w1200)"
      ]
    },
    {
      "cell_type": "markdown",
      "metadata": {
        "id": "t88oG-qc-16q",
        "colab_type": "text"
      },
      "source": [
        "# 목차"
      ]
    },
    {
      "cell_type": "markdown",
      "metadata": {
        "id": "PhANASX2-28p",
        "colab_type": "text"
      },
      "source": [
        "Machine learning 설명\n",
        "기본 알고리즘 (model 설정 -> hyperparameter 설정 -> fit -> train -> validation -> test)\n",
        "\n",
        "용어설명 \n",
        "\n",
        "\n",
        "1. Supervised learning \n",
        " > Regression\n",
        "  - linear regression\n",
        "  - Gradient Descent\n",
        "  - Stochastic gradient descent\n",
        "  - Polynomial regression \n",
        "  - Regularized linear models: Ridge, Lasso\n",
        "  - Logistic Regression\n",
        "  - Softmax function\n",
        " > Support Vector machines\n",
        " > Classification\n",
        " > Decision tree\n",
        " > Ensemble\n",
        "   - bagging\n",
        "   - boosting: AdaBoost, Catboost, Xgboost, lightGBM, \n",
        "   - random forest\n",
        "\n",
        "2. Unsupervised learning\n",
        " > Dimensionality Reduction\n",
        " > Clustering\n",
        "  - K-means clustering\n",
        "  - Hierarchical clustering\n",
        "  - DBSCAN\n",
        "  - Gaussian Muxture model (GMM)\n",
        "  - KNN clustering\n",
        "3. 기타 machine learning을 위한 기법들\n",
        " > Sampling\n",
        " > Scaling\n",
        " > GridsearchCV"
      ]
    },
    {
      "cell_type": "markdown",
      "metadata": {
        "id": "qO3dY4c56Gfw",
        "colab_type": "text"
      },
      "source": [
        "# 1. Machine learning은 무엇일까???"
      ]
    },
    {
      "cell_type": "markdown",
      "metadata": {
        "id": "IknJz98B6eFD",
        "colab_type": "text"
      },
      "source": [
        "![123123](https://wordstream-files-prod.s3.amazonaws.com/s3fs-public/styles/simple_image/public/images/machine-learning1.png?SnePeroHk5B9yZaLY7peFkULrfW8Gtaf&itok=yjEJbEKD)"
      ]
    },
    {
      "cell_type": "markdown",
      "metadata": {
        "id": "E2wWk6km_CWp",
        "colab_type": "text"
      },
      "source": [
        "- 머신러닝(이하 ML)의 일부로 ML과 다르게 스스로 학습이 가능하다는 장점이 있다!\n",
        "- 크게 Deep Neural Network(DNN), Convolutional Neural Network(CNN), Recurrent Neural Network(RNN), Generative Adversarial Network(GAN) 등이 있다.\n",
        "- 간단하게 정리하면\n",
        "  1. DNN: Aritifical Nerual Network에서 hidden layer가 2개 이상인 모델\n",
        "  2. CNN: Convolution(합성곱) 연산과 Filter를 활용하여 이미지의 특징을 추출해내는 모델\n",
        "  3. RNN: 순서가 있는 데이터(문장, 주식종가, 음성인식 등)에서 특징을 추출해내는 모델\n",
        "  4. GAN: 가짜의 이미지를 만들어내는 모델\n",
        "  \n",
        "![](http://sanghyukchun.github.io/images/post/57-2.png)"
      ]
    },
    {
      "cell_type": "markdown",
      "metadata": {
        "id": "bJWmUSDlAyOK",
        "colab_type": "text"
      },
      "source": [
        "# 2. Machine Learning 관련 용어, 메소드 모음"
      ]
    },
    {
      "cell_type": "markdown",
      "metadata": {
        "id": "YLx__wuPieBe",
        "colab_type": "text"
      },
      "source": [
        "## Machine learning 빈용 개념정리"
      ]
    },
    {
      "cell_type": "markdown",
      "metadata": {
        "id": "9Sakc1qwwSu8",
        "colab_type": "text"
      },
      "source": [
        "`A, B, C, D, E, F, G, H, I, J, K, L, M, N, O, P, Q, R, S, T, U, V, W, X, Y, Z`"
      ]
    },
    {
      "cell_type": "markdown",
      "metadata": {
        "id": "orswR1yswPMb",
        "colab_type": "text"
      },
      "source": [
        "> Bias와 Variance\n",
        "\n",
        "> Cost function, Loss function, Objective function\n",
        "\n",
        "> train test split\n",
        "\n",
        "> Evaluation (F1 score, accuracy, precision, ROC, AUC. MAE, MSE, MAPE)\n",
        "\n",
        "> Bagging vs Boosing\n",
        "\n"
      ]
    },
    {
      "cell_type": "markdown",
      "metadata": {
        "id": "OEBuuhlkwIMu",
        "colab_type": "text"
      },
      "source": [
        "## Machine learning 용어 모음"
      ]
    },
    {
      "cell_type": "markdown",
      "metadata": {
        "id": "epC3tuHrwRmF",
        "colab_type": "text"
      },
      "source": [
        "`A, B, C, D, E, F, G, H, I, J, K, L, M, N, O, P, Q, R, S, T, U, V, W, X, Y, Z`"
      ]
    },
    {
      "cell_type": "markdown",
      "metadata": {
        "id": "2Zs4ihrrinSB",
        "colab_type": "text"
      },
      "source": [
        "> Accuracy (정확도)\n",
        "\n",
        "> AUC\n",
        "\n",
        "> Bagging\n",
        "\n",
        "> Bias\n",
        "\n",
        "> Catboost\n",
        "\n",
        "> Cost functionc\n",
        "\n",
        "> Cross Validation\n",
        " - K-fold cross validation\n",
        "\n",
        "> Hold-out Validation\n",
        "\n",
        "> LightGBM\n",
        "\n",
        "> Loss function  \n",
        "\n",
        "> MAE (Mean Absolute Error)\n",
        "\n",
        "> MAPE (Mean Asolute Percentage Error)\n",
        "\n",
        "> MSE(Mean Squared Error)\n",
        "\n",
        "> Objective function\n",
        "\n",
        "> Overfitting\n",
        "\n",
        "> Precision (정밀도)\n",
        "\n",
        "> Recall (재현율)\n",
        "\n",
        "> ROC\n",
        "\n",
        "> Underfitting\n",
        "\n",
        "> Variance\n",
        "\n",
        "> Xgboost"
      ]
    },
    {
      "cell_type": "markdown",
      "metadata": {
        "id": "a6csp-C1x8HQ",
        "colab_type": "text"
      },
      "source": [
        "# 0. Supervised Learning"
      ]
    },
    {
      "cell_type": "markdown",
      "metadata": {
        "id": "6PdHdvEww3aD",
        "colab_type": "text"
      },
      "source": [
        "## 0-1. Regression"
      ]
    },
    {
      "cell_type": "markdown",
      "metadata": {
        "id": "FO8ceIryw9Qy",
        "colab_type": "text"
      },
      "source": [
        "### Linear regression"
      ]
    },
    {
      "cell_type": "markdown",
      "metadata": {
        "id": "vGDuirxpw9Z6",
        "colab_type": "text"
      },
      "source": [
        "### Gradient descent"
      ]
    },
    {
      "cell_type": "markdown",
      "metadata": {
        "id": "NXUWwMTJw9dq",
        "colab_type": "text"
      },
      "source": [
        "### Stochastic gradient descent"
      ]
    },
    {
      "cell_type": "markdown",
      "metadata": {
        "id": "qvOxz3SYw9h8",
        "colab_type": "text"
      },
      "source": [
        "### Polynomial regression"
      ]
    },
    {
      "cell_type": "markdown",
      "metadata": {
        "id": "Y1XBnMuCw9l6",
        "colab_type": "text"
      },
      "source": [
        "### Regularized linear models"
      ]
    },
    {
      "cell_type": "markdown",
      "metadata": {
        "id": "Kyosm9OZw9qZ",
        "colab_type": "text"
      },
      "source": [
        "### Logistic regression"
      ]
    },
    {
      "cell_type": "markdown",
      "metadata": {
        "id": "AFcp77hOw9uI",
        "colab_type": "text"
      },
      "source": [
        "### Softmax function"
      ]
    },
    {
      "cell_type": "markdown",
      "metadata": {
        "id": "d8rOluECw9x7",
        "colab_type": "text"
      },
      "source": [
        "### Support vector machines"
      ]
    },
    {
      "cell_type": "markdown",
      "metadata": {
        "id": "G5PI_pRfw91l",
        "colab_type": "text"
      },
      "source": [
        "## 0-2. Classfication"
      ]
    },
    {
      "cell_type": "markdown",
      "metadata": {
        "id": "sNDH8gavw941",
        "colab_type": "text"
      },
      "source": [
        "## 0-3. Decision tree"
      ]
    },
    {
      "cell_type": "markdown",
      "metadata": {
        "id": "Sw8bfsbHw98e",
        "colab_type": "text"
      },
      "source": [
        "## 0-4. Ensemble"
      ]
    },
    {
      "cell_type": "markdown",
      "metadata": {
        "id": "SwHw2i3oyho5",
        "colab_type": "text"
      },
      "source": [
        "### Random Forest"
      ]
    },
    {
      "cell_type": "markdown",
      "metadata": {
        "id": "kgZbjX5iw-AF",
        "colab_type": "text"
      },
      "source": [
        "### Bagging"
      ]
    },
    {
      "cell_type": "markdown",
      "metadata": {
        "id": "iqB656qNygjH",
        "colab_type": "text"
      },
      "source": [
        "### Boosting"
      ]
    },
    {
      "cell_type": "markdown",
      "metadata": {
        "id": "QQmIBiZhylUD",
        "colab_type": "text"
      },
      "source": [
        "#### AdaBoost"
      ]
    },
    {
      "cell_type": "markdown",
      "metadata": {
        "id": "tjMcvT33ymnI",
        "colab_type": "text"
      },
      "source": [
        "#### CatBoost"
      ]
    },
    {
      "cell_type": "markdown",
      "metadata": {
        "id": "NY5w7x_6yqab",
        "colab_type": "text"
      },
      "source": [
        "#### Xgboost"
      ]
    },
    {
      "cell_type": "markdown",
      "metadata": {
        "id": "OXWSQuGTyqlO",
        "colab_type": "text"
      },
      "source": [
        "#### LightGBM"
      ]
    },
    {
      "cell_type": "markdown",
      "metadata": {
        "id": "5Kt66CjqyzCz",
        "colab_type": "text"
      },
      "source": [
        "# 0. Unsupervised Learning"
      ]
    },
    {
      "cell_type": "markdown",
      "metadata": {
        "id": "Bb4x7qwly1BF",
        "colab_type": "text"
      },
      "source": [
        "## Dimensionality reduction"
      ]
    },
    {
      "cell_type": "markdown",
      "metadata": {
        "id": "b_0h1642y2nI",
        "colab_type": "text"
      },
      "source": [
        "## Clustering"
      ]
    },
    {
      "cell_type": "markdown",
      "metadata": {
        "id": "wGGUGYR9y4LI",
        "colab_type": "text"
      },
      "source": [
        "### K-means clustering"
      ]
    },
    {
      "cell_type": "markdown",
      "metadata": {
        "id": "SAAHvcqYy4PZ",
        "colab_type": "text"
      },
      "source": [
        "### Hierarchical clustering"
      ]
    },
    {
      "cell_type": "markdown",
      "metadata": {
        "id": "DvZ5Q-fky4TV",
        "colab_type": "text"
      },
      "source": [
        "### DBSCAN"
      ]
    },
    {
      "cell_type": "markdown",
      "metadata": {
        "id": "3p0Lc8RFy4XJ",
        "colab_type": "text"
      },
      "source": [
        "### Gaussian Mixture model (GMM)"
      ]
    },
    {
      "cell_type": "markdown",
      "metadata": {
        "id": "Q4GE559ly4Zw",
        "colab_type": "text"
      },
      "source": [
        "### KNN clustering"
      ]
    },
    {
      "cell_type": "markdown",
      "metadata": {
        "id": "pozkZiGgzD8i",
        "colab_type": "text"
      },
      "source": [
        "# 0. 기타 Machine learning에 필요한 기법들"
      ]
    },
    {
      "cell_type": "markdown",
      "metadata": {
        "id": "5ynxIB0azGk2",
        "colab_type": "text"
      },
      "source": [
        "## Sampling"
      ]
    },
    {
      "cell_type": "markdown",
      "metadata": {
        "id": "eWamjn8MzGqU",
        "colab_type": "text"
      },
      "source": [
        "## Scaling"
      ]
    },
    {
      "cell_type": "markdown",
      "metadata": {
        "id": "WuuADgPUzGz6",
        "colab_type": "text"
      },
      "source": [
        "## GridsearchCV"
      ]
    },
    {
      "cell_type": "code",
      "metadata": {
        "id": "Qo0Cy5n8zGwy",
        "colab_type": "code",
        "colab": {}
      },
      "source": [
        ""
      ],
      "execution_count": 0,
      "outputs": []
    }
  ]
}