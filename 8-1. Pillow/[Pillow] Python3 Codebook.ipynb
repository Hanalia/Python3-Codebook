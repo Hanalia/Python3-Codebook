{
  "nbformat": 4,
  "nbformat_minor": 0,
  "metadata": {
    "colab": {
      "name": "(원본) [Pillow] Python3 Codebook.ipynb",
      "provenance": [],
      "collapsed_sections": [
        "RYFuejL5sXMt",
        "phri-oGs1aUH",
        "aFbtD4uKrv3W",
        "V69-1J5N2qBA",
        "bldmR4vjV5_a",
        "hemXqDZgjzv0",
        "D536HNdO25X0",
        "e3m-zoF-sqUF",
        "7BM89fH0kbvX",
        "HkaFJ30BBiVB",
        "T0gGXAopfvIr",
        "snzb3iaDBNYp",
        "w6RjRvNZ67wr",
        "egNNzqa_z5QZ",
        "md6irTYbKKkn",
        "IhyVsf8kRrj1",
        "UMfahRKvue0v",
        "aj1mZmjqJ5-m",
        "D9fEbmbL6uZY",
        "lKa5DQshssY9",
        "gV-oazCcsuKm",
        "tIz4MdpwchYj",
        "AiZ7SqvISBGV",
        "AcLm2wcgjdDj",
        "2QlWZKfZH_tC",
        "NiTV-4lIRxul",
        "4gQ51AiF4uX7",
        "K_EVTfGh75RR",
        "fNzdiskfrgCt",
        "OQowggEu-oN7",
        "PehtDsyaVTgK",
        "hkE4iAqeXTiy",
        "0mIpWKr2alub",
        "b9rf2OOnbPZd",
        "pqXmHVLSO5zy",
        "vPmMl0PFahTU",
        "R5wWQPYA2vXY",
        "mM3LUwvDFT8g",
        "iG8z8Uw9CsrA",
        "-ramKo2XkFfp",
        "8J5D05j_IBff",
        "wwRciIpoIBqk",
        "i2FUiAQEIBql",
        "wWvk__m7RsJ-",
        "4z-uLp3KRxUj",
        "oHVL77_TRz8y",
        "f_5q7omBRy7W",
        "h85REdloR12g",
        "JPHCl8OfR3A2",
        "9C1drpVDR6ZL",
        "gjwsxPVkiYM_",
        "BNoAzCyZidVu",
        "aIJ_Zt0quaZE",
        "iWdRKWi_vozA",
        "sUC0VJ1L6OiN",
        "TTwEcev6bUwV",
        "9GQbv421timi",
        "oG4dSkIdzvS9",
        "pCKBUXT51_Yr",
        "BNhsCMENQVL8",
        "so1HreXSQY8H",
        "N0ZXeQ6Mo0U4",
        "oMRmJUHZ5a-I"
      ]
    },
    "kernelspec": {
      "name": "python3",
      "display_name": "Python 3"
    },
    "accelerator": "GPU"
  },
  "cells": [
    {
      "cell_type": "markdown",
      "metadata": {
        "id": "6ih8odtq9HZy"
      },
      "source": [
        "---\n",
        "# 📁 Hyun's Code collection (Pillow) \n",
        "---\n",
        "\n",
        "### <h3 align=\"right\">🥇 Authored by <strong>Hyun</strong></h3>"
      ]
    },
    {
      "cell_type": "markdown",
      "metadata": {
        "id": "JelDCixO8lXi"
      },
      "source": [
        "# ✏️ What is **Pillow**?"
      ]
    },
    {
      "cell_type": "markdown",
      "metadata": {
        "id": "0GrSxiwRHnET"
      },
      "source": [
        "- 이미지를 다루는 Python의 라이브러리\n",
        "- 예전에 PIL(Python Image Library)을 사용해서 이미지를 처리했지만 개발이 끊겨서 Pillow를 쓰고 있다! "
      ]
    },
    {
      "cell_type": "markdown",
      "metadata": {
        "id": "GEZWLRaB8nbB"
      },
      "source": [
        "# ✏️ Import Libraries"
      ]
    },
    {
      "cell_type": "code",
      "metadata": {
        "id": "gRO8gtPDrySn"
      },
      "source": [
        "from PIL import Image\n",
        "from PIL import Image, ImageFilter"
      ],
      "execution_count": null,
      "outputs": []
    },
    {
      "cell_type": "markdown",
      "metadata": {
        "id": "PutzmCgk8ocO"
      },
      "source": [
        "# ✏️ Methods and Examples"
      ]
    },
    {
      "cell_type": "markdown",
      "metadata": {
        "id": "ZBp7J99j6nY0"
      },
      "source": [
        "## 🔎 Basic Methods"
      ]
    },
    {
      "cell_type": "markdown",
      "metadata": {
        "id": "CQiLsjliH3qs"
      },
      "source": [
        "- [Every Methods](https://pillow.readthedocs.io/en/stable/)\n",
        "- **from PIL import Image** : import하기\n",
        "- **from PIL import Image, ImageFilter** : import하기\n",
        "\n",
        "> Image의 메소드 [Image 메소드 모음](https://pillow.readthedocs.io/en/stable/reference/Image.html)\n",
        "- **.open ( '파일이름' )** : 이미지 열기\n",
        "- **.new( '모드', 사이즈, color = )** : 새로운 이미지 만들기\n",
        "  - `1`: 1-bit 픽셀, 흑백\n",
        "  - `L`: 8-bit 픽셀, 흑백\n",
        "  - `P`: 8-bit 픽셀, 칼라 가능\n",
        "  - `RGB`: 3x8 픽셀, true color\n",
        "  - `RGBA`: 4x8 픽셀, true color + 투명마스크\n",
        "  - `CMYK`: 4x8 픽셀, color separation\n",
        "  - `YCbCr`: 3x8 픽셀, color video format\n",
        "- **.show( )** : 이미지 보기\n",
        "- **.save( )** : 이미지 저장하기\n",
        "- **.paste( )** : image 객체를 다른 image 객체에 붙여넣는 기능!\n",
        "- **.size** : 이미지의 사이즈 구하기\n",
        "- **.width** : 이미지의 폭(가로) 구하기\n",
        "- **.height** : 이미지의 높이(세로) 구하기\n",
        "- **.filter**: 필터 씌워주기\n",
        "  - BLUR\n",
        "  - CONTOUR\n",
        "  - DETAIL\n",
        "  - EDGE_ENHANCE\n",
        "  - EDGE_ENHANCE_MORE\n",
        "  - EMBOSS\n",
        "  - FIND_EDGES\n",
        "  - SMOOTH\n",
        "  - SMOOTH_MORE\n",
        "  - SHARPEN\n",
        "- **.getpixel( ( , ) )** : 이미지의 픽셀값 뽑기\n",
        "- **.crop( ( 왼 , 위 , 오 , 아래 ) )** : (왼, 위, 오, 아래) 직사각형 영역의 좌표값에 맞게 그림을 자른다!\n",
        "- **.resize( ( , ) )**: 크기 바꾸기\n",
        "- **.rotate( 각도 )**: 각도만큼 이미지 회전시키기\n",
        "- **.transpose(Image.FLIP_TOP_BOTTM)** : 상하대칭 시켜주기\n",
        "\n",
        "> ImageDraw Methods\n",
        "- **.Draw( 이미지, mode = None)**: im는 draw in하는 image\n",
        "- **.textsize( text, font = None)**: Return the size of the given string, in pixels."
      ]
    },
    {
      "cell_type": "markdown",
      "metadata": {
        "id": "27_xF6Ur8hcS"
      },
      "source": [
        "### 📔 Examples"
      ]
    },
    {
      "cell_type": "code",
      "metadata": {
        "id": "iWK7gZG2Gjdp"
      },
      "source": [
        "# 이미지를 12등분하고 다시 랜덤하게 배치하는 코드\n",
        "from PIL import Image\n",
        "import random\n",
        "import time\n",
        " \n",
        "def sep_img(img_obj, col, row):\n",
        "    cell = []\n",
        "    cell_size = (int(img_obj.size[0]/col),\n",
        "                 int(img_obj.size[1]/row))\n",
        "    for i in range(0, col):\n",
        "        for j in range(0, row):\n",
        "            cell_area = (cell_size[0]*i, cell_size[1]*j, cell_size[0]*(i+1), cell_size[1]*(j+1))\n",
        "            cell.append(img_obj.crop(cell_area))\n",
        " \n",
        "    return cell\n",
        " \n",
        "# img_size : cell image size\n",
        "\n",
        "def merge_img(img_list, col, row, size):\n",
        "    img_size = (int(size[0]/col), int(size[1]/row))\n",
        "    img = Image.new(img_list[0].mode, size)\n",
        " \n",
        "    order = list(range(0, col*row))\n",
        "    random.shuffle(order)\n",
        " \n",
        "    count = 0\n",
        "    for i in range(0, col):\n",
        "        for j in range(0, row):\n",
        "            cell_area = (img_size[0]*i, img_size[1]*j, img_size[0]*(i+1), img_size[1]*(j+1))\n",
        "            img.paste(img_list[order[count]], cell_area)\n",
        "            count+=1\n",
        " \n",
        "    return img\n",
        " \n",
        "if __name__==\"__main__\":\n",
        "    time1 = time.time()\n",
        "    ori_img = Image.open(\"gogi.jpg\")\n",
        " \n",
        "    img_list = sep_img(ori_img, 3, 4)\n",
        "    time2 = time.time()\n",
        "    print(\"이미지 분할 완료. \", round(time2-time1, 4), \"secs.\")\n",
        " \n",
        "    shuffled = merge_img(img_list, 3, 4, ori_img.size)\n",
        "    time3 = time.time()\n",
        "    print(\"이미지 병합 완료. \", round(time3 - time2, 4), \"secs.\")\n",
        " \n",
        "    shuffled.save(\"shuffled.jpg\")\n",
        "    shuffled.show()\n",
        "    print(\"프로그램 수행 완료. \", round(time3 - time1, 4), \"secs.\")\n"
      ],
      "execution_count": null,
      "outputs": []
    },
    {
      "cell_type": "code",
      "metadata": {
        "id": "9lGV1s1KGazz"
      },
      "source": [
        "## .paste() 예시\n",
        "img = Image.open(\"gogi.jpg\")\n",
        "\n",
        "new_img = img.crop((200, 400, 600, 800))\n",
        " \n",
        "img.paste(new_img, (0, 0))\n",
        "img.show()"
      ],
      "execution_count": null,
      "outputs": []
    },
    {
      "cell_type": "code",
      "metadata": {
        "id": "m2KGMu8hEcDF"
      },
      "source": [
        "## .filter 예시\n",
        "# blur 이미지 만들어주기\n",
        "from PIL import Image, ImageFilter\n",
        " \n",
        "im = Image.open('python.png')\n",
        "blurImage = im.filter(ImageFilter.BLUR)\n",
        " \n",
        "blurImage.save('python-blur.png')"
      ],
      "execution_count": null,
      "outputs": []
    },
    {
      "cell_type": "code",
      "metadata": {
        "id": "0DtnkynLEDv5"
      },
      "source": [
        "## .resize, .rotate 예시\n",
        "im = Image.open('python.png') \n",
        "# 크기를 600x600 으로\n",
        "img2 = im.resize((600, 600))\n",
        "img2.save('python-600.jpg')\n",
        " \n",
        "# 90도 회전\n",
        "img3 = im.rotate(90)\n",
        "img3.save('python-rotate.jpg')"
      ],
      "execution_count": null,
      "outputs": []
    },
    {
      "cell_type": "code",
      "metadata": {
        "id": "lsD1AuHfDfc1"
      },
      "source": [
        "# crop 예시\n",
        "im = Image.open('python.png')\n",
        "cropImage = im.crop((100, 100, 150, 150))\n",
        "cropImage.save('python-crop.jpg')"
      ],
      "execution_count": null,
      "outputs": []
    },
    {
      "cell_type": "code",
      "metadata": {
        "id": "HcAKqwc89kUV"
      },
      "source": [
        "# 예시 1\n",
        "from PIL import Image\n",
        "​\n",
        "img = Image.open('Exam.png')\n",
        "​\n",
        "print(img.size)\n",
        "print(img.width)\n",
        "print(img.height)\n",
        "print(img.getpixel( (0,0) ))"
      ],
      "execution_count": null,
      "outputs": []
    },
    {
      "cell_type": "code",
      "metadata": {
        "id": "Gn_HaLa-9Sk0"
      },
      "source": [
        "# 예시 2\n",
        "from PIL import Image\n",
        "import io, urllib.request\n",
        "​\n",
        "data = urllib.request.urlopen('http://www.pythonchallenge.com/pc/def/oxygen.png').read()\n",
        "img = Image.open(io.BytesIO(data))\n",
        "​\n",
        "row = [img.getpixel((x, img.height/2)) for x in range(0, img.width, 7)]\n",
        "elem = [r for r, g, b, a in row if r==g==b]\n",
        "print(''.join(map(chr, elem)))"
      ],
      "execution_count": null,
      "outputs": []
    }
  ]
}